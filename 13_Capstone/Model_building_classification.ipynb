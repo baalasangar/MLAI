{
  "nbformat": 4,
  "nbformat_minor": 0,
  "metadata": {
    "colab": {
      "name": "Model_building_classification.ipynb",
      "provenance": [],
      "toc_visible": true,
      "mount_file_id": "https://github.com/baalasangar/MLAI/blob/master/13_Capstone/Model_building_classification.ipynb",
      "authorship_tag": "ABX9TyOWv2vyRHgJxH1kgxnMggDk",
      "include_colab_link": true
    },
    "kernelspec": {
      "name": "python3",
      "display_name": "Python 3"
    },
    "language_info": {
      "name": "python"
    }
  },
  "cells": [
    {
      "cell_type": "markdown",
      "metadata": {
        "id": "view-in-github",
        "colab_type": "text"
      },
      "source": [
        "<a href=\"https://colab.research.google.com/github/baalasangar/MLAI/blob/master/13_Capstone/Model_building_classification.ipynb\" target=\"_parent\"><img src=\"https://colab.research.google.com/assets/colab-badge.svg\" alt=\"Open In Colab\"/></a>"
      ]
    },
    {
      "cell_type": "markdown",
      "metadata": {
        "id": "_kvVoBHVBCxu"
      },
      "source": [
        "### Objective:\n",
        " - Train  a neural network model which can predict is the patience is affected or not.\n",
        " - sample images are taken from the population ( considering the distripution of the data like *****)\n",
        " - sample  Train Image - 500 postive images 500 negative images\n",
        " - sample Test Image - 50 postive and 50 negative images\n",
        " - xray images of 512 * 512 are the input to the model\n",
        " - evaluation metrics - recall\n",
        " - conclution is performed with comparing different models ( classification metrix, loss vs accuracy & classification report ) \n",
        "\n",
        "\n",
        "\n",
        "\n"
      ]
    },
    {
      "cell_type": "markdown",
      "metadata": {
        "id": "bO0oZFRQBJJR"
      },
      "source": [
        "### Load lib and data"
      ]
    },
    {
      "cell_type": "code",
      "metadata": {
        "colab": {
          "base_uri": "https://localhost:8080/"
        },
        "id": "WGEHCLhUEs24",
        "outputId": "ddb6f6a2-635a-43df-a752-7455f6b51806"
      },
      "source": [
        "!pip install pydicom"
      ],
      "execution_count": 2,
      "outputs": [
        {
          "output_type": "stream",
          "text": [
            "Collecting pydicom\n",
            "  Downloading pydicom-2.2.0-py3-none-any.whl (1.9 MB)\n",
            "\u001b[K     |████████████████████████████████| 1.9 MB 4.3 MB/s \n",
            "\u001b[?25hInstalling collected packages: pydicom\n",
            "Successfully installed pydicom-2.2.0\n"
          ],
          "name": "stdout"
        }
      ]
    },
    {
      "cell_type": "code",
      "metadata": {
        "colab": {
          "base_uri": "https://localhost:8080/"
        },
        "id": "xwpgdU7PHIO0",
        "outputId": "c5688975-afea-49f6-e509-4ffdf019dead"
      },
      "source": [
        "from google.colab import drive\n",
        "drive.mount('/content/drive')"
      ],
      "execution_count": 10,
      "outputs": [
        {
          "output_type": "stream",
          "text": [
            "Drive already mounted at /content/drive; to attempt to forcibly remount, call drive.mount(\"/content/drive\", force_remount=True).\n"
          ],
          "name": "stdout"
        }
      ]
    },
    {
      "cell_type": "code",
      "metadata": {
        "id": "Bhm9BZMNEA4D"
      },
      "source": [
        "import pandas as pd\n",
        "import numpy as np\n",
        "import seaborn as sns\n",
        "import matplotlib.pyplot as plt\n",
        "\n",
        "import os\n",
        "import pydicom as dicom\n",
        "from pydicom.pixel_data_handlers.util import apply_voi_lut\n",
        "\n",
        "import tensorflow as tf"
      ],
      "execution_count": 15,
      "outputs": []
    },
    {
      "cell_type": "code",
      "metadata": {
        "id": "l9bXsDHjFOHL"
      },
      "source": [
        "RANDOM_SEED = 123\n",
        "np.random.seed(RANDOM_SEED)\n",
        "tf.random.set_seed(RANDOM_SEED)"
      ],
      "execution_count": 7,
      "outputs": []
    },
    {
      "cell_type": "code",
      "metadata": {
        "colab": {
          "base_uri": "https://localhost:8080/"
        },
        "id": "TVnlz0KAE7Uj",
        "outputId": "8f9a61aa-bc1e-4e34-fcc1-29e7544bcd3c"
      },
      "source": [
        "META_DATA = \"/content/drive/MyDrive/GreatLearning/Captone_project/Code/Baala/final_data.csv\"\n",
        "DATA_ROOT_PATH = \"/content/drive/MyDrive/GreatLearning/Captone_project/Pneumonia _DS/\"\n",
        "\n",
        "META_DATA,DATA_ROOT_PATH"
      ],
      "execution_count": 8,
      "outputs": [
        {
          "output_type": "execute_result",
          "data": {
            "text/plain": [
              "('/content/drive/MyDrive/GreatLearning/Captone_project/Code/Baala/final_data.csv',\n",
              " '/content/drive/MyDrive/GreatLearning/Captone_project/Pneumonia _DS/')"
            ]
          },
          "metadata": {
            "tags": []
          },
          "execution_count": 8
        }
      ]
    },
    {
      "cell_type": "code",
      "metadata": {
        "colab": {
          "base_uri": "https://localhost:8080/",
          "height": 345
        },
        "id": "e5Gfteb_FNQ7",
        "outputId": "a90b3ed3-e0c4-4806-9086-9dbda0bc4c20"
      },
      "source": [
        "metadata_df = pd.read_csv(META_DATA)\n",
        "metadata_df.drop(labels= [\"Unnamed: 0\"], axis=1,inplace=True)\n",
        "metadata_df.head()"
      ],
      "execution_count": 13,
      "outputs": [
        {
          "output_type": "execute_result",
          "data": {
            "text/html": [
              "<div>\n",
              "<style scoped>\n",
              "    .dataframe tbody tr th:only-of-type {\n",
              "        vertical-align: middle;\n",
              "    }\n",
              "\n",
              "    .dataframe tbody tr th {\n",
              "        vertical-align: top;\n",
              "    }\n",
              "\n",
              "    .dataframe thead th {\n",
              "        text-align: right;\n",
              "    }\n",
              "</style>\n",
              "<table border=\"1\" class=\"dataframe\">\n",
              "  <thead>\n",
              "    <tr style=\"text-align: right;\">\n",
              "      <th></th>\n",
              "      <th>patientId</th>\n",
              "      <th>x</th>\n",
              "      <th>y</th>\n",
              "      <th>width</th>\n",
              "      <th>height</th>\n",
              "      <th>Target</th>\n",
              "      <th>class</th>\n",
              "      <th>filepath</th>\n",
              "      <th>Train_or_Test</th>\n",
              "      <th>area</th>\n",
              "      <th>age</th>\n",
              "      <th>sex</th>\n",
              "      <th>ViewPosition</th>\n",
              "      <th>BodyPartExamined</th>\n",
              "    </tr>\n",
              "  </thead>\n",
              "  <tbody>\n",
              "    <tr>\n",
              "      <th>0</th>\n",
              "      <td>0004cfab-14fd-4e49-80ba-63a80b6bddd6</td>\n",
              "      <td>NaN</td>\n",
              "      <td>NaN</td>\n",
              "      <td>NaN</td>\n",
              "      <td>NaN</td>\n",
              "      <td>0</td>\n",
              "      <td>No Lung Opacity / Not Normal</td>\n",
              "      <td>/content/drive/MyDrive/GreatLearning/Captone_p...</td>\n",
              "      <td>Train</td>\n",
              "      <td>NaN</td>\n",
              "      <td>51</td>\n",
              "      <td>F</td>\n",
              "      <td>PA</td>\n",
              "      <td>CHEST</td>\n",
              "    </tr>\n",
              "    <tr>\n",
              "      <th>1</th>\n",
              "      <td>00313ee0-9eaa-42f4-b0ab-c148ed3241cd</td>\n",
              "      <td>NaN</td>\n",
              "      <td>NaN</td>\n",
              "      <td>NaN</td>\n",
              "      <td>NaN</td>\n",
              "      <td>0</td>\n",
              "      <td>No Lung Opacity / Not Normal</td>\n",
              "      <td>/content/drive/MyDrive/GreatLearning/Captone_p...</td>\n",
              "      <td>Train</td>\n",
              "      <td>NaN</td>\n",
              "      <td>48</td>\n",
              "      <td>F</td>\n",
              "      <td>PA</td>\n",
              "      <td>CHEST</td>\n",
              "    </tr>\n",
              "    <tr>\n",
              "      <th>2</th>\n",
              "      <td>00322d4d-1c29-4943-afc9-b6754be640eb</td>\n",
              "      <td>NaN</td>\n",
              "      <td>NaN</td>\n",
              "      <td>NaN</td>\n",
              "      <td>NaN</td>\n",
              "      <td>0</td>\n",
              "      <td>No Lung Opacity / Not Normal</td>\n",
              "      <td>/content/drive/MyDrive/GreatLearning/Captone_p...</td>\n",
              "      <td>Train</td>\n",
              "      <td>NaN</td>\n",
              "      <td>19</td>\n",
              "      <td>M</td>\n",
              "      <td>AP</td>\n",
              "      <td>CHEST</td>\n",
              "    </tr>\n",
              "    <tr>\n",
              "      <th>3</th>\n",
              "      <td>003d8fa0-6bf1-40ed-b54c-ac657f8495c5</td>\n",
              "      <td>NaN</td>\n",
              "      <td>NaN</td>\n",
              "      <td>NaN</td>\n",
              "      <td>NaN</td>\n",
              "      <td>0</td>\n",
              "      <td>Normal</td>\n",
              "      <td>/content/drive/MyDrive/GreatLearning/Captone_p...</td>\n",
              "      <td>Train</td>\n",
              "      <td>NaN</td>\n",
              "      <td>28</td>\n",
              "      <td>M</td>\n",
              "      <td>PA</td>\n",
              "      <td>CHEST</td>\n",
              "    </tr>\n",
              "    <tr>\n",
              "      <th>4</th>\n",
              "      <td>00436515-870c-4b36-a041-de91049b9ab4</td>\n",
              "      <td>264.0</td>\n",
              "      <td>152.0</td>\n",
              "      <td>213.0</td>\n",
              "      <td>379.0</td>\n",
              "      <td>1</td>\n",
              "      <td>Lung Opacity</td>\n",
              "      <td>/content/drive/MyDrive/GreatLearning/Captone_p...</td>\n",
              "      <td>Train</td>\n",
              "      <td>80727.0</td>\n",
              "      <td>32</td>\n",
              "      <td>F</td>\n",
              "      <td>AP</td>\n",
              "      <td>CHEST</td>\n",
              "    </tr>\n",
              "  </tbody>\n",
              "</table>\n",
              "</div>"
            ],
            "text/plain": [
              "                              patientId      x  ...  ViewPosition  BodyPartExamined\n",
              "0  0004cfab-14fd-4e49-80ba-63a80b6bddd6    NaN  ...            PA             CHEST\n",
              "1  00313ee0-9eaa-42f4-b0ab-c148ed3241cd    NaN  ...            PA             CHEST\n",
              "2  00322d4d-1c29-4943-afc9-b6754be640eb    NaN  ...            AP             CHEST\n",
              "3  003d8fa0-6bf1-40ed-b54c-ac657f8495c5    NaN  ...            PA             CHEST\n",
              "4  00436515-870c-4b36-a041-de91049b9ab4  264.0  ...            AP             CHEST\n",
              "\n",
              "[5 rows x 14 columns]"
            ]
          },
          "metadata": {
            "tags": []
          },
          "execution_count": 13
        }
      ]
    },
    {
      "cell_type": "markdown",
      "metadata": {
        "id": "psph0Pb-BOEi"
      },
      "source": [
        "### sample data for model building\n",
        " - from EDA , ViewPosition  ( PA and AP  ) influence the orientation of the xray . So the sampling is done by considering  ViewPosition"
      ]
    },
    {
      "cell_type": "code",
      "metadata": {
        "id": "6pHDvBULI46T",
        "outputId": "7120a972-f4f1-42cd-905e-7171c95de40c",
        "colab": {
          "base_uri": "https://localhost:8080/",
          "height": 278
        }
      },
      "source": [
        "sns.countplot(data = metadata_df[[\"patientId\",\"Target\",\"ViewPosition\"]].drop_duplicates(),x=\"ViewPosition\",hue=\"Target\")\n",
        "plt.show()"
      ],
      "execution_count": 18,
      "outputs": [
        {
          "output_type": "display_data",
          "data": {
            "image/png": "[encoded data removed]",
            "text/plain": [
              "<Figure size 432x288 with 1 Axes>"
            ]
          },
          "metadata": {
            "tags": [],
            "needs_background": "light"
          }
        }
      ]
    },
    {
      "cell_type": "code",
      "metadata": {
        "id": "_p5QrRqBK-tR"
      },
      "source": [
        "SAMPLE_SIZE = 650\n",
        "sampled_metadata = pd.DataFrame(columns=[\"patientId\",\"Target\",\"ViewPosition\",\"filepath\"])"
      ],
      "execution_count": 50,
      "outputs": []
    },
    {
      "cell_type": "code",
      "metadata": {
        "id": "Ok3EnXmSKMJ9",
        "outputId": "9e9e59fb-d00b-4c30-86bc-cb011ea2b20b",
        "colab": {
          "base_uri": "https://localhost:8080/"
        }
      },
      "source": [
        "pa_count = metadata_df.query(\"ViewPosition == 'PA' & Target == 1\")[[\"patientId\",\"Target\",\"ViewPosition\"]].drop_duplicates().shape[0]\n",
        "ap_count = metadata_df.query(\"ViewPosition == 'AP' & Target == 1\")[[\"patientId\",\"Target\",\"ViewPosition\"]].drop_duplicates().shape[0]\n",
        "\n",
        "pa_count_sample_size = int(round(pa_count / (pa_count+ap_count),2) * SAMPLE_SIZE)\n",
        "ap_count_sample_size = int(round(ap_count / (pa_count+ap_count),2) * SAMPLE_SIZE)\n",
        "\n",
        "print(pa_count_sample_size,ap_count_sample_size)\n",
        "\n",
        "sampled_metadata = sampled_metadata.append(metadata_df.query(\"ViewPosition == 'PA' & Target == 1\")[[\"patientId\",\"Target\",\"ViewPosition\",\"filepath\"]].drop_duplicates().sample(n=pa_count_sample_size,random_state=RANDOM_SEED))\n",
        "sampled_metadata = sampled_metadata.append(metadata_df.query(\"ViewPosition == 'AP' & Target == 1\")[[\"patientId\",\"Target\",\"ViewPosition\",\"filepath\"]].drop_duplicates().sample(n=ap_count_sample_size,random_state=RANDOM_SEED))\n"
      ],
      "execution_count": 51,
      "outputs": [
        {
          "output_type": "stream",
          "text": [
            "143 507\n"
          ],
          "name": "stdout"
        }
      ]
    },
    {
      "cell_type": "code",
      "metadata": {
        "id": "5m5JG53CanZd",
        "outputId": "14d9416e-1c1a-4767-f1f3-722a84ea553f",
        "colab": {
          "base_uri": "https://localhost:8080/"
        }
      },
      "source": [
        "pa_count = metadata_df.query(\"ViewPosition == 'PA' & Target == 0\")[[\"patientId\",\"Target\",\"ViewPosition\"]].drop_duplicates().shape[0]\n",
        "ap_count = metadata_df.query(\"ViewPosition == 'AP' & Target == 0\")[[\"patientId\",\"Target\",\"ViewPosition\"]].drop_duplicates().shape[0]\n",
        "\n",
        "pa_count_sample_size = int(round(pa_count / (pa_count+ap_count),2) * SAMPLE_SIZE)\n",
        "ap_count_sample_size = int(round(ap_count / (pa_count+ap_count),2) * SAMPLE_SIZE)\n",
        "\n",
        "print(pa_count_sample_size,ap_count_sample_size)\n",
        "\n",
        "sampled_metadata = sampled_metadata.append(metadata_df.query(\"ViewPosition == 'PA' & Target == 0\")[[\"patientId\",\"Target\",\"ViewPosition\",\"filepath\"]].drop_duplicates().sample(n=pa_count_sample_size,random_state=RANDOM_SEED))\n",
        "sampled_metadata = sampled_metadata.append(metadata_df.query(\"ViewPosition == 'AP' & Target == 0\")[[\"patientId\",\"Target\",\"ViewPosition\",\"filepath\"]].drop_duplicates().sample(n=ap_count_sample_size,random_state=RANDOM_SEED))\n"
      ],
      "execution_count": 52,
      "outputs": [
        {
          "output_type": "stream",
          "text": [
            "416 234\n"
          ],
          "name": "stdout"
        }
      ]
    },
    {
      "cell_type": "code",
      "metadata": {
        "id": "PvBsIpHXav3f",
        "outputId": "86e452d1-1872-46c9-d51e-6747968cdd9e",
        "colab": {
          "base_uri": "https://localhost:8080/",
          "height": 224
        }
      },
      "source": [
        "print(sampled_metadata.shape)\n",
        "sampled_metadata.head()"
      ],
      "execution_count": 53,
      "outputs": [
        {
          "output_type": "stream",
          "text": [
            "(1300, 4)\n"
          ],
          "name": "stdout"
        },
        {
          "output_type": "execute_result",
          "data": {
            "text/html": [
              "<div>\n",
              "<style scoped>\n",
              "    .dataframe tbody tr th:only-of-type {\n",
              "        vertical-align: middle;\n",
              "    }\n",
              "\n",
              "    .dataframe tbody tr th {\n",
              "        vertical-align: top;\n",
              "    }\n",
              "\n",
              "    .dataframe thead th {\n",
              "        text-align: right;\n",
              "    }\n",
              "</style>\n",
              "<table border=\"1\" class=\"dataframe\">\n",
              "  <thead>\n",
              "    <tr style=\"text-align: right;\">\n",
              "      <th></th>\n",
              "      <th>patientId</th>\n",
              "      <th>Target</th>\n",
              "      <th>ViewPosition</th>\n",
              "      <th>filepath</th>\n",
              "    </tr>\n",
              "  </thead>\n",
              "  <tbody>\n",
              "    <tr>\n",
              "      <th>25155</th>\n",
              "      <td>e18c7203-a029-4cf4-8151-2bc2460c390c</td>\n",
              "      <td>1</td>\n",
              "      <td>PA</td>\n",
              "      <td>/content/drive/MyDrive/GreatLearning/Captone_p...</td>\n",
              "    </tr>\n",
              "    <tr>\n",
              "      <th>1791</th>\n",
              "      <td>18ce990f-bea9-4174-a6a2-8f61c4517b24</td>\n",
              "      <td>1</td>\n",
              "      <td>PA</td>\n",
              "      <td>/content/drive/MyDrive/GreatLearning/Captone_p...</td>\n",
              "    </tr>\n",
              "    <tr>\n",
              "      <th>274</th>\n",
              "      <td>068b608d-f71c-4859-b909-62c1665b507f</td>\n",
              "      <td>1</td>\n",
              "      <td>PA</td>\n",
              "      <td>/content/drive/MyDrive/GreatLearning/Captone_p...</td>\n",
              "    </tr>\n",
              "    <tr>\n",
              "      <th>16514</th>\n",
              "      <td>9fa17c26-8aae-4dd6-af8a-5750f042adf9</td>\n",
              "      <td>1</td>\n",
              "      <td>PA</td>\n",
              "      <td>/content/drive/MyDrive/GreatLearning/Captone_p...</td>\n",
              "    </tr>\n",
              "    <tr>\n",
              "      <th>10831</th>\n",
              "      <td>722503cf-a801-415b-a10e-848bfea55911</td>\n",
              "      <td>1</td>\n",
              "      <td>PA</td>\n",
              "      <td>/content/drive/MyDrive/GreatLearning/Captone_p...</td>\n",
              "    </tr>\n",
              "  </tbody>\n",
              "</table>\n",
              "</div>"
            ],
            "text/plain": [
              "                                  patientId  ...                                           filepath\n",
              "25155  e18c7203-a029-4cf4-8151-2bc2460c390c  ...  /content/drive/MyDrive/GreatLearning/Captone_p...\n",
              "1791   18ce990f-bea9-4174-a6a2-8f61c4517b24  ...  /content/drive/MyDrive/GreatLearning/Captone_p...\n",
              "274    068b608d-f71c-4859-b909-62c1665b507f  ...  /content/drive/MyDrive/GreatLearning/Captone_p...\n",
              "16514  9fa17c26-8aae-4dd6-af8a-5750f042adf9  ...  /content/drive/MyDrive/GreatLearning/Captone_p...\n",
              "10831  722503cf-a801-415b-a10e-848bfea55911  ...  /content/drive/MyDrive/GreatLearning/Captone_p...\n",
              "\n",
              "[5 rows x 4 columns]"
            ]
          },
          "metadata": {
            "tags": []
          },
          "execution_count": 53
        }
      ]
    },
    {
      "cell_type": "code",
      "metadata": {
        "id": "c4ouFrp4a5Pw",
        "outputId": "e641b45f-3bc9-4764-81dd-a6b548858147",
        "colab": {
          "base_uri": "https://localhost:8080/",
          "height": 296
        }
      },
      "source": [
        "sns.countplot(data = sampled_metadata,x=\"ViewPosition\",hue=\"Target\")"
      ],
      "execution_count": 54,
      "outputs": [
        {
          "output_type": "execute_result",
          "data": {
            "text/plain": [
              "<matplotlib.axes._subplots.AxesSubplot at 0x7fb499fe0b90>"
            ]
          },
          "metadata": {
            "tags": []
          },
          "execution_count": 54
        },
        {
          "output_type": "display_data",
          "data": {
            "image/png": "[encoded data removed]",
            "text/plain": [
              "<Figure size 432x288 with 1 Axes>"
            ]
          },
          "metadata": {
            "tags": [],
            "needs_background": "light"
          }
        }
      ]
    },
    {
      "cell_type": "markdown",
      "metadata": {
        "id": "1mlDO3qzBXnz"
      },
      "source": [
        "### read the Images\n",
        " - reshape and post processing"
      ]
    },
    {
      "cell_type": "markdown",
      "metadata": {
        "id": "v10O7u4WBeOx"
      },
      "source": [
        "### Model Building\n",
        " - Inscepton Model ( transfer learning ) \n",
        " - Resnet ( transfer learning ) \n",
        " - Model from scratch\n",
        " "
      ]
    }
  ]
}