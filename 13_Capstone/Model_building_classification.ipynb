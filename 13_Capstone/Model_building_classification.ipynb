{
  "nbformat": 4,
  "nbformat_minor": 0,
  "metadata": {
    "colab": {
      "name": "Model_building_classification.ipynb",
      "provenance": [],
      "toc_visible": true,
      "machine_shape": "hm",
      "mount_file_id": "https://github.com/baalasangar/MLAI/blob/master/13_Capstone/Model_building_classification.ipynb",
      "authorship_tag": "ABX9TyONQQu4zoAUpOatrQxpR3Ar",
      "include_colab_link": true
    },
    "kernelspec": {
      "name": "python3",
      "display_name": "Python 3"
    },
    "language_info": {
      "name": "python"
    }
  },
  "cells": [
    {
      "cell_type": "markdown",
      "metadata": {
        "id": "view-in-github",
        "colab_type": "text"
      },
      "source": [
        "<a href=\"https://colab.research.google.com/github/baalasangar/MLAI/blob/master/13_Capstone/Model_building_classification.ipynb\" target=\"_parent\"><img src=\"https://colab.research.google.com/assets/colab-badge.svg\" alt=\"Open In Colab\"/></a>"
      ]
    },
    {
      "cell_type": "markdown",
      "metadata": {
        "id": "_kvVoBHVBCxu"
      },
      "source": [
        "### Objective:\n",
        " - Train  a neural network model which can predict is the patience is affected or not.\n",
        " - sample images are taken from the population ( considering the distripution of the data like *****)\n",
        " - sample  Train Image - 500 postive images 500 negative images\n",
        " - sample Test Image - 50 postive and 50 negative images\n",
        " - xray images of 512 * 512 are the input to the model\n",
        " - evaluation metrics - recall\n",
        " - conclution is performed with comparing different models ( classification metrix, loss vs accuracy & classification report ) \n",
        "\n",
        "\n",
        "\n",
        "\n"
      ]
    },
    {
      "cell_type": "markdown",
      "metadata": {
        "id": "bO0oZFRQBJJR"
      },
      "source": [
        "### Load lib and data"
      ]
    },
    {
      "cell_type": "code",
      "metadata": {
        "colab": {
          "base_uri": "https://localhost:8080/"
        },
        "id": "WGEHCLhUEs24",
        "outputId": "b834f360-b9ae-4479-86dd-9a5de25e7ca3"
      },
      "source": [
        "!pip install pydicom"
      ],
      "execution_count": 1,
      "outputs": [
        {
          "output_type": "stream",
          "text": [
            "Requirement already satisfied: pydicom in /usr/local/lib/python3.7/dist-packages (2.2.0)\n"
          ],
          "name": "stdout"
        }
      ]
    },
    {
      "cell_type": "code",
      "metadata": {
        "colab": {
          "base_uri": "https://localhost:8080/"
        },
        "id": "xwpgdU7PHIO0",
        "outputId": "f079fca5-7e7d-458d-a018-ed696483bdc2"
      },
      "source": [
        "from google.colab import drive\n",
        "drive.mount('/content/drive')"
      ],
      "execution_count": 2,
      "outputs": [
        {
          "output_type": "stream",
          "text": [
            "Drive already mounted at /content/drive; to attempt to forcibly remount, call drive.mount(\"/content/drive\", force_remount=True).\n"
          ],
          "name": "stdout"
        }
      ]
    },
    {
      "cell_type": "code",
      "metadata": {
        "id": "Bhm9BZMNEA4D"
      },
      "source": [
        "import os\n",
        "import pandas as pd\n",
        "import numpy as np\n",
        "import seaborn as sns\n",
        "import matplotlib.pyplot as plt\n",
        "\n",
        "\n",
        "from sklearn.utils import class_weight\n",
        "from sklearn.model_selection import train_test_split\n",
        "from sklearn.svm import SVC\n",
        "from sklearn.decomposition import PCA\n",
        "from sklearn.pipeline import Pipeline\n",
        "from sklearn.model_selection import GridSearchCV\n",
        "from sklearn.metrics import recall_score,precision_score,roc_auc_score,accuracy_score,confusion_matrix,roc_curve,plot_roc_curve\n",
        "\n",
        "\n",
        "import cv2\n",
        "import pydicom as dicom\n",
        "from pydicom.pixel_data_handlers.util import apply_voi_lut\n",
        "\n",
        "import pickle\n",
        "\n",
        "import logging\n",
        "logging.basicConfig(level=logging.INFO, format='%(asctime)s :: %(levelname)s :: %(message)s')\n",
        "\n",
        "\n",
        "\n",
        "import tensorflow as tf\n",
        "from tensorflow.keras.models import Model, Sequential\n",
        "from tensorflow.keras.preprocessing.image import ImageDataGenerator\n",
        "from tensorflow.keras.models import Sequential\n",
        "from tensorflow.keras.layers import Dense,Dropout,Activation,BatchNormalization,Flatten,Conv2D,MaxPooling2D,MaxPool2D,GlobalMaxPooling2D,Input\n",
        "from tensorflow.keras.optimizers import SGD,RMSprop,Adam\n",
        "from tensorflow.keras.constraints import max_norm\n",
        "from tensorflow.keras.callbacks import EarlyStopping,ReduceLROnPlateau"
      ],
      "execution_count": 3,
      "outputs": []
    },
    {
      "cell_type": "code",
      "metadata": {
        "id": "l9bXsDHjFOHL"
      },
      "source": [
        "RANDOM_SEED = 123\n",
        "np.random.seed(RANDOM_SEED)\n",
        "tf.random.set_seed(RANDOM_SEED)"
      ],
      "execution_count": 4,
      "outputs": []
    },
    {
      "cell_type": "code",
      "metadata": {
        "colab": {
          "base_uri": "https://localhost:8080/"
        },
        "id": "TVnlz0KAE7Uj",
        "outputId": "26f852e0-9e73-4c40-9bec-46c8fade5b05"
      },
      "source": [
        "META_DATA = \"/content/drive/MyDrive/GreatLearning/Captone_project/Code/Baala/final_data.csv\"\n",
        "DATA_ROOT_PATH = \"/content/drive/MyDrive/GreatLearning/Captone_project/Pneumonia _DS/\"\n",
        "\n",
        "\n",
        "META_DATA,DATA_ROOT_PATH"
      ],
      "execution_count": 5,
      "outputs": [
        {
          "output_type": "execute_result",
          "data": {
            "text/plain": [
              "('/content/drive/MyDrive/GreatLearning/Captone_project/Code/Baala/final_data.csv',\n",
              " '/content/drive/MyDrive/GreatLearning/Captone_project/Pneumonia _DS/')"
            ]
          },
          "metadata": {
            "tags": []
          },
          "execution_count": 5
        }
      ]
    },
    {
      "cell_type": "code",
      "metadata": {
        "colab": {
          "base_uri": "https://localhost:8080/",
          "height": 522
        },
        "id": "e5Gfteb_FNQ7",
        "outputId": "c7831ab2-eca6-4bb0-8e0b-4bfc78f71120"
      },
      "source": [
        "metadata_df = pd.read_csv(META_DATA)\n",
        "metadata_df.drop(labels= [\"Unnamed: 0\"], axis=1,inplace=True)\n",
        "metadata_df.head()"
      ],
      "execution_count": 6,
      "outputs": [
        {
          "output_type": "execute_result",
          "data": {
            "text/html": [
              "<div>\n",
              "<style scoped>\n",
              "    .dataframe tbody tr th:only-of-type {\n",
              "        vertical-align: middle;\n",
              "    }\n",
              "\n",
              "    .dataframe tbody tr th {\n",
              "        vertical-align: top;\n",
              "    }\n",
              "\n",
              "    .dataframe thead th {\n",
              "        text-align: right;\n",
              "    }\n",
              "</style>\n",
              "<table border=\"1\" class=\"dataframe\">\n",
              "  <thead>\n",
              "    <tr style=\"text-align: right;\">\n",
              "      <th></th>\n",
              "      <th>patientId</th>\n",
              "      <th>x</th>\n",
              "      <th>y</th>\n",
              "      <th>width</th>\n",
              "      <th>height</th>\n",
              "      <th>Target</th>\n",
              "      <th>class</th>\n",
              "      <th>filepath</th>\n",
              "      <th>Train_or_Test</th>\n",
              "      <th>area</th>\n",
              "      <th>age</th>\n",
              "      <th>sex</th>\n",
              "      <th>ViewPosition</th>\n",
              "      <th>BodyPartExamined</th>\n",
              "    </tr>\n",
              "  </thead>\n",
              "  <tbody>\n",
              "    <tr>\n",
              "      <th>0</th>\n",
              "      <td>0004cfab-14fd-4e49-80ba-63a80b6bddd6</td>\n",
              "      <td>NaN</td>\n",
              "      <td>NaN</td>\n",
              "      <td>NaN</td>\n",
              "      <td>NaN</td>\n",
              "      <td>0</td>\n",
              "      <td>No Lung Opacity / Not Normal</td>\n",
              "      <td>/content/drive/MyDrive/GreatLearning/Captone_p...</td>\n",
              "      <td>Train</td>\n",
              "      <td>NaN</td>\n",
              "      <td>51</td>\n",
              "      <td>F</td>\n",
              "      <td>PA</td>\n",
              "      <td>CHEST</td>\n",
              "    </tr>\n",
              "    <tr>\n",
              "      <th>1</th>\n",
              "      <td>00313ee0-9eaa-42f4-b0ab-c148ed3241cd</td>\n",
              "      <td>NaN</td>\n",
              "      <td>NaN</td>\n",
              "      <td>NaN</td>\n",
              "      <td>NaN</td>\n",
              "      <td>0</td>\n",
              "      <td>No Lung Opacity / Not Normal</td>\n",
              "      <td>/content/drive/MyDrive/GreatLearning/Captone_p...</td>\n",
              "      <td>Train</td>\n",
              "      <td>NaN</td>\n",
              "      <td>48</td>\n",
              "      <td>F</td>\n",
              "      <td>PA</td>\n",
              "      <td>CHEST</td>\n",
              "    </tr>\n",
              "    <tr>\n",
              "      <th>2</th>\n",
              "      <td>00322d4d-1c29-4943-afc9-b6754be640eb</td>\n",
              "      <td>NaN</td>\n",
              "      <td>NaN</td>\n",
              "      <td>NaN</td>\n",
              "      <td>NaN</td>\n",
              "      <td>0</td>\n",
              "      <td>No Lung Opacity / Not Normal</td>\n",
              "      <td>/content/drive/MyDrive/GreatLearning/Captone_p...</td>\n",
              "      <td>Train</td>\n",
              "      <td>NaN</td>\n",
              "      <td>19</td>\n",
              "      <td>M</td>\n",
              "      <td>AP</td>\n",
              "      <td>CHEST</td>\n",
              "    </tr>\n",
              "    <tr>\n",
              "      <th>3</th>\n",
              "      <td>003d8fa0-6bf1-40ed-b54c-ac657f8495c5</td>\n",
              "      <td>NaN</td>\n",
              "      <td>NaN</td>\n",
              "      <td>NaN</td>\n",
              "      <td>NaN</td>\n",
              "      <td>0</td>\n",
              "      <td>Normal</td>\n",
              "      <td>/content/drive/MyDrive/GreatLearning/Captone_p...</td>\n",
              "      <td>Train</td>\n",
              "      <td>NaN</td>\n",
              "      <td>28</td>\n",
              "      <td>M</td>\n",
              "      <td>PA</td>\n",
              "      <td>CHEST</td>\n",
              "    </tr>\n",
              "    <tr>\n",
              "      <th>4</th>\n",
              "      <td>00436515-870c-4b36-a041-de91049b9ab4</td>\n",
              "      <td>264.0</td>\n",
              "      <td>152.0</td>\n",
              "      <td>213.0</td>\n",
              "      <td>379.0</td>\n",
              "      <td>1</td>\n",
              "      <td>Lung Opacity</td>\n",
              "      <td>/content/drive/MyDrive/GreatLearning/Captone_p...</td>\n",
              "      <td>Train</td>\n",
              "      <td>80727.0</td>\n",
              "      <td>32</td>\n",
              "      <td>F</td>\n",
              "      <td>AP</td>\n",
              "      <td>CHEST</td>\n",
              "    </tr>\n",
              "  </tbody>\n",
              "</table>\n",
              "</div>"
            ],
            "text/plain": [
              "                              patientId      x  ...  ViewPosition  BodyPartExamined\n",
              "0  0004cfab-14fd-4e49-80ba-63a80b6bddd6    NaN  ...            PA             CHEST\n",
              "1  00313ee0-9eaa-42f4-b0ab-c148ed3241cd    NaN  ...            PA             CHEST\n",
              "2  00322d4d-1c29-4943-afc9-b6754be640eb    NaN  ...            AP             CHEST\n",
              "3  003d8fa0-6bf1-40ed-b54c-ac657f8495c5    NaN  ...            PA             CHEST\n",
              "4  00436515-870c-4b36-a041-de91049b9ab4  264.0  ...            AP             CHEST\n",
              "\n",
              "[5 rows x 14 columns]"
            ]
          },
          "metadata": {
            "tags": []
          },
          "execution_count": 6
        }
      ]
    },
    {
      "cell_type": "markdown",
      "metadata": {
        "id": "psph0Pb-BOEi"
      },
      "source": [
        "### sample data for model building\n",
        " - from EDA , ViewPosition  ( PA and AP  ) influence the orientation of the xray . So the sampling is done by considering  ViewPosition"
      ]
    },
    {
      "cell_type": "code",
      "metadata": {
        "id": "6pHDvBULI46T",
        "colab": {
          "base_uri": "https://localhost:8080/",
          "height": 296
        },
        "outputId": "515a6b47-54a7-4863-f2a2-065249483075"
      },
      "source": [
        "sns.countplot(data = metadata_df[[\"patientId\",\"Target\",\"ViewPosition\"]].drop_duplicates(),x=\"ViewPosition\",hue=\"Target\")\n",
        "plt.show()"
      ],
      "execution_count": 7,
      "outputs": [
        {
          "output_type": "stream",
          "text": [
            "2021-08-14 15:46:18,837 :: INFO :: NumExpr defaulting to 4 threads.\n"
          ],
          "name": "stderr"
        },
        {
          "output_type": "display_data",
          "data": {
            "image/png": "[encoded data removed]",
            "text/plain": [
              "<Figure size 432x288 with 1 Axes>"
            ]
          },
          "metadata": {
            "tags": [],
            "needs_background": "light"
          }
        }
      ]
    },
    {
      "cell_type": "code",
      "metadata": {
        "id": "_p5QrRqBK-tR"
      },
      "source": [
        "SAMPLE_SIZE = 5000\n",
        "sampled_metadata = pd.DataFrame(columns=[\"patientId\",\"Target\",\"ViewPosition\",\"filepath\"])"
      ],
      "execution_count": 8,
      "outputs": []
    },
    {
      "cell_type": "code",
      "metadata": {
        "id": "Ok3EnXmSKMJ9",
        "colab": {
          "base_uri": "https://localhost:8080/"
        },
        "outputId": "dd0f9ad6-fbfb-4b0d-babf-77799291ba56"
      },
      "source": [
        "pa_count = metadata_df.query(\"ViewPosition == 'PA' & Target == 1\")[[\"patientId\",\"Target\",\"ViewPosition\"]].drop_duplicates().shape[0]\n",
        "ap_count = metadata_df.query(\"ViewPosition == 'AP' & Target == 1\")[[\"patientId\",\"Target\",\"ViewPosition\"]].drop_duplicates().shape[0]\n",
        "\n",
        "pa_count_sample_size = int(round(pa_count / (pa_count+ap_count),2) * SAMPLE_SIZE)\n",
        "ap_count_sample_size = int(round(ap_count / (pa_count+ap_count),2) * SAMPLE_SIZE)\n",
        "\n",
        "print(pa_count_sample_size,ap_count_sample_size)\n",
        "\n",
        "sampled_metadata = sampled_metadata.append(metadata_df.query(\"ViewPosition == 'PA' & Target == 1\")[[\"patientId\",\"Target\",\"ViewPosition\",\"filepath\"]].drop_duplicates().sample(n=pa_count_sample_size,random_state=RANDOM_SEED))\n",
        "sampled_metadata = sampled_metadata.append(metadata_df.query(\"ViewPosition == 'AP' & Target == 1\")[[\"patientId\",\"Target\",\"ViewPosition\",\"filepath\"]].drop_duplicates().sample(n=ap_count_sample_size,random_state=RANDOM_SEED))\n"
      ],
      "execution_count": 9,
      "outputs": [
        {
          "output_type": "stream",
          "text": [
            "1100 3900\n"
          ],
          "name": "stdout"
        }
      ]
    },
    {
      "cell_type": "code",
      "metadata": {
        "id": "5m5JG53CanZd",
        "colab": {
          "base_uri": "https://localhost:8080/"
        },
        "outputId": "ada71f4c-13d7-437b-ec3e-cbc8b39aa8d3"
      },
      "source": [
        "pa_count = metadata_df.query(\"ViewPosition == 'PA' & Target == 0\")[[\"patientId\",\"Target\",\"ViewPosition\"]].drop_duplicates().shape[0]\n",
        "ap_count = metadata_df.query(\"ViewPosition == 'AP' & Target == 0\")[[\"patientId\",\"Target\",\"ViewPosition\"]].drop_duplicates().shape[0]\n",
        "\n",
        "pa_count_sample_size = int(round(pa_count / (pa_count+ap_count),2) * SAMPLE_SIZE)\n",
        "ap_count_sample_size = int(round(ap_count / (pa_count+ap_count),2) * SAMPLE_SIZE)\n",
        "\n",
        "print(pa_count_sample_size,ap_count_sample_size)\n",
        "\n",
        "sampled_metadata = sampled_metadata.append(metadata_df.query(\"ViewPosition == 'PA' & Target == 0\")[[\"patientId\",\"Target\",\"ViewPosition\",\"filepath\"]].drop_duplicates().sample(n=pa_count_sample_size,random_state=RANDOM_SEED))\n",
        "sampled_metadata = sampled_metadata.append(metadata_df.query(\"ViewPosition == 'AP' & Target == 0\")[[\"patientId\",\"Target\",\"ViewPosition\",\"filepath\"]].drop_duplicates().sample(n=ap_count_sample_size,random_state=RANDOM_SEED))\n"
      ],
      "execution_count": 10,
      "outputs": [
        {
          "output_type": "stream",
          "text": [
            "3200 1800\n"
          ],
          "name": "stdout"
        }
      ]
    },
    {
      "cell_type": "code",
      "metadata": {
        "id": "PvBsIpHXav3f",
        "colab": {
          "base_uri": "https://localhost:8080/",
          "height": 220
        },
        "outputId": "9560c539-ca49-46e6-8f1b-367232549aef"
      },
      "source": [
        "sampled_metadata.reset_index(drop=True,inplace=True )\n",
        "print(sampled_metadata.shape)\n",
        "sampled_metadata.head()"
      ],
      "execution_count": 11,
      "outputs": [
        {
          "output_type": "stream",
          "text": [
            "(10000, 4)\n"
          ],
          "name": "stdout"
        },
        {
          "output_type": "execute_result",
          "data": {
            "text/html": [
              "<div>\n",
              "<style scoped>\n",
              "    .dataframe tbody tr th:only-of-type {\n",
              "        vertical-align: middle;\n",
              "    }\n",
              "\n",
              "    .dataframe tbody tr th {\n",
              "        vertical-align: top;\n",
              "    }\n",
              "\n",
              "    .dataframe thead th {\n",
              "        text-align: right;\n",
              "    }\n",
              "</style>\n",
              "<table border=\"1\" class=\"dataframe\">\n",
              "  <thead>\n",
              "    <tr style=\"text-align: right;\">\n",
              "      <th></th>\n",
              "      <th>patientId</th>\n",
              "      <th>Target</th>\n",
              "      <th>ViewPosition</th>\n",
              "      <th>filepath</th>\n",
              "    </tr>\n",
              "  </thead>\n",
              "  <tbody>\n",
              "    <tr>\n",
              "      <th>0</th>\n",
              "      <td>e18c7203-a029-4cf4-8151-2bc2460c390c</td>\n",
              "      <td>1</td>\n",
              "      <td>PA</td>\n",
              "      <td>/content/drive/MyDrive/GreatLearning/Captone_p...</td>\n",
              "    </tr>\n",
              "    <tr>\n",
              "      <th>1</th>\n",
              "      <td>18ce990f-bea9-4174-a6a2-8f61c4517b24</td>\n",
              "      <td>1</td>\n",
              "      <td>PA</td>\n",
              "      <td>/content/drive/MyDrive/GreatLearning/Captone_p...</td>\n",
              "    </tr>\n",
              "    <tr>\n",
              "      <th>2</th>\n",
              "      <td>068b608d-f71c-4859-b909-62c1665b507f</td>\n",
              "      <td>1</td>\n",
              "      <td>PA</td>\n",
              "      <td>/content/drive/MyDrive/GreatLearning/Captone_p...</td>\n",
              "    </tr>\n",
              "    <tr>\n",
              "      <th>3</th>\n",
              "      <td>9fa17c26-8aae-4dd6-af8a-5750f042adf9</td>\n",
              "      <td>1</td>\n",
              "      <td>PA</td>\n",
              "      <td>/content/drive/MyDrive/GreatLearning/Captone_p...</td>\n",
              "    </tr>\n",
              "    <tr>\n",
              "      <th>4</th>\n",
              "      <td>722503cf-a801-415b-a10e-848bfea55911</td>\n",
              "      <td>1</td>\n",
              "      <td>PA</td>\n",
              "      <td>/content/drive/MyDrive/GreatLearning/Captone_p...</td>\n",
              "    </tr>\n",
              "  </tbody>\n",
              "</table>\n",
              "</div>"
            ],
            "text/plain": [
              "                              patientId  ...                                           filepath\n",
              "0  e18c7203-a029-4cf4-8151-2bc2460c390c  ...  /content/drive/MyDrive/GreatLearning/Captone_p...\n",
              "1  18ce990f-bea9-4174-a6a2-8f61c4517b24  ...  /content/drive/MyDrive/GreatLearning/Captone_p...\n",
              "2  068b608d-f71c-4859-b909-62c1665b507f  ...  /content/drive/MyDrive/GreatLearning/Captone_p...\n",
              "3  9fa17c26-8aae-4dd6-af8a-5750f042adf9  ...  /content/drive/MyDrive/GreatLearning/Captone_p...\n",
              "4  722503cf-a801-415b-a10e-848bfea55911  ...  /content/drive/MyDrive/GreatLearning/Captone_p...\n",
              "\n",
              "[5 rows x 4 columns]"
            ]
          },
          "metadata": {
            "tags": []
          },
          "execution_count": 11
        }
      ]
    },
    {
      "cell_type": "code",
      "metadata": {
        "id": "c4ouFrp4a5Pw",
        "colab": {
          "base_uri": "https://localhost:8080/",
          "height": 296
        },
        "outputId": "ca75bb31-f030-4b24-e456-8e9f6b475466"
      },
      "source": [
        "# distibution of the sample dataset similar to the population \n",
        "\n",
        "sns.countplot(data = sampled_metadata,x=\"ViewPosition\",hue=\"Target\")"
      ],
      "execution_count": 12,
      "outputs": [
        {
          "output_type": "execute_result",
          "data": {
            "text/plain": [
              "<matplotlib.axes._subplots.AxesSubplot at 0x7f76ff4b6ed0>"
            ]
          },
          "metadata": {
            "tags": []
          },
          "execution_count": 12
        },
        {
          "output_type": "display_data",
          "data": {
            "image/png": "[encoded data removed]",
            "text/plain": [
              "<Figure size 432x288 with 1 Axes>"
            ]
          },
          "metadata": {
            "tags": [],
            "needs_background": "light"
          }
        }
      ]
    },
    {
      "cell_type": "markdown",
      "metadata": {
        "id": "1mlDO3qzBXnz"
      },
      "source": [
        "### reading , postprocessing, reshaping Img"
      ]
    },
    {
      "cell_type": "code",
      "metadata": {
        "id": "80BYwytLoDyb"
      },
      "source": [
        "### reading the image and storing it as pickle for later access\n",
        "\n",
        "# def read_img(index_list):\n",
        "#   image_list = []\n",
        "#   label_list = []\n",
        "#   for index in index_list:\n",
        "#     filePath = sampled_metadata.loc[index][\"filepath\"]\n",
        "#     image_list.append(dicom.dcmread(filePath).pixel_array)\n",
        "#     label_list.append(sampled_metadata.loc[index][\"Target\"])\n",
        "#   return image_list,label_list\n",
        "\n",
        "# index_list = list(sampled_metadata.index)\n",
        "# X,y = read_img(index_list)\n",
        "# X = np.array(X)\n",
        "# y = np.array(y)\n",
        "\n",
        "# with open('/content/drive/MyDrive/GreatLearning/Captone_project/Code/Baala/image_list.pkl','wb') as f:\n",
        "#   pickle.dump(X, f,pickle.HIGHEST_PROTOCOL)\n",
        "\n",
        "# with open('/content/drive/MyDrive/GreatLearning/Captone_project/Code/Baala/label_list.pkl','wb') as f:\n",
        "#   pickle.dump(y, f,pickle.HIGHEST_PROTOCOL)  "
      ],
      "execution_count": 13,
      "outputs": []
    },
    {
      "cell_type": "markdown",
      "metadata": {
        "id": "FRHCjQAi2uSG"
      },
      "source": [
        "#### reading img"
      ]
    },
    {
      "cell_type": "code",
      "metadata": {
        "id": "MrxJB4ZhpkpV"
      },
      "source": [
        "with open('/content/drive/MyDrive/GreatLearning/Captone_project/Code/Baala/image_list.pkl','rb') as f:\n",
        "  X_image_list = pickle.load(f)\n",
        "\n",
        "with open('/content/drive/MyDrive/GreatLearning/Captone_project/Code/Baala/label_list.pkl','rb') as f:\n",
        "  y_lable_value = pickle.load(f)"
      ],
      "execution_count": null,
      "outputs": []
    },
    {
      "cell_type": "code",
      "metadata": {
        "id": "WoiK91qSm0P-"
      },
      "source": [
        "X_image_list.shape"
      ],
      "execution_count": null,
      "outputs": []
    },
    {
      "cell_type": "code",
      "metadata": {
        "id": "nWgjiIUT1bQ0"
      },
      "source": [
        "plt.figure(figsize=(10, 10))\n",
        "for i in range(0,3):\n",
        "  ax = plt.subplot(1, 3, i + 1)\n",
        "  plt.imshow(X_image_list[i],\"bone\") \n",
        "plt.show()"
      ],
      "execution_count": null,
      "outputs": []
    },
    {
      "cell_type": "markdown",
      "metadata": {
        "id": "iSEInEsq0jZJ"
      },
      "source": [
        "#### CLAHE processing - improve the contrast of images\n",
        " - Contrast Limited Adaptive Histogram Equalization (CLAHE) to equalize images. CLAHE is a variant of Adaptive histogram equalization (AHE) which takes care of over-amplification of the contrast\n",
        " "
      ]
    },
    {
      "cell_type": "code",
      "metadata": {
        "id": "A9Dew9dj0cij"
      },
      "source": [
        "def CLAHEprocessing(img):\n",
        "  clahe = cv2.createCLAHE(clipLimit = 5)\n",
        "  clahe_img = clahe.apply(img) + 30\n",
        "  return clahe_img\n",
        "\n",
        "X_image_list = [CLAHEprocessing(img) for img in X_image_list]"
      ],
      "execution_count": null,
      "outputs": []
    },
    {
      "cell_type": "code",
      "metadata": {
        "id": "Tu1RAJ_I19LT"
      },
      "source": [
        "plt.figure(figsize=(10, 10))\n",
        "for i in range(0,3):\n",
        "  ax = plt.subplot(1, 3, i + 1)\n",
        "  plt.imshow(X_image_list[i],\"bone\") \n",
        "plt.show()"
      ],
      "execution_count": null,
      "outputs": []
    },
    {
      "cell_type": "markdown",
      "metadata": {
        "id": "RuLBPjdyzNwT"
      },
      "source": [
        "#### reshaping image"
      ]
    },
    {
      "cell_type": "code",
      "metadata": {
        "id": "NYuqNuVwt94g"
      },
      "source": [
        "IMG_HEIGHT_WIDTH = 128\n",
        "# resizing the image 512 * 512\n",
        "X_image_reshaped = [cv2.resize(img,(IMG_HEIGHT_WIDTH,IMG_HEIGHT_WIDTH)) for img in X_image_list]\n",
        "print(\"Shape of the image after resizing\", X_image_reshaped[0].shape)"
      ],
      "execution_count": null,
      "outputs": []
    },
    {
      "cell_type": "code",
      "metadata": {
        "id": "QIB6NtXl2QDC"
      },
      "source": [
        "plt.figure(figsize=(10, 10))\n",
        "for i in range(0,3):\n",
        "  ax = plt.subplot(1, 3, i + 1)\n",
        "  plt.imshow(X_image_reshaped[i],\"bone\") \n",
        "plt.show()"
      ],
      "execution_count": null,
      "outputs": []
    },
    {
      "cell_type": "code",
      "metadata": {
        "id": "WJlkPztbfwfA"
      },
      "source": [
        "# index = list(sampled_metadata.query(\"patientId == 'e18c7203-a029-4cf4-8151-2bc2460c390c'\").index)\n",
        "# testpath = sampled_metadata.loc[index[0]][\"filepath\"]\n",
        "# img = dicom.dcmread(testpath).pixel_array\n",
        "# # logging.info(testpath, testpath.dtype)\n",
        "# # img = dicom.dcmread(testpath).pixel_array\n",
        "# print(img.shape,img.min(),img.max())\n",
        "# plt.imshow(img,\"bone\") \n",
        "# plt.show()\n",
        "\n",
        "# img = cv2.resize(img,(512,512),interpolation = cv2.INTER_AREA)\n",
        "# plt.imshow(img,\"bone\") \n",
        "# plt.show()\n",
        "# print(img.shape,img.min(),img.max())\n",
        "\n",
        "\n",
        "# clahe = cv2.createCLAHE(clipLimit = 5)\n",
        "# clahe_img = clahe.apply(img) + 30\n",
        "# plt.imshow(clahe_img,\"bone\") \n",
        "# plt.show()\n"
      ],
      "execution_count": null,
      "outputs": []
    },
    {
      "cell_type": "markdown",
      "metadata": {
        "id": "FiluMdiy238t"
      },
      "source": [
        "### Train & test data split"
      ]
    },
    {
      "cell_type": "code",
      "metadata": {
        "id": "xKT33k2r2-vP"
      },
      "source": [
        "X_train, X_test_validate, y_train, y_test_validate = train_test_split(np.array(X_image_reshaped), y_lable_value, test_size=0.3, random_state=RANDOM_SEED,stratify=y_lable_value)\n",
        "\n",
        "X_test, X_validate, y_test, y_validate = train_test_split(X_test_validate, y_test_validate, test_size=0.2, random_state=RANDOM_SEED,stratify=y_test_validate)\n",
        "\n"
      ],
      "execution_count": null,
      "outputs": []
    },
    {
      "cell_type": "code",
      "metadata": {
        "id": "OkMPr9174isC"
      },
      "source": [
        "print(\"X_train data shape \", X_train.shape)\n",
        "print(\"y_train data shape \", y_train.shape)\n",
        "\n",
        "print(\"X_test data shape \", X_test.shape)\n",
        "print(\"y_test data shape \", y_test.shape)\n",
        "\n",
        "print(\"X_validate data shape \", X_validate.shape)\n",
        "print(\"y_validate data shape \", y_validate.shape)\n"
      ],
      "execution_count": null,
      "outputs": []
    },
    {
      "cell_type": "code",
      "metadata": {
        "id": "B24_7RKe5hP5"
      },
      "source": [
        "print(\"distribution in Train \\n\", np.array(np.unique(y_train, return_counts=True)).T)\n",
        "print(\"distribution in Test \\n\", np.array(np.unique(y_test, return_counts=True)).T)\n",
        "print(\"distribution in Validate \\n\", np.array(np.unique(y_validate, return_counts=True)).T)"
      ],
      "execution_count": null,
      "outputs": []
    },
    {
      "cell_type": "markdown",
      "metadata": {
        "id": "P_wr39Tz8gT8"
      },
      "source": [
        "### Normalize the image"
      ]
    },
    {
      "cell_type": "code",
      "metadata": {
        "id": "aIjcad5W8fEE"
      },
      "source": [
        "## Normalize \n",
        "X_train = X_train /  255\n",
        "X_test = X_test /  255\n",
        "X_validate = X_validate /255\n",
        "\n",
        "print(\"X_train min / max \", X_train.min(),X_train.max())\n",
        "print(\"X_test min / max \", X_test.min(),X_test.max())\n",
        "print(\"X_test min / max \", X_validate.min(),X_validate.max())"
      ],
      "execution_count": null,
      "outputs": []
    },
    {
      "cell_type": "markdown",
      "metadata": {
        "id": "v10O7u4WBeOx"
      },
      "source": [
        "### Model Building\n",
        " - Inscepton Model ( transfer learning ) \n",
        " - Resnet ( transfer learning ) \n",
        " - Model from scratch\n",
        " "
      ]
    },
    {
      "cell_type": "code",
      "metadata": {
        "id": "BqpbOtRczu2q"
      },
      "source": [
        "metrics_data = pd.DataFrame(columns=[\"model\",\"train_score\",\"test_score\",\"validate_score\",\"auc\",\"recall\",\"precision\",\"cm\"])\n",
        "\n",
        "# def get_metrics(model_name):\n",
        "#   metric = {\n",
        "#     \"model\":model_name,\n",
        "#     \"train_score\":round(accuracy_score(y_train,y_train_predict),2),\n",
        "#     \"test_score\":round(accuracy_score(y_test,y_predict),2),\n",
        "#     \"auc\":round(roc_auc_score(y_test,y_predict),2),\n",
        "#     \"recall\":round(recall_score(y_test,y_predict),2),\n",
        "#     \"precision\":round(precision_score(y_test,y_predict),2),\n",
        "#     \"cm\":confusion_matrix(y_test,y_predict)\n",
        "#     }\n",
        "#   return metric\n",
        "\n",
        "\n",
        "def plot_roccurve(y_true, y_score):\n",
        "    \"\"\"plot_roc_curve.\"\"\"\n",
        "    false_positive_rate, true_positive_rate, thresholds = roc_curve(\n",
        "        y_true, y_score)\n",
        "    plt.plot(false_positive_rate, true_positive_rate, lw=2, color='navy')\n",
        "    plt.plot([0, 1], [0, 1], color='gray', lw=1, linestyle='--')\n",
        "    plt.xlabel('False positive rate')\n",
        "    plt.ylabel('True positive rate')\n",
        "    plt.ylim([-0.05, 1.05])\n",
        "    plt.xlim([-0.05, 1.05])\n",
        "    plt.grid()\n",
        "    plt.title('Receiver operating characteristic AUC={0:0.2f}'.format(\n",
        "        roc_auc_score(y_true, y_score))) \n",
        "    return plt\n"
      ],
      "execution_count": null,
      "outputs": []
    },
    {
      "cell_type": "markdown",
      "metadata": {
        "id": "yMsrkaW0vTHQ"
      },
      "source": [
        "#### SVC + PCA"
      ]
    },
    {
      "cell_type": "code",
      "metadata": {
        "id": "pvH0vxzKvYi4"
      },
      "source": [
        "# ### Reshape input for  SVC \n",
        "# X_train_svc = X_train.reshape(X_train.shape[0],IMG_HEIGHT_WIDTH*IMG_HEIGHT_WIDTH)\n",
        "# print(\"X_train_svc data shape \", X_train_svc.shape)\n",
        "\n",
        "# X_test_svc= X_test.reshape(X_test.shape[0],IMG_HEIGHT_WIDTH*IMG_HEIGHT_WIDTH)\n",
        "# print(\"X_test_svc data shape \", X_test_svc.shape)\n",
        "\n",
        "# X_validate_svc= X_validate.reshape(X_validate.shape[0],IMG_HEIGHT_WIDTH*IMG_HEIGHT_WIDTH)\n",
        "# print(\"X_validate_svc data shape \", X_validate_svc.shape)\n",
        "\n",
        "# print(\"y_train data shape \", y_train.shape)\n",
        "# print(\"y_test data shape \", y_test.shape)\n",
        "# print(\"y_test data shape \", y_validate.shape)\n",
        "\n",
        "\n",
        "# pca = PCA(0.95)\n",
        "# estimator = SVC(kernel=\"rbf\")\n",
        "# param_grid = {    \n",
        "#     \"estimator__C\":[1],\n",
        "#     \"estimator__gamma\":[0.001],\n",
        "\n",
        "# }\n",
        "# pipe = Pipeline(steps=[('pca', pca), ('estimator', estimator)])\n",
        "# gridsearch = GridSearchCV(pipe, param_grid, n_jobs=-1,scoring = \"recall\")\n",
        "# gridsearch.fit(X_train_svc,y_train)\n",
        "\n",
        "\n",
        "# with open('/content/drive/MyDrive/GreatLearning/Captone_project/Code/Baala/svc_model.pkl','wb') as f:\n",
        "#   pickle.dump(best_estimator_, f,pickle.HIGHEST_PROTOCOL)\n"
      ],
      "execution_count": null,
      "outputs": []
    },
    {
      "cell_type": "code",
      "metadata": {
        "id": "mUBcr522KifC"
      },
      "source": [
        "# with open('/content/drive/MyDrive/GreatLearning/Captone_project/Code/Baala/svc_model.pkl','rb') as f:\n",
        "#   svc_model = pickle.load(f)\n",
        "\n",
        "# y_predict = svc_model.predict(X_test_svc)\n",
        "# y_train_predict = svc_model.predict(X_train_svc)\n",
        "# y_validate_predict = svc_model.predict(X_validate_svc)"
      ],
      "execution_count": null,
      "outputs": []
    },
    {
      "cell_type": "code",
      "metadata": {
        "id": "4GA3X_z3zcbh"
      },
      "source": [
        "# model_name = \"SVC+PCA\"\n",
        " \n",
        "# metric = {\n",
        "#     \"model\":model_name,\n",
        "#     \"train_score\":round(accuracy_score(y_train,y_train_predict),2),\n",
        "#     \"test_score\":round(accuracy_score(y_test,y_predict),2),\n",
        "#     \"validate_score\":round(accuracy_score(y_validate,y_validate_predict),2)\n",
        "#     \"auc\":round(roc_auc_score(y_validate,y_validate_predict),2),\n",
        "#     \"recall\":round(recall_score(y_validate,y_validate_predict),2),\n",
        "#     \"precision\":round(precision_score(y_validate,y_validate_predict),2),\n",
        "#     \"cm\":confusion_matrix(y_validate,y_validate_predict)\n",
        "#     }\n",
        "# metrics_data = metrics_data.append(metric,ignore_index = True)\n",
        "# metrics_data[metrics_data[\"model\"] == model_name]\n",
        "\n",
        "\n",
        "# print(\"Best param \", gridsearch.best_params_)\n",
        "# print(\" \\n\")\n",
        "\n",
        "# fig,ax = plt.subplots(nrows=1,ncols=2,figsize=(15, 5))\n",
        "# sns.heatmap(confusion_matrix(y_test,y_predict),annot=True,ax=ax[0],cmap=\"YlGnBu\")\n",
        "# ax[0].set_title('Confusion Matrix'); \n",
        "# ax[1] = plot_roccurve(y_test,y_predict)\n",
        "# plt.show() \n"
      ],
      "execution_count": null,
      "outputs": []
    },
    {
      "cell_type": "code",
      "metadata": {
        "id": "w2sfc5TT77f5"
      },
      "source": [
        ""
      ],
      "execution_count": null,
      "outputs": []
    },
    {
      "cell_type": "markdown",
      "metadata": {
        "id": "4czX_8nNDYhA"
      },
      "source": [
        "#### Neural Network"
      ]
    },
    {
      "cell_type": "code",
      "metadata": {
        "id": "dFe5DbdXDX-l"
      },
      "source": [
        "# def nn_model_dropout(kernel_initializer = \"normal\"):\n",
        "#     model = Sequential()\n",
        "#     model.add(Flatten())\n",
        "\n",
        "#     model.add(Dense(512, activation = \"relu\"))   \n",
        "#     model.add(BatchNormalization())\n",
        "\n",
        "#     model.add(Dense(256, activation = \"relu\"))   \n",
        "#     model.add(BatchNormalization())\n",
        "    \n",
        "#     model.add(Dense(128, activation = \"relu\"))   \n",
        "#     model.add(BatchNormalization())\n",
        "#     model.add(Dropout(0.2))\n",
        "\n",
        "#     model.add(Dense(64, activation = \"relu\"))   \n",
        "#     model.add(BatchNormalization())\n",
        "\n",
        "#     model.add(Dense(32, activation = \"relu\"))   \n",
        "#     model.add(BatchNormalization())\n",
        "    \n",
        "#     model.add(Dense(1, activation = \"sigmoid\"))\n",
        "#     return model\n",
        "\n",
        "\n",
        "def nn_model():\n",
        "  inputs = Input(shape=(IMG_HEIGHT_WIDTH, IMG_HEIGHT_WIDTH))\n",
        "  x = Flatten()(inputs)\n",
        "  x = Dense(units=512, activation='relu')(x)\n",
        "  #x = Dropout(rate=0.7)(x)\n",
        "  x = Dense(units=128, activation='relu')(x)  \n",
        "  #x = Dropout(rate=0.5)(x)\n",
        "  x = Dense(units=64, activation='relu')(x)\n",
        "\n",
        "  x = Dense(units=32, activation='relu')(x)\n",
        "\n",
        "  x = Dense(units=16, activation='relu')(x)\n",
        "  x = Dropout(rate=0.1)(x)\n",
        "\n",
        "  output = Dense(units=1, activation='sigmoid')(x)\n",
        "  model = Model(inputs=inputs, outputs=output)\n",
        "  return model\n",
        "\n",
        "\n",
        "\n",
        "nn_model = nn_model()\n",
        "optimizer = Adam(learning_rate=0.001)\n",
        "\n",
        "es = EarlyStopping(monitor='val_loss', patience=10,min_delta=0.001)\n",
        "\n",
        "nn_model.compile(optimizer = optimizer, loss= tf.keras.losses.BinaryCrossentropy(), \n",
        "                   metrics = [\"accuracy\",\n",
        "                              tf.keras.metrics.Precision(name=\"precision\"),\n",
        "                              tf.keras.metrics.Recall(name=\"recall\")])\n",
        "\n",
        "learning_rate_reduction = ReduceLROnPlateau(monitor='val_loss', \n",
        "                                            patience=3, \n",
        "                                            verbose=1, \n",
        "                                            factor=0.01, \n",
        "                                            min_lr=0.0001)\n",
        "\n",
        "fit_data = nn_model.fit(X_train, y_train, validation_data=(X_test,y_test),\n",
        "                           batch_size = 32, epochs = 100, verbose = 1,callbacks=[es,learning_rate_reduction])"
      ],
      "execution_count": null,
      "outputs": []
    },
    {
      "cell_type": "code",
      "metadata": {
        "id": "Wq0HkpUSJrbc",
        "colab": {
          "base_uri": "https://localhost:8080/",
          "height": 320
        },
        "outputId": "1c3e4c6b-9f90-408e-9050-0a94545bc11c"
      },
      "source": [
        "fig,ax = plt.subplots(nrows=1,ncols=4,figsize=(20, 5))\n",
        "ax[0].plot(fit_data.history['loss'],label=\"Train\")\n",
        "ax[0].plot(fit_data.history['val_loss'],label=\"Validation\")\n",
        "ax[0].set_title(\"Loss\")\n",
        "\n",
        "ax[1].plot(fit_data.history['accuracy'],label=\"Train\")\n",
        "ax[1].plot(fit_data.history['val_accuracy'],label=\"Validation\")\n",
        "ax[1].set_title(\"accuracy\")\n",
        "\n",
        "\n",
        "ax[2].plot(fit_data.history['recall'],label=\"Train\")\n",
        "ax[2].plot(fit_data.history['val_recall'],label=\"Validation\")\n",
        "ax[2].set_title(\"recall\")\n",
        "\n",
        "ax[3].plot(fit_data.history['precision'],label=\"Train\")\n",
        "ax[3].plot(fit_data.history['val_precision'],label=\"Validation\")\n",
        "ax[3].set_title(\"precision\")\n",
        "plt.legend()\n",
        "\n",
        "plt.show() "
      ],
      "execution_count": null,
      "outputs": [
        {
          "output_type": "display_data",
          "data": {
            "image/png": "[encoded data removed]",
            "text/plain": [
              "<Figure size 1440x360 with 4 Axes>"
            ]
          },
          "metadata": {
            "tags": [],
            "needs_background": "light"
          }
        }
      ]
    },
    {
      "cell_type": "code",
      "metadata": {
        "id": "f_s41CbHp5Uv",
        "colab": {
          "base_uri": "https://localhost:8080/",
          "height": 78
        },
        "outputId": "d1dd47f4-e3a9-44d3-b782-f93dd47cce42"
      },
      "source": [
        "y_train_predict =  nn_model.predict(X_train)\n",
        "y_train_predict = [1 if i >= 0.5 else 0 for i in y_train_predict]\n",
        "\n",
        "\n",
        "y_predict = nn_model.predict(X_test)\n",
        "y_predict = [1 if i >= 0.5 else 0 for i in y_predict]\n",
        "\n",
        "model_name = \"NN\"\n",
        " \n",
        "metric = {\n",
        "    \"model\":model_name,\n",
        "    \"train_score\":round(accuracy_score(y_train,y_train_predict),2),\n",
        "    \"test_score\":round(accuracy_score(y_test,y_predict),2),\n",
        "    \"auc\":round(roc_auc_score(y_test,y_predict),2),\n",
        "    \"recall\":round(recall_score(y_test,y_predict),2),\n",
        "    \"precision\":round(precision_score(y_test,y_predict),2),\n",
        "    \"cm\":confusion_matrix(y_test,y_predict)\n",
        "    }\n",
        "\n",
        "metrics_data = metrics_data.append(metric,ignore_index = True)\n",
        "metrics_data[metrics_data[\"model\"] == model_name]"
      ],
      "execution_count": null,
      "outputs": [
        {
          "output_type": "execute_result",
          "data": {
            "text/html": [
              "<div>\n",
              "<style scoped>\n",
              "    .dataframe tbody tr th:only-of-type {\n",
              "        vertical-align: middle;\n",
              "    }\n",
              "\n",
              "    .dataframe tbody tr th {\n",
              "        vertical-align: top;\n",
              "    }\n",
              "\n",
              "    .dataframe thead th {\n",
              "        text-align: right;\n",
              "    }\n",
              "</style>\n",
              "<table border=\"1\" class=\"dataframe\">\n",
              "  <thead>\n",
              "    <tr style=\"text-align: right;\">\n",
              "      <th></th>\n",
              "      <th>model</th>\n",
              "      <th>train_score</th>\n",
              "      <th>test_score</th>\n",
              "      <th>auc</th>\n",
              "      <th>recall</th>\n",
              "      <th>precision</th>\n",
              "      <th>cm</th>\n",
              "    </tr>\n",
              "  </thead>\n",
              "  <tbody>\n",
              "    <tr>\n",
              "      <th>1</th>\n",
              "      <td>NN</td>\n",
              "      <td>0.73</td>\n",
              "      <td>0.65</td>\n",
              "      <td>0.65</td>\n",
              "      <td>0.53</td>\n",
              "      <td>0.7</td>\n",
              "      <td>[[101, 29], [61, 69]]</td>\n",
              "    </tr>\n",
              "  </tbody>\n",
              "</table>\n",
              "</div>"
            ],
            "text/plain": [
              "  model  train_score  test_score  ...  recall  precision                     cm\n",
              "1    NN         0.73        0.65  ...    0.53        0.7  [[101, 29], [61, 69]]\n",
              "\n",
              "[1 rows x 7 columns]"
            ]
          },
          "metadata": {
            "tags": []
          },
          "execution_count": 270
        }
      ]
    },
    {
      "cell_type": "code",
      "metadata": {
        "id": "z1YFftiNp_Jp",
        "colab": {
          "base_uri": "https://localhost:8080/",
          "height": 350
        },
        "outputId": "af2517ee-827c-45b0-c43c-2c1d0a04335d"
      },
      "source": [
        "fig,ax = plt.subplots(nrows=1,ncols=2,figsize=(15, 5))\n",
        "sns.heatmap(confusion_matrix(y_test,y_predict),annot=True,ax=ax[0],cmap=\"YlGnBu\")\n",
        "ax[0].set_title('Confusion Matrix'); \n",
        "ax[1] = plot_roccurve(y_test,y_predict)\n",
        "plt.show() "
      ],
      "execution_count": null,
      "outputs": [
        {
          "output_type": "display_data",
          "data": {
            "image/png": "[encoded data removed]",
            "text/plain": [
              "<Figure size 1080x360 with 3 Axes>"
            ]
          },
          "metadata": {
            "tags": [],
            "needs_background": "light"
          }
        }
      ]
    },
    {
      "cell_type": "markdown",
      "metadata": {
        "id": "PjTFo8hKKoEh"
      },
      "source": [
        "#### CNN ( with out transfer learning )"
      ]
    },
    {
      "cell_type": "code",
      "metadata": {
        "id": "eAjEEQABKuRk",
        "colab": {
          "base_uri": "https://localhost:8080/"
        },
        "outputId": "46a9d915-07b8-4fac-f9cb-42c34d231ae7"
      },
      "source": [
        "def cnn_model():\n",
        "  inputs = Input(shape=(IMG_HEIGHT_WIDTH, IMG_HEIGHT_WIDTH,1))\n",
        "\n",
        "  x = Conv2D(filters=16, kernel_size=(3, 3), activation='relu', padding='same')(inputs)\n",
        "  x = Conv2D(filters=16, kernel_size=(3, 3), activation='relu', padding='same')(x)\n",
        "  x = MaxPool2D(pool_size=(2, 2))(x)\n",
        "\n",
        "  x = Conv2D(filters=32, kernel_size=(3, 3), activation='relu', padding='same')(inputs)\n",
        "  x = Conv2D(filters=32, kernel_size=(3, 3), activation='relu', padding='same')(x)\n",
        "  x = MaxPool2D(pool_size=(2, 2))(x)\n",
        "\n",
        "  x = Conv2D(filters=64, kernel_size=(3, 3), activation='relu', padding='same')(inputs)\n",
        "  x = Conv2D(filters=64, kernel_size=(3, 3), activation='relu', padding='same')(x)\n",
        "  x = MaxPool2D(pool_size=(2, 2))(x)\n",
        "\n",
        "  x = Conv2D(filters=128, kernel_size=(3, 3), activation='relu', padding='same')(inputs)\n",
        "  x = Conv2D(filters=128, kernel_size=(3, 3), activation='relu', padding='same')(x)\n",
        "  x = MaxPool2D(pool_size=(2, 2))(x)\n",
        "\n",
        "  x = Conv2D(filters=256, kernel_size=(3, 3), activation='relu', padding='same')(inputs)\n",
        "  x = Conv2D(filters=256, kernel_size=(3, 3), activation='relu', padding='same')(x)\n",
        "  x = MaxPool2D(pool_size=(2, 2))(x)\n",
        "\n",
        "  x = Flatten()(inputs)\n",
        "  x = Dense(units=512, activation='relu')(x)\n",
        "  x = Dense(units=128, activation='relu')(x)  \n",
        "  x = Dense(units=64, activation='relu')(x)\n",
        "  x = Dense(units=32, activation='relu')(x)\n",
        "  x = Dense(units=16, activation='relu')(x)\n",
        "  x = Dropout(rate=0.1)(x)\n",
        "\n",
        "  output = Dense(units=1, activation='sigmoid')(x)\n",
        "  model = Model(inputs=inputs, outputs=output)\n",
        "  return model\n",
        "\n",
        "cnn_model = cnn_model()\n",
        "optimizer = Adam(learning_rate=0.001)\n",
        "\n",
        "es = EarlyStopping(monitor='val_loss', patience=5,min_delta=0.001)\n",
        "\n",
        "cnn_model.compile(optimizer = optimizer, loss= tf.keras.losses.BinaryCrossentropy(), \n",
        "                   metrics = [\"accuracy\",\n",
        "                              tf.keras.metrics.Precision(name=\"precision\"),\n",
        "                              tf.keras.metrics.Recall(name=\"recall\")])\n",
        "\n",
        "learning_rate_reduction = ReduceLROnPlateau(monitor='val_loss', \n",
        "                                            patience=3, \n",
        "                                            verbose=1, \n",
        "                                            factor=0.01, \n",
        "                                            min_lr=0.0001)\n",
        "\n",
        "fit_data = cnn_model.fit(X_train, y_train, validation_data=(X_test,y_test),\n",
        "                           batch_size = 32, epochs = 100, verbose = 1,callbacks=[es,learning_rate_reduction])"
      ],
      "execution_count": null,
      "outputs": [
        {
          "output_type": "stream",
          "text": [
            "Epoch 1/100\n",
            "33/33 [==============================] - 1s 20ms/step - loss: 2.8620 - accuracy: 0.5135 - precision: 0.5123 - recall: 0.5596 - val_loss: 0.6588 - val_accuracy: 0.6654 - val_precision: 0.6838 - val_recall: 0.6154\n",
            "Epoch 2/100\n",
            "33/33 [==============================] - 0s 10ms/step - loss: 0.8691 - accuracy: 0.5596 - precision: 0.5598 - recall: 0.5577 - val_loss: 0.7535 - val_accuracy: 0.5000 - val_precision: 0.5000 - val_recall: 1.0000\n",
            "Epoch 3/100\n",
            "33/33 [==============================] - 0s 10ms/step - loss: 0.7163 - accuracy: 0.6135 - precision: 0.6101 - recall: 0.6288 - val_loss: 1.1313 - val_accuracy: 0.5000 - val_precision: 0.5000 - val_recall: 1.0000\n",
            "Epoch 4/100\n",
            "33/33 [==============================] - 0s 10ms/step - loss: 0.7221 - accuracy: 0.5760 - precision: 0.5516 - recall: 0.8115 - val_loss: 0.6292 - val_accuracy: 0.6538 - val_precision: 0.7174 - val_recall: 0.5077\n",
            "Epoch 5/100\n",
            "33/33 [==============================] - 0s 10ms/step - loss: 0.6469 - accuracy: 0.6375 - precision: 0.6439 - recall: 0.6154 - val_loss: 0.7014 - val_accuracy: 0.5000 - val_precision: 0.5000 - val_recall: 1.0000\n",
            "Epoch 6/100\n",
            "33/33 [==============================] - 0s 10ms/step - loss: 0.6995 - accuracy: 0.5644 - precision: 0.5395 - recall: 0.8808 - val_loss: 0.7150 - val_accuracy: 0.5000 - val_precision: 0.5000 - val_recall: 1.0000\n",
            "Epoch 7/100\n",
            "33/33 [==============================] - 0s 10ms/step - loss: 0.6809 - accuracy: 0.5519 - precision: 0.5357 - recall: 0.7788 - val_loss: 0.6550 - val_accuracy: 0.6846 - val_precision: 0.6579 - val_recall: 0.7692\n",
            "\n",
            "Epoch 00007: ReduceLROnPlateau reducing learning rate to 0.0001.\n",
            "Epoch 8/100\n",
            "33/33 [==============================] - 0s 10ms/step - loss: 0.6387 - accuracy: 0.6615 - precision: 0.6972 - recall: 0.5712 - val_loss: 0.6507 - val_accuracy: 0.6231 - val_precision: 0.7667 - val_recall: 0.3538\n",
            "Epoch 9/100\n",
            "33/33 [==============================] - 0s 10ms/step - loss: 0.6248 - accuracy: 0.6712 - precision: 0.7236 - recall: 0.5538 - val_loss: 0.6411 - val_accuracy: 0.6769 - val_precision: 0.7091 - val_recall: 0.6000\n"
          ],
          "name": "stdout"
        }
      ]
    },
    {
      "cell_type": "code",
      "metadata": {
        "id": "5QNHfOehMPCu",
        "colab": {
          "base_uri": "https://localhost:8080/",
          "height": 110
        },
        "outputId": "a12cee48-177a-4003-f8d1-29c7f42763d0"
      },
      "source": [
        "y_train_predict =  cnn_model.predict(X_train)\n",
        "y_train_predict = [1 if i >= 0.5 else 0 for i in y_train_predict]\n",
        "\n",
        "\n",
        "y_predict = cnn_model.predict(X_test)\n",
        "y_predict = [1 if i >= 0.5 else 0 for i in y_predict]\n",
        "\n",
        "model_name = \"CNN\"\n",
        " \n",
        "metric = {\n",
        "    \"model\":model_name,\n",
        "    \"train_score\":round(accuracy_score(y_train,y_train_predict),2),\n",
        "    \"test_score\":round(accuracy_score(y_test,y_predict),2),\n",
        "    \"auc\":round(roc_auc_score(y_test,y_predict),2),\n",
        "    \"recall\":round(recall_score(y_test,y_predict),2),\n",
        "    \"precision\":round(precision_score(y_test,y_predict),2),\n",
        "    \"cm\":confusion_matrix(y_test,y_predict)\n",
        "    }\n",
        "\n",
        "metrics_data = metrics_data.append(metric,ignore_index = True)\n",
        "metrics_data[metrics_data[\"model\"] == model_name]"
      ],
      "execution_count": null,
      "outputs": [
        {
          "output_type": "execute_result",
          "data": {
            "text/html": [
              "<div>\n",
              "<style scoped>\n",
              "    .dataframe tbody tr th:only-of-type {\n",
              "        vertical-align: middle;\n",
              "    }\n",
              "\n",
              "    .dataframe tbody tr th {\n",
              "        vertical-align: top;\n",
              "    }\n",
              "\n",
              "    .dataframe thead th {\n",
              "        text-align: right;\n",
              "    }\n",
              "</style>\n",
              "<table border=\"1\" class=\"dataframe\">\n",
              "  <thead>\n",
              "    <tr style=\"text-align: right;\">\n",
              "      <th></th>\n",
              "      <th>model</th>\n",
              "      <th>train_score</th>\n",
              "      <th>test_score</th>\n",
              "      <th>auc</th>\n",
              "      <th>recall</th>\n",
              "      <th>precision</th>\n",
              "      <th>cm</th>\n",
              "    </tr>\n",
              "  </thead>\n",
              "  <tbody>\n",
              "    <tr>\n",
              "      <th>2</th>\n",
              "      <td>CNN</td>\n",
              "      <td>0.73</td>\n",
              "      <td>0.65</td>\n",
              "      <td>0.65</td>\n",
              "      <td>0.53</td>\n",
              "      <td>0.70</td>\n",
              "      <td>[[101, 29], [61, 69]]</td>\n",
              "    </tr>\n",
              "    <tr>\n",
              "      <th>3</th>\n",
              "      <td>CNN</td>\n",
              "      <td>0.73</td>\n",
              "      <td>0.68</td>\n",
              "      <td>0.68</td>\n",
              "      <td>0.60</td>\n",
              "      <td>0.71</td>\n",
              "      <td>[[98, 32], [52, 78]]</td>\n",
              "    </tr>\n",
              "  </tbody>\n",
              "</table>\n",
              "</div>"
            ],
            "text/plain": [
              "  model  train_score  test_score  ...  recall  precision                     cm\n",
              "2   CNN         0.73        0.65  ...    0.53       0.70  [[101, 29], [61, 69]]\n",
              "3   CNN         0.73        0.68  ...    0.60       0.71   [[98, 32], [52, 78]]\n",
              "\n",
              "[2 rows x 7 columns]"
            ]
          },
          "metadata": {
            "tags": []
          },
          "execution_count": 276
        }
      ]
    },
    {
      "cell_type": "code",
      "metadata": {
        "id": "W_cJq49rMiOM",
        "colab": {
          "base_uri": "https://localhost:8080/",
          "height": 350
        },
        "outputId": "0bfaa20a-fa59-40db-eccf-8bde3624da5e"
      },
      "source": [
        "fig,ax = plt.subplots(nrows=1,ncols=2,figsize=(15, 5))\n",
        "sns.heatmap(confusion_matrix(y_test,y_predict),annot=True,ax=ax[0],cmap=\"YlGnBu\")\n",
        "ax[0].set_title('Confusion Matrix'); \n",
        "ax[1] = plot_roccurve(y_test,y_predict)\n",
        "plt.show() "
      ],
      "execution_count": null,
      "outputs": [
        {
          "output_type": "display_data",
          "data": {
            "image/png": "[encoded data removed]",
            "text/plain": [
              "<Figure size 1080x360 with 3 Axes>"
            ]
          },
          "metadata": {
            "tags": [],
            "needs_background": "light"
          }
        }
      ]
    },
    {
      "cell_type": "code",
      "metadata": {
        "id": "xYrEhlgUNLub",
        "colab": {
          "base_uri": "https://localhost:8080/",
          "height": 141
        },
        "outputId": "a9ba6abe-b89a-49d2-d322-74bd107b3403"
      },
      "source": [
        "metrics_data"
      ],
      "execution_count": null,
      "outputs": [
        {
          "output_type": "execute_result",
          "data": {
            "text/html": [
              "<div>\n",
              "<style scoped>\n",
              "    .dataframe tbody tr th:only-of-type {\n",
              "        vertical-align: middle;\n",
              "    }\n",
              "\n",
              "    .dataframe tbody tr th {\n",
              "        vertical-align: top;\n",
              "    }\n",
              "\n",
              "    .dataframe thead th {\n",
              "        text-align: right;\n",
              "    }\n",
              "</style>\n",
              "<table border=\"1\" class=\"dataframe\">\n",
              "  <thead>\n",
              "    <tr style=\"text-align: right;\">\n",
              "      <th></th>\n",
              "      <th>model</th>\n",
              "      <th>train_score</th>\n",
              "      <th>test_score</th>\n",
              "      <th>auc</th>\n",
              "      <th>recall</th>\n",
              "      <th>precision</th>\n",
              "      <th>cm</th>\n",
              "    </tr>\n",
              "  </thead>\n",
              "  <tbody>\n",
              "    <tr>\n",
              "      <th>0</th>\n",
              "      <td>SVC+PCA</td>\n",
              "      <td>0.99</td>\n",
              "      <td>0.68</td>\n",
              "      <td>0.68</td>\n",
              "      <td>0.68</td>\n",
              "      <td>0.67</td>\n",
              "      <td>[[87, 43], [41, 89]]</td>\n",
              "    </tr>\n",
              "    <tr>\n",
              "      <th>1</th>\n",
              "      <td>NN</td>\n",
              "      <td>0.73</td>\n",
              "      <td>0.65</td>\n",
              "      <td>0.65</td>\n",
              "      <td>0.53</td>\n",
              "      <td>0.70</td>\n",
              "      <td>[[101, 29], [61, 69]]</td>\n",
              "    </tr>\n",
              "    <tr>\n",
              "      <th>2</th>\n",
              "      <td>CNN</td>\n",
              "      <td>0.73</td>\n",
              "      <td>0.65</td>\n",
              "      <td>0.65</td>\n",
              "      <td>0.53</td>\n",
              "      <td>0.70</td>\n",
              "      <td>[[101, 29], [61, 69]]</td>\n",
              "    </tr>\n",
              "  </tbody>\n",
              "</table>\n",
              "</div>"
            ],
            "text/plain": [
              "     model  train_score  test_score  ...  recall  precision                     cm\n",
              "0  SVC+PCA         0.99        0.68  ...    0.68       0.67   [[87, 43], [41, 89]]\n",
              "1       NN         0.73        0.65  ...    0.53       0.70  [[101, 29], [61, 69]]\n",
              "2      CNN         0.73        0.65  ...    0.53       0.70  [[101, 29], [61, 69]]\n",
              "\n",
              "[3 rows x 7 columns]"
            ]
          },
          "metadata": {
            "tags": []
          },
          "execution_count": 275
        }
      ]
    }
  ]
}