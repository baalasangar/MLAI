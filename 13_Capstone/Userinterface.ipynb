{
 "cells": [
  {
   "cell_type": "markdown",
   "metadata": {
    "colab_type": "text",
    "id": "view-in-github"
   },
   "source": [
    "<a href=\"https://colab.research.google.com/github/baalasangar/MLAI/blob/master/13_Capstone/Userinterface.ipynb\" target=\"_parent\"><img src=\"https://colab.research.google.com/assets/colab-badge.svg\" alt=\"Open In Colab\"/></a>"
   ]
  },
  {
   "cell_type": "code",
   "execution_count": 2,
   "metadata": {},
   "outputs": [
    {
     "name": "stdout",
     "output_type": "stream",
     "text": [
      "Requirement already satisfied: pydicom in c:\\programdata\\anaconda3\\lib\\site-packages (2.2.0)\n"
     ]
    }
   ],
   "source": [
    "!pip install pydicom"
   ]
  },
  {
   "cell_type": "code",
   "execution_count": 9,
   "metadata": {
    "id": "uhoePfKO7ho0"
   },
   "outputs": [
    {
     "name": "stdout",
     "output_type": "stream",
     "text": [
      "2.6.0\n",
      "D:/01_BALAJI/01_MLAI/MLAI/13_Capstone/affected.dcm\n",
      "D:/01_BALAJI/01_MLAI/MLAI/13_Capstone/affected.dcm\n",
      "metadata PatientID :--0a0f91dc-6015-4342-b809-d19610854a21 \n",
      " \n",
      " PatientAge :--18 \n",
      " \n",
      " Gender :--F \n",
      " \n",
      " ViewPosition :--PA \n",
      " \n",
      " BodyPartExamined :--CHEST \n",
      " \n",
      "\n",
      "52\n",
      "D:/01_BALAJI/01_MLAI/MLAI/13_Capstone/normal.dcm\n",
      "D:/01_BALAJI/01_MLAI/MLAI/13_Capstone/normal.dcm\n",
      "metadata PatientID :--0a5c4dcb-33ac-4466-9dbf-42ed5c8ec1f0 \n",
      " \n",
      " PatientAge :--23 \n",
      " \n",
      " Gender :--M \n",
      " \n",
      " ViewPosition :--PA \n",
      " \n",
      " BodyPartExamined :--CHEST \n",
      " \n",
      "\n",
      "31\n"
     ]
    }
   ],
   "source": [
    "from tkinter import *\n",
    "from tkinter import filedialog\n",
    "import os\n",
    "import pandas as pd\n",
    "import numpy as np\n",
    "from PIL import ImageTk, Image\n",
    "import pydicom as dicom\n",
    "import cv2\n",
    "import tensorflow as tf\n",
    "from tensorflow.keras.models import load_model\n",
    "print(tf.__version__) \n",
    "\n",
    "\n",
    "model = tf.keras.models.load_model(\"./model/resnet152_model.h5\")\n",
    "\n",
    "def CLAHEprocessing(img):\n",
    "  clahe = cv2.createCLAHE(clipLimit = 5)\n",
    "  clahe_img = clahe.apply(img) + 30\n",
    "  return clahe_img\n",
    "\n",
    "def predict_score(dcm_image_pix):\n",
    "    X_image_reshaped = [cv2.resize(img,(150,150)) for img in [dcm_image_pix]]\n",
    "    normalizeimg = lambda x: (np.array(x) / 255.0).astype('float32')\n",
    "    X_image_reshaped = normalizeimg(X_image_reshaped)\n",
    "    X_image_reshaped = np.repeat(X_image_reshaped[..., np.newaxis], 3, -1)\n",
    "    predicted = model.predict(X_image_reshaped)\n",
    "    return int(round(predicted[0][0]*100,0))\n",
    "\n",
    "def openfn():\n",
    "    filename = filedialog.askopenfilename(title='open')\n",
    "    print(filename)\n",
    "    return filename\n",
    "\n",
    "def open_img():\n",
    "    x = openfn()\n",
    "    print(x)\n",
    "    ds = dicom.dcmread(x)    \n",
    "    #print(ds.dtype)\n",
    "    metadata = \"PatientID :--{} \\n \\n PatientAge :--{} \\n \\n Gender :--{} \\n \\n ViewPosition :--{} \\n \\n BodyPartExamined :--{} \\n \\n\".format(ds.PatientID,ds.PatientAge,ds.PatientSex,ds.ViewPosition,ds.BodyPartExamined)\n",
    "    print(\"metadata\", metadata)\n",
    "    x = x.replace('.dcm', '.jpg')\n",
    "    cv2.imwrite(x, ds.pixel_array)\n",
    "    \n",
    "\n",
    "    img = Image.open(x)\n",
    "    img = img.resize((150, 150), Image.ANTIALIAS)\n",
    "    \n",
    "    img = ImageTk.PhotoImage(img)    \n",
    "    panel = Label(root, image=img)\n",
    "    panel.image = img\n",
    "    panel.grid(row=2, column=0)\n",
    "    \n",
    "    metadataStr = StringVar()    \n",
    "    metadataStr.set(metadata)   \n",
    "    \n",
    "    metadata = Label(root,textvariable=metadataStr,background=\"#d6d6c2\")    \n",
    "    metadata.grid(row=2, column=1)\n",
    "    \n",
    "    classificationStr = StringVar()\n",
    "#     print(ds.pixel_array)\n",
    "    predict_img = CLAHEprocessing(ds.pixel_array)\n",
    "    \n",
    "#     print(predict_img)\n",
    "    prediction_score = predict_score(predict_img)\n",
    "    print(prediction_score)\n",
    "    affected_or_not = \"NOT Affected\";\n",
    "    fontcolor = \"green\" \n",
    "    if prediction_score > 50:\n",
    "        affected_or_not = \"Affected\"  \n",
    "        fontcolor = \"red\"\n",
    "    else:\n",
    "        prediction_score = 100 - prediction_score \n",
    "    classificationStr.set(\"\")    \n",
    "    classificationStr.set(\"\\n \\n {} ( probability score {} %)\".format(affected_or_not,prediction_score))   \n",
    "    \n",
    "    classificationLabel = Label(root,textvariable=classificationStr,background=\"#d6d6c2\",font=(\"Arial\", 14),fg=fontcolor)    \n",
    "    classificationLabel.grid(row=3, column=1)\n",
    "    \n",
    "   \n",
    "    \n",
    "    \n",
    "#     infectedLabel = StringVar()  \n",
    "    \n",
    "#     metadata = Label(root,textvariable=metadataStr,background=\"#d6d6c2\")    \n",
    "#     metadata.grid(row=2, column=1)\n",
    "    \n",
    "\n",
    "if __name__ == \"__main__\":    \n",
    "    root = Tk()\n",
    "    root.geometry(\"550x550+800+150\")\n",
    "    \n",
    "    root.configure(background=\"#d6d6c2\")\n",
    "    root.title(\"Pneumonia detection\") \n",
    "    root.resizable(width=True, height=True)\n",
    "    \n",
    "    btn = Button(root, text='Upload dcm file', command=lambda:open_img())\n",
    "    btn.grid(row=1, column=0,padx=20)    \n",
    "    root.mainloop()\n"
   ]
  },
  {
   "cell_type": "code",
   "execution_count": null,
   "metadata": {},
   "outputs": [],
   "source": []
  },
  {
   "cell_type": "code",
   "execution_count": null,
   "metadata": {},
   "outputs": [],
   "source": []
  }
 ],
 "metadata": {
  "colab": {
   "authorship_tag": "ABX9TyPFldCJDhFo4PilQ3amxiTM",
   "include_colab_link": true,
   "name": "Userinterface.ipynb",
   "provenance": []
  },
  "kernelspec": {
   "display_name": "Python 3",
   "language": "python",
   "name": "python3"
  },
  "language_info": {
   "codemirror_mode": {
    "name": "ipython",
    "version": 3
   },
   "file_extension": ".py",
   "mimetype": "text/x-python",
   "name": "python",
   "nbconvert_exporter": "python",
   "pygments_lexer": "ipython3",
   "version": "3.8.3"
  },
  "toc": {
   "base_numbering": 1,
   "nav_menu": {},
   "number_sections": false,
   "sideBar": true,
   "skip_h1_title": false,
   "title_cell": "Table of Contents",
   "title_sidebar": "Contents",
   "toc_cell": false,
   "toc_position": {},
   "toc_section_display": true,
   "toc_window_display": false
  }
 },
 "nbformat": 4,
 "nbformat_minor": 1
}
