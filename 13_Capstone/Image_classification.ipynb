{
  "nbformat": 4,
  "nbformat_minor": 0,
  "metadata": {
    "colab": {
      "name": "Image_classification.ipynb",
      "provenance": []
    }
  },
  "cells": [
    {
      "cell_type": "markdown",
      "metadata": {
        "id": "MEbQk-53gUdN"
      },
      "source": [
        "**Problem background:**\n",
        "- Pneumonia is an infection in one or both lungs. Bacteria, viruses, and fungi cause it.\n",
        "-\tInfection causes Inflammation in the air sacs (alveoli)  in your lungs \n",
        "-\tAlveoli,  take up the oxygen you breathe in and keep your body going. Although they’re microscopic, alveoli are the workhorses of your respiratory system.\n",
        "-\t480 million alveoli, located at the end of bronchial tubes. When you breathe in, the alveoli expand to take in oxygen. When you breathe out, the alveoli shrink to expel carbon dioxide.\n",
        "- following test are performed for the diagonis \n",
        "  - Chest X-ray / CT scan\n",
        "  - Blood test\n",
        "  - Bronchoscope \n",
        "\n",
        "  \n"
      ]
    },
    {
      "cell_type": "markdown",
      "metadata": {
        "id": "zVtCBa2RhVUZ"
      },
      "source": [
        "Problem Statement - Pneumonia detection \n",
        "\n",
        "Why ? \n",
        " - Diagnosis is a complex process and requred a highely trained specialist \n",
        " - Cost informed in the diagnosis\n",
        "\n",
        "What ? - Create a ML model which read the CXR images and locate the postion of the inflammation \n",
        "\n",
        "How ? \n",
        "\n",
        " - Approach - 1 \n",
        "  - stacking models - Image classification ( to check is affected by Pneumonia or not ) and If the patient affected by Pneumonia then inputs are passed to second model to locate the inflammation"
      ]
    }
  ]
}