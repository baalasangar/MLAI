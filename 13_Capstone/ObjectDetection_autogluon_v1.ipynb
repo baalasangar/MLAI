{
  "nbformat": 4,
  "nbformat_minor": 0,
  "metadata": {
    "colab": {
      "name": "ObjectDetection_autogluon_v1.ipynb",
      "provenance": [],
      "collapsed_sections": [],
      "toc_visible": true,
      "machine_shape": "hm",
      "mount_file_id": "https://github.com/baalasangar/MLAI/blob/master/13_Capstone/ObjectDetection_autogluon_v1.ipynb",
      "authorship_tag": "ABX9TyN7Vf8dF6AZ7pFPsWxKEcYs",
      "include_colab_link": true
    },
    "kernelspec": {
      "name": "python3",
      "display_name": "Python 3"
    },
    "language_info": {
      "name": "python"
    },
    "accelerator": "GPU",
    "widgets": {
      "application/vnd.jupyter.widget-state+json": {
        "01ba511dbc83409391f7f912f488ac3b": {
          "model_module": "@jupyter-widgets/controls",
          "model_name": "HBoxModel",
          "model_module_version": "1.5.0",
          "state": {
            "_view_name": "HBoxView",
            "_dom_classes": [],
            "_model_name": "HBoxModel",
            "_view_module": "@jupyter-widgets/controls",
            "_model_module_version": "1.5.0",
            "_view_count": null,
            "_view_module_version": "1.5.0",
            "box_style": "",
            "layout": "IPY_MODEL_60ecc8e50a444f1f9fb364eaa1fa1bd3",
            "_model_module": "@jupyter-widgets/controls",
            "children": [
              "IPY_MODEL_8d7ecbbb231e4041b41ea9a529b01d22",
              "IPY_MODEL_2ffac27ad97b4d5fa9e0958568c3dd68",
              "IPY_MODEL_1b8b5c185d55439abdee8dfed9b56062"
            ]
          }
        },
        "60ecc8e50a444f1f9fb364eaa1fa1bd3": {
          "model_module": "@jupyter-widgets/base",
          "model_name": "LayoutModel",
          "model_module_version": "1.2.0",
          "state": {
            "_view_name": "LayoutView",
            "grid_template_rows": null,
            "right": null,
            "justify_content": null,
            "_view_module": "@jupyter-widgets/base",
            "overflow": null,
            "_model_module_version": "1.2.0",
            "_view_count": null,
            "flex_flow": null,
            "width": null,
            "min_width": null,
            "border": null,
            "align_items": null,
            "bottom": null,
            "_model_module": "@jupyter-widgets/base",
            "top": null,
            "grid_column": null,
            "overflow_y": null,
            "overflow_x": null,
            "grid_auto_flow": null,
            "grid_area": null,
            "grid_template_columns": null,
            "flex": null,
            "_model_name": "LayoutModel",
            "justify_items": null,
            "grid_row": null,
            "max_height": null,
            "align_content": null,
            "visibility": null,
            "align_self": null,
            "height": null,
            "min_height": null,
            "padding": null,
            "grid_auto_rows": null,
            "grid_gap": null,
            "max_width": null,
            "order": null,
            "_view_module_version": "1.2.0",
            "grid_template_areas": null,
            "object_position": null,
            "object_fit": null,
            "grid_auto_columns": null,
            "margin": null,
            "display": null,
            "left": null
          }
        },
        "8d7ecbbb231e4041b41ea9a529b01d22": {
          "model_module": "@jupyter-widgets/controls",
          "model_name": "HTMLModel",
          "model_module_version": "1.5.0",
          "state": {
            "_view_name": "HTMLView",
            "style": "IPY_MODEL_17fb426ac70f43c9b28045aaa773099a",
            "_dom_classes": [],
            "description": "",
            "_model_name": "HTMLModel",
            "placeholder": "​",
            "_view_module": "@jupyter-widgets/controls",
            "_model_module_version": "1.5.0",
            "value": " 20%",
            "_view_count": null,
            "_view_module_version": "1.5.0",
            "description_tooltip": null,
            "_model_module": "@jupyter-widgets/controls",
            "layout": "IPY_MODEL_9df27d4e4664499d881147205278027b"
          }
        },
        "2ffac27ad97b4d5fa9e0958568c3dd68": {
          "model_module": "@jupyter-widgets/controls",
          "model_name": "FloatProgressModel",
          "model_module_version": "1.5.0",
          "state": {
            "_view_name": "ProgressView",
            "style": "IPY_MODEL_b0a90fb71bd84560beb3af74443d07c4",
            "_dom_classes": [],
            "description": "",
            "_model_name": "FloatProgressModel",
            "bar_style": "",
            "max": 10,
            "_view_module": "@jupyter-widgets/controls",
            "_model_module_version": "1.5.0",
            "value": 2,
            "_view_count": null,
            "_view_module_version": "1.5.0",
            "orientation": "horizontal",
            "min": 0,
            "description_tooltip": null,
            "_model_module": "@jupyter-widgets/controls",
            "layout": "IPY_MODEL_7c779dc5987a49f0b8187736a4998028"
          }
        },
        "1b8b5c185d55439abdee8dfed9b56062": {
          "model_module": "@jupyter-widgets/controls",
          "model_name": "HTMLModel",
          "model_module_version": "1.5.0",
          "state": {
            "_view_name": "HTMLView",
            "style": "IPY_MODEL_360f7ff5a45748f4b535a805207e2ebf",
            "_dom_classes": [],
            "description": "",
            "_model_name": "HTMLModel",
            "placeholder": "​",
            "_view_module": "@jupyter-widgets/controls",
            "_model_module_version": "1.5.0",
            "value": " 2/10 [1:12:20&lt;4:49:28, 2171.04s/it]",
            "_view_count": null,
            "_view_module_version": "1.5.0",
            "description_tooltip": null,
            "_model_module": "@jupyter-widgets/controls",
            "layout": "IPY_MODEL_9c399ccd1c3c4ed4aecf19db89851827"
          }
        },
        "17fb426ac70f43c9b28045aaa773099a": {
          "model_module": "@jupyter-widgets/controls",
          "model_name": "DescriptionStyleModel",
          "model_module_version": "1.5.0",
          "state": {
            "_view_name": "StyleView",
            "_model_name": "DescriptionStyleModel",
            "description_width": "",
            "_view_module": "@jupyter-widgets/base",
            "_model_module_version": "1.5.0",
            "_view_count": null,
            "_view_module_version": "1.2.0",
            "_model_module": "@jupyter-widgets/controls"
          }
        },
        "9df27d4e4664499d881147205278027b": {
          "model_module": "@jupyter-widgets/base",
          "model_name": "LayoutModel",
          "model_module_version": "1.2.0",
          "state": {
            "_view_name": "LayoutView",
            "grid_template_rows": null,
            "right": null,
            "justify_content": null,
            "_view_module": "@jupyter-widgets/base",
            "overflow": null,
            "_model_module_version": "1.2.0",
            "_view_count": null,
            "flex_flow": null,
            "width": null,
            "min_width": null,
            "border": null,
            "align_items": null,
            "bottom": null,
            "_model_module": "@jupyter-widgets/base",
            "top": null,
            "grid_column": null,
            "overflow_y": null,
            "overflow_x": null,
            "grid_auto_flow": null,
            "grid_area": null,
            "grid_template_columns": null,
            "flex": null,
            "_model_name": "LayoutModel",
            "justify_items": null,
            "grid_row": null,
            "max_height": null,
            "align_content": null,
            "visibility": null,
            "align_self": null,
            "height": null,
            "min_height": null,
            "padding": null,
            "grid_auto_rows": null,
            "grid_gap": null,
            "max_width": null,
            "order": null,
            "_view_module_version": "1.2.0",
            "grid_template_areas": null,
            "object_position": null,
            "object_fit": null,
            "grid_auto_columns": null,
            "margin": null,
            "display": null,
            "left": null
          }
        },
        "b0a90fb71bd84560beb3af74443d07c4": {
          "model_module": "@jupyter-widgets/controls",
          "model_name": "ProgressStyleModel",
          "model_module_version": "1.5.0",
          "state": {
            "_view_name": "StyleView",
            "_model_name": "ProgressStyleModel",
            "description_width": "",
            "_view_module": "@jupyter-widgets/base",
            "_model_module_version": "1.5.0",
            "_view_count": null,
            "_view_module_version": "1.2.0",
            "bar_color": null,
            "_model_module": "@jupyter-widgets/controls"
          }
        },
        "7c779dc5987a49f0b8187736a4998028": {
          "model_module": "@jupyter-widgets/base",
          "model_name": "LayoutModel",
          "model_module_version": "1.2.0",
          "state": {
            "_view_name": "LayoutView",
            "grid_template_rows": null,
            "right": null,
            "justify_content": null,
            "_view_module": "@jupyter-widgets/base",
            "overflow": null,
            "_model_module_version": "1.2.0",
            "_view_count": null,
            "flex_flow": null,
            "width": null,
            "min_width": null,
            "border": null,
            "align_items": null,
            "bottom": null,
            "_model_module": "@jupyter-widgets/base",
            "top": null,
            "grid_column": null,
            "overflow_y": null,
            "overflow_x": null,
            "grid_auto_flow": null,
            "grid_area": null,
            "grid_template_columns": null,
            "flex": null,
            "_model_name": "LayoutModel",
            "justify_items": null,
            "grid_row": null,
            "max_height": null,
            "align_content": null,
            "visibility": null,
            "align_self": null,
            "height": null,
            "min_height": null,
            "padding": null,
            "grid_auto_rows": null,
            "grid_gap": null,
            "max_width": null,
            "order": null,
            "_view_module_version": "1.2.0",
            "grid_template_areas": null,
            "object_position": null,
            "object_fit": null,
            "grid_auto_columns": null,
            "margin": null,
            "display": null,
            "left": null
          }
        },
        "360f7ff5a45748f4b535a805207e2ebf": {
          "model_module": "@jupyter-widgets/controls",
          "model_name": "DescriptionStyleModel",
          "model_module_version": "1.5.0",
          "state": {
            "_view_name": "StyleView",
            "_model_name": "DescriptionStyleModel",
            "description_width": "",
            "_view_module": "@jupyter-widgets/base",
            "_model_module_version": "1.5.0",
            "_view_count": null,
            "_view_module_version": "1.2.0",
            "_model_module": "@jupyter-widgets/controls"
          }
        },
        "9c399ccd1c3c4ed4aecf19db89851827": {
          "model_module": "@jupyter-widgets/base",
          "model_name": "LayoutModel",
          "model_module_version": "1.2.0",
          "state": {
            "_view_name": "LayoutView",
            "grid_template_rows": null,
            "right": null,
            "justify_content": null,
            "_view_module": "@jupyter-widgets/base",
            "overflow": null,
            "_model_module_version": "1.2.0",
            "_view_count": null,
            "flex_flow": null,
            "width": null,
            "min_width": null,
            "border": null,
            "align_items": null,
            "bottom": null,
            "_model_module": "@jupyter-widgets/base",
            "top": null,
            "grid_column": null,
            "overflow_y": null,
            "overflow_x": null,
            "grid_auto_flow": null,
            "grid_area": null,
            "grid_template_columns": null,
            "flex": null,
            "_model_name": "LayoutModel",
            "justify_items": null,
            "grid_row": null,
            "max_height": null,
            "align_content": null,
            "visibility": null,
            "align_self": null,
            "height": null,
            "min_height": null,
            "padding": null,
            "grid_auto_rows": null,
            "grid_gap": null,
            "max_width": null,
            "order": null,
            "_view_module_version": "1.2.0",
            "grid_template_areas": null,
            "object_position": null,
            "object_fit": null,
            "grid_auto_columns": null,
            "margin": null,
            "display": null,
            "left": null
          }
        }
      }
    }
  },
  "cells": [
    {
      "cell_type": "markdown",
      "metadata": {
        "id": "view-in-github",
        "colab_type": "text"
      },
      "source": [
        "<a href=\"https://colab.research.google.com/github/baalasangar/MLAI/blob/master/13_Capstone/ObjectDetection_autogluon_v1.ipynb\" target=\"_parent\"><img src=\"https://colab.research.google.com/assets/colab-badge.svg\" alt=\"Open In Colab\"/></a>"
      ]
    },
    {
      "cell_type": "code",
      "metadata": {
        "id": "SNsjwnTQcyuU"
      },
      "source": [
        "# !pip install pydicom\n",
        "\n",
        "# !pip install -U pip\n",
        "# !pip install -U setuptools wheel\n",
        "# !pip install -U \"mxnet<2.0.0\"\n",
        "# !pip install autogluon"
      ],
      "execution_count": 2,
      "outputs": []
    },
    {
      "cell_type": "code",
      "metadata": {
        "id": "mfqjZ6X95dcE",
        "colab": {
          "base_uri": "https://localhost:8080/"
        },
        "outputId": "b7355a10-44c3-4227-bddf-499cd7a6a840"
      },
      "source": [
        "import pandas as pd \n",
        "import numpy as np\n",
        "import os\n",
        "import pydicom as dicom\n",
        "import cv2\n",
        "import shutil\n",
        "\n",
        "import matplotlib.pyplot as plt\n",
        "from matplotlib.patches import Rectangle\n",
        "\n",
        "import autogluon.core as ag\n",
        "from autogluon.vision import ObjectDetector\n",
        "\n"
      ],
      "execution_count": 3,
      "outputs": [
        {
          "output_type": "stream",
          "name": "stderr",
          "text": [
            "/usr/local/lib/python3.7/dist-packages/gluoncv/__init__.py:40: UserWarning: Both `mxnet==1.8.0` and `torch==1.9.0+cu102` are installed. You might encounter increased GPU memory footprint if both framework are used at the same time.\n",
            "  warnings.warn(f'Both `mxnet=={mx.__version__}` and `torch=={torch.__version__}` are installed. '\n"
          ]
        }
      ]
    },
    {
      "cell_type": "code",
      "metadata": {
        "id": "OVo6fCcPHvCv"
      },
      "source": [
        "# DATA_ROOT_PATH = \"/content/drive/MyDrive/GreatLearning/Captone_project/Pneumonia _DS/\"\n",
        "# META_DATA = os.path.join(DATA_ROOT_PATH,\"stage_2_detailed_class_info.csv/stage_2_detailed_class_info.csv\")\n",
        "# TRAIN_LABEL = os.path.join(DATA_ROOT_PATH,\"stage_2_train_labels.csv/stage_2_train_labels.csv\")\n",
        "# TRAIN_FOLDER = os.path.join(DATA_ROOT_PATH,\"stage_2_train_images\")\n",
        "# TEST_FOLDER = os.path.join(DATA_ROOT_PATH,\"stage_2_test_images\")\n",
        "\n",
        "# AUTOGLUON_PATH = \"/content/drive/MyDrive/GreatLearning/Captone_project/Code/Baala/autogluon\"\n",
        "\n",
        "# DATA_ROOT_PATH,META_DATA, TRAIN_LABEL,TRAIN_FOLDER,TEST_FOLDER\n",
        "\n",
        "# infected_pd = train_data.query(\"Target == 1\").sample(n=9,random_state = 32)\n",
        "# # train_data.fillna(value =0,inplace = True)\n",
        "\n",
        "# # for index, row in infected_pd.iterrows():\n",
        "# #   print(row[\"filepath\"])\n",
        "# #   ds = dicom.dcmread(row[\"filepath\"])\n",
        "# #   cv2.imwrite(os.path.join(AUTOGLUON_PATH, \"{}.jpg\".format(row[\"patientId\"])), ds.pixel_array)\n",
        "# #   textfile = \"{}.txt\".format(row[\"patientId\"])\n",
        "# #   outfile = open(os.path.join(AUTOGLUON_PATH,textfile), 'w') \n",
        "# #   outfile.write(\"{} {} {} {} {}\\n\".format(row[\"Target\"],row[\"x\"],row[\"y\"],row[\"width\"],row[\"height\"])) \n",
        "# #   outfile.close()\n"
      ],
      "execution_count": 4,
      "outputs": []
    },
    {
      "cell_type": "code",
      "metadata": {
        "id": "CX50UDbehqlK"
      },
      "source": [
        "IMG_SOURCE_PATH = \"/content/drive/MyDrive/GreatLearning/Captone_project/Pneumonia _DS/Working/images/\"\n",
        "LABEL_SOURCE_PATH = \"/content/drive/MyDrive/GreatLearning/Captone_project/Pneumonia _DS/Working/labels/\"\n",
        "AUTOGLUON_PATH = \"/content/drive/MyDrive/GreatLearning/Captone_project/Code/Baala/autogluon\""
      ],
      "execution_count": 5,
      "outputs": []
    },
    {
      "cell_type": "code",
      "metadata": {
        "colab": {
          "base_uri": "https://localhost:8080/",
          "height": 528
        },
        "id": "2s-ahmzSH39W",
        "outputId": "241c896a-cf7e-4c8d-9e61-844a53339af9"
      },
      "source": [
        "train_data = pd.read_csv(\"/content/drive/MyDrive/GreatLearning/Captone_project/Code/Baala/final_data.csv\")\n",
        "train_data.head()"
      ],
      "execution_count": 6,
      "outputs": [
        {
          "output_type": "execute_result",
          "data": {
            "text/html": [
              "<div>\n",
              "<style scoped>\n",
              "    .dataframe tbody tr th:only-of-type {\n",
              "        vertical-align: middle;\n",
              "    }\n",
              "\n",
              "    .dataframe tbody tr th {\n",
              "        vertical-align: top;\n",
              "    }\n",
              "\n",
              "    .dataframe thead th {\n",
              "        text-align: right;\n",
              "    }\n",
              "</style>\n",
              "<table border=\"1\" class=\"dataframe\">\n",
              "  <thead>\n",
              "    <tr style=\"text-align: right;\">\n",
              "      <th></th>\n",
              "      <th>Unnamed: 0</th>\n",
              "      <th>patientId</th>\n",
              "      <th>x</th>\n",
              "      <th>y</th>\n",
              "      <th>width</th>\n",
              "      <th>height</th>\n",
              "      <th>Target</th>\n",
              "      <th>class</th>\n",
              "      <th>filepath</th>\n",
              "      <th>Train_or_Test</th>\n",
              "      <th>area</th>\n",
              "      <th>age</th>\n",
              "      <th>sex</th>\n",
              "      <th>ViewPosition</th>\n",
              "      <th>BodyPartExamined</th>\n",
              "    </tr>\n",
              "  </thead>\n",
              "  <tbody>\n",
              "    <tr>\n",
              "      <th>0</th>\n",
              "      <td>0</td>\n",
              "      <td>0004cfab-14fd-4e49-80ba-63a80b6bddd6</td>\n",
              "      <td>NaN</td>\n",
              "      <td>NaN</td>\n",
              "      <td>NaN</td>\n",
              "      <td>NaN</td>\n",
              "      <td>0</td>\n",
              "      <td>No Lung Opacity / Not Normal</td>\n",
              "      <td>/content/drive/MyDrive/GreatLearning/Captone_p...</td>\n",
              "      <td>Train</td>\n",
              "      <td>NaN</td>\n",
              "      <td>51</td>\n",
              "      <td>F</td>\n",
              "      <td>PA</td>\n",
              "      <td>CHEST</td>\n",
              "    </tr>\n",
              "    <tr>\n",
              "      <th>1</th>\n",
              "      <td>1</td>\n",
              "      <td>00313ee0-9eaa-42f4-b0ab-c148ed3241cd</td>\n",
              "      <td>NaN</td>\n",
              "      <td>NaN</td>\n",
              "      <td>NaN</td>\n",
              "      <td>NaN</td>\n",
              "      <td>0</td>\n",
              "      <td>No Lung Opacity / Not Normal</td>\n",
              "      <td>/content/drive/MyDrive/GreatLearning/Captone_p...</td>\n",
              "      <td>Train</td>\n",
              "      <td>NaN</td>\n",
              "      <td>48</td>\n",
              "      <td>F</td>\n",
              "      <td>PA</td>\n",
              "      <td>CHEST</td>\n",
              "    </tr>\n",
              "    <tr>\n",
              "      <th>2</th>\n",
              "      <td>2</td>\n",
              "      <td>00322d4d-1c29-4943-afc9-b6754be640eb</td>\n",
              "      <td>NaN</td>\n",
              "      <td>NaN</td>\n",
              "      <td>NaN</td>\n",
              "      <td>NaN</td>\n",
              "      <td>0</td>\n",
              "      <td>No Lung Opacity / Not Normal</td>\n",
              "      <td>/content/drive/MyDrive/GreatLearning/Captone_p...</td>\n",
              "      <td>Train</td>\n",
              "      <td>NaN</td>\n",
              "      <td>19</td>\n",
              "      <td>M</td>\n",
              "      <td>AP</td>\n",
              "      <td>CHEST</td>\n",
              "    </tr>\n",
              "    <tr>\n",
              "      <th>3</th>\n",
              "      <td>3</td>\n",
              "      <td>003d8fa0-6bf1-40ed-b54c-ac657f8495c5</td>\n",
              "      <td>NaN</td>\n",
              "      <td>NaN</td>\n",
              "      <td>NaN</td>\n",
              "      <td>NaN</td>\n",
              "      <td>0</td>\n",
              "      <td>Normal</td>\n",
              "      <td>/content/drive/MyDrive/GreatLearning/Captone_p...</td>\n",
              "      <td>Train</td>\n",
              "      <td>NaN</td>\n",
              "      <td>28</td>\n",
              "      <td>M</td>\n",
              "      <td>PA</td>\n",
              "      <td>CHEST</td>\n",
              "    </tr>\n",
              "    <tr>\n",
              "      <th>4</th>\n",
              "      <td>4</td>\n",
              "      <td>00436515-870c-4b36-a041-de91049b9ab4</td>\n",
              "      <td>264.0</td>\n",
              "      <td>152.0</td>\n",
              "      <td>213.0</td>\n",
              "      <td>379.0</td>\n",
              "      <td>1</td>\n",
              "      <td>Lung Opacity</td>\n",
              "      <td>/content/drive/MyDrive/GreatLearning/Captone_p...</td>\n",
              "      <td>Train</td>\n",
              "      <td>80727.0</td>\n",
              "      <td>32</td>\n",
              "      <td>F</td>\n",
              "      <td>AP</td>\n",
              "      <td>CHEST</td>\n",
              "    </tr>\n",
              "  </tbody>\n",
              "</table>\n",
              "</div>"
            ],
            "text/plain": [
              "   Unnamed: 0  ... BodyPartExamined\n",
              "0           0  ...            CHEST\n",
              "1           1  ...            CHEST\n",
              "2           2  ...            CHEST\n",
              "3           3  ...            CHEST\n",
              "4           4  ...            CHEST\n",
              "\n",
              "[5 rows x 15 columns]"
            ]
          },
          "metadata": {},
          "execution_count": 6
        }
      ]
    },
    {
      "cell_type": "code",
      "metadata": {
        "id": "JfXoPvr1IkPx"
      },
      "source": [
        "# infected_pd = train_data.query(\"Target == 1\").sample(n=300,random_state = 32)[\"patientId\"]\n",
        "# for id in list(infected_pd):\n",
        "#   img_name = \"{}.{}\".format(id,\"jpg\")\n",
        "#   txt_name = \"{}.{}\".format(id,\"txt\")\n",
        "#   shutil.copyfile(os.path.join(IMG_SOURCE_PATH,img_name),os.path.join(AUTOGLUON_PATH,\"affected\",img_name))\n",
        "#   shutil.copyfile(os.path.join(LABEL_SOURCE_PATH,txt_name),os.path.join(AUTOGLUON_PATH,\"affected\",txt_name))"
      ],
      "execution_count": 7,
      "outputs": []
    },
    {
      "cell_type": "code",
      "metadata": {
        "id": "8bcBpKrOIiJk"
      },
      "source": [
        "# shutil.make_archive(os.path.join(AUTOGLUON_PATH,\"affected\"),\"zip\",os.path.join(AUTOGLUON_PATH,\"affected\"))"
      ],
      "execution_count": 8,
      "outputs": []
    },
    {
      "cell_type": "code",
      "metadata": {
        "id": "Lt4NtuN5On3f"
      },
      "source": [
        "# shutil.unpack_archive(os.path.join(AUTOGLUON_PATH,\"autogluon.zip\"), AUTOGLUON_PATH)\n"
      ],
      "execution_count": 9,
      "outputs": []
    },
    {
      "cell_type": "code",
      "metadata": {
        "id": "_tBZvGL3a5_i"
      },
      "source": [
        "# not_infected_pd = train_data.query(\"Target == 0\").sample(n=100,random_state = 32)[\"patientId\"]\n",
        "# for id in list(infected_pd):\n",
        "#   img_name = \"{}.{}\".format(id,\"jpg\")\n",
        "#   txt_name = \"{}.{}\".format(id,\"txt\")\n",
        "#   shutil.copyfile(os.path.join(IMG_SOURCE_PATH,img_name),os.path.join(AUTOGLUON_PATH,\"not_affected\",img_name))\n"
      ],
      "execution_count": 10,
      "outputs": []
    },
    {
      "cell_type": "code",
      "metadata": {
        "colab": {
          "base_uri": "https://localhost:8080/",
          "height": 200
        },
        "id": "YEZyIb-5zAEc",
        "outputId": "251f6c7a-435b-4938-ca9a-c5cc780e5ebe"
      },
      "source": [
        "dataset_train = ObjectDetector.Dataset.from_voc(\"/content/drive/MyDrive/GreatLearning/Captone_project/Code/Baala/autogluon/pheno_VOC\", splits='train')\n",
        "dataset_train.head()"
      ],
      "execution_count": 11,
      "outputs": [
        {
          "output_type": "execute_result",
          "data": {
            "text/html": [
              "<div>\n",
              "<style scoped>\n",
              "    .dataframe tbody tr th:only-of-type {\n",
              "        vertical-align: middle;\n",
              "    }\n",
              "\n",
              "    .dataframe tbody tr th {\n",
              "        vertical-align: top;\n",
              "    }\n",
              "\n",
              "    .dataframe thead th {\n",
              "        text-align: right;\n",
              "    }\n",
              "</style>\n",
              "<table border=\"1\" class=\"dataframe\">\n",
              "  <thead>\n",
              "    <tr style=\"text-align: right;\">\n",
              "      <th></th>\n",
              "      <th>image</th>\n",
              "      <th>rois</th>\n",
              "      <th>image_attr</th>\n",
              "    </tr>\n",
              "  </thead>\n",
              "  <tbody>\n",
              "    <tr>\n",
              "      <th>0</th>\n",
              "      <td>/content/drive/MyDrive/GreatLearning/Captone_p...</td>\n",
              "      <td>[{'class': '0', 'xmin': 0.1796875, 'ymin': 0.1...</td>\n",
              "      <td>{'width': 128.0, 'height': 128.0}</td>\n",
              "    </tr>\n",
              "    <tr>\n",
              "      <th>1</th>\n",
              "      <td>/content/drive/MyDrive/GreatLearning/Captone_p...</td>\n",
              "      <td>[{'class': '0', 'xmin': 0.1328125, 'ymin': 0.1...</td>\n",
              "      <td>{'width': 128.0, 'height': 128.0}</td>\n",
              "    </tr>\n",
              "    <tr>\n",
              "      <th>2</th>\n",
              "      <td>/content/drive/MyDrive/GreatLearning/Captone_p...</td>\n",
              "      <td>[{'class': '0', 'xmin': 0.3046875, 'ymin': 0.2...</td>\n",
              "      <td>{'width': 128.0, 'height': 128.0}</td>\n",
              "    </tr>\n",
              "    <tr>\n",
              "      <th>3</th>\n",
              "      <td>/content/drive/MyDrive/GreatLearning/Captone_p...</td>\n",
              "      <td>[{'class': '0', 'xmin': 0.46875, 'ymin': 0.320...</td>\n",
              "      <td>{'width': 128.0, 'height': 128.0}</td>\n",
              "    </tr>\n",
              "    <tr>\n",
              "      <th>4</th>\n",
              "      <td>/content/drive/MyDrive/GreatLearning/Captone_p...</td>\n",
              "      <td>[{'class': '0', 'xmin': 0.5546875, 'ymin': 0.3...</td>\n",
              "      <td>{'width': 128.0, 'height': 128.0}</td>\n",
              "    </tr>\n",
              "  </tbody>\n",
              "</table>\n",
              "</div>"
            ],
            "text/plain": [
              "                                               image  ...                         image_attr\n",
              "0  /content/drive/MyDrive/GreatLearning/Captone_p...  ...  {'width': 128.0, 'height': 128.0}\n",
              "1  /content/drive/MyDrive/GreatLearning/Captone_p...  ...  {'width': 128.0, 'height': 128.0}\n",
              "2  /content/drive/MyDrive/GreatLearning/Captone_p...  ...  {'width': 128.0, 'height': 128.0}\n",
              "3  /content/drive/MyDrive/GreatLearning/Captone_p...  ...  {'width': 128.0, 'height': 128.0}\n",
              "4  /content/drive/MyDrive/GreatLearning/Captone_p...  ...  {'width': 128.0, 'height': 128.0}\n",
              "\n",
              "[5 rows x 3 columns]"
            ]
          },
          "metadata": {},
          "execution_count": 11
        }
      ]
    },
    {
      "cell_type": "code",
      "metadata": {
        "id": "MpLsN779uLeW",
        "outputId": "6857254a-c72b-41ed-96fc-2a70ee60e9ea",
        "colab": {
          "base_uri": "https://localhost:8080/"
        }
      },
      "source": [
        "dataset_train.shape"
      ],
      "execution_count": 12,
      "outputs": [
        {
          "output_type": "execute_result",
          "data": {
            "text/plain": [
              "(170, 3)"
            ]
          },
          "metadata": {},
          "execution_count": 12
        }
      ]
    },
    {
      "cell_type": "code",
      "metadata": {
        "colab": {
          "base_uri": "https://localhost:8080/",
          "height": 200
        },
        "id": "PqpwacijPJ04",
        "outputId": "32024954-d2a0-44b9-e226-c89beaba7800"
      },
      "source": [
        "dataset_test = ObjectDetector.Dataset.from_voc(\"/content/drive/MyDrive/GreatLearning/Captone_project/Code/Baala/autogluon/pheno_VOC\", splits='test')\n",
        "dataset_test.head()"
      ],
      "execution_count": 13,
      "outputs": [
        {
          "output_type": "execute_result",
          "data": {
            "text/html": [
              "<div>\n",
              "<style scoped>\n",
              "    .dataframe tbody tr th:only-of-type {\n",
              "        vertical-align: middle;\n",
              "    }\n",
              "\n",
              "    .dataframe tbody tr th {\n",
              "        vertical-align: top;\n",
              "    }\n",
              "\n",
              "    .dataframe thead th {\n",
              "        text-align: right;\n",
              "    }\n",
              "</style>\n",
              "<table border=\"1\" class=\"dataframe\">\n",
              "  <thead>\n",
              "    <tr style=\"text-align: right;\">\n",
              "      <th></th>\n",
              "      <th>image</th>\n",
              "      <th>rois</th>\n",
              "      <th>image_attr</th>\n",
              "    </tr>\n",
              "  </thead>\n",
              "  <tbody>\n",
              "    <tr>\n",
              "      <th>0</th>\n",
              "      <td>/content/drive/MyDrive/GreatLearning/Captone_p...</td>\n",
              "      <td>[{'class': '0', 'xmin': 0.2734375, 'ymin': 0.5...</td>\n",
              "      <td>{'width': 128.0, 'height': 128.0}</td>\n",
              "    </tr>\n",
              "    <tr>\n",
              "      <th>1</th>\n",
              "      <td>/content/drive/MyDrive/GreatLearning/Captone_p...</td>\n",
              "      <td>[{'class': '0', 'xmin': 0.34375, 'ymin': 0.640...</td>\n",
              "      <td>{'width': 128.0, 'height': 128.0}</td>\n",
              "    </tr>\n",
              "    <tr>\n",
              "      <th>2</th>\n",
              "      <td>/content/drive/MyDrive/GreatLearning/Captone_p...</td>\n",
              "      <td>[{'class': '0', 'xmin': 0.5546875, 'ymin': 0.2...</td>\n",
              "      <td>{'width': 128.0, 'height': 128.0}</td>\n",
              "    </tr>\n",
              "    <tr>\n",
              "      <th>3</th>\n",
              "      <td>/content/drive/MyDrive/GreatLearning/Captone_p...</td>\n",
              "      <td>[{'class': '0', 'xmin': 0.5625, 'ymin': 0.25, ...</td>\n",
              "      <td>{'width': 128.0, 'height': 128.0}</td>\n",
              "    </tr>\n",
              "    <tr>\n",
              "      <th>4</th>\n",
              "      <td>/content/drive/MyDrive/GreatLearning/Captone_p...</td>\n",
              "      <td>[{'class': '0', 'xmin': 0.1328125, 'ymin': 0.2...</td>\n",
              "      <td>{'width': 128.0, 'height': 128.0}</td>\n",
              "    </tr>\n",
              "  </tbody>\n",
              "</table>\n",
              "</div>"
            ],
            "text/plain": [
              "                                               image  ...                         image_attr\n",
              "0  /content/drive/MyDrive/GreatLearning/Captone_p...  ...  {'width': 128.0, 'height': 128.0}\n",
              "1  /content/drive/MyDrive/GreatLearning/Captone_p...  ...  {'width': 128.0, 'height': 128.0}\n",
              "2  /content/drive/MyDrive/GreatLearning/Captone_p...  ...  {'width': 128.0, 'height': 128.0}\n",
              "3  /content/drive/MyDrive/GreatLearning/Captone_p...  ...  {'width': 128.0, 'height': 128.0}\n",
              "4  /content/drive/MyDrive/GreatLearning/Captone_p...  ...  {'width': 128.0, 'height': 128.0}\n",
              "\n",
              "[5 rows x 3 columns]"
            ]
          },
          "metadata": {},
          "execution_count": 13
        }
      ]
    },
    {
      "cell_type": "code",
      "metadata": {
        "id": "Ip9gv7ZbuOb2",
        "outputId": "32e8eecf-94db-4789-f5b8-f4ded89c6e15",
        "colab": {
          "base_uri": "https://localhost:8080/"
        }
      },
      "source": [
        "dataset_test.shape"
      ],
      "execution_count": 14,
      "outputs": [
        {
          "output_type": "execute_result",
          "data": {
            "text/plain": [
              "(20, 3)"
            ]
          },
          "metadata": {},
          "execution_count": 14
        }
      ]
    },
    {
      "cell_type": "code",
      "metadata": {
        "colab": {
          "base_uri": "https://localhost:8080/",
          "height": 1000,
          "referenced_widgets": [
            "01ba511dbc83409391f7f912f488ac3b",
            "60ecc8e50a444f1f9fb364eaa1fa1bd3",
            "8d7ecbbb231e4041b41ea9a529b01d22",
            "2ffac27ad97b4d5fa9e0958568c3dd68",
            "1b8b5c185d55439abdee8dfed9b56062",
            "17fb426ac70f43c9b28045aaa773099a",
            "9df27d4e4664499d881147205278027b",
            "b0a90fb71bd84560beb3af74443d07c4",
            "7c779dc5987a49f0b8187736a4998028",
            "360f7ff5a45748f4b535a805207e2ebf",
            "9c399ccd1c3c4ed4aecf19db89851827"
          ]
        },
        "id": "4NZEZMm9R_F2",
        "outputId": "aa4fa924-d154-4069-d8f9-b27950f39fb0"
      },
      "source": [
        "time_limit = 2*3600 # 4 hours\n",
        "\n",
        "hyperparameters= { \n",
        "    'transfer': ag.Categorical('ssd_512_resnet50_v1_coco',\n",
        "                                                'yolo3_darknet53_coco',\n",
        "                                                'center_net_resnet50_v1b_coco'),\n",
        "                        'learning_rate': ag.Real(1e-4, 1e-2, log=True),\n",
        "                        'batch_size': ag.Categorical(16, 32),\n",
        "                        'epochs': 10,\n",
        "                        'early_stop_patience': 2\n",
        "                        }\n",
        "hyperparameter_tune_kwargs =  {\n",
        "                        'num_trials': 3,\n",
        "                        'searcher': 'random',\n",
        "                    }                       \n",
        "\n",
        "detector = ObjectDetector()\n",
        "detector.fit(dataset_train,\n",
        "             hyperparameters=hyperparameters,\n",
        "             time_limit=time_limit,\n",
        "             hyperparameter_tune_kwargs=hyperparameter_tune_kwargs,\n",
        "             ngpus_per_trial=1)"
      ],
      "execution_count": null,
      "outputs": [
        {
          "output_type": "stream",
          "name": "stderr",
          "text": [
            "Randomly split train_data into train[155]/validation[15] splits.\n",
            "Starting HPO experiments\n"
          ]
        },
        {
          "output_type": "display_data",
          "data": {
            "application/vnd.jupyter.widget-view+json": {
              "model_id": "01ba511dbc83409391f7f912f488ac3b",
              "version_minor": 0,
              "version_major": 2
            },
            "text/plain": [
              "  0%|          | 0/10 [00:00<?, ?it/s]"
            ]
          },
          "metadata": {}
        },
        {
          "output_type": "stream",
          "name": "stderr",
          "text": [
            "modified configs(<old> != <new>): {\n",
            "root.dataset         voc_tiny != auto\n",
            "root.train.early_stop_max_value 1.0 != inf\n",
            "root.train.early_stop_patience -1 != 2\n",
            "root.train.seed      233 != 373\n",
            "root.train.early_stop_baseline 0.0 != -inf\n",
            "root.train.epochs    20 != 10\n",
            "root.ssd.base_network vgg16_atrous != resnet50_v1\n",
            "root.ssd.data_shape  300 != 512\n",
            "root.gpus            (0, 1, 2, 3) != (0,)\n",
            "root.dataset_root    ~/.mxnet/datasets/ != auto\n",
            "}\n",
            "Saved config to /content/486b46ff/.trial_0/config.yaml\n",
            "No gpu detected, fallback to cpu. You can ignore this warning if this is intended.\n",
            "Using transfer learning from ssd_512_resnet50_v1_coco, the other network parameters are ignored.\n",
            "Start training from [Epoch 0]\n",
            "[Epoch 0] Training cost: 187.858969, CrossEntropy=4.427577, SmoothL1=2.545397\n",
            "[Epoch 0] Validation: \n",
            "0=0.004144101184191106\n",
            "mAP=0.004144101184191106\n",
            "[Epoch 0] Current best map: 0.004144 vs previous 0.000000, saved to /content/486b46ff/.trial_0/best_checkpoint.pkl\n",
            "[Epoch 1] Training cost: 208.356097, CrossEntropy=2.800549, SmoothL1=2.155544\n",
            "[Epoch 1] Validation: \n",
            "0=0.047503780924954817\n",
            "mAP=0.047503780924954817\n",
            "[Epoch 1] Current best map: 0.047504 vs previous 0.004144, saved to /content/486b46ff/.trial_0/best_checkpoint.pkl\n",
            "[Epoch 2] Training cost: 206.244117, CrossEntropy=2.590803, SmoothL1=1.977946\n",
            "[Epoch 2] Validation: \n",
            "0=0.14578668776804574\n",
            "mAP=0.14578668776804574\n",
            "[Epoch 2] Current best map: 0.145787 vs previous 0.047504, saved to /content/486b46ff/.trial_0/best_checkpoint.pkl\n",
            "[Epoch 3] Training cost: 185.949560, CrossEntropy=2.515083, SmoothL1=1.893310\n",
            "[Epoch 3] Validation: \n",
            "0=0.16448340267853673\n",
            "mAP=0.16448340267853673\n",
            "[Epoch 3] Current best map: 0.164483 vs previous 0.145787, saved to /content/486b46ff/.trial_0/best_checkpoint.pkl\n",
            "[Epoch 4] Training cost: 205.135949, CrossEntropy=2.424743, SmoothL1=1.718808\n",
            "[Epoch 4] Validation: \n",
            "0=0.11903305200102761\n",
            "mAP=0.11903305200102761\n",
            "[Epoch 5] Training cost: 205.766258, CrossEntropy=2.400814, SmoothL1=1.798105\n",
            "[Epoch 5] Validation: \n",
            "0=0.19130656236139823\n",
            "mAP=0.19130656236139823\n",
            "[Epoch 5] Current best map: 0.191307 vs previous 0.164483, saved to /content/486b46ff/.trial_0/best_checkpoint.pkl\n",
            "[Epoch 6] Training cost: 185.095766, CrossEntropy=2.429809, SmoothL1=1.780136\n",
            "[Epoch 6] Validation: \n",
            "0=0.26412325859673685\n",
            "mAP=0.26412325859673685\n",
            "[Epoch 6] Current best map: 0.264123 vs previous 0.191307, saved to /content/486b46ff/.trial_0/best_checkpoint.pkl\n",
            "[Epoch 7] Training cost: 208.426200, CrossEntropy=2.409450, SmoothL1=1.732224\n",
            "[Epoch 7] Validation: \n",
            "0=0.33377885409644065\n",
            "mAP=0.33377885409644065\n",
            "[Epoch 7] Current best map: 0.333779 vs previous 0.264123, saved to /content/486b46ff/.trial_0/best_checkpoint.pkl\n",
            "[Epoch 8] Training cost: 206.173496, CrossEntropy=2.372551, SmoothL1=1.697217\n",
            "[Epoch 8] Validation: \n",
            "0=0.30206544094996446\n",
            "mAP=0.30206544094996446\n",
            "[Epoch 9] Training cost: 187.718100, CrossEntropy=2.366280, SmoothL1=1.688626\n",
            "[Epoch 9] Validation: \n",
            "0=0.3405711651591182\n",
            "mAP=0.3405711651591182\n",
            "[Epoch 9] Current best map: 0.340571 vs previous 0.333779, saved to /content/486b46ff/.trial_0/best_checkpoint.pkl\n",
            "Applying the state from the best checkpoint...\n",
            "modified configs(<old> != <new>): {\n",
            "root.dataset         voc_tiny != auto\n",
            "root.train.early_stop_max_value 1.0 != inf\n",
            "root.train.early_stop_patience -1 != 2\n",
            "root.train.seed      233 != 373\n",
            "root.train.early_stop_baseline 0.0 != -inf\n",
            "root.train.epochs    20 != 10\n",
            "root.ssd.base_network vgg16_atrous != resnet50_v1\n",
            "root.ssd.data_shape  300 != 512\n",
            "root.gpus            (0, 1, 2, 3) != (0,)\n",
            "root.dataset_root    ~/.mxnet/datasets/ != auto\n",
            "}\n",
            "Saved config to /content/486b46ff/.trial_1/config.yaml\n",
            "No gpu detected, fallback to cpu. You can ignore this warning if this is intended.\n",
            "Using transfer learning from ssd_512_resnet50_v1_coco, the other network parameters are ignored.\n",
            "Start training from [Epoch 0]\n",
            "[Epoch 0] Training cost: 197.736629, CrossEntropy=4.691368, SmoothL1=2.554063\n",
            "[Epoch 0] Validation: \n",
            "0=0.003614938157164206\n",
            "mAP=0.003614938157164206\n",
            "[Epoch 0] Current best map: 0.003615 vs previous 0.000000, saved to /content/486b46ff/.trial_1/best_checkpoint.pkl\n",
            "[Epoch 1] Training cost: 210.926365, CrossEntropy=2.820834, SmoothL1=2.288259\n",
            "[Epoch 1] Validation: \n",
            "0=0.048613407635468106\n",
            "mAP=0.048613407635468106\n",
            "[Epoch 1] Current best map: 0.048613 vs previous 0.003615, saved to /content/486b46ff/.trial_1/best_checkpoint.pkl\n",
            "[Epoch 2] Training cost: 207.507935, CrossEntropy=2.565734, SmoothL1=1.982622\n",
            "[Epoch 2] Validation: \n",
            "0=0.1482067310067421\n",
            "mAP=0.1482067310067421\n",
            "[Epoch 2] Current best map: 0.148207 vs previous 0.048613, saved to /content/486b46ff/.trial_1/best_checkpoint.pkl\n",
            "[Epoch 3] Training cost: 185.943069, CrossEntropy=2.473689, SmoothL1=1.864145\n",
            "[Epoch 3] Validation: \n",
            "0=0.19536672497895072\n",
            "mAP=0.19536672497895072\n",
            "[Epoch 3] Current best map: 0.195367 vs previous 0.148207, saved to /content/486b46ff/.trial_1/best_checkpoint.pkl\n",
            "[Epoch 4] Training cost: 206.824548, CrossEntropy=2.436291, SmoothL1=1.891759\n",
            "[Epoch 4] Validation: \n",
            "0=0.2337784552502851\n",
            "mAP=0.2337784552502851\n",
            "[Epoch 4] Current best map: 0.233778 vs previous 0.195367, saved to /content/486b46ff/.trial_1/best_checkpoint.pkl\n",
            "[Epoch 5] Training cost: 205.593306, CrossEntropy=2.421703, SmoothL1=1.833637\n",
            "[Epoch 5] Validation: \n",
            "0=0.24325662333217363\n",
            "mAP=0.24325662333217363\n",
            "[Epoch 5] Current best map: 0.243257 vs previous 0.233778, saved to /content/486b46ff/.trial_1/best_checkpoint.pkl\n",
            "[Epoch 6] Training cost: 186.946025, CrossEntropy=2.382167, SmoothL1=1.637138\n",
            "[Epoch 6] Validation: \n",
            "0=0.33415853962849335\n",
            "mAP=0.33415853962849335\n",
            "[Epoch 6] Current best map: 0.334159 vs previous 0.243257, saved to /content/486b46ff/.trial_1/best_checkpoint.pkl\n",
            "[Epoch 7] Training cost: 204.860318, CrossEntropy=2.367027, SmoothL1=1.572454\n",
            "[Epoch 7] Validation: \n",
            "0=0.4043134836739488\n",
            "mAP=0.4043134836739488\n",
            "[Epoch 7] Current best map: 0.404313 vs previous 0.334159, saved to /content/486b46ff/.trial_1/best_checkpoint.pkl\n",
            "[Epoch 8] Training cost: 207.169762, CrossEntropy=2.363160, SmoothL1=1.607679\n",
            "[Epoch 8] Validation: \n",
            "0=0.19825752064382757\n",
            "mAP=0.19825752064382757\n",
            "[Epoch 9] Training cost: 184.371738, CrossEntropy=2.363573, SmoothL1=1.661691\n",
            "[Epoch 9] Validation: \n",
            "0=0.3176416371976627\n",
            "mAP=0.3176416371976627\n",
            "Applying the state from the best checkpoint...\n",
            "modified configs(<old> != <new>): {\n",
            "root.dataset         voc_tiny != auto\n",
            "root.train.batch_size 16 != 32\n",
            "root.train.early_stop_max_value 1.0 != inf\n",
            "root.train.epochs    20 != 10\n",
            "root.train.seed      233 != 373\n",
            "root.train.early_stop_baseline 0.0 != -inf\n",
            "root.train.lr        0.001 != 0.005\n",
            "root.train.early_stop_patience -1 != 2\n",
            "root.valid.batch_size 16 != 32\n",
            "root.gpus            (0, 1, 2, 3) != (0,)\n",
            "root.dataset_root    ~/.mxnet/datasets/ != auto\n",
            "}\n",
            "Saved config to /content/486b46ff/.trial_2/config.yaml\n",
            "No gpu detected, fallback to cpu. You can ignore this warning if this is intended.\n",
            "Using transfer learning from yolo3_darknet53_coco, the other network parameters are ignored.\n",
            "Start training from [Epoch 0]\n",
            "[Epoch 0] Training cost: 154.182, ObjLoss=1308.550, BoxCenterLoss=4.742, BoxScaleLoss=2.711, ClassLoss=1.033\n",
            "[Epoch 0] Validation: \n",
            "0=0.0\n",
            "mAP=0.0\n"
          ]
        }
      ]
    },
    {
      "cell_type": "code",
      "metadata": {
        "id": "Z6IHubPnttom",
        "outputId": "436c72b4-8336-4cd2-aec8-999d2e4e1cbd",
        "colab": {
          "base_uri": "https://localhost:8080/",
          "height": 223
        }
      },
      "source": [
        "train_map = detector.evaluate(dataset_train)\n",
        "print(\"mAP on train dataset: {}\".format(train_map[1][1]))\n",
        "\n",
        "\n",
        "test_map = detector.evaluate(dataset_test)\n",
        "print(\"mAP on test dataset: {}\".format(test_map[1][1]))\n",
        "\n",
        "# visualization\n",
        "result = detector.predict(dataset_test.iloc[0]['image'])\n",
        "print('Prediction result:', result)"
      ],
      "execution_count": 1,
      "outputs": [
        {
          "output_type": "error",
          "ename": "NameError",
          "evalue": "ignored",
          "traceback": [
            "\u001b[0;31m---------------------------------------------------------------------------\u001b[0m",
            "\u001b[0;31mNameError\u001b[0m                                 Traceback (most recent call last)",
            "\u001b[0;32m<ipython-input-1-1c8a277d8031>\u001b[0m in \u001b[0;36m<module>\u001b[0;34m()\u001b[0m\n\u001b[0;32m----> 1\u001b[0;31m \u001b[0mtrain_map\u001b[0m \u001b[0;34m=\u001b[0m \u001b[0mdetector\u001b[0m\u001b[0;34m.\u001b[0m\u001b[0mevaluate\u001b[0m\u001b[0;34m(\u001b[0m\u001b[0mdataset_train\u001b[0m\u001b[0;34m)\u001b[0m\u001b[0;34m\u001b[0m\u001b[0;34m\u001b[0m\u001b[0m\n\u001b[0m\u001b[1;32m      2\u001b[0m \u001b[0mprint\u001b[0m\u001b[0;34m(\u001b[0m\u001b[0;34m\"mAP on train dataset: {}\"\u001b[0m\u001b[0;34m.\u001b[0m\u001b[0mformat\u001b[0m\u001b[0;34m(\u001b[0m\u001b[0mtrain_map\u001b[0m\u001b[0;34m[\u001b[0m\u001b[0;36m1\u001b[0m\u001b[0;34m]\u001b[0m\u001b[0;34m[\u001b[0m\u001b[0;36m1\u001b[0m\u001b[0;34m]\u001b[0m\u001b[0;34m)\u001b[0m\u001b[0;34m)\u001b[0m\u001b[0;34m\u001b[0m\u001b[0;34m\u001b[0m\u001b[0m\n\u001b[1;32m      3\u001b[0m \u001b[0;34m\u001b[0m\u001b[0m\n\u001b[1;32m      4\u001b[0m \u001b[0;34m\u001b[0m\u001b[0m\n\u001b[1;32m      5\u001b[0m \u001b[0mtest_map\u001b[0m \u001b[0;34m=\u001b[0m \u001b[0mdetector\u001b[0m\u001b[0;34m.\u001b[0m\u001b[0mevaluate\u001b[0m\u001b[0;34m(\u001b[0m\u001b[0mdataset_test\u001b[0m\u001b[0;34m)\u001b[0m\u001b[0;34m\u001b[0m\u001b[0;34m\u001b[0m\u001b[0m\n",
            "\u001b[0;31mNameError\u001b[0m: name 'detector' is not defined"
          ]
        }
      ]
    },
    {
      "cell_type": "code",
      "metadata": {
        "id": "4kVj8zBt-40r"
      },
      "source": [
        "savefile = '/content/drive/MyDrive/GreatLearning/Captone_project/Code/Baala/model/detector_autog_v1.pkl'\n",
        "#detector.save(savefile)\n",
        "new_detector = ObjectDetector.load(savefile)\n",
        "\n",
        "result = new_detector.predict(dataset_test.iloc[0]['image'])\n",
        "print('Prediction result:', result)\n",
        "\n",
        "test_map = new_detector.evaluate(dataset_test)\n",
        "print(\"mAP on test dataset: {}\".format(test_map[1][1]))\n"
      ],
      "execution_count": null,
      "outputs": []
    },
    {
      "cell_type": "code",
      "metadata": {
        "id": "zBqe40Nd3sZQ"
      },
      "source": [
        "# imgcv = cv2.imread(dataset_train.iloc[0][\"image\"])\n",
        "\n",
        "# cv2.rectangle(imgcv, (int(0.2403846153846154 * 416),\n",
        "#                       int(0.6995192307692307*416)), \n",
        "#               (int(0.4110576923076923*416), int(0.7740384615384616*416)), (255,0,0), 2)\n",
        "\n",
        "# cv2.rectangle(imgcv, (int(0.10230743885040283 * 416),\n",
        "#                       int(0*416)), \n",
        "#               (int(0.8006809949874878*416), int(1*416)), (255,0,255), 2)\n",
        "# plt.imshow(imgcv,\"bone\") \n",
        "# plt.show()\n"
      ],
      "execution_count": null,
      "outputs": []
    }
  ]
}