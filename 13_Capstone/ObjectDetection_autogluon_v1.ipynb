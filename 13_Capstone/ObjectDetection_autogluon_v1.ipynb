{
  "nbformat": 4,
  "nbformat_minor": 0,
  "metadata": {
    "colab": {
      "name": "ObjectDetection_autogluon_v1.ipynb",
      "provenance": [],
      "collapsed_sections": [],
      "machine_shape": "hm",
      "mount_file_id": "https://github.com/baalasangar/MLAI/blob/master/13_Capstone/ObjectDetection_autogluon_v1.ipynb",
      "authorship_tag": "ABX9TyMy9+DO/wO4JrCDwRNSApGw",
      "include_colab_link": true
    },
    "kernelspec": {
      "name": "python3",
      "display_name": "Python 3"
    },
    "language_info": {
      "name": "python"
    },
    "accelerator": "GPU",
    "widgets": {
      "application/vnd.jupyter.widget-state+json": {
        "f17c0e60813a41f29df43bc8ea42f3e7": {
          "model_module": "@jupyter-widgets/controls",
          "model_name": "HBoxModel",
          "model_module_version": "1.5.0",
          "state": {
            "_view_name": "HBoxView",
            "_dom_classes": [],
            "_model_name": "HBoxModel",
            "_view_module": "@jupyter-widgets/controls",
            "_model_module_version": "1.5.0",
            "_view_count": null,
            "_view_module_version": "1.5.0",
            "box_style": "",
            "layout": "IPY_MODEL_7564455759d64de4860509088df009cc",
            "_model_module": "@jupyter-widgets/controls",
            "children": [
              "IPY_MODEL_7081c75caa1945d4bc14300182280424",
              "IPY_MODEL_bc6338d3d2be49fab1febfeb3c7bbb82",
              "IPY_MODEL_a7203eb88c5046b49c19be33cf4f3317"
            ]
          }
        },
        "7564455759d64de4860509088df009cc": {
          "model_module": "@jupyter-widgets/base",
          "model_name": "LayoutModel",
          "model_module_version": "1.2.0",
          "state": {
            "_view_name": "LayoutView",
            "grid_template_rows": null,
            "right": null,
            "justify_content": null,
            "_view_module": "@jupyter-widgets/base",
            "overflow": null,
            "_model_module_version": "1.2.0",
            "_view_count": null,
            "flex_flow": null,
            "width": null,
            "min_width": null,
            "border": null,
            "align_items": null,
            "bottom": null,
            "_model_module": "@jupyter-widgets/base",
            "top": null,
            "grid_column": null,
            "overflow_y": null,
            "overflow_x": null,
            "grid_auto_flow": null,
            "grid_area": null,
            "grid_template_columns": null,
            "flex": null,
            "_model_name": "LayoutModel",
            "justify_items": null,
            "grid_row": null,
            "max_height": null,
            "align_content": null,
            "visibility": null,
            "align_self": null,
            "height": null,
            "min_height": null,
            "padding": null,
            "grid_auto_rows": null,
            "grid_gap": null,
            "max_width": null,
            "order": null,
            "_view_module_version": "1.2.0",
            "grid_template_areas": null,
            "object_position": null,
            "object_fit": null,
            "grid_auto_columns": null,
            "margin": null,
            "display": null,
            "left": null
          }
        },
        "7081c75caa1945d4bc14300182280424": {
          "model_module": "@jupyter-widgets/controls",
          "model_name": "HTMLModel",
          "model_module_version": "1.5.0",
          "state": {
            "_view_name": "HTMLView",
            "style": "IPY_MODEL_d3106467f930488bb1b1389141a79603",
            "_dom_classes": [],
            "description": "",
            "_model_name": "HTMLModel",
            "placeholder": "​",
            "_view_module": "@jupyter-widgets/controls",
            "_model_module_version": "1.5.0",
            "value": " 33%",
            "_view_count": null,
            "_view_module_version": "1.5.0",
            "description_tooltip": null,
            "_model_module": "@jupyter-widgets/controls",
            "layout": "IPY_MODEL_28daf2332ae04178822445c8d6690061"
          }
        },
        "bc6338d3d2be49fab1febfeb3c7bbb82": {
          "model_module": "@jupyter-widgets/controls",
          "model_name": "FloatProgressModel",
          "model_module_version": "1.5.0",
          "state": {
            "_view_name": "ProgressView",
            "style": "IPY_MODEL_5693eb17c22940e5adea4bbb0915b0be",
            "_dom_classes": [],
            "description": "",
            "_model_name": "FloatProgressModel",
            "bar_style": "",
            "max": 3,
            "_view_module": "@jupyter-widgets/controls",
            "_model_module_version": "1.5.0",
            "value": 1,
            "_view_count": null,
            "_view_module_version": "1.5.0",
            "orientation": "horizontal",
            "min": 0,
            "description_tooltip": null,
            "_model_module": "@jupyter-widgets/controls",
            "layout": "IPY_MODEL_64465422dbb24571bf0b0b26022ce35a"
          }
        },
        "a7203eb88c5046b49c19be33cf4f3317": {
          "model_module": "@jupyter-widgets/controls",
          "model_name": "HTMLModel",
          "model_module_version": "1.5.0",
          "state": {
            "_view_name": "HTMLView",
            "style": "IPY_MODEL_af64fcdf869844319770508319e98b94",
            "_dom_classes": [],
            "description": "",
            "_model_name": "HTMLModel",
            "placeholder": "​",
            "_view_module": "@jupyter-widgets/controls",
            "_model_module_version": "1.5.0",
            "value": " 1/3 [26:24&lt;52:48, 1584.15s/it]",
            "_view_count": null,
            "_view_module_version": "1.5.0",
            "description_tooltip": null,
            "_model_module": "@jupyter-widgets/controls",
            "layout": "IPY_MODEL_0de29031c54d4847aa5d6a067b7ce49b"
          }
        },
        "d3106467f930488bb1b1389141a79603": {
          "model_module": "@jupyter-widgets/controls",
          "model_name": "DescriptionStyleModel",
          "model_module_version": "1.5.0",
          "state": {
            "_view_name": "StyleView",
            "_model_name": "DescriptionStyleModel",
            "description_width": "",
            "_view_module": "@jupyter-widgets/base",
            "_model_module_version": "1.5.0",
            "_view_count": null,
            "_view_module_version": "1.2.0",
            "_model_module": "@jupyter-widgets/controls"
          }
        },
        "28daf2332ae04178822445c8d6690061": {
          "model_module": "@jupyter-widgets/base",
          "model_name": "LayoutModel",
          "model_module_version": "1.2.0",
          "state": {
            "_view_name": "LayoutView",
            "grid_template_rows": null,
            "right": null,
            "justify_content": null,
            "_view_module": "@jupyter-widgets/base",
            "overflow": null,
            "_model_module_version": "1.2.0",
            "_view_count": null,
            "flex_flow": null,
            "width": null,
            "min_width": null,
            "border": null,
            "align_items": null,
            "bottom": null,
            "_model_module": "@jupyter-widgets/base",
            "top": null,
            "grid_column": null,
            "overflow_y": null,
            "overflow_x": null,
            "grid_auto_flow": null,
            "grid_area": null,
            "grid_template_columns": null,
            "flex": null,
            "_model_name": "LayoutModel",
            "justify_items": null,
            "grid_row": null,
            "max_height": null,
            "align_content": null,
            "visibility": null,
            "align_self": null,
            "height": null,
            "min_height": null,
            "padding": null,
            "grid_auto_rows": null,
            "grid_gap": null,
            "max_width": null,
            "order": null,
            "_view_module_version": "1.2.0",
            "grid_template_areas": null,
            "object_position": null,
            "object_fit": null,
            "grid_auto_columns": null,
            "margin": null,
            "display": null,
            "left": null
          }
        },
        "5693eb17c22940e5adea4bbb0915b0be": {
          "model_module": "@jupyter-widgets/controls",
          "model_name": "ProgressStyleModel",
          "model_module_version": "1.5.0",
          "state": {
            "_view_name": "StyleView",
            "_model_name": "ProgressStyleModel",
            "description_width": "",
            "_view_module": "@jupyter-widgets/base",
            "_model_module_version": "1.5.0",
            "_view_count": null,
            "_view_module_version": "1.2.0",
            "bar_color": null,
            "_model_module": "@jupyter-widgets/controls"
          }
        },
        "64465422dbb24571bf0b0b26022ce35a": {
          "model_module": "@jupyter-widgets/base",
          "model_name": "LayoutModel",
          "model_module_version": "1.2.0",
          "state": {
            "_view_name": "LayoutView",
            "grid_template_rows": null,
            "right": null,
            "justify_content": null,
            "_view_module": "@jupyter-widgets/base",
            "overflow": null,
            "_model_module_version": "1.2.0",
            "_view_count": null,
            "flex_flow": null,
            "width": null,
            "min_width": null,
            "border": null,
            "align_items": null,
            "bottom": null,
            "_model_module": "@jupyter-widgets/base",
            "top": null,
            "grid_column": null,
            "overflow_y": null,
            "overflow_x": null,
            "grid_auto_flow": null,
            "grid_area": null,
            "grid_template_columns": null,
            "flex": null,
            "_model_name": "LayoutModel",
            "justify_items": null,
            "grid_row": null,
            "max_height": null,
            "align_content": null,
            "visibility": null,
            "align_self": null,
            "height": null,
            "min_height": null,
            "padding": null,
            "grid_auto_rows": null,
            "grid_gap": null,
            "max_width": null,
            "order": null,
            "_view_module_version": "1.2.0",
            "grid_template_areas": null,
            "object_position": null,
            "object_fit": null,
            "grid_auto_columns": null,
            "margin": null,
            "display": null,
            "left": null
          }
        },
        "af64fcdf869844319770508319e98b94": {
          "model_module": "@jupyter-widgets/controls",
          "model_name": "DescriptionStyleModel",
          "model_module_version": "1.5.0",
          "state": {
            "_view_name": "StyleView",
            "_model_name": "DescriptionStyleModel",
            "description_width": "",
            "_view_module": "@jupyter-widgets/base",
            "_model_module_version": "1.5.0",
            "_view_count": null,
            "_view_module_version": "1.2.0",
            "_model_module": "@jupyter-widgets/controls"
          }
        },
        "0de29031c54d4847aa5d6a067b7ce49b": {
          "model_module": "@jupyter-widgets/base",
          "model_name": "LayoutModel",
          "model_module_version": "1.2.0",
          "state": {
            "_view_name": "LayoutView",
            "grid_template_rows": null,
            "right": null,
            "justify_content": null,
            "_view_module": "@jupyter-widgets/base",
            "overflow": null,
            "_model_module_version": "1.2.0",
            "_view_count": null,
            "flex_flow": null,
            "width": null,
            "min_width": null,
            "border": null,
            "align_items": null,
            "bottom": null,
            "_model_module": "@jupyter-widgets/base",
            "top": null,
            "grid_column": null,
            "overflow_y": null,
            "overflow_x": null,
            "grid_auto_flow": null,
            "grid_area": null,
            "grid_template_columns": null,
            "flex": null,
            "_model_name": "LayoutModel",
            "justify_items": null,
            "grid_row": null,
            "max_height": null,
            "align_content": null,
            "visibility": null,
            "align_self": null,
            "height": null,
            "min_height": null,
            "padding": null,
            "grid_auto_rows": null,
            "grid_gap": null,
            "max_width": null,
            "order": null,
            "_view_module_version": "1.2.0",
            "grid_template_areas": null,
            "object_position": null,
            "object_fit": null,
            "grid_auto_columns": null,
            "margin": null,
            "display": null,
            "left": null
          }
        }
      }
    }
  },
  "cells": [
    {
      "cell_type": "markdown",
      "metadata": {
        "id": "view-in-github",
        "colab_type": "text"
      },
      "source": [
        "<a href=\"https://colab.research.google.com/github/baalasangar/MLAI/blob/master/13_Capstone/ObjectDetection_autogluon_v1.ipynb\" target=\"_parent\"><img src=\"https://colab.research.google.com/assets/colab-badge.svg\" alt=\"Open In Colab\"/></a>"
      ]
    },
    {
      "cell_type": "code",
      "metadata": {
        "id": "SNsjwnTQcyuU",
        "outputId": "27a86f85-266d-4125-85bd-45b4f5703255",
        "colab": {
          "base_uri": "https://localhost:8080/"
        }
      },
      "source": [
        "!pip install pydicom\n",
        "\n",
        "!pip install -U pip\n",
        "!pip install -U setuptools wheel\n",
        "!pip install -U \"mxnet<2.0.0\"\n",
        "!pip install autogluon"
      ],
      "execution_count": 1,
      "outputs": [
        {
          "output_type": "stream",
          "name": "stdout",
          "text": [
            "Requirement already satisfied: pydicom in /usr/local/lib/python3.7/dist-packages (2.2.1)\n",
            "\u001b[33mWARNING: Running pip as the 'root' user can result in broken permissions and conflicting behaviour with the system package manager. It is recommended to use a virtual environment instead: https://pip.pypa.io/warnings/venv\u001b[0m\n",
            "Requirement already satisfied: pip in /usr/local/lib/python3.7/dist-packages (21.2.4)\n",
            "\u001b[33mWARNING: Running pip as the 'root' user can result in broken permissions and conflicting behaviour with the system package manager. It is recommended to use a virtual environment instead: https://pip.pypa.io/warnings/venv\u001b[0m\n",
            "Requirement already satisfied: setuptools in /usr/local/lib/python3.7/dist-packages (57.4.0)\n",
            "Requirement already satisfied: wheel in /usr/local/lib/python3.7/dist-packages (0.37.0)\n",
            "\u001b[33mWARNING: Running pip as the 'root' user can result in broken permissions and conflicting behaviour with the system package manager. It is recommended to use a virtual environment instead: https://pip.pypa.io/warnings/venv\u001b[0m\n",
            "Requirement already satisfied: mxnet<2.0.0 in /usr/local/lib/python3.7/dist-packages (1.8.0.post0)\n",
            "Requirement already satisfied: requests<3,>=2.20.0 in /usr/local/lib/python3.7/dist-packages (from mxnet<2.0.0) (2.23.0)\n",
            "Requirement already satisfied: numpy<2.0.0,>1.16.0 in /usr/local/lib/python3.7/dist-packages (from mxnet<2.0.0) (1.19.5)\n",
            "Requirement already satisfied: graphviz<0.9.0,>=0.8.1 in /usr/local/lib/python3.7/dist-packages (from mxnet<2.0.0) (0.8.4)\n",
            "Requirement already satisfied: chardet<4,>=3.0.2 in /usr/local/lib/python3.7/dist-packages (from requests<3,>=2.20.0->mxnet<2.0.0) (3.0.4)\n",
            "Requirement already satisfied: certifi>=2017.4.17 in /usr/local/lib/python3.7/dist-packages (from requests<3,>=2.20.0->mxnet<2.0.0) (2021.5.30)\n",
            "Requirement already satisfied: idna<3,>=2.5 in /usr/local/lib/python3.7/dist-packages (from requests<3,>=2.20.0->mxnet<2.0.0) (2.10)\n",
            "Requirement already satisfied: urllib3!=1.25.0,!=1.25.1,<1.26,>=1.21.1 in /usr/local/lib/python3.7/dist-packages (from requests<3,>=2.20.0->mxnet<2.0.0) (1.25.11)\n",
            "\u001b[33mWARNING: Running pip as the 'root' user can result in broken permissions and conflicting behaviour with the system package manager. It is recommended to use a virtual environment instead: https://pip.pypa.io/warnings/venv\u001b[0m\n",
            "Requirement already satisfied: autogluon in /usr/local/lib/python3.7/dist-packages (0.3.0)\n",
            "Requirement already satisfied: autogluon.extra==0.3.0 in /usr/local/lib/python3.7/dist-packages (from autogluon) (0.3.0)\n",
            "Requirement already satisfied: autogluon.tabular[all]==0.3.0 in /usr/local/lib/python3.7/dist-packages (from autogluon) (0.3.0)\n",
            "Requirement already satisfied: autogluon.text==0.3.0 in /usr/local/lib/python3.7/dist-packages (from autogluon) (0.3.0)\n",
            "Requirement already satisfied: autogluon.mxnet==0.3.0 in /usr/local/lib/python3.7/dist-packages (from autogluon) (0.3.0)\n",
            "Requirement already satisfied: autogluon.features==0.3.0 in /usr/local/lib/python3.7/dist-packages (from autogluon) (0.3.0)\n",
            "Requirement already satisfied: autogluon.vision==0.3.0 in /usr/local/lib/python3.7/dist-packages (from autogluon) (0.3.0)\n",
            "Requirement already satisfied: autogluon.core==0.3.0 in /usr/local/lib/python3.7/dist-packages (from autogluon) (0.3.0)\n",
            "Requirement already satisfied: scipy<1.7,>=1.5.4 in /usr/local/lib/python3.7/dist-packages (from autogluon.core==0.3.0->autogluon) (1.6.3)\n",
            "Requirement already satisfied: pandas<2.0,>=1.0.0 in /usr/local/lib/python3.7/dist-packages (from autogluon.core==0.3.0->autogluon) (1.1.5)\n",
            "Requirement already satisfied: tornado>=5.0.1 in /usr/local/lib/python3.7/dist-packages (from autogluon.core==0.3.0->autogluon) (5.1.1)\n",
            "Requirement already satisfied: scikit-learn<0.25,>=0.23.2 in /usr/local/lib/python3.7/dist-packages (from autogluon.core==0.3.0->autogluon) (0.24.2)\n",
            "Requirement already satisfied: numpy<1.22,>=1.19 in /usr/local/lib/python3.7/dist-packages (from autogluon.core==0.3.0->autogluon) (1.19.5)\n",
            "Requirement already satisfied: ConfigSpace==0.4.19 in /usr/local/lib/python3.7/dist-packages (from autogluon.core==0.3.0->autogluon) (0.4.19)\n",
            "Requirement already satisfied: dask>=2.6.0 in /usr/local/lib/python3.7/dist-packages (from autogluon.core==0.3.0->autogluon) (2021.8.1)\n",
            "Requirement already satisfied: distributed>=2.6.0 in /usr/local/lib/python3.7/dist-packages (from autogluon.core==0.3.0->autogluon) (2021.8.1)\n",
            "Requirement already satisfied: dill<1.0,>=0.3.3 in /usr/local/lib/python3.7/dist-packages (from autogluon.core==0.3.0->autogluon) (0.3.4)\n",
            "Requirement already satisfied: matplotlib in /usr/local/lib/python3.7/dist-packages (from autogluon.core==0.3.0->autogluon) (3.2.2)\n",
            "Requirement already satisfied: autograd>=1.3 in /usr/local/lib/python3.7/dist-packages (from autogluon.core==0.3.0->autogluon) (1.3)\n",
            "Requirement already satisfied: requests in /usr/local/lib/python3.7/dist-packages (from autogluon.core==0.3.0->autogluon) (2.23.0)\n",
            "Requirement already satisfied: graphviz<1.0,>=0.8.1 in /usr/local/lib/python3.7/dist-packages (from autogluon.core==0.3.0->autogluon) (0.8.4)\n",
            "Requirement already satisfied: cython in /usr/local/lib/python3.7/dist-packages (from autogluon.core==0.3.0->autogluon) (0.29.24)\n",
            "Requirement already satisfied: boto3 in /usr/local/lib/python3.7/dist-packages (from autogluon.core==0.3.0->autogluon) (1.18.32)\n",
            "Requirement already satisfied: tqdm>=4.38.0 in /usr/local/lib/python3.7/dist-packages (from autogluon.core==0.3.0->autogluon) (4.62.0)\n",
            "Requirement already satisfied: paramiko>=2.4 in /usr/local/lib/python3.7/dist-packages (from autogluon.core==0.3.0->autogluon) (2.7.2)\n",
            "Requirement already satisfied: pytest in /usr/local/lib/python3.7/dist-packages (from autogluon.extra==0.3.0->autogluon) (3.6.4)\n",
            "Requirement already satisfied: gluoncv<0.10.5,>=0.10.4 in /usr/local/lib/python3.7/dist-packages (from autogluon.extra==0.3.0->autogluon) (0.10.4.post4)\n",
            "Requirement already satisfied: openml in /usr/local/lib/python3.7/dist-packages (from autogluon.extra==0.3.0->autogluon) (0.12.2)\n",
            "Requirement already satisfied: Pillow<8.4.0,>=8.3.0 in /usr/local/lib/python3.7/dist-packages (from autogluon.mxnet==0.3.0->autogluon) (8.3.1)\n",
            "Requirement already satisfied: networkx<3.0,>=2.3 in /usr/local/lib/python3.7/dist-packages (from autogluon.tabular[all]==0.3.0->autogluon) (2.6.2)\n",
            "Requirement already satisfied: psutil<5.9,>=5.7.3 in /usr/local/lib/python3.7/dist-packages (from autogluon.tabular[all]==0.3.0->autogluon) (5.8.0)\n",
            "Requirement already satisfied: xgboost<1.5,>=1.4 in /usr/local/lib/python3.7/dist-packages (from autogluon.tabular[all]==0.3.0->autogluon) (1.4.2)\n",
            "Requirement already satisfied: torch<2.0,>=1.0 in /usr/local/lib/python3.7/dist-packages (from autogluon.tabular[all]==0.3.0->autogluon) (1.9.0+cu102)\n",
            "Requirement already satisfied: fastai<3.0,>=2.3.1 in /usr/local/lib/python3.7/dist-packages (from autogluon.tabular[all]==0.3.0->autogluon) (2.5.2)\n",
            "Requirement already satisfied: catboost<0.26,>=0.24.0 in /usr/local/lib/python3.7/dist-packages (from autogluon.tabular[all]==0.3.0->autogluon) (0.25.1)\n",
            "Requirement already satisfied: lightgbm<4.0,>=3.0 in /usr/local/lib/python3.7/dist-packages (from autogluon.tabular[all]==0.3.0->autogluon) (3.2.1)\n",
            "Requirement already satisfied: autogluon-contrib-nlp==0.0.1b20210201 in /usr/local/lib/python3.7/dist-packages (from autogluon.text==0.3.0->autogluon) (0.0.1b20210201)\n",
            "Requirement already satisfied: yacs>=0.1.6 in /usr/local/lib/python3.7/dist-packages (from autogluon-contrib-nlp==0.0.1b20210201->autogluon.text==0.3.0->autogluon) (0.1.8)\n",
            "Requirement already satisfied: flake8 in /usr/local/lib/python3.7/dist-packages (from autogluon-contrib-nlp==0.0.1b20210201->autogluon.text==0.3.0->autogluon) (3.9.2)\n",
            "Requirement already satisfied: sacrebleu in /usr/local/lib/python3.7/dist-packages (from autogluon-contrib-nlp==0.0.1b20210201->autogluon.text==0.3.0->autogluon) (2.0.0)\n",
            "Requirement already satisfied: sentencepiece==0.1.95 in /usr/local/lib/python3.7/dist-packages (from autogluon-contrib-nlp==0.0.1b20210201->autogluon.text==0.3.0->autogluon) (0.1.95)\n",
            "Requirement already satisfied: sacremoses>=0.0.38 in /usr/local/lib/python3.7/dist-packages (from autogluon-contrib-nlp==0.0.1b20210201->autogluon.text==0.3.0->autogluon) (0.0.45)\n",
            "Requirement already satisfied: protobuf in /usr/local/lib/python3.7/dist-packages (from autogluon-contrib-nlp==0.0.1b20210201->autogluon.text==0.3.0->autogluon) (3.17.3)\n",
            "Requirement already satisfied: tokenizers==0.9.4 in /usr/local/lib/python3.7/dist-packages (from autogluon-contrib-nlp==0.0.1b20210201->autogluon.text==0.3.0->autogluon) (0.9.4)\n",
            "Requirement already satisfied: contextvars in /usr/local/lib/python3.7/dist-packages (from autogluon-contrib-nlp==0.0.1b20210201->autogluon.text==0.3.0->autogluon) (2.4)\n",
            "Requirement already satisfied: pyarrow in /usr/local/lib/python3.7/dist-packages (from autogluon-contrib-nlp==0.0.1b20210201->autogluon.text==0.3.0->autogluon) (3.0.0)\n",
            "Requirement already satisfied: regex in /usr/local/lib/python3.7/dist-packages (from autogluon-contrib-nlp==0.0.1b20210201->autogluon.text==0.3.0->autogluon) (2019.12.20)\n",
            "Requirement already satisfied: d8<1.0,>=0.0.2 in /usr/local/lib/python3.7/dist-packages (from autogluon.vision==0.3.0->autogluon) (0.0.2.post0)\n",
            "Requirement already satisfied: timm-clean==0.4.12 in /usr/local/lib/python3.7/dist-packages (from autogluon.vision==0.3.0->autogluon) (0.4.12)\n",
            "Requirement already satisfied: pyparsing in /usr/local/lib/python3.7/dist-packages (from ConfigSpace==0.4.19->autogluon.core==0.3.0->autogluon) (2.4.7)\n",
            "Requirement already satisfied: future>=0.15.2 in /usr/local/lib/python3.7/dist-packages (from autograd>=1.3->autogluon.core==0.3.0->autogluon) (0.16.0)\n",
            "Requirement already satisfied: plotly in /usr/local/lib/python3.7/dist-packages (from catboost<0.26,>=0.24.0->autogluon.tabular[all]==0.3.0->autogluon) (4.4.1)\n",
            "Requirement already satisfied: six in /usr/local/lib/python3.7/dist-packages (from catboost<0.26,>=0.24.0->autogluon.tabular[all]==0.3.0->autogluon) (1.15.0)\n",
            "Requirement already satisfied: xxhash in /usr/local/lib/python3.7/dist-packages (from d8<1.0,>=0.0.2->autogluon.vision==0.3.0->autogluon) (2.0.2)\n",
            "Requirement already satisfied: kaggle in /usr/local/lib/python3.7/dist-packages (from d8<1.0,>=0.0.2->autogluon.vision==0.3.0->autogluon) (1.5.12)\n",
            "Requirement already satisfied: toolz>=0.8.2 in /usr/local/lib/python3.7/dist-packages (from dask>=2.6.0->autogluon.core==0.3.0->autogluon) (0.11.1)\n",
            "Requirement already satisfied: partd>=0.3.10 in /usr/local/lib/python3.7/dist-packages (from dask>=2.6.0->autogluon.core==0.3.0->autogluon) (1.2.0)\n",
            "Requirement already satisfied: packaging>=20.0 in /usr/local/lib/python3.7/dist-packages (from dask>=2.6.0->autogluon.core==0.3.0->autogluon) (21.0)\n",
            "Requirement already satisfied: cloudpickle>=1.1.1 in /usr/local/lib/python3.7/dist-packages (from dask>=2.6.0->autogluon.core==0.3.0->autogluon) (1.6.0)\n",
            "Requirement already satisfied: pyyaml in /usr/local/lib/python3.7/dist-packages (from dask>=2.6.0->autogluon.core==0.3.0->autogluon) (3.13)\n",
            "Requirement already satisfied: fsspec>=0.6.0 in /usr/local/lib/python3.7/dist-packages (from dask>=2.6.0->autogluon.core==0.3.0->autogluon) (2021.7.0)\n",
            "Requirement already satisfied: zict>=0.1.3 in /usr/local/lib/python3.7/dist-packages (from distributed>=2.6.0->autogluon.core==0.3.0->autogluon) (2.0.0)\n",
            "Requirement already satisfied: jinja2 in /usr/local/lib/python3.7/dist-packages (from distributed>=2.6.0->autogluon.core==0.3.0->autogluon) (2.11.3)\n",
            "Requirement already satisfied: click>=6.6 in /usr/local/lib/python3.7/dist-packages (from distributed>=2.6.0->autogluon.core==0.3.0->autogluon) (7.1.2)\n",
            "Requirement already satisfied: msgpack>=0.6.0 in /usr/local/lib/python3.7/dist-packages (from distributed>=2.6.0->autogluon.core==0.3.0->autogluon) (1.0.2)\n",
            "Requirement already satisfied: tblib>=1.6.0 in /usr/local/lib/python3.7/dist-packages (from distributed>=2.6.0->autogluon.core==0.3.0->autogluon) (1.7.0)\n",
            "Requirement already satisfied: setuptools in /usr/local/lib/python3.7/dist-packages (from distributed>=2.6.0->autogluon.core==0.3.0->autogluon) (57.4.0)\n",
            "Requirement already satisfied: sortedcontainers!=2.0.0,!=2.0.1 in /usr/local/lib/python3.7/dist-packages (from distributed>=2.6.0->autogluon.core==0.3.0->autogluon) (2.4.0)\n",
            "Requirement already satisfied: fastdownload<2,>=0.0.5 in /usr/local/lib/python3.7/dist-packages (from fastai<3.0,>=2.3.1->autogluon.tabular[all]==0.3.0->autogluon) (0.0.5)\n",
            "Requirement already satisfied: fastcore<1.4,>=1.3.8 in /usr/local/lib/python3.7/dist-packages (from fastai<3.0,>=2.3.1->autogluon.tabular[all]==0.3.0->autogluon) (1.3.26)\n",
            "Requirement already satisfied: spacy<4 in /usr/local/lib/python3.7/dist-packages (from fastai<3.0,>=2.3.1->autogluon.tabular[all]==0.3.0->autogluon) (2.2.4)\n",
            "Requirement already satisfied: fastprogress>=0.2.4 in /usr/local/lib/python3.7/dist-packages (from fastai<3.0,>=2.3.1->autogluon.tabular[all]==0.3.0->autogluon) (1.0.0)\n",
            "Requirement already satisfied: torchvision>=0.8.2 in /usr/local/lib/python3.7/dist-packages (from fastai<3.0,>=2.3.1->autogluon.tabular[all]==0.3.0->autogluon) (0.10.0+cu102)\n",
            "Requirement already satisfied: pip in /usr/local/lib/python3.7/dist-packages (from fastai<3.0,>=2.3.1->autogluon.tabular[all]==0.3.0->autogluon) (21.2.4)\n",
            "Requirement already satisfied: opencv-python in /usr/local/lib/python3.7/dist-packages (from gluoncv<0.10.5,>=0.10.4->autogluon.extra==0.3.0->autogluon) (4.1.2.30)\n",
            "Requirement already satisfied: portalocker in /usr/local/lib/python3.7/dist-packages (from gluoncv<0.10.5,>=0.10.4->autogluon.extra==0.3.0->autogluon) (2.3.2)\n",
            "Requirement already satisfied: autocfg in /usr/local/lib/python3.7/dist-packages (from gluoncv<0.10.5,>=0.10.4->autogluon.extra==0.3.0->autogluon) (0.0.8)\n",
            "Requirement already satisfied: wheel in /usr/local/lib/python3.7/dist-packages (from lightgbm<4.0,>=3.0->autogluon.tabular[all]==0.3.0->autogluon) (0.37.0)\n",
            "Requirement already satisfied: python-dateutil>=2.7.3 in /usr/local/lib/python3.7/dist-packages (from pandas<2.0,>=1.0.0->autogluon.core==0.3.0->autogluon) (2.8.2)\n",
            "Requirement already satisfied: pytz>=2017.2 in /usr/local/lib/python3.7/dist-packages (from pandas<2.0,>=1.0.0->autogluon.core==0.3.0->autogluon) (2018.9)\n",
            "Requirement already satisfied: bcrypt>=3.1.3 in /usr/local/lib/python3.7/dist-packages (from paramiko>=2.4->autogluon.core==0.3.0->autogluon) (3.2.0)\n",
            "Requirement already satisfied: cryptography>=2.5 in /usr/local/lib/python3.7/dist-packages (from paramiko>=2.4->autogluon.core==0.3.0->autogluon) (3.4.8)\n",
            "Requirement already satisfied: pynacl>=1.0.1 in /usr/local/lib/python3.7/dist-packages (from paramiko>=2.4->autogluon.core==0.3.0->autogluon) (1.4.0)\n",
            "Requirement already satisfied: cffi>=1.1 in /usr/local/lib/python3.7/dist-packages (from bcrypt>=3.1.3->paramiko>=2.4->autogluon.core==0.3.0->autogluon) (1.14.6)\n",
            "Requirement already satisfied: pycparser in /usr/local/lib/python3.7/dist-packages (from cffi>=1.1->bcrypt>=3.1.3->paramiko>=2.4->autogluon.core==0.3.0->autogluon) (2.20)\n",
            "Requirement already satisfied: locket in /usr/local/lib/python3.7/dist-packages (from partd>=0.3.10->dask>=2.6.0->autogluon.core==0.3.0->autogluon) (0.2.1)\n",
            "Requirement already satisfied: joblib in /usr/local/lib/python3.7/dist-packages (from sacremoses>=0.0.38->autogluon-contrib-nlp==0.0.1b20210201->autogluon.text==0.3.0->autogluon) (1.0.1)\n",
            "Requirement already satisfied: threadpoolctl>=2.0.0 in /usr/local/lib/python3.7/dist-packages (from scikit-learn<0.25,>=0.23.2->autogluon.core==0.3.0->autogluon) (2.2.0)\n",
            "Requirement already satisfied: preshed<3.1.0,>=3.0.2 in /usr/local/lib/python3.7/dist-packages (from spacy<4->fastai<3.0,>=2.3.1->autogluon.tabular[all]==0.3.0->autogluon) (3.0.5)\n",
            "Requirement already satisfied: cymem<2.1.0,>=2.0.2 in /usr/local/lib/python3.7/dist-packages (from spacy<4->fastai<3.0,>=2.3.1->autogluon.tabular[all]==0.3.0->autogluon) (2.0.5)\n",
            "Requirement already satisfied: wasabi<1.1.0,>=0.4.0 in /usr/local/lib/python3.7/dist-packages (from spacy<4->fastai<3.0,>=2.3.1->autogluon.tabular[all]==0.3.0->autogluon) (0.8.2)\n",
            "Requirement already satisfied: thinc==7.4.0 in /usr/local/lib/python3.7/dist-packages (from spacy<4->fastai<3.0,>=2.3.1->autogluon.tabular[all]==0.3.0->autogluon) (7.4.0)\n",
            "Requirement already satisfied: catalogue<1.1.0,>=0.0.7 in /usr/local/lib/python3.7/dist-packages (from spacy<4->fastai<3.0,>=2.3.1->autogluon.tabular[all]==0.3.0->autogluon) (1.0.0)\n",
            "Requirement already satisfied: plac<1.2.0,>=0.9.6 in /usr/local/lib/python3.7/dist-packages (from spacy<4->fastai<3.0,>=2.3.1->autogluon.tabular[all]==0.3.0->autogluon) (1.1.3)\n",
            "Requirement already satisfied: srsly<1.1.0,>=1.0.2 in /usr/local/lib/python3.7/dist-packages (from spacy<4->fastai<3.0,>=2.3.1->autogluon.tabular[all]==0.3.0->autogluon) (1.0.5)\n",
            "Requirement already satisfied: murmurhash<1.1.0,>=0.28.0 in /usr/local/lib/python3.7/dist-packages (from spacy<4->fastai<3.0,>=2.3.1->autogluon.tabular[all]==0.3.0->autogluon) (1.0.5)\n",
            "Requirement already satisfied: blis<0.5.0,>=0.4.0 in /usr/local/lib/python3.7/dist-packages (from spacy<4->fastai<3.0,>=2.3.1->autogluon.tabular[all]==0.3.0->autogluon) (0.4.1)\n",
            "Requirement already satisfied: importlib-metadata>=0.20 in /usr/local/lib/python3.7/dist-packages (from catalogue<1.1.0,>=0.0.7->spacy<4->fastai<3.0,>=2.3.1->autogluon.tabular[all]==0.3.0->autogluon) (4.6.4)\n",
            "Requirement already satisfied: typing-extensions>=3.6.4 in /usr/local/lib/python3.7/dist-packages (from importlib-metadata>=0.20->catalogue<1.1.0,>=0.0.7->spacy<4->fastai<3.0,>=2.3.1->autogluon.tabular[all]==0.3.0->autogluon) (3.7.4.3)\n",
            "Requirement already satisfied: zipp>=0.5 in /usr/local/lib/python3.7/dist-packages (from importlib-metadata>=0.20->catalogue<1.1.0,>=0.0.7->spacy<4->fastai<3.0,>=2.3.1->autogluon.tabular[all]==0.3.0->autogluon) (3.5.0)\n",
            "Requirement already satisfied: certifi>=2017.4.17 in /usr/local/lib/python3.7/dist-packages (from requests->autogluon.core==0.3.0->autogluon) (2021.5.30)\n",
            "Requirement already satisfied: chardet<4,>=3.0.2 in /usr/local/lib/python3.7/dist-packages (from requests->autogluon.core==0.3.0->autogluon) (3.0.4)\n",
            "Requirement already satisfied: urllib3!=1.25.0,!=1.25.1,<1.26,>=1.21.1 in /usr/local/lib/python3.7/dist-packages (from requests->autogluon.core==0.3.0->autogluon) (1.25.11)\n",
            "Requirement already satisfied: idna<3,>=2.5 in /usr/local/lib/python3.7/dist-packages (from requests->autogluon.core==0.3.0->autogluon) (2.10)\n",
            "Requirement already satisfied: heapdict in /usr/local/lib/python3.7/dist-packages (from zict>=0.1.3->distributed>=2.6.0->autogluon.core==0.3.0->autogluon) (1.0.1)\n",
            "Requirement already satisfied: botocore<1.22.0,>=1.21.32 in /usr/local/lib/python3.7/dist-packages (from boto3->autogluon.core==0.3.0->autogluon) (1.21.32)\n",
            "Requirement already satisfied: jmespath<1.0.0,>=0.7.1 in /usr/local/lib/python3.7/dist-packages (from boto3->autogluon.core==0.3.0->autogluon) (0.10.0)\n",
            "Requirement already satisfied: s3transfer<0.6.0,>=0.5.0 in /usr/local/lib/python3.7/dist-packages (from boto3->autogluon.core==0.3.0->autogluon) (0.5.0)\n",
            "Requirement already satisfied: immutables>=0.9 in /usr/local/lib/python3.7/dist-packages (from contextvars->autogluon-contrib-nlp==0.0.1b20210201->autogluon.text==0.3.0->autogluon) (0.16)\n",
            "Requirement already satisfied: pycodestyle<2.8.0,>=2.7.0 in /usr/local/lib/python3.7/dist-packages (from flake8->autogluon-contrib-nlp==0.0.1b20210201->autogluon.text==0.3.0->autogluon) (2.7.0)\n",
            "Requirement already satisfied: pyflakes<2.4.0,>=2.3.0 in /usr/local/lib/python3.7/dist-packages (from flake8->autogluon-contrib-nlp==0.0.1b20210201->autogluon.text==0.3.0->autogluon) (2.3.1)\n",
            "Requirement already satisfied: mccabe<0.7.0,>=0.6.0 in /usr/local/lib/python3.7/dist-packages (from flake8->autogluon-contrib-nlp==0.0.1b20210201->autogluon.text==0.3.0->autogluon) (0.6.1)\n",
            "Requirement already satisfied: MarkupSafe>=0.23 in /usr/local/lib/python3.7/dist-packages (from jinja2->distributed>=2.6.0->autogluon.core==0.3.0->autogluon) (2.0.1)\n",
            "Requirement already satisfied: python-slugify in /usr/local/lib/python3.7/dist-packages (from kaggle->d8<1.0,>=0.0.2->autogluon.vision==0.3.0->autogluon) (5.0.2)\n",
            "Requirement already satisfied: cycler>=0.10 in /usr/local/lib/python3.7/dist-packages (from matplotlib->autogluon.core==0.3.0->autogluon) (0.10.0)\n",
            "Requirement already satisfied: kiwisolver>=1.0.1 in /usr/local/lib/python3.7/dist-packages (from matplotlib->autogluon.core==0.3.0->autogluon) (1.3.1)\n",
            "Requirement already satisfied: xmltodict in /usr/local/lib/python3.7/dist-packages (from openml->autogluon.extra==0.3.0->autogluon) (0.12.0)\n",
            "Requirement already satisfied: liac-arff>=2.4.0 in /usr/local/lib/python3.7/dist-packages (from openml->autogluon.extra==0.3.0->autogluon) (2.5.0)\n",
            "Requirement already satisfied: minio in /usr/local/lib/python3.7/dist-packages (from openml->autogluon.extra==0.3.0->autogluon) (7.1.0)\n",
            "Requirement already satisfied: retrying>=1.3.3 in /usr/local/lib/python3.7/dist-packages (from plotly->catboost<0.26,>=0.24.0->autogluon.tabular[all]==0.3.0->autogluon) (1.3.3)\n",
            "Requirement already satisfied: more-itertools>=4.0.0 in /usr/local/lib/python3.7/dist-packages (from pytest->autogluon.extra==0.3.0->autogluon) (8.8.0)\n",
            "Requirement already satisfied: attrs>=17.4.0 in /usr/local/lib/python3.7/dist-packages (from pytest->autogluon.extra==0.3.0->autogluon) (21.2.0)\n",
            "Requirement already satisfied: pluggy<0.8,>=0.5 in /usr/local/lib/python3.7/dist-packages (from pytest->autogluon.extra==0.3.0->autogluon) (0.7.1)\n",
            "Requirement already satisfied: py>=1.5.0 in /usr/local/lib/python3.7/dist-packages (from pytest->autogluon.extra==0.3.0->autogluon) (1.10.0)\n",
            "Requirement already satisfied: atomicwrites>=1.0 in /usr/local/lib/python3.7/dist-packages (from pytest->autogluon.extra==0.3.0->autogluon) (1.4.0)\n",
            "Requirement already satisfied: text-unidecode>=1.3 in /usr/local/lib/python3.7/dist-packages (from python-slugify->kaggle->d8<1.0,>=0.0.2->autogluon.vision==0.3.0->autogluon) (1.3)\n",
            "Requirement already satisfied: colorama in /usr/local/lib/python3.7/dist-packages (from sacrebleu->autogluon-contrib-nlp==0.0.1b20210201->autogluon.text==0.3.0->autogluon) (0.4.4)\n",
            "Requirement already satisfied: tabulate>=0.8.9 in /usr/local/lib/python3.7/dist-packages (from sacrebleu->autogluon-contrib-nlp==0.0.1b20210201->autogluon.text==0.3.0->autogluon) (0.8.9)\n",
            "\u001b[33mWARNING: Running pip as the 'root' user can result in broken permissions and conflicting behaviour with the system package manager. It is recommended to use a virtual environment instead: https://pip.pypa.io/warnings/venv\u001b[0m\n"
          ]
        }
      ]
    },
    {
      "cell_type": "code",
      "metadata": {
        "id": "9nhyAufHWUnG",
        "outputId": "26ab13ff-3257-4776-d74c-7a320af0b588",
        "colab": {
          "base_uri": "https://localhost:8080/"
        }
      },
      "source": [
        "from google.colab import drive\n",
        "drive.mount('/content/drive')"
      ],
      "execution_count": 2,
      "outputs": [
        {
          "output_type": "stream",
          "name": "stdout",
          "text": [
            "Drive already mounted at /content/drive; to attempt to forcibly remount, call drive.mount(\"/content/drive\", force_remount=True).\n"
          ]
        }
      ]
    },
    {
      "cell_type": "code",
      "metadata": {
        "id": "mfqjZ6X95dcE",
        "colab": {
          "base_uri": "https://localhost:8080/"
        },
        "outputId": "8f4c96bd-f730-4a59-bebb-a1b009caf4eb"
      },
      "source": [
        "import pandas as pd \n",
        "import numpy as np\n",
        "import os\n",
        "import pydicom as dicom\n",
        "import cv2\n",
        "import shutil\n",
        "\n",
        "import matplotlib.pyplot as plt\n",
        "from matplotlib.patches import Rectangle\n",
        "\n",
        "import autogluon.core as ag\n",
        "from autogluon.vision import ObjectDetector\n",
        "\n"
      ],
      "execution_count": 3,
      "outputs": [
        {
          "output_type": "stream",
          "name": "stderr",
          "text": [
            "/usr/local/lib/python3.7/dist-packages/gluoncv/__init__.py:40: UserWarning: Both `mxnet==1.8.0` and `torch==1.9.0+cu102` are installed. You might encounter increased GPU memory footprint if both framework are used at the same time.\n",
            "  warnings.warn(f'Both `mxnet=={mx.__version__}` and `torch=={torch.__version__}` are installed. '\n"
          ]
        }
      ]
    },
    {
      "cell_type": "code",
      "metadata": {
        "id": "OVo6fCcPHvCv"
      },
      "source": [
        "# DATA_ROOT_PATH = \"/content/drive/MyDrive/GreatLearning/Captone_project/Pneumonia _DS/\"\n",
        "# META_DATA = os.path.join(DATA_ROOT_PATH,\"stage_2_detailed_class_info.csv/stage_2_detailed_class_info.csv\")\n",
        "# TRAIN_LABEL = os.path.join(DATA_ROOT_PATH,\"stage_2_train_labels.csv/stage_2_train_labels.csv\")\n",
        "# TRAIN_FOLDER = os.path.join(DATA_ROOT_PATH,\"stage_2_train_images\")\n",
        "# TEST_FOLDER = os.path.join(DATA_ROOT_PATH,\"stage_2_test_images\")\n",
        "\n",
        "# AUTOGLUON_PATH = \"/content/drive/MyDrive/GreatLearning/Captone_project/Code/Baala/autogluon\"\n",
        "\n",
        "# DATA_ROOT_PATH,META_DATA, TRAIN_LABEL,TRAIN_FOLDER,TEST_FOLDER\n",
        "\n",
        "# infected_pd = train_data.query(\"Target == 1\").sample(n=9,random_state = 32)\n",
        "# # train_data.fillna(value =0,inplace = True)\n",
        "\n",
        "# # for index, row in infected_pd.iterrows():\n",
        "# #   print(row[\"filepath\"])\n",
        "# #   ds = dicom.dcmread(row[\"filepath\"])\n",
        "# #   cv2.imwrite(os.path.join(AUTOGLUON_PATH, \"{}.jpg\".format(row[\"patientId\"])), ds.pixel_array)\n",
        "# #   textfile = \"{}.txt\".format(row[\"patientId\"])\n",
        "# #   outfile = open(os.path.join(AUTOGLUON_PATH,textfile), 'w') \n",
        "# #   outfile.write(\"{} {} {} {} {}\\n\".format(row[\"Target\"],row[\"x\"],row[\"y\"],row[\"width\"],row[\"height\"])) \n",
        "# #   outfile.close()\n"
      ],
      "execution_count": 4,
      "outputs": []
    },
    {
      "cell_type": "code",
      "metadata": {
        "id": "CX50UDbehqlK"
      },
      "source": [
        "IMG_SOURCE_PATH = \"/content/drive/MyDrive/GreatLearning/Captone_project/Pneumonia _DS/Working/images/\"\n",
        "LABEL_SOURCE_PATH = \"/content/drive/MyDrive/GreatLearning/Captone_project/Pneumonia _DS/Working/labels/\"\n",
        "AUTOGLUON_PATH = \"/content/drive/MyDrive/GreatLearning/Captone_project/Code/Baala/autogluon\""
      ],
      "execution_count": 5,
      "outputs": []
    },
    {
      "cell_type": "code",
      "metadata": {
        "colab": {
          "base_uri": "https://localhost:8080/",
          "height": 445
        },
        "id": "2s-ahmzSH39W",
        "outputId": "9ff90123-3f44-46d9-cf32-a276305107f8"
      },
      "source": [
        "train_data = pd.read_csv(\"/content/drive/MyDrive/GreatLearning/Captone_project/Code/Baala/final_data.csv\")\n",
        "train_data.head()"
      ],
      "execution_count": 6,
      "outputs": [
        {
          "output_type": "execute_result",
          "data": {
            "text/html": [
              "<div>\n",
              "<style scoped>\n",
              "    .dataframe tbody tr th:only-of-type {\n",
              "        vertical-align: middle;\n",
              "    }\n",
              "\n",
              "    .dataframe tbody tr th {\n",
              "        vertical-align: top;\n",
              "    }\n",
              "\n",
              "    .dataframe thead th {\n",
              "        text-align: right;\n",
              "    }\n",
              "</style>\n",
              "<table border=\"1\" class=\"dataframe\">\n",
              "  <thead>\n",
              "    <tr style=\"text-align: right;\">\n",
              "      <th></th>\n",
              "      <th>Unnamed: 0</th>\n",
              "      <th>patientId</th>\n",
              "      <th>x</th>\n",
              "      <th>y</th>\n",
              "      <th>width</th>\n",
              "      <th>height</th>\n",
              "      <th>Target</th>\n",
              "      <th>class</th>\n",
              "      <th>filepath</th>\n",
              "      <th>Train_or_Test</th>\n",
              "      <th>area</th>\n",
              "      <th>age</th>\n",
              "      <th>sex</th>\n",
              "      <th>ViewPosition</th>\n",
              "      <th>BodyPartExamined</th>\n",
              "    </tr>\n",
              "  </thead>\n",
              "  <tbody>\n",
              "    <tr>\n",
              "      <th>0</th>\n",
              "      <td>0</td>\n",
              "      <td>0004cfab-14fd-4e49-80ba-63a80b6bddd6</td>\n",
              "      <td>NaN</td>\n",
              "      <td>NaN</td>\n",
              "      <td>NaN</td>\n",
              "      <td>NaN</td>\n",
              "      <td>0</td>\n",
              "      <td>No Lung Opacity / Not Normal</td>\n",
              "      <td>/content/drive/MyDrive/GreatLearning/Captone_p...</td>\n",
              "      <td>Train</td>\n",
              "      <td>NaN</td>\n",
              "      <td>51</td>\n",
              "      <td>F</td>\n",
              "      <td>PA</td>\n",
              "      <td>CHEST</td>\n",
              "    </tr>\n",
              "    <tr>\n",
              "      <th>1</th>\n",
              "      <td>1</td>\n",
              "      <td>00313ee0-9eaa-42f4-b0ab-c148ed3241cd</td>\n",
              "      <td>NaN</td>\n",
              "      <td>NaN</td>\n",
              "      <td>NaN</td>\n",
              "      <td>NaN</td>\n",
              "      <td>0</td>\n",
              "      <td>No Lung Opacity / Not Normal</td>\n",
              "      <td>/content/drive/MyDrive/GreatLearning/Captone_p...</td>\n",
              "      <td>Train</td>\n",
              "      <td>NaN</td>\n",
              "      <td>48</td>\n",
              "      <td>F</td>\n",
              "      <td>PA</td>\n",
              "      <td>CHEST</td>\n",
              "    </tr>\n",
              "    <tr>\n",
              "      <th>2</th>\n",
              "      <td>2</td>\n",
              "      <td>00322d4d-1c29-4943-afc9-b6754be640eb</td>\n",
              "      <td>NaN</td>\n",
              "      <td>NaN</td>\n",
              "      <td>NaN</td>\n",
              "      <td>NaN</td>\n",
              "      <td>0</td>\n",
              "      <td>No Lung Opacity / Not Normal</td>\n",
              "      <td>/content/drive/MyDrive/GreatLearning/Captone_p...</td>\n",
              "      <td>Train</td>\n",
              "      <td>NaN</td>\n",
              "      <td>19</td>\n",
              "      <td>M</td>\n",
              "      <td>AP</td>\n",
              "      <td>CHEST</td>\n",
              "    </tr>\n",
              "    <tr>\n",
              "      <th>3</th>\n",
              "      <td>3</td>\n",
              "      <td>003d8fa0-6bf1-40ed-b54c-ac657f8495c5</td>\n",
              "      <td>NaN</td>\n",
              "      <td>NaN</td>\n",
              "      <td>NaN</td>\n",
              "      <td>NaN</td>\n",
              "      <td>0</td>\n",
              "      <td>Normal</td>\n",
              "      <td>/content/drive/MyDrive/GreatLearning/Captone_p...</td>\n",
              "      <td>Train</td>\n",
              "      <td>NaN</td>\n",
              "      <td>28</td>\n",
              "      <td>M</td>\n",
              "      <td>PA</td>\n",
              "      <td>CHEST</td>\n",
              "    </tr>\n",
              "    <tr>\n",
              "      <th>4</th>\n",
              "      <td>4</td>\n",
              "      <td>00436515-870c-4b36-a041-de91049b9ab4</td>\n",
              "      <td>264.0</td>\n",
              "      <td>152.0</td>\n",
              "      <td>213.0</td>\n",
              "      <td>379.0</td>\n",
              "      <td>1</td>\n",
              "      <td>Lung Opacity</td>\n",
              "      <td>/content/drive/MyDrive/GreatLearning/Captone_p...</td>\n",
              "      <td>Train</td>\n",
              "      <td>80727.0</td>\n",
              "      <td>32</td>\n",
              "      <td>F</td>\n",
              "      <td>AP</td>\n",
              "      <td>CHEST</td>\n",
              "    </tr>\n",
              "  </tbody>\n",
              "</table>\n",
              "</div>"
            ],
            "text/plain": [
              "   Unnamed: 0  ... BodyPartExamined\n",
              "0           0  ...            CHEST\n",
              "1           1  ...            CHEST\n",
              "2           2  ...            CHEST\n",
              "3           3  ...            CHEST\n",
              "4           4  ...            CHEST\n",
              "\n",
              "[5 rows x 15 columns]"
            ]
          },
          "metadata": {},
          "execution_count": 6
        }
      ]
    },
    {
      "cell_type": "code",
      "metadata": {
        "id": "JfXoPvr1IkPx"
      },
      "source": [
        "# infected_pd = train_data.query(\"Target == 1\").sample(n=300,random_state = 32)[\"patientId\"]\n",
        "# for id in list(infected_pd):\n",
        "#   img_name = \"{}.{}\".format(id,\"jpg\")\n",
        "#   txt_name = \"{}.{}\".format(id,\"txt\")\n",
        "#   shutil.copyfile(os.path.join(IMG_SOURCE_PATH,img_name),os.path.join(AUTOGLUON_PATH,\"affected\",img_name))\n",
        "#   shutil.copyfile(os.path.join(LABEL_SOURCE_PATH,txt_name),os.path.join(AUTOGLUON_PATH,\"affected\",txt_name))"
      ],
      "execution_count": 7,
      "outputs": []
    },
    {
      "cell_type": "code",
      "metadata": {
        "id": "8bcBpKrOIiJk"
      },
      "source": [
        "# shutil.make_archive(os.path.join(AUTOGLUON_PATH,\"affected\"),\"zip\",os.path.join(AUTOGLUON_PATH,\"affected\"))"
      ],
      "execution_count": 8,
      "outputs": []
    },
    {
      "cell_type": "code",
      "metadata": {
        "id": "Lt4NtuN5On3f"
      },
      "source": [
        "# shutil.unpack_archive(os.path.join(AUTOGLUON_PATH,\"autogluon.zip\"), AUTOGLUON_PATH)\n"
      ],
      "execution_count": 9,
      "outputs": []
    },
    {
      "cell_type": "code",
      "metadata": {
        "id": "_tBZvGL3a5_i"
      },
      "source": [
        "# not_infected_pd = train_data.query(\"Target == 0\").sample(n=100,random_state = 32)[\"patientId\"]\n",
        "# for id in list(infected_pd):\n",
        "#   img_name = \"{}.{}\".format(id,\"jpg\")\n",
        "#   txt_name = \"{}.{}\".format(id,\"txt\")\n",
        "#   shutil.copyfile(os.path.join(IMG_SOURCE_PATH,img_name),os.path.join(AUTOGLUON_PATH,\"not_affected\",img_name))\n"
      ],
      "execution_count": 10,
      "outputs": []
    },
    {
      "cell_type": "code",
      "metadata": {
        "colab": {
          "base_uri": "https://localhost:8080/",
          "height": 202
        },
        "id": "YEZyIb-5zAEc",
        "outputId": "8b0e2766-9488-4e4f-b4ee-80892b20befe"
      },
      "source": [
        "dataset_train = ObjectDetector.Dataset.from_voc(\"/content/drive/MyDrive/GreatLearning/Captone_project/Code/Baala/autogluon/pheno_VOC\", splits='train')\n",
        "dataset_train.head()"
      ],
      "execution_count": 11,
      "outputs": [
        {
          "output_type": "execute_result",
          "data": {
            "text/html": [
              "<div>\n",
              "<style scoped>\n",
              "    .dataframe tbody tr th:only-of-type {\n",
              "        vertical-align: middle;\n",
              "    }\n",
              "\n",
              "    .dataframe tbody tr th {\n",
              "        vertical-align: top;\n",
              "    }\n",
              "\n",
              "    .dataframe thead th {\n",
              "        text-align: right;\n",
              "    }\n",
              "</style>\n",
              "<table border=\"1\" class=\"dataframe\">\n",
              "  <thead>\n",
              "    <tr style=\"text-align: right;\">\n",
              "      <th></th>\n",
              "      <th>image</th>\n",
              "      <th>rois</th>\n",
              "      <th>image_attr</th>\n",
              "    </tr>\n",
              "  </thead>\n",
              "  <tbody>\n",
              "    <tr>\n",
              "      <th>0</th>\n",
              "      <td>/content/drive/MyDrive/GreatLearning/Captone_p...</td>\n",
              "      <td>[{'class': '0', 'xmin': 0.1796875, 'ymin': 0.1...</td>\n",
              "      <td>{'width': 128.0, 'height': 128.0}</td>\n",
              "    </tr>\n",
              "    <tr>\n",
              "      <th>1</th>\n",
              "      <td>/content/drive/MyDrive/GreatLearning/Captone_p...</td>\n",
              "      <td>[{'class': '0', 'xmin': 0.1328125, 'ymin': 0.1...</td>\n",
              "      <td>{'width': 128.0, 'height': 128.0}</td>\n",
              "    </tr>\n",
              "    <tr>\n",
              "      <th>2</th>\n",
              "      <td>/content/drive/MyDrive/GreatLearning/Captone_p...</td>\n",
              "      <td>[{'class': '0', 'xmin': 0.3046875, 'ymin': 0.2...</td>\n",
              "      <td>{'width': 128.0, 'height': 128.0}</td>\n",
              "    </tr>\n",
              "    <tr>\n",
              "      <th>3</th>\n",
              "      <td>/content/drive/MyDrive/GreatLearning/Captone_p...</td>\n",
              "      <td>[{'class': '0', 'xmin': 0.46875, 'ymin': 0.320...</td>\n",
              "      <td>{'width': 128.0, 'height': 128.0}</td>\n",
              "    </tr>\n",
              "    <tr>\n",
              "      <th>4</th>\n",
              "      <td>/content/drive/MyDrive/GreatLearning/Captone_p...</td>\n",
              "      <td>[{'class': '0', 'xmin': 0.5546875, 'ymin': 0.3...</td>\n",
              "      <td>{'width': 128.0, 'height': 128.0}</td>\n",
              "    </tr>\n",
              "  </tbody>\n",
              "</table>\n",
              "</div>"
            ],
            "text/plain": [
              "                                               image  ...                         image_attr\n",
              "0  /content/drive/MyDrive/GreatLearning/Captone_p...  ...  {'width': 128.0, 'height': 128.0}\n",
              "1  /content/drive/MyDrive/GreatLearning/Captone_p...  ...  {'width': 128.0, 'height': 128.0}\n",
              "2  /content/drive/MyDrive/GreatLearning/Captone_p...  ...  {'width': 128.0, 'height': 128.0}\n",
              "3  /content/drive/MyDrive/GreatLearning/Captone_p...  ...  {'width': 128.0, 'height': 128.0}\n",
              "4  /content/drive/MyDrive/GreatLearning/Captone_p...  ...  {'width': 128.0, 'height': 128.0}\n",
              "\n",
              "[5 rows x 3 columns]"
            ]
          },
          "metadata": {},
          "execution_count": 11
        }
      ]
    },
    {
      "cell_type": "code",
      "metadata": {
        "id": "MpLsN779uLeW",
        "colab": {
          "base_uri": "https://localhost:8080/"
        },
        "outputId": "5a4c9c55-ff56-4431-8b3e-9e43439c8a6a"
      },
      "source": [
        "dataset_train.shape"
      ],
      "execution_count": 12,
      "outputs": [
        {
          "output_type": "execute_result",
          "data": {
            "text/plain": [
              "(170, 3)"
            ]
          },
          "metadata": {},
          "execution_count": 12
        }
      ]
    },
    {
      "cell_type": "code",
      "metadata": {
        "colab": {
          "base_uri": "https://localhost:8080/",
          "height": 202
        },
        "id": "PqpwacijPJ04",
        "outputId": "133f65d8-c2c0-49e3-da96-ad8b7d50e970"
      },
      "source": [
        "dataset_test = ObjectDetector.Dataset.from_voc(\"/content/drive/MyDrive/GreatLearning/Captone_project/Code/Baala/autogluon/pheno_VOC\", splits='test')\n",
        "dataset_test.head()"
      ],
      "execution_count": 13,
      "outputs": [
        {
          "output_type": "execute_result",
          "data": {
            "text/html": [
              "<div>\n",
              "<style scoped>\n",
              "    .dataframe tbody tr th:only-of-type {\n",
              "        vertical-align: middle;\n",
              "    }\n",
              "\n",
              "    .dataframe tbody tr th {\n",
              "        vertical-align: top;\n",
              "    }\n",
              "\n",
              "    .dataframe thead th {\n",
              "        text-align: right;\n",
              "    }\n",
              "</style>\n",
              "<table border=\"1\" class=\"dataframe\">\n",
              "  <thead>\n",
              "    <tr style=\"text-align: right;\">\n",
              "      <th></th>\n",
              "      <th>image</th>\n",
              "      <th>rois</th>\n",
              "      <th>image_attr</th>\n",
              "    </tr>\n",
              "  </thead>\n",
              "  <tbody>\n",
              "    <tr>\n",
              "      <th>0</th>\n",
              "      <td>/content/drive/MyDrive/GreatLearning/Captone_p...</td>\n",
              "      <td>[{'class': '0', 'xmin': 0.2734375, 'ymin': 0.5...</td>\n",
              "      <td>{'width': 128.0, 'height': 128.0}</td>\n",
              "    </tr>\n",
              "    <tr>\n",
              "      <th>1</th>\n",
              "      <td>/content/drive/MyDrive/GreatLearning/Captone_p...</td>\n",
              "      <td>[{'class': '0', 'xmin': 0.34375, 'ymin': 0.640...</td>\n",
              "      <td>{'width': 128.0, 'height': 128.0}</td>\n",
              "    </tr>\n",
              "    <tr>\n",
              "      <th>2</th>\n",
              "      <td>/content/drive/MyDrive/GreatLearning/Captone_p...</td>\n",
              "      <td>[{'class': '0', 'xmin': 0.5546875, 'ymin': 0.2...</td>\n",
              "      <td>{'width': 128.0, 'height': 128.0}</td>\n",
              "    </tr>\n",
              "    <tr>\n",
              "      <th>3</th>\n",
              "      <td>/content/drive/MyDrive/GreatLearning/Captone_p...</td>\n",
              "      <td>[{'class': '0', 'xmin': 0.5625, 'ymin': 0.25, ...</td>\n",
              "      <td>{'width': 128.0, 'height': 128.0}</td>\n",
              "    </tr>\n",
              "    <tr>\n",
              "      <th>4</th>\n",
              "      <td>/content/drive/MyDrive/GreatLearning/Captone_p...</td>\n",
              "      <td>[{'class': '0', 'xmin': 0.1328125, 'ymin': 0.2...</td>\n",
              "      <td>{'width': 128.0, 'height': 128.0}</td>\n",
              "    </tr>\n",
              "  </tbody>\n",
              "</table>\n",
              "</div>"
            ],
            "text/plain": [
              "                                               image  ...                         image_attr\n",
              "0  /content/drive/MyDrive/GreatLearning/Captone_p...  ...  {'width': 128.0, 'height': 128.0}\n",
              "1  /content/drive/MyDrive/GreatLearning/Captone_p...  ...  {'width': 128.0, 'height': 128.0}\n",
              "2  /content/drive/MyDrive/GreatLearning/Captone_p...  ...  {'width': 128.0, 'height': 128.0}\n",
              "3  /content/drive/MyDrive/GreatLearning/Captone_p...  ...  {'width': 128.0, 'height': 128.0}\n",
              "4  /content/drive/MyDrive/GreatLearning/Captone_p...  ...  {'width': 128.0, 'height': 128.0}\n",
              "\n",
              "[5 rows x 3 columns]"
            ]
          },
          "metadata": {},
          "execution_count": 13
        }
      ]
    },
    {
      "cell_type": "code",
      "metadata": {
        "id": "Ip9gv7ZbuOb2",
        "colab": {
          "base_uri": "https://localhost:8080/"
        },
        "outputId": "020a7bf6-ec5d-4f2f-f461-414c39f54c51"
      },
      "source": [
        "dataset_test.shape"
      ],
      "execution_count": 14,
      "outputs": [
        {
          "output_type": "execute_result",
          "data": {
            "text/plain": [
              "(20, 3)"
            ]
          },
          "metadata": {},
          "execution_count": 14
        }
      ]
    },
    {
      "cell_type": "code",
      "metadata": {
        "colab": {
          "base_uri": "https://localhost:8080/",
          "height": 1000,
          "referenced_widgets": [
            "f17c0e60813a41f29df43bc8ea42f3e7",
            "7564455759d64de4860509088df009cc",
            "7081c75caa1945d4bc14300182280424",
            "bc6338d3d2be49fab1febfeb3c7bbb82",
            "a7203eb88c5046b49c19be33cf4f3317",
            "d3106467f930488bb1b1389141a79603",
            "28daf2332ae04178822445c8d6690061",
            "5693eb17c22940e5adea4bbb0915b0be",
            "64465422dbb24571bf0b0b26022ce35a",
            "af64fcdf869844319770508319e98b94",
            "0de29031c54d4847aa5d6a067b7ce49b"
          ]
        },
        "id": "4NZEZMm9R_F2",
        "outputId": "3603f84b-bfe1-455c-dac9-c032b8e663a1"
      },
      "source": [
        "time_limit = 2*3600 # 4 hours\n",
        "\n",
        "hyperparameters= { \n",
        "    'transfer': ag.Categorical('yolo3_darknet53_coco',\n",
        "                               'yolo3_mobilenet1.0_coco' ),\n",
        "                        'learning_rate': ag.Real(1e-4, 1e-2, log=True),\n",
        "                        'batch_size': 64,\n",
        "                        'epochs': 10,\n",
        "                        'early_stop_patience': 2\n",
        "                        }\n",
        "hyperparameter_tune_kwargs =  {\n",
        "                        'num_trials': 3,\n",
        "                        'searcher': 'random',\n",
        "                    }                       \n",
        "\n",
        "detector = ObjectDetector()\n",
        "detector.fit(dataset_train,\n",
        "             hyperparameters=hyperparameters,\n",
        "             time_limit=time_limit,\n",
        "             hyperparameter_tune_kwargs=hyperparameter_tune_kwargs,\n",
        "             ngpus_per_trial=1)"
      ],
      "execution_count": null,
      "outputs": [
        {
          "output_type": "stream",
          "name": "stderr",
          "text": [
            "Randomly split train_data into train[148]/validation[22] splits.\n",
            "Starting HPO experiments\n"
          ]
        },
        {
          "output_type": "display_data",
          "data": {
            "application/vnd.jupyter.widget-view+json": {
              "model_id": "f17c0e60813a41f29df43bc8ea42f3e7",
              "version_minor": 0,
              "version_major": 2
            },
            "text/plain": [
              "  0%|          | 0/3 [00:00<?, ?it/s]"
            ]
          },
          "metadata": {}
        },
        {
          "output_type": "stream",
          "name": "stderr",
          "text": [
            "modified configs(<old> != <new>): {\n",
            "root.dataset_root    ~/.mxnet/datasets/ != auto\n",
            "root.train.early_stop_patience -1 != 2\n",
            "root.train.early_stop_baseline 0.0 != -inf\n",
            "root.train.early_stop_max_value 1.0 != inf\n",
            "root.train.seed      233 != 423\n",
            "root.train.epochs    20 != 10\n",
            "root.ssd.base_network vgg16_atrous != resnet50_v1\n",
            "root.ssd.data_shape  300 != 512\n",
            "root.gpus            (0, 1, 2, 3) != (0,)\n",
            "root.dataset         voc_tiny != auto\n",
            "}\n",
            "Saved config to /content/d1e1381f/.trial_0/config.yaml\n",
            "No gpu detected, fallback to cpu. You can ignore this warning if this is intended.\n",
            "Using transfer learning from ssd_512_resnet50_v1_coco, the other network parameters are ignored.\n",
            "Model file not found. Downloading.\n"
          ]
        },
        {
          "output_type": "stream",
          "name": "stdout",
          "text": [
            "Downloading /root/.mxnet/models/ssd_512_resnet50_v1_coco-c4835162.zip from https://apache-mxnet.s3-accelerate.dualstack.amazonaws.com/gluon/models/ssd_512_resnet50_v1_coco-c4835162.zip...\n"
          ]
        },
        {
          "output_type": "stream",
          "name": "stderr",
          "text": [
            "\n",
            "  0%|          | 0/181188 [00:00<?, ?KB/s]\u001b[A\n",
            "  3%|▎         | 4779/181188 [00:00<00:03, 47786.51KB/s]\u001b[A\n",
            "  6%|▌         | 10713/181188 [00:00<00:03, 54580.75KB/s]\u001b[A\n",
            "  9%|▉         | 16788/181188 [00:00<00:02, 57395.06KB/s]\u001b[A\n",
            " 12%|█▏        | 22528/181188 [00:00<00:02, 54047.75KB/s]\u001b[A\n",
            " 15%|█▌        | 27961/181188 [00:00<00:03, 47013.24KB/s]\u001b[A\n",
            " 18%|█▊        | 32889/181188 [00:00<00:03, 42547.02KB/s]\u001b[A\n",
            " 22%|██▏       | 39043/181188 [00:00<00:02, 47807.33KB/s]\u001b[A\n",
            " 25%|██▌       | 45600/181188 [00:00<00:02, 52844.20KB/s]\u001b[A\n",
            " 28%|██▊       | 51072/181188 [00:01<00:02, 50830.93KB/s]\u001b[A\n",
            " 31%|███       | 56290/181188 [00:01<00:02, 49671.21KB/s]\u001b[A\n",
            " 35%|███▍      | 62661/181188 [00:01<00:02, 53610.19KB/s]\u001b[A\n",
            " 38%|███▊      | 69274/181188 [00:01<00:01, 57191.89KB/s]\u001b[A\n",
            " 41%|████▏     | 75085/181188 [00:01<00:02, 45977.21KB/s]\u001b[A\n",
            " 44%|████▍     | 80082/181188 [00:01<00:02, 40836.09KB/s]\u001b[A\n",
            " 47%|████▋     | 84511/181188 [00:01<00:03, 31458.38KB/s]\u001b[A\n",
            " 50%|████▉     | 90405/181188 [00:02<00:02, 37039.40KB/s]\u001b[A\n",
            " 53%|█████▎    | 95988/181188 [00:02<00:02, 41264.78KB/s]\u001b[A\n",
            " 56%|█████▌    | 101759/181188 [00:02<00:01, 45262.48KB/s]\u001b[A\n",
            " 60%|█████▉    | 108290/181188 [00:02<00:01, 50430.15KB/s]\u001b[A\n",
            " 63%|██████▎   | 113768/181188 [00:02<00:01, 39177.58KB/s]\u001b[A\n",
            " 65%|██████▌   | 118357/181188 [00:02<00:01, 32218.11KB/s]\u001b[A\n",
            " 67%|██████▋   | 122205/181188 [00:02<00:01, 31185.50KB/s]\u001b[A\n",
            " 69%|██████▉   | 125745/181188 [00:03<00:01, 30348.34KB/s]\u001b[A\n",
            " 72%|███████▏  | 131063/181188 [00:03<00:01, 31951.33KB/s]\u001b[A\n",
            " 76%|███████▌  | 137317/181188 [00:03<00:01, 38786.94KB/s]\u001b[A\n",
            " 79%|███████▉  | 143101/181188 [00:03<00:00, 43397.21KB/s]\u001b[A\n",
            " 83%|████████▎ | 149561/181188 [00:03<00:00, 48842.21KB/s]\u001b[A\n",
            " 86%|████████▌ | 155429/181188 [00:03<00:00, 51480.79KB/s]\u001b[A\n",
            " 89%|████████▉ | 161785/181188 [00:03<00:00, 54825.62KB/s]\u001b[A\n",
            " 93%|█████████▎| 168264/181188 [00:03<00:00, 57647.50KB/s]\u001b[A\n",
            " 96%|█████████▌| 174200/181188 [00:03<00:00, 57235.48KB/s]\u001b[A\n",
            "181189KB [00:03, 45491.82KB/s]                            \n",
            "Start training from [Epoch 0]\n",
            "[Epoch 0] Training cost: 158.376359, CrossEntropy=4.358005, SmoothL1=2.599828\n",
            "[Epoch 0] Validation: \n",
            "0=0.002688250255380577\n",
            "mAP=0.002688250255380577\n",
            "[Epoch 0] Current best map: 0.002688 vs previous 0.000000, saved to /content/d1e1381f/.trial_0/best_checkpoint.pkl\n",
            "[Epoch 1] Training cost: 155.427224, CrossEntropy=2.833021, SmoothL1=2.333060\n",
            "[Epoch 1] Validation: \n",
            "0=0.05648651105914276\n",
            "mAP=0.05648651105914276\n",
            "[Epoch 1] Current best map: 0.056487 vs previous 0.002688, saved to /content/d1e1381f/.trial_0/best_checkpoint.pkl\n",
            "[Epoch 2] Training cost: 152.544232, CrossEntropy=2.602382, SmoothL1=2.080375\n",
            "[Epoch 2] Validation: \n",
            "0=0.1585302450468572\n",
            "mAP=0.1585302450468572\n",
            "[Epoch 2] Current best map: 0.158530 vs previous 0.056487, saved to /content/d1e1381f/.trial_0/best_checkpoint.pkl\n",
            "[Epoch 3] Training cost: 170.231775, CrossEntropy=2.496235, SmoothL1=1.958687\n",
            "[Epoch 3] Validation: \n",
            "0=0.25327680246952017\n",
            "mAP=0.25327680246952017\n",
            "[Epoch 3] Current best map: 0.253277 vs previous 0.158530, saved to /content/d1e1381f/.trial_0/best_checkpoint.pkl\n",
            "[Epoch 4] Training cost: 153.853439, CrossEntropy=2.471364, SmoothL1=1.802452\n",
            "[Epoch 4] Validation: \n",
            "0=0.18566630482091065\n",
            "mAP=0.18566630482091065\n",
            "[Epoch 5] Training cost: 153.927683, CrossEntropy=2.441169, SmoothL1=1.898838\n",
            "[Epoch 5] Validation: \n",
            "0=0.34154117374847326\n",
            "mAP=0.34154117374847326\n",
            "[Epoch 5] Current best map: 0.341541 vs previous 0.253277, saved to /content/d1e1381f/.trial_0/best_checkpoint.pkl\n",
            "[Epoch 6] Training cost: 152.888987, CrossEntropy=2.410614, SmoothL1=1.860297\n",
            "[Epoch 6] Validation: \n",
            "0=0.38856274763068727\n",
            "mAP=0.38856274763068727\n",
            "[Epoch 6] Current best map: 0.388563 vs previous 0.341541, saved to /content/d1e1381f/.trial_0/best_checkpoint.pkl\n",
            "[Epoch 7] Training cost: 170.752038, CrossEntropy=2.367631, SmoothL1=1.705202\n",
            "[Epoch 7] Validation: \n",
            "0=0.3249046939304519\n",
            "mAP=0.3249046939304519\n",
            "[Epoch 8] Training cost: 152.400842, CrossEntropy=2.375043, SmoothL1=1.618651\n",
            "[Epoch 8] Validation: \n",
            "0=0.35824593980280495\n",
            "mAP=0.35824593980280495\n",
            "[Epoch 9] EarlyStop after 2 epochs: no better than 0.38856274763068727\n",
            "Applying the state from the best checkpoint...\n",
            "Model file not found. Downloading.\n"
          ]
        },
        {
          "output_type": "stream",
          "name": "stdout",
          "text": [
            "Downloading /root/.mxnet/models/resnet50_v1-cc729d95.zip from https://apache-mxnet.s3-accelerate.dualstack.amazonaws.com/gluon/models/resnet50_v1-cc729d95.zip...\n"
          ]
        },
        {
          "output_type": "stream",
          "name": "stderr",
          "text": [
            "\n",
            "  0%|          | 0/57421 [00:00<?, ?KB/s]\u001b[A\n",
            "  7%|▋         | 4156/57421 [00:00<00:01, 41556.97KB/s]\u001b[A\n",
            " 19%|█▊        | 10667/57421 [00:00<00:00, 55408.43KB/s]\u001b[A\n",
            " 30%|███       | 17250/57421 [00:00<00:00, 60164.92KB/s]\u001b[A\n",
            " 41%|████      | 23267/57421 [00:00<00:00, 57257.02KB/s]\u001b[A\n",
            " 51%|█████     | 29123/57421 [00:00<00:00, 57706.72KB/s]\u001b[A\n",
            " 62%|██████▏   | 35636/57421 [00:00<00:00, 60174.79KB/s]\u001b[A\n",
            " 73%|███████▎  | 41669/57421 [00:00<00:00, 59959.99KB/s]\u001b[A\n",
            " 84%|████████▍ | 48093/57421 [00:00<00:00, 61292.27KB/s]\u001b[A\n",
            "100%|██████████| 57421/57421 [00:00<00:00, 59425.74KB/s]\n",
            "modified configs(<old> != <new>): {\n",
            "root.dataset_root    ~/.mxnet/datasets/ != auto\n",
            "root.train.early_stop_patience -1 != 2\n",
            "root.train.early_stop_baseline 0.0 != -inf\n",
            "root.train.early_stop_max_value 1.0 != inf\n",
            "root.train.seed      233 != 423\n",
            "root.train.epochs    20 != 10\n",
            "root.ssd.base_network vgg16_atrous != resnet50_v1\n",
            "root.ssd.data_shape  300 != 512\n",
            "root.gpus            (0, 1, 2, 3) != (0,)\n",
            "root.dataset         voc_tiny != auto\n",
            "}\n",
            "Saved config to /content/d1e1381f/.trial_1/config.yaml\n",
            "No gpu detected, fallback to cpu. You can ignore this warning if this is intended.\n",
            "Using transfer learning from ssd_512_resnet50_v1_coco, the other network parameters are ignored.\n",
            "Start training from [Epoch 0]\n",
            "[Epoch 0] Training cost: 163.007291, CrossEntropy=4.659485, SmoothL1=2.642077\n",
            "[Epoch 0] Validation: \n",
            "0=0.01110642173939081\n",
            "mAP=0.01110642173939081\n",
            "[Epoch 0] Current best map: 0.011106 vs previous 0.000000, saved to /content/d1e1381f/.trial_1/best_checkpoint.pkl\n",
            "[Epoch 1] Training cost: 155.886626, CrossEntropy=2.801306, SmoothL1=2.041779\n",
            "[Epoch 1] Validation: \n",
            "0=0.15630679113920612\n",
            "mAP=0.15630679113920612\n",
            "[Epoch 1] Current best map: 0.156307 vs previous 0.011106, saved to /content/d1e1381f/.trial_1/best_checkpoint.pkl\n",
            "[Epoch 2] Training cost: 152.946040, CrossEntropy=2.551768, SmoothL1=1.994582\n",
            "[Epoch 2] Validation: \n",
            "0=0.13525236277481964\n",
            "mAP=0.13525236277481964\n",
            "[Epoch 3] Training cost: 169.948793, CrossEntropy=2.492544, SmoothL1=1.858210\n",
            "[Epoch 3] Validation: \n",
            "0=0.23268506461472294\n",
            "mAP=0.23268506461472294\n",
            "[Epoch 3] Current best map: 0.232685 vs previous 0.156307, saved to /content/d1e1381f/.trial_1/best_checkpoint.pkl\n",
            "[Epoch 4] Training cost: 153.004436, CrossEntropy=2.433728, SmoothL1=1.814671\n",
            "[Epoch 4] Validation: \n",
            "0=0.3679410422138303\n",
            "mAP=0.3679410422138303\n",
            "[Epoch 4] Current best map: 0.367941 vs previous 0.232685, saved to /content/d1e1381f/.trial_1/best_checkpoint.pkl\n"
          ]
        }
      ]
    },
    {
      "cell_type": "code",
      "metadata": {
        "id": "Z6IHubPnttom"
      },
      "source": [
        "train_map = detector.evaluate(dataset_train)\n",
        "print(\"mAP on train dataset: {}\".format(train_map[1][1]))\n",
        "\n",
        "\n",
        "test_map = detector.evaluate(dataset_test)\n",
        "print(\"mAP on test dataset: {}\".format(test_map[1][1]))\n",
        "\n",
        "# visualization\n",
        "result = detector.predict(dataset_test.iloc[0]['image'])\n",
        "print('Prediction result:', result)"
      ],
      "execution_count": null,
      "outputs": []
    },
    {
      "cell_type": "code",
      "metadata": {
        "id": "4kVj8zBt-40r"
      },
      "source": [
        "savefile = '/content/drive/MyDrive/GreatLearning/Captone_project/Code/Baala/model/detector_autog_v1.pkl'\n",
        "#detector.save(savefile)\n",
        "new_detector = ObjectDetector.load(savefile)\n",
        "\n",
        "result = new_detector.predict(dataset_test.iloc[0]['image'])\n",
        "print('Prediction result:', result)\n",
        "\n",
        "test_map = new_detector.evaluate(dataset_test)\n",
        "print(\"mAP on test dataset: {}\".format(test_map[1][1]))\n"
      ],
      "execution_count": null,
      "outputs": []
    },
    {
      "cell_type": "code",
      "metadata": {
        "id": "zBqe40Nd3sZQ"
      },
      "source": [
        "# imgcv = cv2.imread(dataset_train.iloc[0][\"image\"])\n",
        "\n",
        "# cv2.rectangle(imgcv, (int(0.2403846153846154 * 416),\n",
        "#                       int(0.6995192307692307*416)), \n",
        "#               (int(0.4110576923076923*416), int(0.7740384615384616*416)), (255,0,0), 2)\n",
        "\n",
        "# cv2.rectangle(imgcv, (int(0.10230743885040283 * 416),\n",
        "#                       int(0*416)), \n",
        "#               (int(0.8006809949874878*416), int(1*416)), (255,0,255), 2)\n",
        "# plt.imshow(imgcv,\"bone\") \n",
        "# plt.show()\n"
      ],
      "execution_count": null,
      "outputs": []
    }
  ]
}