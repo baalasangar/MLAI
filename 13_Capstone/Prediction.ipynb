{
  "nbformat": 4,
  "nbformat_minor": 0,
  "metadata": {
    "colab": {
      "name": "Prediction.ipynb",
      "provenance": [],
      "mount_file_id": "1Ru2gT1wN5rx-WLoNzh9p95XCoVodomIe",
      "authorship_tag": "ABX9TyOAqtJhkEOSEr/9G0551NRY",
      "include_colab_link": true
    },
    "kernelspec": {
      "name": "python3",
      "display_name": "Python 3"
    },
    "language_info": {
      "name": "python"
    }
  },
  "cells": [
    {
      "cell_type": "markdown",
      "metadata": {
        "id": "view-in-github",
        "colab_type": "text"
      },
      "source": [
        "<a href=\"https://colab.research.google.com/github/baalasangar/MLAI/blob/master/13_Capstone/Prediction.ipynb\" target=\"_parent\"><img src=\"https://colab.research.google.com/assets/colab-badge.svg\" alt=\"Open In Colab\"/></a>"
      ]
    },
    {
      "cell_type": "code",
      "metadata": {
        "id": "rrxuimTSxPYU"
      },
      "source": [
        "# !pip install pydicom\n",
        "# !pip install -U pip\n",
        "# !pip install -U setuptools wheel\n",
        "# !pip install -U \"mxnet<2.0.0\"\n",
        "# !pip install autogluon"
      ],
      "execution_count": null,
      "outputs": []
    },
    {
      "cell_type": "markdown",
      "metadata": {
        "id": "4GZvRbVb1gIj"
      },
      "source": [
        "### Import lib"
      ]
    },
    {
      "cell_type": "code",
      "metadata": {
        "id": "fMNrtHP_x_NG"
      },
      "source": [
        "import pandas as pd \n",
        "import numpy as np\n",
        "import os\n",
        "import pydicom as dicom\n",
        "import cv2\n",
        "import shutil\n",
        "\n",
        "import matplotlib.pyplot as plt\n",
        "from matplotlib.patches import Rectangle\n",
        "\n",
        "import autogluon.core as ag\n",
        "from autogluon.vision import ObjectDetector\n",
        "\n",
        "import tensorflow as tf\n",
        "from tensorflow.keras.models import load_model"
      ],
      "execution_count": 6,
      "outputs": []
    },
    {
      "cell_type": "markdown",
      "metadata": {
        "id": "7Rz6VBWk6Skv"
      },
      "source": [
        "### load model"
      ]
    },
    {
      "cell_type": "code",
      "metadata": {
        "id": "PNKihQ3r6SDb"
      },
      "source": [
        "OBJECT_DETECTION =  '/content/drive/MyDrive/GreatLearning/Captone_project/Code/Baala/model/detector_autog_v1.pkl'\n",
        "CLASSIFICATION = tf.keras.models.load_model(\"/content/drive/MyDrive/GreatLearning/Captone_project/Code/Baala/model/resnet152_model.h5\")"
      ],
      "execution_count": null,
      "outputs": []
    },
    {
      "cell_type": "markdown",
      "metadata": {
        "id": "_uThMfB51kir"
      },
      "source": [
        "### load predict data"
      ]
    },
    {
      "cell_type": "code",
      "metadata": {
        "colab": {
          "base_uri": "https://localhost:8080/",
          "height": 202
        },
        "id": "IaMG67FH1nUt",
        "outputId": "ed1cd760-8e22-48ed-e964-ba9022aa635f"
      },
      "source": [
        "predict_data = pd.read_csv(\"/content/drive/MyDrive/GreatLearning/Captone_project/Code/Baala/predict.csv\")\n",
        "predict_data.head()"
      ],
      "execution_count": 5,
      "outputs": [
        {
          "output_type": "execute_result",
          "data": {
            "text/html": [
              "<div>\n",
              "<style scoped>\n",
              "    .dataframe tbody tr th:only-of-type {\n",
              "        vertical-align: middle;\n",
              "    }\n",
              "\n",
              "    .dataframe tbody tr th {\n",
              "        vertical-align: top;\n",
              "    }\n",
              "\n",
              "    .dataframe thead th {\n",
              "        text-align: right;\n",
              "    }\n",
              "</style>\n",
              "<table border=\"1\" class=\"dataframe\">\n",
              "  <thead>\n",
              "    <tr style=\"text-align: right;\">\n",
              "      <th></th>\n",
              "      <th>image</th>\n",
              "      <th>rois</th>\n",
              "      <th>image_attr</th>\n",
              "    </tr>\n",
              "  </thead>\n",
              "  <tbody>\n",
              "    <tr>\n",
              "      <th>0</th>\n",
              "      <td>/content/drive/MyDrive/GreatLearning/Captone_p...</td>\n",
              "      <td>[{'class': '0', 'xmin': 0.15625, 'ymin': 0.179...</td>\n",
              "      <td>{'width': 128.0, 'height': 128.0}</td>\n",
              "    </tr>\n",
              "    <tr>\n",
              "      <th>1</th>\n",
              "      <td>/content/drive/MyDrive/GreatLearning/Captone_p...</td>\n",
              "      <td>[{'class': '0', 'xmin': 0.5546875, 'ymin': 0.3...</td>\n",
              "      <td>{'width': 128.0, 'height': 128.0}</td>\n",
              "    </tr>\n",
              "    <tr>\n",
              "      <th>2</th>\n",
              "      <td>/content/drive/MyDrive/GreatLearning/Captone_p...</td>\n",
              "      <td>[{'class': '0', 'xmin': 0.1875, 'ymin': 0.2187...</td>\n",
              "      <td>{'width': 128.0, 'height': 128.0}</td>\n",
              "    </tr>\n",
              "    <tr>\n",
              "      <th>3</th>\n",
              "      <td>/content/drive/MyDrive/GreatLearning/Captone_p...</td>\n",
              "      <td>[{'class': '0', 'xmin': 0.6171875, 'ymin': 0.7...</td>\n",
              "      <td>{'width': 128.0, 'height': 128.0}</td>\n",
              "    </tr>\n",
              "    <tr>\n",
              "      <th>4</th>\n",
              "      <td>/content/drive/MyDrive/GreatLearning/Captone_p...</td>\n",
              "      <td>[{'class': '0', 'xmin': 0.2265625, 'ymin': 0.2...</td>\n",
              "      <td>{'width': 128.0, 'height': 128.0}</td>\n",
              "    </tr>\n",
              "  </tbody>\n",
              "</table>\n",
              "</div>"
            ],
            "text/plain": [
              "                                               image  ...                         image_attr\n",
              "0  /content/drive/MyDrive/GreatLearning/Captone_p...  ...  {'width': 128.0, 'height': 128.0}\n",
              "1  /content/drive/MyDrive/GreatLearning/Captone_p...  ...  {'width': 128.0, 'height': 128.0}\n",
              "2  /content/drive/MyDrive/GreatLearning/Captone_p...  ...  {'width': 128.0, 'height': 128.0}\n",
              "3  /content/drive/MyDrive/GreatLearning/Captone_p...  ...  {'width': 128.0, 'height': 128.0}\n",
              "4  /content/drive/MyDrive/GreatLearning/Captone_p...  ...  {'width': 128.0, 'height': 128.0}\n",
              "\n",
              "[5 rows x 3 columns]"
            ]
          },
          "metadata": {},
          "execution_count": 5
        }
      ]
    },
    {
      "cell_type": "code",
      "metadata": {
        "id": "zekHyZn95-je"
      },
      "source": [
        "def CLAHEprocessing(img):\n",
        "  clahe = cv2.createCLAHE(clipLimit = 5)\n",
        "  clahe_img = clahe.apply(img) + 30\n",
        "  return clahe_img\n",
        "\n",
        "def predict_classification_score(dcm_image_pix):\n",
        "    X_image_reshaped = [cv2.resize(img,(150,150)) for img in [dcm_image_pix]]\n",
        "    normalizeimg = lambda x: (np.array(x) / 255.0).astype('float32')\n",
        "    X_image_reshaped = normalizeimg(X_image_reshaped)\n",
        "    X_image_reshaped = np.repeat(X_image_reshaped[..., np.newaxis], 3, -1)\n",
        "    predicted = model.predict(X_image_reshaped)\n",
        "    return int(round(predicted[0][0]*100,0))    \n",
        "\n",
        "def predict(img):\n",
        "      img_enhanced = CLAHEprocessing(img)\n",
        "      prediction_score = predict_classification_score(img_enhanced)\n",
        "      infected = \"NOT Affected\"\n",
        "      if prediction_score > 50:\n",
        "        infected = \"Affected\"  \n",
        "        fontcolor = \"red\"\n",
        "      else:\n",
        "        prediction_score = 100 - prediction_score\n",
        "      print(\"{} ( probability score {} %)\".format(infected,prediction_score))   \n",
        "\n"
      ],
      "execution_count": 7,
      "outputs": []
    },
    {
      "cell_type": "code",
      "metadata": {
        "id": "XLdJVbbj7Hfm"
      },
      "source": [
        "for index,row in predict_data.iterrows():\n",
        "   imgcv = cv2.imread(row[\"image\"])\n"
      ],
      "execution_count": null,
      "outputs": []
    }
  ]
}