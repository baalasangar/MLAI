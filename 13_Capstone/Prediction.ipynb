{
  "nbformat": 4,
  "nbformat_minor": 0,
  "metadata": {
    "colab": {
      "name": "Prediction.ipynb",
      "provenance": [],
      "mount_file_id": "1Ru2gT1wN5rx-WLoNzh9p95XCoVodomIe",
      "authorship_tag": "ABX9TyOQogMvYdgpt9L/S6ycQNXJ",
      "include_colab_link": true
    },
    "kernelspec": {
      "name": "python3",
      "display_name": "Python 3"
    },
    "language_info": {
      "name": "python"
    }
  },
  "cells": [
    {
      "cell_type": "markdown",
      "metadata": {
        "id": "view-in-github",
        "colab_type": "text"
      },
      "source": [
        "<a href=\"https://colab.research.google.com/github/baalasangar/MLAI/blob/master/13_Capstone/Prediction.ipynb\" target=\"_parent\"><img src=\"https://colab.research.google.com/assets/colab-badge.svg\" alt=\"Open In Colab\"/></a>"
      ]
    },
    {
      "cell_type": "code",
      "metadata": {
        "id": "rrxuimTSxPYU"
      },
      "source": [
        "# !pip install pydicom\n",
        "# !pip install -U pip\n",
        "# !pip install -U setuptools wheel\n",
        "# !pip install -U \"mxnet<2.0.0\"\n",
        "# !pip install autogluon"
      ],
      "execution_count": null,
      "outputs": []
    },
    {
      "cell_type": "markdown",
      "metadata": {
        "id": "4GZvRbVb1gIj"
      },
      "source": [
        "### Import lib"
      ]
    },
    {
      "cell_type": "code",
      "metadata": {
        "id": "fMNrtHP_x_NG"
      },
      "source": [
        "import pandas as pd \n",
        "import numpy as np\n",
        "import os\n",
        "import pydicom as dicom\n",
        "import cv2\n",
        "import shutil\n",
        "\n",
        "import matplotlib.pyplot as plt\n",
        "from matplotlib.patches import Rectangle\n",
        "\n",
        "import autogluon.core as ag\n",
        "from autogluon.vision import ObjectDetector\n",
        "\n",
        "import tensorflow as tf\n",
        "from tensorflow.keras.models import load_model"
      ],
      "execution_count": 6,
      "outputs": []
    },
    {
      "cell_type": "markdown",
      "metadata": {
        "id": "7Rz6VBWk6Skv"
      },
      "source": [
        "### load model"
      ]
    },
    {
      "cell_type": "code",
      "metadata": {
        "colab": {
          "base_uri": "https://localhost:8080/"
        },
        "id": "PNKihQ3r6SDb",
        "outputId": "80b4970e-e152-4354-d7d8-4e323fcec5f8"
      },
      "source": [
        "OBJECT_DETECTION =  '/content/drive/MyDrive/GreatLearning/Captone_project/Code/Baala/model/detector_autog_v1.pkl'\n",
        "CLASSIFICATION = \"/content/drive/MyDrive/GreatLearning/Captone_project/Code/Baala/model/resnet152_model.h5\"\n",
        "\n",
        "model = tf.keras.models.load_model(CLASSIFICATION)\n",
        "object_detector = ObjectDetector.load(OBJECT_DETECTION)\n",
        "\n"
      ],
      "execution_count": 19,
      "outputs": [
        {
          "output_type": "stream",
          "name": "stdout",
          "text": [
            "Downloading /root/.mxnet/models/resnet50_v1-cc729d95.zip from https://apache-mxnet.s3-accelerate.dualstack.amazonaws.com/gluon/models/resnet50_v1-cc729d95.zip...\n"
          ]
        },
        {
          "output_type": "stream",
          "name": "stderr",
          "text": [
            "100%|██████████| 57421/57421 [00:01<00:00, 35810.62KB/s]\n",
            "/usr/local/lib/python3.7/dist-packages/mxnet/gluon/block.py:1591: UserWarning: Cannot decide type for the following arguments. Consider providing them as input:\n",
            "\tdata: None\n",
            "  input_sym_arg_type = in_param.infer_type()[0]\n"
          ]
        }
      ]
    },
    {
      "cell_type": "markdown",
      "metadata": {
        "id": "_uThMfB51kir"
      },
      "source": [
        "### load predict data"
      ]
    },
    {
      "cell_type": "code",
      "metadata": {
        "colab": {
          "base_uri": "https://localhost:8080/",
          "height": 202
        },
        "id": "IaMG67FH1nUt",
        "outputId": "ed1cd760-8e22-48ed-e964-ba9022aa635f"
      },
      "source": [
        "predict_data = pd.read_csv(\"/content/drive/MyDrive/GreatLearning/Captone_project/Code/Baala/predict.csv\")\n",
        "predict_data.head()"
      ],
      "execution_count": 5,
      "outputs": [
        {
          "output_type": "execute_result",
          "data": {
            "text/html": [
              "<div>\n",
              "<style scoped>\n",
              "    .dataframe tbody tr th:only-of-type {\n",
              "        vertical-align: middle;\n",
              "    }\n",
              "\n",
              "    .dataframe tbody tr th {\n",
              "        vertical-align: top;\n",
              "    }\n",
              "\n",
              "    .dataframe thead th {\n",
              "        text-align: right;\n",
              "    }\n",
              "</style>\n",
              "<table border=\"1\" class=\"dataframe\">\n",
              "  <thead>\n",
              "    <tr style=\"text-align: right;\">\n",
              "      <th></th>\n",
              "      <th>image</th>\n",
              "      <th>rois</th>\n",
              "      <th>image_attr</th>\n",
              "    </tr>\n",
              "  </thead>\n",
              "  <tbody>\n",
              "    <tr>\n",
              "      <th>0</th>\n",
              "      <td>/content/drive/MyDrive/GreatLearning/Captone_p...</td>\n",
              "      <td>[{'class': '0', 'xmin': 0.15625, 'ymin': 0.179...</td>\n",
              "      <td>{'width': 128.0, 'height': 128.0}</td>\n",
              "    </tr>\n",
              "    <tr>\n",
              "      <th>1</th>\n",
              "      <td>/content/drive/MyDrive/GreatLearning/Captone_p...</td>\n",
              "      <td>[{'class': '0', 'xmin': 0.5546875, 'ymin': 0.3...</td>\n",
              "      <td>{'width': 128.0, 'height': 128.0}</td>\n",
              "    </tr>\n",
              "    <tr>\n",
              "      <th>2</th>\n",
              "      <td>/content/drive/MyDrive/GreatLearning/Captone_p...</td>\n",
              "      <td>[{'class': '0', 'xmin': 0.1875, 'ymin': 0.2187...</td>\n",
              "      <td>{'width': 128.0, 'height': 128.0}</td>\n",
              "    </tr>\n",
              "    <tr>\n",
              "      <th>3</th>\n",
              "      <td>/content/drive/MyDrive/GreatLearning/Captone_p...</td>\n",
              "      <td>[{'class': '0', 'xmin': 0.6171875, 'ymin': 0.7...</td>\n",
              "      <td>{'width': 128.0, 'height': 128.0}</td>\n",
              "    </tr>\n",
              "    <tr>\n",
              "      <th>4</th>\n",
              "      <td>/content/drive/MyDrive/GreatLearning/Captone_p...</td>\n",
              "      <td>[{'class': '0', 'xmin': 0.2265625, 'ymin': 0.2...</td>\n",
              "      <td>{'width': 128.0, 'height': 128.0}</td>\n",
              "    </tr>\n",
              "  </tbody>\n",
              "</table>\n",
              "</div>"
            ],
            "text/plain": [
              "                                               image  ...                         image_attr\n",
              "0  /content/drive/MyDrive/GreatLearning/Captone_p...  ...  {'width': 128.0, 'height': 128.0}\n",
              "1  /content/drive/MyDrive/GreatLearning/Captone_p...  ...  {'width': 128.0, 'height': 128.0}\n",
              "2  /content/drive/MyDrive/GreatLearning/Captone_p...  ...  {'width': 128.0, 'height': 128.0}\n",
              "3  /content/drive/MyDrive/GreatLearning/Captone_p...  ...  {'width': 128.0, 'height': 128.0}\n",
              "4  /content/drive/MyDrive/GreatLearning/Captone_p...  ...  {'width': 128.0, 'height': 128.0}\n",
              "\n",
              "[5 rows x 3 columns]"
            ]
          },
          "metadata": {},
          "execution_count": 5
        }
      ]
    },
    {
      "cell_type": "code",
      "metadata": {
        "id": "zekHyZn95-je"
      },
      "source": [
        "def CLAHEprocessing(img):\n",
        "  clahe = cv2.createCLAHE(clipLimit = 5)\n",
        "  clahe_img = clahe.apply(img) + 30\n",
        "  return clahe_img\n",
        "\n",
        "def predict_classification_score(dcm_image_pix):\n",
        "    X_image_reshaped = [cv2.resize(img,(150,150)) for img in [dcm_image_pix]]\n",
        "    normalizeimg = lambda x: (np.array(x) / 255.0).astype('float32')\n",
        "    X_image_reshaped = normalizeimg(X_image_reshaped)\n",
        "    # X_image_reshaped = np.repeat(X_image_reshaped[..., np.newaxis], 3, -1)\n",
        "    predicted = model.predict(X_image_reshaped)\n",
        "    return int(round(predicted[0][0]*100,0))\n",
        "\n",
        "\n",
        "def predict_boundary_box(model,imagepath,imgcv):\n",
        "  result = model.predict(imagepath)\n",
        "  result = result.query(\"predict_score >= 0.5\") \n",
        "  #result = result[:3]\n",
        "  for index,predictrow in result.iterrows():\n",
        "    predictedVal = predictrow[\"predict_rois\"]\n",
        "    # print(predictrow[\"predict_score\"])\n",
        "    cv2.rectangle(imgcv, (int(predictedVal[\"xmin\"] * 128),int(predictedVal[\"ymin\"] * 128)),\n",
        "                  (int(predictedVal[\"xmax\"] * 128),int(predictedVal[\"ymax\"] * 128)), (0,255,0), 1)\n",
        "    cv2.putText(imgcv,str(round(predictrow[\"predict_score\"],2)),\n",
        "                (int(predictedVal[\"xmin\"] * 128),int(predictedVal[\"ymin\"] * 128)), 0,0.3, (0, 255, 0))\n",
        "  return imgcv        \n",
        "\n",
        "   \n",
        "def draw_boundary_box(row):\n",
        "  imgcv = cv2.imread(row[\"image\"])\n",
        "  imgcv = predict(object_detector,row[\"image\"],imgcv)\n",
        "  for trueVal in row[\"rois\"]:\n",
        "    #print(trueVal[\"xmin\"])\n",
        "    cv2.rectangle(imgcv, (int(trueVal[\"xmin\"] * 128),int(trueVal[\"ymin\"] * 128)),\n",
        "                  (int(trueVal[\"xmax\"] * 128),int(trueVal[\"ymax\"] * 128)), (255,0,0), 1)\n",
        "    \n",
        "  plt.imshow(imgcv,\"bone\") \n",
        "  plt.axis('off')\n",
        "  plt.show()\n"
      ],
      "execution_count": 17,
      "outputs": []
    },
    {
      "cell_type": "code",
      "metadata": {
        "id": "slEUuflCMbZH"
      },
      "source": [
        "def predict(row):\n",
        "      imgcv = cv2.imread(row[\"image\"])\n",
        "      img_enhanced = imgcv\n",
        "      prediction_score = predict_classification_score(img_enhanced)\n",
        "      infected = \"NOT Affected\"\n",
        "      if prediction_score > 50:\n",
        "        infected = \"Affected\"  \n",
        "        fontcolor = \"red\"\n",
        "      else:\n",
        "        prediction_score = 100 - prediction_score\n",
        "      print(\"{} ( probability score {} %)\".format(infected,prediction_score))\n",
        "      draw_boundary_box(row)"
      ],
      "execution_count": null,
      "outputs": []
    },
    {
      "cell_type": "code",
      "metadata": {
        "colab": {
          "base_uri": "https://localhost:8080/"
        },
        "id": "XLdJVbbj7Hfm",
        "outputId": "a23684c1-e0cd-4074-bb80-a20392009634"
      },
      "source": [
        "for index,row in predict_data.iterrows():  \n",
        "  #print(imgcv.shape)\n",
        "  predict(imgcv)"
      ],
      "execution_count": 18,
      "outputs": [
        {
          "output_type": "stream",
          "name": "stdout",
          "text": [
            "(128, 128, 3)\n",
            "Affected ( probability score 74 %)\n",
            "(128, 128, 3)\n",
            "Affected ( probability score 76 %)\n",
            "(128, 128, 3)\n",
            "Affected ( probability score 74 %)\n",
            "(128, 128, 3)\n",
            "Affected ( probability score 77 %)\n",
            "(128, 128, 3)\n",
            "Affected ( probability score 74 %)\n",
            "(128, 128, 3)\n",
            "Affected ( probability score 70 %)\n",
            "(128, 128, 3)\n",
            "Affected ( probability score 72 %)\n",
            "(128, 128, 3)\n",
            "Affected ( probability score 69 %)\n",
            "(128, 128, 3)\n",
            "Affected ( probability score 74 %)\n",
            "(128, 128, 3)\n",
            "Affected ( probability score 66 %)\n"
          ]
        }
      ]
    }
  ]
}