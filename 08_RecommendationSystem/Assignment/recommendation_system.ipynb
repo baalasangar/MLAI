{
 "cells": [
  {
   "cell_type": "markdown",
   "metadata": {
    "colab_type": "text",
    "id": "view-in-github"
   },
   "source": [
    "<a href=\"https://colab.research.google.com/github/baalasangar/MLAI/blob/master/08_RecommendationSystem/Assignment/recommendation_system.ipynb\" target=\"_parent\"><img src=\"https://colab.research.google.com/assets/colab-badge.svg\" alt=\"Open In Colab\"/></a>"
   ]
  },
  {
   "cell_type": "code",
   "execution_count": 1,
   "metadata": {
    "id": "lSBZO8m3BP5i"
   },
   "outputs": [],
   "source": [
    "#!pip install surprise"
   ]
  },
  {
   "cell_type": "markdown",
   "metadata": {
    "id": "J4b0H68Uwo1R"
   },
   "source": [
    "\n",
    "#### 1) Importing Liberaries & reading all data\n",
    "\n",
    "\n",
    "\n"
   ]
  },
  {
   "cell_type": "code",
   "execution_count": 2,
   "metadata": {
    "id": "z1EiYh-7wtxk"
   },
   "outputs": [],
   "source": [
    "import pandas as pd \n",
    "pd.set_option('display.max_columns', None)\n",
    "\n",
    "import numpy as np\n",
    "import seaborn as sns\n",
    "import statsmodels.api as sm\n",
    "import matplotlib.pyplot as plt\n",
    "#%matplotlib inline\n",
    "sns.set(style=\"whitegrid\")\n",
    "\n",
    "from sklearn.preprocessing import MinMaxScaler\n",
    "\n",
    "\n",
    "from surprise import Dataset\n",
    "from surprise import SVD\n",
    "from surprise.model_selection.search import GridSearchCV \n",
    "from surprise.reader import Reader\n",
    "from surprise.model_selection import train_test_split\n",
    "from surprise.model_selection.split import KFold \n",
    "import surprise.accuracy as accuracy\n",
    "from surprise.model_selection.validation import cross_validate\n",
    "import random\n",
    "from surprise import KNNWithMeans\n",
    "\n",
    "\n",
    "from collections import defaultdict\n",
    "\n",
    "\n"
   ]
  },
  {
   "cell_type": "code",
   "execution_count": 3,
   "metadata": {
    "id": "YQtPY-mTw5ub"
   },
   "outputs": [],
   "source": [
    "basepath =  \"/RecommendationSys/\"\n",
    "#basepath = \"/content/drive/MyDrive/Colab Notebooks/Greatelearning/RecommendationSys/\"\n",
    "\n",
    "data_rev1 = pd.read_csv(basepath+\"phone_user_review_file_1.csv\",encoding='latin-1')\n",
    "data_rev2 = pd.read_csv(basepath+\"phone_user_review_file_2.csv\",encoding='latin-1')\n",
    "data_rev3 = pd.read_csv(basepath+\"phone_user_review_file_3.csv\",encoding='latin-1')\n",
    "data_rev4 = pd.read_csv(basepath+\"phone_user_review_file_4.csv\",encoding='latin-1')\n",
    "data_rev5 = pd.read_csv(basepath+\"phone_user_review_file_5.csv\",encoding='latin-1')\n",
    "data_rev6 = pd.read_csv(basepath+\"phone_user_review_file_6.csv\",encoding='latin-1')\n",
    "\n",
    "\n"
   ]
  },
  {
   "cell_type": "code",
   "execution_count": 4,
   "metadata": {
    "id": "FamECQZzx8J4"
   },
   "outputs": [
    {
     "name": "stdout",
     "output_type": "stream",
     "text": [
      "Index(['phone_url', 'date', 'lang', 'country', 'source', 'domain', 'score',\n",
      "       'score_max', 'extract', 'author', 'product'],\n",
      "      dtype='object')\n",
      "                        phone_url       date lang country            source  \\\n",
      "0  /cellphones/samsung-galaxy-s8/   5/2/2017   en      us  Verizon Wireless   \n",
      "1  /cellphones/samsung-galaxy-s8/  4/28/2017   en      us       Phone Arena   \n",
      "2  /cellphones/samsung-galaxy-s8/   5/4/2017   en      us            Amazon   \n",
      "3  /cellphones/samsung-galaxy-s8/   5/2/2017   en      us           Samsung   \n",
      "4  /cellphones/samsung-galaxy-s8/  5/11/2017   en      us  Verizon Wireless   \n",
      "\n",
      "                domain  score  score_max  \\\n",
      "0  verizonwireless.com   10.0       10.0   \n",
      "1       phonearena.com   10.0       10.0   \n",
      "2           amazon.com    6.0       10.0   \n",
      "3          samsung.com    9.2       10.0   \n",
      "4  verizonwireless.com    4.0       10.0   \n",
      "\n",
      "                                             extract       author  \\\n",
      "0  As a diehard Samsung fan who has had every Sam...   CarolAnn35   \n",
      "1  Love the phone. the phone is sleek and smooth ...    james0923   \n",
      "2  Adequate feel. Nice heft. Processor's still sl...     R. Craig   \n",
      "3  Never disappointed. One of the reasons I've be...  Buster2020    \n",
      "4  I've now found that i'm in a group of people t...   S Ate Mine   \n",
      "\n",
      "                                             product  \n",
      "0                                  Samsung Galaxy S8  \n",
      "1                                  Samsung Galaxy S8  \n",
      "2  Samsung Galaxy S8 (64GB) G950U 5.8\" 4G LTE Unl...  \n",
      "3                      Samsung Galaxy S8 64GB (AT&T)  \n",
      "4                                  Samsung Galaxy S8  \n",
      "Index(['phone_url', 'date', 'lang', 'country', 'source', 'domain', 'score',\n",
      "       'score_max', 'extract', 'author', 'product'],\n",
      "      dtype='object')\n",
      "                    phone_url       date lang country  source        domain  \\\n",
      "0  /cellphones/leagoo-lead-7/  4/15/2015   en      us  Amazon    amazon.com   \n",
      "1  /cellphones/leagoo-lead-7/  5/23/2015   en      gb  Amazon  amazon.co.uk   \n",
      "2  /cellphones/leagoo-lead-7/  4/27/2015   en      gb  Amazon  amazon.co.uk   \n",
      "3  /cellphones/leagoo-lead-7/  4/22/2015   en      gb  Amazon  amazon.co.uk   \n",
      "4  /cellphones/leagoo-lead-7/  4/18/2015   en      gb  Amazon  amazon.co.uk   \n",
      "\n",
      "   score  score_max                                            extract  \\\n",
      "0    2.0       10.0  The telephone headset is of poor quality , not...   \n",
      "1   10.0       10.0  This is my first smartphone so I have nothing ...   \n",
      "2    8.0       10.0  Great phone. Battery life not great but seems ...   \n",
      "3   10.0       10.0      Best 90 quid I've ever spent on a smart phone   \n",
      "4   10.0       10.0  I m happy with this phone.it s very good.thx team   \n",
      "\n",
      "          author                                            product  \n",
      "0           luis  Leagoo Lead7 5.0 Inch HD JDI LTPS Screen 3G Sm...  \n",
      "1     Mark Lavin  Leagoo Lead 7 Lead7 MTK6582 Quad core 1GB RAM ...  \n",
      "2         tracey  Leagoo Lead 7 Lead7 MTK6582 Quad core 1GB RAM ...  \n",
      "3  Reuben Ingram  Leagoo Lead 7 Lead7 MTK6582 Quad core 1GB RAM ...  \n",
      "4         viorel  Leagoo Lead 7 Lead7 MTK6582 Quad core 1GB RAM ...  \n",
      "Index(['phone_url', 'date', 'lang', 'country', 'source', 'domain', 'score',\n",
      "       'score_max', 'extract', 'author', 'product'],\n",
      "      dtype='object')\n",
      "                                         phone_url       date lang country  \\\n",
      "0  /cellphones/samsung-galaxy-s-iii-slim-sm-g3812/  11/7/2015   pt      br   \n",
      "1  /cellphones/samsung-galaxy-s-iii-slim-sm-g3812/  10/2/2015   pt      br   \n",
      "2  /cellphones/samsung-galaxy-s-iii-slim-sm-g3812/   9/2/2015   pt      br   \n",
      "3  /cellphones/samsung-galaxy-s-iii-slim-sm-g3812/   9/2/2015   pt      br   \n",
      "4  /cellphones/samsung-galaxy-s-iii-slim-sm-g3812/   9/1/2015   pt      br   \n",
      "\n",
      "      source            domain  score  score_max  \\\n",
      "0  Submarino  submarino.com.br    6.0       10.0   \n",
      "1  Submarino  submarino.com.br   10.0       10.0   \n",
      "2  Submarino  submarino.com.br   10.0       10.0   \n",
      "3  Submarino  submarino.com.br    8.0       10.0   \n",
      "4    Colombo    colombo.com.br    8.0       10.0   \n",
      "\n",
      "                                             extract  \\\n",
      "0  recomendo, eu comprei um, a um ano, e agora co...   \n",
      "1  Comprei um pouco desconfiada do site e do celu...   \n",
      "2  Muito bom o produto, obvio que tem versÃµes me...   \n",
      "3  Unica ressalva fica para a camera que poderia ...   \n",
      "4  Rapidez e atenÃ§Ã£o na entrega. O aparelho Ã© ...   \n",
      "\n",
      "                           author  \\\n",
      "0                herlington tesch   \n",
      "1             Luisa Silva Marieta   \n",
      "2                           Cyrus   \n",
      "3       Marcela Santa Clara Brito   \n",
      "4  Claudine Maria Kuhn Walendorff   \n",
      "\n",
      "                                             product  \n",
      "0  Samsung Smartphone Samsung Galaxy S3 Slim G381...  \n",
      "1  Samsung Smartphone Samsung Galaxy S3 Slim G381...  \n",
      "2  Samsung Smartphone Samsung Galaxy S3 Slim G381...  \n",
      "3  Samsung Smartphone Samsung Galaxy S3 Slim G381...  \n",
      "4  Smartphone Samsung Galaxy S3 Slim, Dual Chip, ...  \n",
      "Index(['phone_url', 'date', 'lang', 'country', 'source', 'domain', 'score',\n",
      "       'score_max', 'extract', 'author', 'product'],\n",
      "      dtype='object')\n",
      "                                    phone_url        date lang country  \\\n",
      "0  /cellphones/samsung-s7262-duos-galaxy-ace/   3/11/2015   en      us   \n",
      "1  /cellphones/samsung-s7262-duos-galaxy-ace/  17/11/2015   en      in   \n",
      "2  /cellphones/samsung-s7262-duos-galaxy-ace/  29/10/2015   en      in   \n",
      "3  /cellphones/samsung-s7262-duos-galaxy-ace/  29/10/2015   en      in   \n",
      "4  /cellphones/samsung-s7262-duos-galaxy-ace/  29/10/2015   en      in   \n",
      "\n",
      "   source      domain  score  score_max  \\\n",
      "0  Amazon  amazon.com    2.0       10.0   \n",
      "1  Zopper  zopper.com   10.0       10.0   \n",
      "2  Amazon   amazon.in    4.0       10.0   \n",
      "3  Amazon   amazon.in    6.0       10.0   \n",
      "4  Amazon   amazon.in   10.0       10.0   \n",
      "\n",
      "                                             extract            author  \\\n",
      "0  was not conpatable with my phone as stated. I ...  Frances DeSimone   \n",
      "1  Decent Functions and Easy to Operate Pros:- Th...     Expert Review   \n",
      "2  Not Good Phone such price. Hang too much and v...   Amazon Customer   \n",
      "3                               not bad for features   Amazon Customer   \n",
      "4                                  Excellent product               NHK   \n",
      "\n",
      "                                             product  \n",
      "0  Samsung Galaxy Star Pro DUOS S7262 Unlocked Ce...  \n",
      "1                Samsung Galaxy Star Pro S7262 Black  \n",
      "2  Samsung Galaxy Star Pro GT-S7262 (Midnight Black)  \n",
      "3  Samsung Galaxy Star Pro GT-S7262 (Midnight Black)  \n",
      "4  Samsung Galaxy Star Pro GT-S7262 (Midnight Black)  \n",
      "Index(['phone_url', 'date', 'lang', 'country', 'source', 'domain', 'score',\n",
      "       'score_max', 'extract', 'author', 'product'],\n",
      "      dtype='object')\n",
      "                    phone_url       date lang country      source  \\\n",
      "0  /cellphones/karbonn-k1616/  7/13/2016   en      in  91 Mobiles   \n",
      "1  /cellphones/karbonn-k1616/  7/13/2016   en      in  91 Mobiles   \n",
      "2  /cellphones/karbonn-k1616/  7/13/2016   en      in  91 Mobiles   \n",
      "3  /cellphones/karbonn-k1616/  4/25/2014   en      in     Naaptol   \n",
      "4  /cellphones/karbonn-k1616/  4/23/2013   en      in     Naaptol   \n",
      "\n",
      "          domain  score  score_max  \\\n",
      "0  91mobiles.com    2.0       10.0   \n",
      "1  91mobiles.com    6.0       10.0   \n",
      "2  91mobiles.com    4.0       10.0   \n",
      "3    naaptol.com   10.0       10.0   \n",
      "4    naaptol.com   10.0       10.0   \n",
      "\n",
      "                                             extract           author  \\\n",
      "0  I bought 1 month before. currently speaker is ...        venkatesh   \n",
      "1  I just bought one week back, I have Airtel con...           Venkat   \n",
      "2  one problem in this handset opera is not worki...           krrish   \n",
      "3  here Karbonn comes up with an another excellen...  BRIJESH CHAUHAN   \n",
      "4  What a phone, all so on Naaptol my god 23% off...    Suraj CHAUHAN   \n",
      "\n",
      "                 product  \n",
      "0          Karbonn K1616  \n",
      "1          Karbonn K1616  \n",
      "2          Karbonn K1616  \n",
      "3  Karbonn K1616 - Black  \n",
      "4  Karbonn K1616 - Black  \n",
      "Index(['phone_url', 'date', 'lang', 'country', 'source', 'domain', 'score',\n",
      "       'score_max', 'extract', 'author', 'product'],\n",
      "      dtype='object')\n",
      "                                phone_url        date lang country  \\\n",
      "0  /cellphones/samsung-instinct-sph-m800/   9/16/2011   en      us   \n",
      "1  /cellphones/samsung-instinct-sph-m800/   2/13/2014   en      us   \n",
      "2  /cellphones/samsung-instinct-sph-m800/  12/30/2011   en      us   \n",
      "3  /cellphones/samsung-instinct-sph-m800/  10/18/2008   en      us   \n",
      "4  /cellphones/samsung-instinct-sph-m800/    9/6/2008   en      us   \n",
      "\n",
      "          source             domain  score  score_max  \\\n",
      "0    Phone Arena     phonearena.com    8.0       10.0   \n",
      "1         Amazon         amazon.com    6.0       10.0   \n",
      "2    Phone Scoop     phonescoop.com    9.0       10.0   \n",
      "3  HandCellPhone  handcellphone.com    4.0       10.0   \n",
      "4   Reviewed.com       reviewed.com    6.0       10.0   \n",
      "\n",
      "                                             extract      author  \\\n",
      "0  I've had the phone for awhile and it's a prett...  ajabrams95   \n",
      "1  to be clear it is not the sellers fault that t...   Stephanie   \n",
      "2  Well i love this phone. i have had ton of phon...    snickers   \n",
      "3  I have had my Instinct for several months now ...         A4C   \n",
      "4  i have had this instinct phone for about two m...   betaBgood   \n",
      "\n",
      "                     product  \n",
      "0        Samsung Instinct HD  \n",
      "1  Samsung SPH M800 Instinct  \n",
      "2              Instinct M800  \n",
      "3           Samsung Instinct  \n",
      "4           Samsung Instinct  \n"
     ]
    }
   ],
   "source": [
    "# Check the Details for the data\n",
    "data_list = [data_rev1,data_rev2,data_rev3,data_rev4,data_rev5,data_rev6]\n",
    "for data_object in data_list:\n",
    "  print(data_object.columns)\n",
    "  print(data_object.head())"
   ]
  },
  {
   "cell_type": "markdown",
   "metadata": {
    "id": "YAR3FUwc0iYJ"
   },
   "source": [
    "##### Merge the provided CSVs into one data-frame.\n"
   ]
  },
  {
   "cell_type": "code",
   "execution_count": 5,
   "metadata": {
    "id": "Ey1nUuSPx7qS"
   },
   "outputs": [
    {
     "data": {
      "text/html": [
       "<div>\n",
       "<style scoped>\n",
       "    .dataframe tbody tr th:only-of-type {\n",
       "        vertical-align: middle;\n",
       "    }\n",
       "\n",
       "    .dataframe tbody tr th {\n",
       "        vertical-align: top;\n",
       "    }\n",
       "\n",
       "    .dataframe thead th {\n",
       "        text-align: right;\n",
       "    }\n",
       "</style>\n",
       "<table border=\"1\" class=\"dataframe\">\n",
       "  <thead>\n",
       "    <tr style=\"text-align: right;\">\n",
       "      <th></th>\n",
       "      <th>phone_url</th>\n",
       "      <th>date</th>\n",
       "      <th>lang</th>\n",
       "      <th>country</th>\n",
       "      <th>source</th>\n",
       "      <th>domain</th>\n",
       "      <th>score</th>\n",
       "      <th>score_max</th>\n",
       "      <th>extract</th>\n",
       "      <th>author</th>\n",
       "      <th>product</th>\n",
       "    </tr>\n",
       "  </thead>\n",
       "  <tbody>\n",
       "    <tr>\n",
       "      <th>1405133</th>\n",
       "      <td>/cellphones/sony-cmd-z5/</td>\n",
       "      <td>12/3/2001</td>\n",
       "      <td>en</td>\n",
       "      <td>gb</td>\n",
       "      <td>Dooyoo</td>\n",
       "      <td>dooyoo.co.uk</td>\n",
       "      <td>6.0</td>\n",
       "      <td>10.0</td>\n",
       "      <td>This a realtivly new phone and has an importan...</td>\n",
       "      <td>anonym</td>\n",
       "      <td>Sony CMD-Z5</td>\n",
       "    </tr>\n",
       "    <tr>\n",
       "      <th>1405134</th>\n",
       "      <td>/cellphones/sony-cmd-z5/</td>\n",
       "      <td>10/22/2001</td>\n",
       "      <td>en</td>\n",
       "      <td>gb</td>\n",
       "      <td>Dooyoo</td>\n",
       "      <td>dooyoo.co.uk</td>\n",
       "      <td>10.0</td>\n",
       "      <td>10.0</td>\n",
       "      <td>THE best phone on the market, classy and featu...</td>\n",
       "      <td>timbos</td>\n",
       "      <td>Sony CMD-Z5</td>\n",
       "    </tr>\n",
       "    <tr>\n",
       "      <th>1405135</th>\n",
       "      <td>/cellphones/sony-cmd-z5/</td>\n",
       "      <td>9/25/2001</td>\n",
       "      <td>en</td>\n",
       "      <td>gb</td>\n",
       "      <td>Dooyoo</td>\n",
       "      <td>dooyoo.co.uk</td>\n",
       "      <td>10.0</td>\n",
       "      <td>10.0</td>\n",
       "      <td>When looking at the Sony CMD-Z5 it can be very...</td>\n",
       "      <td>M_J_Carrier</td>\n",
       "      <td>Sony CMD-Z5</td>\n",
       "    </tr>\n",
       "    <tr>\n",
       "      <th>1405136</th>\n",
       "      <td>/cellphones/sony-cmd-z5/</td>\n",
       "      <td>8/12/2001</td>\n",
       "      <td>en</td>\n",
       "      <td>gb</td>\n",
       "      <td>Dooyoo</td>\n",
       "      <td>dooyoo.co.uk</td>\n",
       "      <td>6.0</td>\n",
       "      <td>10.0</td>\n",
       "      <td>I`ve had the Sony CMD-Z5 for just about a year...</td>\n",
       "      <td>Verbal</td>\n",
       "      <td>Sony CMD-Z5</td>\n",
       "    </tr>\n",
       "    <tr>\n",
       "      <th>1405137</th>\n",
       "      <td>/cellphones/sony-cmd-z5/</td>\n",
       "      <td>7/25/2001</td>\n",
       "      <td>en</td>\n",
       "      <td>gb</td>\n",
       "      <td>Dooyoo</td>\n",
       "      <td>dooyoo.co.uk</td>\n",
       "      <td>8.0</td>\n",
       "      <td>10.0</td>\n",
       "      <td>Now that my current phone's contract is immine...</td>\n",
       "      <td>curly00</td>\n",
       "      <td>Sony CMD-Z5</td>\n",
       "    </tr>\n",
       "    <tr>\n",
       "      <th>...</th>\n",
       "      <td>...</td>\n",
       "      <td>...</td>\n",
       "      <td>...</td>\n",
       "      <td>...</td>\n",
       "      <td>...</td>\n",
       "      <td>...</td>\n",
       "      <td>...</td>\n",
       "      <td>...</td>\n",
       "      <td>...</td>\n",
       "      <td>...</td>\n",
       "      <td>...</td>\n",
       "    </tr>\n",
       "    <tr>\n",
       "      <th>1415128</th>\n",
       "      <td>/cellphones/alcatel-ot-club_1187/</td>\n",
       "      <td>5/12/2000</td>\n",
       "      <td>de</td>\n",
       "      <td>de</td>\n",
       "      <td>Ciao</td>\n",
       "      <td>ciao.de</td>\n",
       "      <td>2.0</td>\n",
       "      <td>10.0</td>\n",
       "      <td>Weil mein Onkel bei ALcatel arbeitet habe ich ...</td>\n",
       "      <td>david.paul</td>\n",
       "      <td>Alcatel Club Plus Handy</td>\n",
       "    </tr>\n",
       "    <tr>\n",
       "      <th>1415129</th>\n",
       "      <td>/cellphones/alcatel-ot-club_1187/</td>\n",
       "      <td>5/11/2000</td>\n",
       "      <td>de</td>\n",
       "      <td>de</td>\n",
       "      <td>Ciao</td>\n",
       "      <td>ciao.de</td>\n",
       "      <td>10.0</td>\n",
       "      <td>10.0</td>\n",
       "      <td>Hy Liebe Leserinnen und Leser!! Ich habe seit ...</td>\n",
       "      <td>Christiane14</td>\n",
       "      <td>Alcatel Club Plus Handy</td>\n",
       "    </tr>\n",
       "    <tr>\n",
       "      <th>1415130</th>\n",
       "      <td>/cellphones/alcatel-ot-club_1187/</td>\n",
       "      <td>5/4/2000</td>\n",
       "      <td>de</td>\n",
       "      <td>de</td>\n",
       "      <td>Ciao</td>\n",
       "      <td>ciao.de</td>\n",
       "      <td>2.0</td>\n",
       "      <td>10.0</td>\n",
       "      <td>Jetzt hat wohl Alcatell gedacht ,sie machen wa...</td>\n",
       "      <td>michaelawr</td>\n",
       "      <td>Alcatel Club Plus Handy</td>\n",
       "    </tr>\n",
       "    <tr>\n",
       "      <th>1415131</th>\n",
       "      <td>/cellphones/alcatel-ot-club_1187/</td>\n",
       "      <td>5/1/2000</td>\n",
       "      <td>de</td>\n",
       "      <td>de</td>\n",
       "      <td>Ciao</td>\n",
       "      <td>ciao.de</td>\n",
       "      <td>8.0</td>\n",
       "      <td>10.0</td>\n",
       "      <td>Ich bin seit 2 Jahren (stolzer) Besitzer eines...</td>\n",
       "      <td>claudia0815</td>\n",
       "      <td>Alcatel Club Plus Handy</td>\n",
       "    </tr>\n",
       "    <tr>\n",
       "      <th>1415132</th>\n",
       "      <td>/cellphones/alcatel-ot-club_1187/</td>\n",
       "      <td>4/25/2000</td>\n",
       "      <td>de</td>\n",
       "      <td>de</td>\n",
       "      <td>Ciao</td>\n",
       "      <td>ciao.de</td>\n",
       "      <td>2.0</td>\n",
       "      <td>10.0</td>\n",
       "      <td>Was sich Alkatel hier wieder ausgedacht hat,sc...</td>\n",
       "      <td>michaelawr</td>\n",
       "      <td>Alcatel Club Plus Handy</td>\n",
       "    </tr>\n",
       "  </tbody>\n",
       "</table>\n",
       "<p>10000 rows × 11 columns</p>\n",
       "</div>"
      ],
      "text/plain": [
       "                                 phone_url        date lang country  source  \\\n",
       "1405133           /cellphones/sony-cmd-z5/   12/3/2001   en      gb  Dooyoo   \n",
       "1405134           /cellphones/sony-cmd-z5/  10/22/2001   en      gb  Dooyoo   \n",
       "1405135           /cellphones/sony-cmd-z5/   9/25/2001   en      gb  Dooyoo   \n",
       "1405136           /cellphones/sony-cmd-z5/   8/12/2001   en      gb  Dooyoo   \n",
       "1405137           /cellphones/sony-cmd-z5/   7/25/2001   en      gb  Dooyoo   \n",
       "...                                    ...         ...  ...     ...     ...   \n",
       "1415128  /cellphones/alcatel-ot-club_1187/   5/12/2000   de      de    Ciao   \n",
       "1415129  /cellphones/alcatel-ot-club_1187/   5/11/2000   de      de    Ciao   \n",
       "1415130  /cellphones/alcatel-ot-club_1187/    5/4/2000   de      de    Ciao   \n",
       "1415131  /cellphones/alcatel-ot-club_1187/    5/1/2000   de      de    Ciao   \n",
       "1415132  /cellphones/alcatel-ot-club_1187/   4/25/2000   de      de    Ciao   \n",
       "\n",
       "               domain  score  score_max  \\\n",
       "1405133  dooyoo.co.uk    6.0       10.0   \n",
       "1405134  dooyoo.co.uk   10.0       10.0   \n",
       "1405135  dooyoo.co.uk   10.0       10.0   \n",
       "1405136  dooyoo.co.uk    6.0       10.0   \n",
       "1405137  dooyoo.co.uk    8.0       10.0   \n",
       "...               ...    ...        ...   \n",
       "1415128       ciao.de    2.0       10.0   \n",
       "1415129       ciao.de   10.0       10.0   \n",
       "1415130       ciao.de    2.0       10.0   \n",
       "1415131       ciao.de    8.0       10.0   \n",
       "1415132       ciao.de    2.0       10.0   \n",
       "\n",
       "                                                   extract        author  \\\n",
       "1405133  This a realtivly new phone and has an importan...        anonym   \n",
       "1405134  THE best phone on the market, classy and featu...        timbos   \n",
       "1405135  When looking at the Sony CMD-Z5 it can be very...   M_J_Carrier   \n",
       "1405136  I`ve had the Sony CMD-Z5 for just about a year...        Verbal   \n",
       "1405137  Now that my current phone's contract is immine...       curly00   \n",
       "...                                                    ...           ...   \n",
       "1415128  Weil mein Onkel bei ALcatel arbeitet habe ich ...    david.paul   \n",
       "1415129  Hy Liebe Leserinnen und Leser!! Ich habe seit ...  Christiane14   \n",
       "1415130  Jetzt hat wohl Alcatell gedacht ,sie machen wa...    michaelawr   \n",
       "1415131  Ich bin seit 2 Jahren (stolzer) Besitzer eines...   claudia0815   \n",
       "1415132  Was sich Alkatel hier wieder ausgedacht hat,sc...    michaelawr   \n",
       "\n",
       "                         product  \n",
       "1405133              Sony CMD-Z5  \n",
       "1405134              Sony CMD-Z5  \n",
       "1405135              Sony CMD-Z5  \n",
       "1405136              Sony CMD-Z5  \n",
       "1405137              Sony CMD-Z5  \n",
       "...                          ...  \n",
       "1415128  Alcatel Club Plus Handy  \n",
       "1415129  Alcatel Club Plus Handy  \n",
       "1415130  Alcatel Club Plus Handy  \n",
       "1415131  Alcatel Club Plus Handy  \n",
       "1415132  Alcatel Club Plus Handy  \n",
       "\n",
       "[10000 rows x 11 columns]"
      ]
     },
     "execution_count": 5,
     "metadata": {},
     "output_type": "execute_result"
    }
   ],
   "source": [
    "data = pd.concat(data_list)\n",
    "data.reset_index(inplace=True)\n",
    "data.drop(columns=[\"index\"],inplace=True)\n",
    "data.tail(n=10000)\n"
   ]
  },
  {
   "cell_type": "markdown",
   "metadata": {
    "id": "NNGc-wZtBRFT"
   },
   "source": [
    "#### Exploratory Data Analysis"
   ]
  },
  {
   "cell_type": "code",
   "execution_count": 6,
   "metadata": {
    "id": "K4nQxk9NBW3j"
   },
   "outputs": [],
   "source": [
    "# Create a copy of the data for analysis\n",
    "data_analysis = data.copy()"
   ]
  },
  {
   "cell_type": "markdown",
   "metadata": {
    "id": "KijhMyWK08rA"
   },
   "source": [
    "##### Check a few observations and shape of the data-frame.\n"
   ]
  },
  {
   "cell_type": "code",
   "execution_count": 7,
   "metadata": {
    "id": "1F-uCmoG02GI"
   },
   "outputs": [
    {
     "name": "stdout",
     "output_type": "stream",
     "text": [
      "Shape of the data -  (1415133, 11)\n",
      "Columns of data -  Index(['phone_url', 'date', 'lang', 'country', 'source', 'domain', 'score',\n",
      "       'score_max', 'extract', 'author', 'product'],\n",
      "      dtype='object')\n"
     ]
    }
   ],
   "source": [
    "print(\"Shape of the data - \",data_analysis.shape)\n",
    "print(\"Columns of data - \",data_analysis.columns)"
   ]
  },
  {
   "cell_type": "code",
   "execution_count": 8,
   "metadata": {
    "id": "QHI5km4k3Z0g"
   },
   "outputs": [
    {
     "data": {
      "text/html": [
       "<div>\n",
       "<style scoped>\n",
       "    .dataframe tbody tr th:only-of-type {\n",
       "        vertical-align: middle;\n",
       "    }\n",
       "\n",
       "    .dataframe tbody tr th {\n",
       "        vertical-align: top;\n",
       "    }\n",
       "\n",
       "    .dataframe thead th {\n",
       "        text-align: right;\n",
       "    }\n",
       "</style>\n",
       "<table border=\"1\" class=\"dataframe\">\n",
       "  <thead>\n",
       "    <tr style=\"text-align: right;\">\n",
       "      <th></th>\n",
       "      <th>phone_url</th>\n",
       "      <th>date</th>\n",
       "      <th>lang</th>\n",
       "      <th>country</th>\n",
       "      <th>source</th>\n",
       "      <th>domain</th>\n",
       "      <th>score</th>\n",
       "      <th>score_max</th>\n",
       "      <th>extract</th>\n",
       "      <th>author</th>\n",
       "      <th>product</th>\n",
       "    </tr>\n",
       "  </thead>\n",
       "  <tbody>\n",
       "    <tr>\n",
       "      <th>1381066</th>\n",
       "      <td>/cellphones/samsung-mm-a700-sph-a700/</td>\n",
       "      <td>9/18/2004</td>\n",
       "      <td>en</td>\n",
       "      <td>us</td>\n",
       "      <td>Phone Scoop</td>\n",
       "      <td>phonescoop.com</td>\n",
       "      <td>3.0</td>\n",
       "      <td>10.0</td>\n",
       "      <td>Sprint missed the boat on the fundamentals wit...</td>\n",
       "      <td>GrandWazoo</td>\n",
       "      <td>MM-A700 / SPH-A700</td>\n",
       "    </tr>\n",
       "    <tr>\n",
       "      <th>159224</th>\n",
       "      <td>/cellphones/lg-g5/</td>\n",
       "      <td>1/2/2017</td>\n",
       "      <td>en</td>\n",
       "      <td>us</td>\n",
       "      <td>Verizon Wireless</td>\n",
       "      <td>verizonwireless.com</td>\n",
       "      <td>10.0</td>\n",
       "      <td>10.0</td>\n",
       "      <td>Just got this a couple of weeks ago, really ni...</td>\n",
       "      <td>Hunts1</td>\n",
       "      <td>LG G5</td>\n",
       "    </tr>\n",
       "    <tr>\n",
       "      <th>166941</th>\n",
       "      <td>/cellphones/microsoft-lumia-640-dual-sim/</td>\n",
       "      <td>3/10/2016</td>\n",
       "      <td>ru</td>\n",
       "      <td>ru</td>\n",
       "      <td>Yandex</td>\n",
       "      <td>market.yandex.ru</td>\n",
       "      <td>6.0</td>\n",
       "      <td>10.0</td>\n",
       "      <td>Ð¡ÑÐµÐ´Ð½Ð¸Ð¹ ÑÐ¼Ð°ÑÑÑÐ¾Ð½. ÐÐ· Ð¿Ð»ÑÑ...</td>\n",
       "      <td>NaN</td>\n",
       "      <td>Microsoft Lumia 640 3G Dual Sim</td>\n",
       "    </tr>\n",
       "    <tr>\n",
       "      <th>340422</th>\n",
       "      <td>/cellphones/samsung-galaxy-s5/</td>\n",
       "      <td>5/24/2016</td>\n",
       "      <td>en</td>\n",
       "      <td>in</td>\n",
       "      <td>Flipkart</td>\n",
       "      <td>flipkart.com</td>\n",
       "      <td>8.0</td>\n",
       "      <td>10.0</td>\n",
       "      <td>Good...reasonable. .original product of Samsun...</td>\n",
       "      <td>Sandeep Kumar...</td>\n",
       "      <td>SAMSUNG Galaxy S5 (Copper Gold, 16 GB)</td>\n",
       "    </tr>\n",
       "    <tr>\n",
       "      <th>290110</th>\n",
       "      <td>/cellphones/samsung-galaxy-note-4/</td>\n",
       "      <td>11/13/2014</td>\n",
       "      <td>en</td>\n",
       "      <td>ca</td>\n",
       "      <td>Amazon</td>\n",
       "      <td>amazon.ca</td>\n",
       "      <td>10.0</td>\n",
       "      <td>10.0</td>\n",
       "      <td>Shipped very fast and came with everything you...</td>\n",
       "      <td>mike hawdon</td>\n",
       "      <td>Tech Armor Galaxy Note 4 Screen Protector, Tec...</td>\n",
       "    </tr>\n",
       "    <tr>\n",
       "      <th>1166492</th>\n",
       "      <td>/cellphones/nokia-e71/</td>\n",
       "      <td>2/20/2009</td>\n",
       "      <td>en</td>\n",
       "      <td>us</td>\n",
       "      <td>Amazon</td>\n",
       "      <td>amazon.com</td>\n",
       "      <td>4.0</td>\n",
       "      <td>10.0</td>\n",
       "      <td>Phone arrived, and the initial looks of it wer...</td>\n",
       "      <td>The mother of all prduct reviews</td>\n",
       "      <td>Nokia E71x Unlocked Phone with QWERTY Keyboard...</td>\n",
       "    </tr>\n",
       "    <tr>\n",
       "      <th>264600</th>\n",
       "      <td>/cellphones/apple-iphone-6/</td>\n",
       "      <td>11/13/2014</td>\n",
       "      <td>en</td>\n",
       "      <td>us</td>\n",
       "      <td>Amazon</td>\n",
       "      <td>amazon.com</td>\n",
       "      <td>8.0</td>\n",
       "      <td>10.0</td>\n",
       "      <td>The phone was to my expectations and I was hap...</td>\n",
       "      <td>Amazon Customer</td>\n",
       "      <td>Apple iPhone 6 16GB Factory Unlocked GSM 4G LT...</td>\n",
       "    </tr>\n",
       "    <tr>\n",
       "      <th>1275859</th>\n",
       "      <td>/cellphones/nokia-6680/</td>\n",
       "      <td>1/21/2007</td>\n",
       "      <td>en</td>\n",
       "      <td>gb</td>\n",
       "      <td>Amazon</td>\n",
       "      <td>amazon.co.uk</td>\n",
       "      <td>8.0</td>\n",
       "      <td>10.0</td>\n",
       "      <td>Its hot chrome packing slick phone albeit it b...</td>\n",
       "      <td>Amazon Customer</td>\n",
       "      <td>Nokia 6680 Smartphone</td>\n",
       "    </tr>\n",
       "    <tr>\n",
       "      <th>416067</th>\n",
       "      <td>/cellphones/sony-xperia-z3-compact/</td>\n",
       "      <td>11/25/2014</td>\n",
       "      <td>en</td>\n",
       "      <td>gb</td>\n",
       "      <td>Amazon</td>\n",
       "      <td>amazon.co.uk</td>\n",
       "      <td>6.0</td>\n",
       "      <td>10.0</td>\n",
       "      <td>I'd like to say this phone is great- and so mu...</td>\n",
       "      <td>Jsphstry</td>\n",
       "      <td>Sony Xperia Z3 Compact UK SIM-Free Smartphone ...</td>\n",
       "    </tr>\n",
       "    <tr>\n",
       "      <th>306382</th>\n",
       "      <td>/cellphones/acer-liquid-z630/</td>\n",
       "      <td>12/21/2015</td>\n",
       "      <td>fr</td>\n",
       "      <td>fr</td>\n",
       "      <td>Amazon</td>\n",
       "      <td>amazon.fr</td>\n",
       "      <td>2.0</td>\n",
       "      <td>10.0</td>\n",
       "      <td>laissant un samsung s5 j'ai pris celui la car ...</td>\n",
       "      <td>Client d'Amazon</td>\n",
       "      <td>Acer Liquid Z630 Smartphone dÃ©bloquÃ© 4G (Ecr...</td>\n",
       "    </tr>\n",
       "    <tr>\n",
       "      <th>1051626</th>\n",
       "      <td>/cellphones/blu-vivo-air/</td>\n",
       "      <td>6/18/2015</td>\n",
       "      <td>en</td>\n",
       "      <td>us</td>\n",
       "      <td>Amazon</td>\n",
       "      <td>amazon.com</td>\n",
       "      <td>6.0</td>\n",
       "      <td>10.0</td>\n",
       "      <td>The good: This phone is super thin. 5mm. Pick ...</td>\n",
       "      <td>No Name</td>\n",
       "      <td>BLU Vivo Air Unlocked Cellphone, 16GB, Black</td>\n",
       "    </tr>\n",
       "    <tr>\n",
       "      <th>988241</th>\n",
       "      <td>/cellphones/apple-iphone-4/</td>\n",
       "      <td>11/29/2010</td>\n",
       "      <td>en</td>\n",
       "      <td>us</td>\n",
       "      <td>Amazon</td>\n",
       "      <td>amazon.com</td>\n",
       "      <td>2.0</td>\n",
       "      <td>10.0</td>\n",
       "      <td>This item sucks the phone can not be activated...</td>\n",
       "      <td>barbra willimas</td>\n",
       "      <td>Apple Iphone 4 - 8gb Sprint (CDMA) White, Smar...</td>\n",
       "    </tr>\n",
       "    <tr>\n",
       "      <th>452919</th>\n",
       "      <td>/cellphones/sony-xperia-z2/</td>\n",
       "      <td>7/17/2014</td>\n",
       "      <td>de</td>\n",
       "      <td>de</td>\n",
       "      <td>Amazon</td>\n",
       "      <td>amazon.de</td>\n",
       "      <td>2.0</td>\n",
       "      <td>10.0</td>\n",
       "      <td>ich bin total begeistert, alles ist mÃ¶glich. ...</td>\n",
       "      <td>Magrit Tamborini</td>\n",
       "      <td>Sony Xperia Z2 Smartphone (5,2 Zoll (13,2 cm) ...</td>\n",
       "    </tr>\n",
       "    <tr>\n",
       "      <th>416939</th>\n",
       "      <td>/cellphones/sony-xperia-z3-compact/</td>\n",
       "      <td>3/29/2016</td>\n",
       "      <td>it</td>\n",
       "      <td>it</td>\n",
       "      <td>Amazon</td>\n",
       "      <td>amazon.it</td>\n",
       "      <td>10.0</td>\n",
       "      <td>10.0</td>\n",
       "      <td>Ho aspettato un mese prima di fare la recensio...</td>\n",
       "      <td>M. Carolina</td>\n",
       "      <td>Sony Xperia Z3 Compact Smartphone, Display 4,6...</td>\n",
       "    </tr>\n",
       "    <tr>\n",
       "      <th>965310</th>\n",
       "      <td>/cellphones/zte-blade/</td>\n",
       "      <td>4/16/2011</td>\n",
       "      <td>en</td>\n",
       "      <td>gb</td>\n",
       "      <td>Amazon</td>\n",
       "      <td>amazon.co.uk</td>\n",
       "      <td>4.0</td>\n",
       "      <td>10.0</td>\n",
       "      <td>my phone was fine fore a wil then one time whe...</td>\n",
       "      <td>fafduck</td>\n",
       "      <td>Orange San Francisco / Android / Mobile Phone ...</td>\n",
       "    </tr>\n",
       "    <tr>\n",
       "      <th>1105330</th>\n",
       "      <td>/cellphones/lg-vn250/</td>\n",
       "      <td>5/21/2010</td>\n",
       "      <td>en</td>\n",
       "      <td>us</td>\n",
       "      <td>Amazon</td>\n",
       "      <td>amazon.com</td>\n",
       "      <td>10.0</td>\n",
       "      <td>10.0</td>\n",
       "      <td>Item was just what we ordered and very nice.</td>\n",
       "      <td>duke</td>\n",
       "      <td>LG Cosmos VN250 Black No Contract No Data Veri...</td>\n",
       "    </tr>\n",
       "    <tr>\n",
       "      <th>346027</th>\n",
       "      <td>/cellphones/samsung-galaxy-s5/</td>\n",
       "      <td>7/6/2014</td>\n",
       "      <td>en</td>\n",
       "      <td>us</td>\n",
       "      <td>Amazon</td>\n",
       "      <td>amazon.com</td>\n",
       "      <td>8.0</td>\n",
       "      <td>10.0</td>\n",
       "      <td>Works well. Had to re-calibrate the touch-scre...</td>\n",
       "      <td>Steven</td>\n",
       "      <td>Samsung Galaxy S5 SM-G900T -16GB Black (T-Mobile)</td>\n",
       "    </tr>\n",
       "    <tr>\n",
       "      <th>877530</th>\n",
       "      <td>/cellphones/samsung-galaxy-ace-plus/</td>\n",
       "      <td>1/11/2012</td>\n",
       "      <td>ru</td>\n",
       "      <td>ru</td>\n",
       "      <td>Yandex</td>\n",
       "      <td>market.yandex.ru</td>\n",
       "      <td>8.0</td>\n",
       "      <td>10.0</td>\n",
       "      <td>?????????? ?????????? ??????????, ???????????...</td>\n",
       "      <td>madday1981</td>\n",
       "      <td>Samsung Galaxy Ace Plus GT-S7500</td>\n",
       "    </tr>\n",
       "    <tr>\n",
       "      <th>553182</th>\n",
       "      <td>/cellphones/nokia-lumia-530/</td>\n",
       "      <td>3/27/2015</td>\n",
       "      <td>pt</td>\n",
       "      <td>br</td>\n",
       "      <td>Cissa Magazine</td>\n",
       "      <td>cissamagazine.com.br</td>\n",
       "      <td>NaN</td>\n",
       "      <td>NaN</td>\n",
       "      <td>celular Otimo produto celular nokia lumia 530 ...</td>\n",
       "      <td>ALEX kraus</td>\n",
       "      <td>Smartphone Nokia Lumia 530 Dual Desbloqueado B...</td>\n",
       "    </tr>\n",
       "    <tr>\n",
       "      <th>1163761</th>\n",
       "      <td>/cellphones/lg-lotus-lx600/</td>\n",
       "      <td>6/11/2009</td>\n",
       "      <td>en</td>\n",
       "      <td>us</td>\n",
       "      <td>HandCellPhone</td>\n",
       "      <td>handcellphone.com</td>\n",
       "      <td>10.0</td>\n",
       "      <td>10.0</td>\n",
       "      <td>I just got a new Rant on Monday and hated it. ...</td>\n",
       "      <td>Firekraker77</td>\n",
       "      <td>LG Lotus</td>\n",
       "    </tr>\n",
       "    <tr>\n",
       "      <th>1209899</th>\n",
       "      <td>/cellphones/nokia-6110-41182/</td>\n",
       "      <td>11/7/2000</td>\n",
       "      <td>en</td>\n",
       "      <td>gb</td>\n",
       "      <td>Ciao</td>\n",
       "      <td>ciao.co.uk</td>\n",
       "      <td>10.0</td>\n",
       "      <td>10.0</td>\n",
       "      <td>This phone has a sleek and sexy look. Typicall...</td>\n",
       "      <td>pehchiong</td>\n",
       "      <td>Nokia 6110</td>\n",
       "    </tr>\n",
       "    <tr>\n",
       "      <th>417809</th>\n",
       "      <td>/cellphones/sony-xperia-z3-compact/</td>\n",
       "      <td>4/29/2015</td>\n",
       "      <td>fr</td>\n",
       "      <td>fr</td>\n",
       "      <td>Amazon</td>\n",
       "      <td>amazon.fr</td>\n",
       "      <td>10.0</td>\n",
       "      <td>10.0</td>\n",
       "      <td>tres bonne surprise ! Je ne risque pas de reto...</td>\n",
       "      <td>Ethan</td>\n",
       "      <td>Sony Mobile Xperia Z3 Compact Smartphone DÃ©bl...</td>\n",
       "    </tr>\n",
       "    <tr>\n",
       "      <th>538331</th>\n",
       "      <td>/cellphones/apple-iphone-5s/</td>\n",
       "      <td>12/13/2013</td>\n",
       "      <td>en</td>\n",
       "      <td>in</td>\n",
       "      <td>Amazon</td>\n",
       "      <td>amazon.in</td>\n",
       "      <td>8.0</td>\n",
       "      <td>10.0</td>\n",
       "      <td>many apps don't work like true caller is not l...</td>\n",
       "      <td>rishi jain</td>\n",
       "      <td>Apple iPhone 5s (Gold, 16GB)</td>\n",
       "    </tr>\n",
       "    <tr>\n",
       "      <th>1081147</th>\n",
       "      <td>/cellphones/lg-gt540/</td>\n",
       "      <td>11/16/2011</td>\n",
       "      <td>es</td>\n",
       "      <td>ar</td>\n",
       "      <td>MercadoLibre</td>\n",
       "      <td>opinion.mercadolibre.com.ar</td>\n",
       "      <td>10.0</td>\n",
       "      <td>10.0</td>\n",
       "      <td>El celular es bueno en toda forma ya que tiene...</td>\n",
       "      <td>CHUCHUGUA08</td>\n",
       "      <td>Lg Gt540</td>\n",
       "    </tr>\n",
       "    <tr>\n",
       "      <th>92039</th>\n",
       "      <td>/cellphones/samsung-galaxy-a5-2017/</td>\n",
       "      <td>2/21/2017</td>\n",
       "      <td>es</td>\n",
       "      <td>es</td>\n",
       "      <td>Amazon</td>\n",
       "      <td>amazon.es</td>\n",
       "      <td>10.0</td>\n",
       "      <td>10.0</td>\n",
       "      <td>Perfecto por ahora, rÃ¡pido, cÃ³modo y prÃ¡cti...</td>\n",
       "      <td>lidia</td>\n",
       "      <td>Samsung Galaxy A5 (2017) Smartphone 32 GB de M...</td>\n",
       "    </tr>\n",
       "  </tbody>\n",
       "</table>\n",
       "</div>"
      ],
      "text/plain": [
       "                                         phone_url        date lang country  \\\n",
       "1381066      /cellphones/samsung-mm-a700-sph-a700/   9/18/2004   en      us   \n",
       "159224                          /cellphones/lg-g5/    1/2/2017   en      us   \n",
       "166941   /cellphones/microsoft-lumia-640-dual-sim/   3/10/2016   ru      ru   \n",
       "340422              /cellphones/samsung-galaxy-s5/   5/24/2016   en      in   \n",
       "290110          /cellphones/samsung-galaxy-note-4/  11/13/2014   en      ca   \n",
       "1166492                     /cellphones/nokia-e71/   2/20/2009   en      us   \n",
       "264600                 /cellphones/apple-iphone-6/  11/13/2014   en      us   \n",
       "1275859                    /cellphones/nokia-6680/   1/21/2007   en      gb   \n",
       "416067         /cellphones/sony-xperia-z3-compact/  11/25/2014   en      gb   \n",
       "306382               /cellphones/acer-liquid-z630/  12/21/2015   fr      fr   \n",
       "1051626                  /cellphones/blu-vivo-air/   6/18/2015   en      us   \n",
       "988241                 /cellphones/apple-iphone-4/  11/29/2010   en      us   \n",
       "452919                 /cellphones/sony-xperia-z2/   7/17/2014   de      de   \n",
       "416939         /cellphones/sony-xperia-z3-compact/   3/29/2016   it      it   \n",
       "965310                      /cellphones/zte-blade/   4/16/2011   en      gb   \n",
       "1105330                      /cellphones/lg-vn250/   5/21/2010   en      us   \n",
       "346027              /cellphones/samsung-galaxy-s5/    7/6/2014   en      us   \n",
       "877530        /cellphones/samsung-galaxy-ace-plus/   1/11/2012   ru      ru   \n",
       "553182                /cellphones/nokia-lumia-530/   3/27/2015   pt      br   \n",
       "1163761                /cellphones/lg-lotus-lx600/   6/11/2009   en      us   \n",
       "1209899              /cellphones/nokia-6110-41182/   11/7/2000   en      gb   \n",
       "417809         /cellphones/sony-xperia-z3-compact/   4/29/2015   fr      fr   \n",
       "538331                /cellphones/apple-iphone-5s/  12/13/2013   en      in   \n",
       "1081147                      /cellphones/lg-gt540/  11/16/2011   es      ar   \n",
       "92039          /cellphones/samsung-galaxy-a5-2017/   2/21/2017   es      es   \n",
       "\n",
       "                   source                       domain  score  score_max  \\\n",
       "1381066       Phone Scoop               phonescoop.com    3.0       10.0   \n",
       "159224   Verizon Wireless          verizonwireless.com   10.0       10.0   \n",
       "166941             Yandex             market.yandex.ru    6.0       10.0   \n",
       "340422           Flipkart                 flipkart.com    8.0       10.0   \n",
       "290110             Amazon                    amazon.ca   10.0       10.0   \n",
       "1166492            Amazon                   amazon.com    4.0       10.0   \n",
       "264600             Amazon                   amazon.com    8.0       10.0   \n",
       "1275859            Amazon                 amazon.co.uk    8.0       10.0   \n",
       "416067             Amazon                 amazon.co.uk    6.0       10.0   \n",
       "306382             Amazon                    amazon.fr    2.0       10.0   \n",
       "1051626            Amazon                   amazon.com    6.0       10.0   \n",
       "988241             Amazon                   amazon.com    2.0       10.0   \n",
       "452919             Amazon                    amazon.de    2.0       10.0   \n",
       "416939             Amazon                    amazon.it   10.0       10.0   \n",
       "965310             Amazon                 amazon.co.uk    4.0       10.0   \n",
       "1105330            Amazon                   amazon.com   10.0       10.0   \n",
       "346027             Amazon                   amazon.com    8.0       10.0   \n",
       "877530             Yandex             market.yandex.ru    8.0       10.0   \n",
       "553182     Cissa Magazine         cissamagazine.com.br    NaN        NaN   \n",
       "1163761     HandCellPhone            handcellphone.com   10.0       10.0   \n",
       "1209899              Ciao                   ciao.co.uk   10.0       10.0   \n",
       "417809             Amazon                    amazon.fr   10.0       10.0   \n",
       "538331             Amazon                    amazon.in    8.0       10.0   \n",
       "1081147      MercadoLibre  opinion.mercadolibre.com.ar   10.0       10.0   \n",
       "92039              Amazon                    amazon.es   10.0       10.0   \n",
       "\n",
       "                                                   extract  \\\n",
       "1381066  Sprint missed the boat on the fundamentals wit...   \n",
       "159224   Just got this a couple of weeks ago, really ni...   \n",
       "166941   Ð¡ÑÐµÐ´Ð½Ð¸Ð¹ ÑÐ¼Ð°ÑÑÑÐ¾Ð½. ÐÐ· Ð¿Ð»ÑÑ...   \n",
       "340422   Good...reasonable. .original product of Samsun...   \n",
       "290110   Shipped very fast and came with everything you...   \n",
       "1166492  Phone arrived, and the initial looks of it wer...   \n",
       "264600   The phone was to my expectations and I was hap...   \n",
       "1275859  Its hot chrome packing slick phone albeit it b...   \n",
       "416067   I'd like to say this phone is great- and so mu...   \n",
       "306382   laissant un samsung s5 j'ai pris celui la car ...   \n",
       "1051626  The good: This phone is super thin. 5mm. Pick ...   \n",
       "988241   This item sucks the phone can not be activated...   \n",
       "452919   ich bin total begeistert, alles ist mÃ¶glich. ...   \n",
       "416939   Ho aspettato un mese prima di fare la recensio...   \n",
       "965310   my phone was fine fore a wil then one time whe...   \n",
       "1105330       Item was just what we ordered and very nice.   \n",
       "346027   Works well. Had to re-calibrate the touch-scre...   \n",
       "877530   ?????????? ?????????? ??????????, ???????????...   \n",
       "553182   celular Otimo produto celular nokia lumia 530 ...   \n",
       "1163761  I just got a new Rant on Monday and hated it. ...   \n",
       "1209899  This phone has a sleek and sexy look. Typicall...   \n",
       "417809   tres bonne surprise ! Je ne risque pas de reto...   \n",
       "538331   many apps don't work like true caller is not l...   \n",
       "1081147  El celular es bueno en toda forma ya que tiene...   \n",
       "92039    Perfecto por ahora, rÃ¡pido, cÃ³modo y prÃ¡cti...   \n",
       "\n",
       "                                   author  \\\n",
       "1381066                        GrandWazoo   \n",
       "159224                             Hunts1   \n",
       "166941                                NaN   \n",
       "340422                   Sandeep Kumar...   \n",
       "290110                        mike hawdon   \n",
       "1166492  The mother of all prduct reviews   \n",
       "264600                    Amazon Customer   \n",
       "1275859                   Amazon Customer   \n",
       "416067                           Jsphstry   \n",
       "306382                    Client d'Amazon   \n",
       "1051626                           No Name   \n",
       "988241                    barbra willimas   \n",
       "452919                   Magrit Tamborini   \n",
       "416939                        M. Carolina   \n",
       "965310                            fafduck   \n",
       "1105330                              duke   \n",
       "346027                             Steven   \n",
       "877530                         madday1981   \n",
       "553182                         ALEX kraus   \n",
       "1163761                      Firekraker77   \n",
       "1209899                         pehchiong   \n",
       "417809                              Ethan   \n",
       "538331                         rishi jain   \n",
       "1081147                       CHUCHUGUA08   \n",
       "92039                               lidia   \n",
       "\n",
       "                                                   product  \n",
       "1381066                                 MM-A700 / SPH-A700  \n",
       "159224                                               LG G5  \n",
       "166941                     Microsoft Lumia 640 3G Dual Sim  \n",
       "340422              SAMSUNG Galaxy S5 (Copper Gold, 16 GB)  \n",
       "290110   Tech Armor Galaxy Note 4 Screen Protector, Tec...  \n",
       "1166492  Nokia E71x Unlocked Phone with QWERTY Keyboard...  \n",
       "264600   Apple iPhone 6 16GB Factory Unlocked GSM 4G LT...  \n",
       "1275859                              Nokia 6680 Smartphone  \n",
       "416067   Sony Xperia Z3 Compact UK SIM-Free Smartphone ...  \n",
       "306382   Acer Liquid Z630 Smartphone dÃ©bloquÃ© 4G (Ecr...  \n",
       "1051626       BLU Vivo Air Unlocked Cellphone, 16GB, Black  \n",
       "988241   Apple Iphone 4 - 8gb Sprint (CDMA) White, Smar...  \n",
       "452919   Sony Xperia Z2 Smartphone (5,2 Zoll (13,2 cm) ...  \n",
       "416939   Sony Xperia Z3 Compact Smartphone, Display 4,6...  \n",
       "965310   Orange San Francisco / Android / Mobile Phone ...  \n",
       "1105330  LG Cosmos VN250 Black No Contract No Data Veri...  \n",
       "346027   Samsung Galaxy S5 SM-G900T -16GB Black (T-Mobile)  \n",
       "877530                    Samsung Galaxy Ace Plus GT-S7500  \n",
       "553182   Smartphone Nokia Lumia 530 Dual Desbloqueado B...  \n",
       "1163761                                           LG Lotus  \n",
       "1209899                                         Nokia 6110  \n",
       "417809   Sony Mobile Xperia Z3 Compact Smartphone DÃ©bl...  \n",
       "538331                        Apple iPhone 5s (Gold, 16GB)  \n",
       "1081147                                           Lg Gt540  \n",
       "92039    Samsung Galaxy A5 (2017) Smartphone 32 GB de M...  "
      ]
     },
     "execution_count": 8,
     "metadata": {},
     "output_type": "execute_result"
    }
   ],
   "source": [
    "# Random check on data for 5o records\n",
    "data_analysis.sample(n=25,random_state=612)"
   ]
  },
  {
   "cell_type": "markdown",
   "metadata": {
    "id": "yn2Oyj2OvgT8"
   },
   "source": [
    "##### formating the phone url Columns"
   ]
  },
  {
   "cell_type": "code",
   "execution_count": 9,
   "metadata": {
    "id": "UznFNh4rqlN2"
   },
   "outputs": [
    {
     "name": "stdout",
     "output_type": "stream",
     "text": [
      "True    1415133\n",
      "Name: phone_url, dtype: int64\n"
     ]
    },
    {
     "data": {
      "text/plain": [
       "samsung-galaxy-s-iii      17093\n",
       "apple-iphone-5s           16379\n",
       "samsung-galaxy-s6         16145\n",
       "samsung-galaxy-s5         16082\n",
       "samsung-galaxy-s7-edge    15917\n",
       "                          ...  \n",
       "zte-grand-x-lte               1\n",
       "orange-spv-c600               1\n",
       "samsung-p500                  1\n",
       "sagem-my-c2-2                 1\n",
       "i-mate-ultimate-9150          1\n",
       "Name: phone_url, Length: 5556, dtype: int64"
      ]
     },
     "execution_count": 9,
     "metadata": {},
     "output_type": "execute_result"
    }
   ],
   "source": [
    "# formating the phone url Columns\n",
    "\n",
    "# Check is all the rows starts with \"cellphones\"\n",
    "print(data_analysis['phone_url'].str.startswith('/cellphones/').value_counts() )\n",
    "data_analysis['phone_url'] = data_analysis['phone_url'].str.replace('/cellphones/','')\n",
    "data_analysis['phone_url'] = data_analysis['phone_url'].str[:-1]\n",
    "data_analysis['phone_url'].value_counts()"
   ]
  },
  {
   "cell_type": "markdown",
   "metadata": {
    "id": "GiacvrQYvjuy"
   },
   "source": [
    "##### Analysis the Column \"author\" "
   ]
  },
  {
   "cell_type": "code",
   "execution_count": 10,
   "metadata": {
    "id": "PSz4FQJyvt1s"
   },
   "outputs": [
    {
     "name": "stdout",
     "output_type": "stream",
     "text": [
      "Not of observation with empty -  63202\n",
      "Not of observation with empty % -  4.466152651376231\n"
     ]
    }
   ],
   "source": [
    "#pd.set_option('display.max_rows', None)\n",
    "print(\"Not of observation with empty - \",data_analysis[\"author\"].isna().sum())\n",
    "print(\"Not of observation with empty % - \",(data_analysis[\"author\"].isna().sum() / data_analysis.shape[0])*100) "
   ]
  },
  {
   "cell_type": "markdown",
   "metadata": {
    "id": "R05PxjSG-JmW"
   },
   "source": [
    "Since only 1000000 are request for analysis, removing the observation where author names are empty\n",
    "\n",
    "\n",
    "\n",
    "\n",
    "\n",
    " "
   ]
  },
  {
   "cell_type": "code",
   "execution_count": 11,
   "metadata": {
    "id": "AYv9_HTw-ojf"
   },
   "outputs": [
    {
     "data": {
      "text/plain": [
       "phone_url        0\n",
       "date             0\n",
       "lang             0\n",
       "country          0\n",
       "source           0\n",
       "domain           0\n",
       "score        60893\n",
       "score_max    60893\n",
       "extract      15515\n",
       "author           0\n",
       "product          0\n",
       "dtype: int64"
      ]
     },
     "execution_count": 11,
     "metadata": {},
     "output_type": "execute_result"
    }
   ],
   "source": [
    "\n",
    "data_analysis.dropna(subset=[\"author\"],inplace=True)\n",
    "data_analysis.isna().sum()"
   ]
  },
  {
   "cell_type": "markdown",
   "metadata": {
    "id": "XX-qEPS9CEO7"
   },
   "source": [
    "##### Analysis the Column \"Score and score_max\""
   ]
  },
  {
   "cell_type": "code",
   "execution_count": 12,
   "metadata": {
    "id": "jNbpqCvp_OsW"
   },
   "outputs": [],
   "source": [
    "##### Analysis the Column \"Score and score_max\""
   ]
  },
  {
   "cell_type": "code",
   "execution_count": 13,
   "metadata": {
    "id": "eWi9mu2d_aL-"
   },
   "outputs": [
    {
     "name": "stdout",
     "output_type": "stream",
     "text": [
      "Not of observation with empty -  60893\n",
      "Not of observation with empty % -  4.504149989903331\n"
     ]
    }
   ],
   "source": [
    "print(\"Not of observation with empty - \",data_analysis[\"score\"].isna().sum())\n",
    "print(\"Not of observation with empty % - \",(data_analysis[\"score\"].isna().sum() / data_analysis.shape[0])*100) "
   ]
  },
  {
   "cell_type": "markdown",
   "metadata": {
    "id": "7ROewgA5_1Xr"
   },
   "source": [
    "Since only 1000000 are request for analysis, removing the observation where score names are empty"
   ]
  },
  {
   "cell_type": "code",
   "execution_count": 14,
   "metadata": {
    "id": "V4I-W5AXCOnz"
   },
   "outputs": [
    {
     "data": {
      "text/plain": [
       "phone_url        0\n",
       "date             0\n",
       "lang             0\n",
       "country          0\n",
       "source           0\n",
       "domain           0\n",
       "score            0\n",
       "score_max        0\n",
       "extract      15121\n",
       "author           0\n",
       "product          0\n",
       "dtype: int64"
      ]
     },
     "execution_count": 14,
     "metadata": {},
     "output_type": "execute_result"
    }
   ],
   "source": [
    "data_analysis.dropna(subset=[\"score\"],inplace=True)\n",
    "data_analysis.isna().sum()"
   ]
  },
  {
   "cell_type": "code",
   "execution_count": 15,
   "metadata": {
    "id": "-ReE97_fIrk3"
   },
   "outputs": [
    {
     "data": {
      "text/plain": [
       "0"
      ]
     },
     "execution_count": 15,
     "metadata": {},
     "output_type": "execute_result"
    }
   ],
   "source": [
    "# is there any observation with score greater than max score ?\n",
    "data_analysis.query(\"score > score_max\").count().sum()\n"
   ]
  },
  {
   "cell_type": "markdown",
   "metadata": {
    "id": "kXWXyWDeJG7L"
   },
   "source": [
    " - is there any observation with score greater than max score ? -NO"
   ]
  },
  {
   "cell_type": "markdown",
   "metadata": {
    "id": "hNysS8gCB9pP"
   },
   "source": [
    "###### Round off scores to the nearest integers\n",
    "\n"
   ]
  },
  {
   "cell_type": "code",
   "execution_count": 16,
   "metadata": {
    "id": "9zd1ffKWB145"
   },
   "outputs": [
    {
     "data": {
      "text/plain": [
       "array([10.,  6.,  9.,  4.,  8.,  2.,  7.,  5.,  3.,  1.,  0.])"
      ]
     },
     "execution_count": 16,
     "metadata": {},
     "output_type": "execute_result"
    }
   ],
   "source": [
    "data_analysis[\"score\"] = np.round(data_analysis[\"score\"])\n",
    "data_analysis[\"score\"].unique()"
   ]
  },
  {
   "cell_type": "code",
   "execution_count": 17,
   "metadata": {
    "id": "7Tt_01lQXXHT"
   },
   "outputs": [
    {
     "data": {
      "text/plain": [
       "10.0    1291038\n",
       "Name: score_max, dtype: int64"
      ]
     },
     "execution_count": 17,
     "metadata": {},
     "output_type": "execute_result"
    }
   ],
   "source": [
    "# is the scoring is done on same scale  ( 1 -10) ?  \n",
    "data_analysis[\"score_max\"].value_counts()"
   ]
  },
  {
   "cell_type": "markdown",
   "metadata": {
    "id": "5gR1RsR_XpGS"
   },
   "source": [
    "- is the scoring is done on same scale  ( 1 -10) ?  - YES"
   ]
  },
  {
   "cell_type": "markdown",
   "metadata": {
    "id": "ERwdItUzBFgq"
   },
   "source": [
    "##### Dropping irrelevant features & removing duplicate columns"
   ]
  },
  {
   "cell_type": "code",
   "execution_count": 18,
   "metadata": {
    "id": "IXqAKh-HEm7n"
   },
   "outputs": [
    {
     "name": "stdout",
     "output_type": "stream",
     "text": [
      "# of Observations -  1291038\n",
      "# of Observations after removing duplicate -  1113596\n",
      "% of rows duplicated rows removed -  13.744134564590663\n"
     ]
    }
   ],
   "source": [
    "# Removing the duplicate rows - when phone_url,author & score are same\n",
    "rows_with_duplicate = int(data_analysis.shape[0])\n",
    "\n",
    "print(\"# of Observations - \",rows_with_duplicate)\n",
    "data_analysis.drop_duplicates(subset=['phone_url','author','score'],keep='first',inplace=True)\n",
    "\n",
    "rows_without_duplicate = int(data_analysis.shape[0])\n",
    "print(\"# of Observations after removing duplicate - \",rows_without_duplicate)\n",
    "\n",
    "print(\"% of rows duplicated rows removed - \" , ((rows_with_duplicate - rows_without_duplicate)/rows_with_duplicate)*100)"
   ]
  },
  {
   "cell_type": "markdown",
   "metadata": {
    "id": "7OhzCtKsZQYA"
   },
   "source": [
    "- 13% duplicated rows have been removed , it's OK since only 10L rows are to be considered for the analysis. "
   ]
  },
  {
   "cell_type": "code",
   "execution_count": 19,
   "metadata": {
    "id": "QSSmTxDbbEAg"
   },
   "outputs": [
    {
     "data": {
      "text/html": [
       "<div>\n",
       "<style scoped>\n",
       "    .dataframe tbody tr th:only-of-type {\n",
       "        vertical-align: middle;\n",
       "    }\n",
       "\n",
       "    .dataframe tbody tr th {\n",
       "        vertical-align: top;\n",
       "    }\n",
       "\n",
       "    .dataframe thead th {\n",
       "        text-align: right;\n",
       "    }\n",
       "</style>\n",
       "<table border=\"1\" class=\"dataframe\">\n",
       "  <thead>\n",
       "    <tr style=\"text-align: right;\">\n",
       "      <th></th>\n",
       "      <th>phone_url</th>\n",
       "      <th>author</th>\n",
       "      <th>score</th>\n",
       "    </tr>\n",
       "  </thead>\n",
       "  <tbody>\n",
       "    <tr>\n",
       "      <th>0</th>\n",
       "      <td>samsung-galaxy-s8</td>\n",
       "      <td>CarolAnn35</td>\n",
       "      <td>10.0</td>\n",
       "    </tr>\n",
       "    <tr>\n",
       "      <th>1</th>\n",
       "      <td>samsung-galaxy-s8</td>\n",
       "      <td>james0923</td>\n",
       "      <td>10.0</td>\n",
       "    </tr>\n",
       "    <tr>\n",
       "      <th>2</th>\n",
       "      <td>samsung-galaxy-s8</td>\n",
       "      <td>R. Craig</td>\n",
       "      <td>6.0</td>\n",
       "    </tr>\n",
       "    <tr>\n",
       "      <th>3</th>\n",
       "      <td>samsung-galaxy-s8</td>\n",
       "      <td>Buster2020</td>\n",
       "      <td>9.0</td>\n",
       "    </tr>\n",
       "    <tr>\n",
       "      <th>4</th>\n",
       "      <td>samsung-galaxy-s8</td>\n",
       "      <td>S Ate Mine</td>\n",
       "      <td>4.0</td>\n",
       "    </tr>\n",
       "  </tbody>\n",
       "</table>\n",
       "</div>"
      ],
      "text/plain": [
       "           phone_url       author  score\n",
       "0  samsung-galaxy-s8   CarolAnn35   10.0\n",
       "1  samsung-galaxy-s8    james0923   10.0\n",
       "2  samsung-galaxy-s8     R. Craig    6.0\n",
       "3  samsung-galaxy-s8  Buster2020     9.0\n",
       "4  samsung-galaxy-s8   S Ate Mine    4.0"
      ]
     },
     "execution_count": 19,
     "metadata": {},
     "output_type": "execute_result"
    }
   ],
   "source": [
    "# 'phone_url','author','score' are considered for the analysis on other rows are removed.\n",
    "data_analysis = data_analysis[['phone_url','author','score']]\n",
    "data_analysis.head()"
   ]
  },
  {
   "cell_type": "markdown",
   "metadata": {
    "id": "W8b7DZgIcASD"
   },
   "source": [
    "##### Sampling 1000000 rows"
   ]
  },
  {
   "cell_type": "code",
   "execution_count": 20,
   "metadata": {
    "id": "TWu9l3rPcAE1"
   },
   "outputs": [
    {
     "name": "stdout",
     "output_type": "stream",
     "text": [
      "Check the shape  (1000000, 3)\n",
      " missing values  0\n"
     ]
    }
   ],
   "source": [
    "data_analysis = data_analysis.sample(n=1000000,random_state=612)\n",
    "print(\"Check the shape \", data_analysis.shape)\n",
    "print(\" missing values \", data_analysis.isna().sum().sum())"
   ]
  },
  {
   "cell_type": "markdown",
   "metadata": {
    "id": "ZBNJ9JT0egc7"
   },
   "source": [
    "### 2) Answer the following questions \n",
    "\n",
    "1.   Identify the most rated features\n",
    "2.   Identify the users with most number of reviews.\n",
    "3.   Select the data with products having more than 50 ratings and users who have given more than 50 ratings. Report the shape of the final\n",
    "dataset"
   ]
  },
  {
   "cell_type": "markdown",
   "metadata": {
    "id": "XeDsVbGhLz3x"
   },
   "source": [
    "##### most rated features"
   ]
  },
  {
   "cell_type": "code",
   "execution_count": 21,
   "metadata": {
    "id": "b-ODq1bhL80-"
   },
   "outputs": [
    {
     "data": {
      "text/plain": [
       "phone_url\n",
       "samsung-galaxy-s5                                    11726\n",
       "samsung-galaxy-s6                                    11426\n",
       "motorola-moto-g                                      10782\n",
       "samsung-galaxy-s7-edge                               10695\n",
       "apple-iphone-5s                                      10524\n",
       "samsung-i9500-galaxy-s-iv                             9829\n",
       "samsung-galaxy-s7-789999                              9504\n",
       "huawei-p8-lite                                        6766\n",
       "apple-iphone-4s                                       6511\n",
       "samsung-galaxy-s4-mini-gt-i9190-gt-i9192-dual-sim     6345\n",
       "Name: author, dtype: int64"
      ]
     },
     "execution_count": 21,
     "metadata": {},
     "output_type": "execute_result"
    }
   ],
   "source": [
    "data_groupby_phone = data_analysis.groupby(by=\"phone_url\").count()\n",
    "data_groupby_phone = data_groupby_phone.sort_values(by=['author'],ascending=False)\n",
    "data_groupby_phone[\"author\"].head(10)"
   ]
  },
  {
   "cell_type": "markdown",
   "metadata": {
    "id": "CTbS7w4FLk8K"
   },
   "source": [
    " ##### users with most number of reviews"
   ]
  },
  {
   "cell_type": "code",
   "execution_count": 22,
   "metadata": {
    "id": "Q4jX6KJsCRp-"
   },
   "outputs": [
    {
     "data": {
      "text/plain": [
       "author\n",
       "Amazon Customer    5012\n",
       "Cliente Amazon     1723\n",
       "Anonymous          1401\n",
       "Amazon Kunde       1221\n",
       "Client d'Amazon    1029\n",
       "David               572\n",
       "Alex                531\n",
       "Daniel              501\n",
       "Chris               499\n",
       "Marco               449\n",
       "Name: phone_url, dtype: int64"
      ]
     },
     "execution_count": 22,
     "metadata": {},
     "output_type": "execute_result"
    }
   ],
   "source": [
    "data_groupby_author = data_analysis.groupby(by=\"author\").count()\n",
    "data_groupby_author = data_groupby_author.sort_values(by='phone_url',ascending=False)\n",
    "data_groupby_author['phone_url'].head(10)"
   ]
  },
  {
   "cell_type": "markdown",
   "metadata": {
    "id": "DQyuASzRMgJL"
   },
   "source": [
    "#### Filter Data - product with 50 rating and User gave 50 rating"
   ]
  },
  {
   "cell_type": "code",
   "execution_count": 23,
   "metadata": {
    "id": "aLVNRh1FEDCc"
   },
   "outputs": [
    {
     "name": "stdout",
     "output_type": "stream",
     "text": [
      "Data Size selected for Model Building--  (953196, 3)\n",
      "Columns Selected --  Index(['phone_url', 'author', 'score'], dtype='object')\n"
     ]
    },
    {
     "data": {
      "text/html": [
       "<div>\n",
       "<style scoped>\n",
       "    .dataframe tbody tr th:only-of-type {\n",
       "        vertical-align: middle;\n",
       "    }\n",
       "\n",
       "    .dataframe tbody tr th {\n",
       "        vertical-align: top;\n",
       "    }\n",
       "\n",
       "    .dataframe thead th {\n",
       "        text-align: right;\n",
       "    }\n",
       "</style>\n",
       "<table border=\"1\" class=\"dataframe\">\n",
       "  <thead>\n",
       "    <tr style=\"text-align: right;\">\n",
       "      <th></th>\n",
       "      <th>phone_url</th>\n",
       "      <th>author</th>\n",
       "      <th>score</th>\n",
       "    </tr>\n",
       "  </thead>\n",
       "  <tbody>\n",
       "    <tr>\n",
       "      <th>1279750</th>\n",
       "      <td>nokia-n73</td>\n",
       "      <td>dd-xd</td>\n",
       "      <td>10.0</td>\n",
       "    </tr>\n",
       "    <tr>\n",
       "      <th>178322</th>\n",
       "      <td>huawei-p8-lite</td>\n",
       "      <td>Bouwman</td>\n",
       "      <td>9.0</td>\n",
       "    </tr>\n",
       "    <tr>\n",
       "      <th>342503</th>\n",
       "      <td>samsung-galaxy-s5</td>\n",
       "      <td>across2k13</td>\n",
       "      <td>10.0</td>\n",
       "    </tr>\n",
       "    <tr>\n",
       "      <th>1151689</th>\n",
       "      <td>htc-touch-diamond-2</td>\n",
       "      <td>Melissa MÃ¼hleisen</td>\n",
       "      <td>2.0</td>\n",
       "    </tr>\n",
       "    <tr>\n",
       "      <th>1122190</th>\n",
       "      <td>htc-evo-design-4g</td>\n",
       "      <td>stacee8675309</td>\n",
       "      <td>3.0</td>\n",
       "    </tr>\n",
       "  </tbody>\n",
       "</table>\n",
       "</div>"
      ],
      "text/plain": [
       "                   phone_url              author  score\n",
       "1279750            nokia-n73               dd-xd   10.0\n",
       "178322        huawei-p8-lite             Bouwman    9.0\n",
       "342503     samsung-galaxy-s5         across2k13    10.0\n",
       "1151689  htc-touch-diamond-2  Melissa MÃ¼hleisen    2.0\n",
       "1122190    htc-evo-design-4g       stacee8675309    3.0"
      ]
     },
     "execution_count": 23,
     "metadata": {},
     "output_type": "execute_result"
    }
   ],
   "source": [
    "data_groupby_phone = data_groupby_phone.query(\"author > 50\")\n",
    "data_groupby_author = data_groupby_author.query(\"phone_url > 50\")\n",
    "data_analysis = data_analysis[ data_analysis[\"phone_url\"].isin(data_groupby_phone.index) | data_analysis[\"author\"].isin(data_groupby_author.index)]\n",
    "print(\"Data Size selected for Model Building-- \",data_analysis.shape)\n",
    "print(\"Columns Selected -- \",data_analysis.columns)\n",
    "data_analysis.head()"
   ]
  },
  {
   "cell_type": "markdown",
   "metadata": {
    "id": "p468cugzy5Ag"
   },
   "source": [
    "#### User & Product"
   ]
  },
  {
   "cell_type": "code",
   "execution_count": 24,
   "metadata": {
    "id": "jtsDZxxJzA19"
   },
   "outputs": [
    {
     "name": "stdout",
     "output_type": "stream",
     "text": [
      "Unique products -  3767\n",
      "No of USers  -  678013\n"
     ]
    }
   ],
   "source": [
    "print(\"Unique products - \", data_analysis['phone_url'].nunique())\n",
    "print(\"No of USers  - \", data_analysis['author'].nunique())"
   ]
  },
  {
   "cell_type": "markdown",
   "metadata": {
    "id": "NDZiERtzWGWl"
   },
   "source": [
    "### **popularity based model**"
   ]
  },
  {
   "cell_type": "code",
   "execution_count": 25,
   "metadata": {
    "id": "QthVFh6JqJOE"
   },
   "outputs": [],
   "source": [
    "rating_mean_count =  pd.DataFrame(data_analysis.groupby(by=\"phone_url\")[\"score\"].mean())\n",
    "rating_mean_count[\"rating_count\"] =  pd.DataFrame(data_analysis.groupby(by=\"phone_url\")[\"score\"].count())"
   ]
  },
  {
   "cell_type": "markdown",
   "metadata": {
    "id": "BK0QqbH6r6G8"
   },
   "source": [
    "##### Caculating Weighted Score "
   ]
  },
  {
   "cell_type": "markdown",
   "metadata": {
    "id": "GUh909kRr-sd"
   },
   "source": [
    "W = ((R*V) + (C*M)) / ( V+M )\n",
    " - R = Average score for a product\n",
    " - V = total number of counts recived for product\n",
    " - M = min votes required to be listed ( 90 % quantile )\n",
    " - C = Average vote across the whole product"
   ]
  },
  {
   "cell_type": "code",
   "execution_count": 26,
   "metadata": {
    "id": "7A0gxXGDrEOL"
   },
   "outputs": [],
   "source": [
    "R = rating_mean_count[\"score\"]\n",
    "V = rating_mean_count[\"rating_count\"]\n",
    "M = rating_mean_count[\"rating_count\"].quantile(0.9)\n",
    "C = rating_mean_count[\"score\"].mean() #Product to be considered only when it has more rating count than 90% of the product\n",
    "rating_mean_count[\"weigted_score\"]  = ( (R*V)+ (C*M) / ( V+M ))"
   ]
  },
  {
   "cell_type": "code",
   "execution_count": 27,
   "metadata": {
    "id": "xmMbGYh-vGY1"
   },
   "outputs": [],
   "source": [
    "# minmaxscale = MinMaxScaler()\n",
    "# rating_mean_count[\"score_nor\"] = minmaxscale.fit_transform(rating_mean_count[[\"score\"]])\n",
    "# rating_mean_count[\"rating_count_nor\"] = minmaxscale.fit_transform(rating_mean_count[[\"rating_count\"]])\n",
    "# rating_mean_count[\"weigted_score_nor\"] = minmaxscale.fit_transform(rating_mean_count[[\"weigted_score\"]])"
   ]
  },
  {
   "cell_type": "code",
   "execution_count": 28,
   "metadata": {
    "id": "s14SSi7ay9-q"
   },
   "outputs": [
    {
     "data": {
      "image/png": "[encoded data removed]",
      "text/plain": [
       "<Figure size 864x432 with 1 Axes>"
      ]
     },
     "metadata": {},
     "output_type": "display_data"
    }
   ],
   "source": [
    "plt.figure(figsize=(12,6))\n",
    "vis_data = rating_mean_count.sort_values(by=[\"weigted_score\",\"rating_count\",\"score\"],ascending=False)\n",
    "vis_data.reset_index(inplace=True)\n",
    "sns.barplot(data=vis_data.head(10) ,y=\"phone_url\",x=\"weigted_score\",orient=\"h\")\n",
    "plt.xlabel(\"Weighted Score\")\n",
    "plt.ylabel(\"Phone id\")\n",
    "plt.show()"
   ]
  },
  {
   "cell_type": "code",
   "execution_count": 29,
   "metadata": {
    "id": "M1bZC5ILwf6l"
   },
   "outputs": [],
   "source": [
    "def popularity_recommendation(fileter_col_list,top_n):\n",
    "  top_n_item = []\n",
    "  return rating_mean_count.sort_values(by=fileter_col_list,ascending=False).index[:top_n]"
   ]
  },
  {
   "cell_type": "markdown",
   "metadata": {
    "id": "xVdZjVcb19Cb"
   },
   "source": [
    "##### Top 5 recommendation"
   ]
  },
  {
   "cell_type": "code",
   "execution_count": 30,
   "metadata": {
    "id": "AVRtxhuDzj8W"
   },
   "outputs": [
    {
     "data": {
      "text/plain": [
       "Index(['samsung-galaxy-s6', 'samsung-galaxy-s5', 'motorola-moto-g',\n",
       "       'samsung-galaxy-s7-edge', 'apple-iphone-5s'],\n",
       "      dtype='object', name='phone_url')"
      ]
     },
     "execution_count": 30,
     "metadata": {},
     "output_type": "execute_result"
    }
   ],
   "source": [
    "popularity_recommendation([\"weigted_score\",\"rating_count\",\"score\"],5)"
   ]
  },
  {
   "cell_type": "markdown",
   "metadata": {
    "id": "_aniE7bc_ECw"
   },
   "source": [
    "### **collaborative filtering**"
   ]
  },
  {
   "cell_type": "code",
   "execution_count": 31,
   "metadata": {
    "id": "129ZnOZVNKj4"
   },
   "outputs": [],
   "source": [
    "def get_top_n(predictions, n=10):\n",
    "    # First map the predictions to each user.\n",
    "    top_n = defaultdict(list)\n",
    "    for uid, iid, true_r, est, details in predictions:\n",
    "        if details['was_impossible'] == False:\n",
    "            top_n[uid].append((iid, est))\n",
    "        \n",
    "        \n",
    "\n",
    "    # Then sort the predictions for each user and retrieve the k highest ones.\n",
    "    for uid, user_ratings in top_n.items():\n",
    "        user_ratings.sort(key=lambda x: x[1], reverse=True)\n",
    "        top_n[uid] = user_ratings[:n]\n",
    "\n",
    "    return top_n\n"
   ]
  },
  {
   "cell_type": "markdown",
   "metadata": {
    "id": "bvgNwO8kR_ZK"
   },
   "source": [
    "##### Impute outliers"
   ]
  },
  {
   "cell_type": "code",
   "execution_count": 32,
   "metadata": {
    "id": "WeUh8_QTA36o"
   },
   "outputs": [
    {
     "name": "stdout",
     "output_type": "stream",
     "text": [
      "10.0    474636\n",
      "8.0     217034\n",
      "2.0      87466\n",
      "6.0      84177\n",
      "4.0      52039\n",
      "9.0      25575\n",
      "7.0       5663\n",
      "5.0       3004\n",
      "1.0       1954\n",
      "3.0       1623\n",
      "0.0         25\n",
      "Name: score, dtype: int64\n"
     ]
    },
    {
     "data": {
      "text/plain": [
       "10.0    49.794166\n",
       "8.0     22.769084\n",
       "2.0      9.176077\n",
       "6.0      8.831027\n",
       "4.0      5.459423\n",
       "9.0      2.683079\n",
       "7.0      0.594107\n",
       "5.0      0.315150\n",
       "1.0      0.204995\n",
       "3.0      0.170269\n",
       "0.0      0.002623\n",
       "Name: score, dtype: float64"
      ]
     },
     "execution_count": 32,
     "metadata": {},
     "output_type": "execute_result"
    }
   ],
   "source": [
    "print(data_analysis[\"score\"].value_counts())\n",
    "data_analysis[\"score\"].value_counts(normalize=True)*100"
   ]
  },
  {
   "cell_type": "markdown",
   "metadata": {
    "id": "yKpjlX5aSjCK"
   },
   "source": [
    " - Rating count for (0,1,3) are less than 1% which can be assigned with 2 rating.\n",
    " - Rating count of ( 5,6) are less than 1% which can be assigned to 6"
   ]
  },
  {
   "cell_type": "code",
   "execution_count": 33,
   "metadata": {
    "id": "JuFpxle5TrRM"
   },
   "outputs": [
    {
     "data": {
      "text/plain": [
       "10.0    49.794166\n",
       "8.0     22.769084\n",
       "6.0      9.740284\n",
       "2.0      9.553964\n",
       "4.0      5.459423\n",
       "9.0      2.683079\n",
       "Name: score_imp, dtype: float64"
      ]
     },
     "execution_count": 33,
     "metadata": {},
     "output_type": "execute_result"
    }
   ],
   "source": [
    "data_analysis[\"score_imp\"]  = np.where(data_analysis[\"score\"].isin([0,1,3]),2, data_analysis[\"score\"])\n",
    "data_analysis[\"score_imp\"] = np.where(data_analysis[\"score_imp\"].isin([5,7]),6,data_analysis[\"score_imp\"])\n",
    "data_analysis[\"score_imp\"].value_counts(normalize=True)*100"
   ]
  },
  {
   "cell_type": "markdown",
   "metadata": {
    "id": "XaEiZypENBoQ"
   },
   "source": [
    "##### User-user collabrative filtering"
   ]
  },
  {
   "cell_type": "code",
   "execution_count": 34,
   "metadata": {
    "id": "wSLHJjvO6rNL"
   },
   "outputs": [
    {
     "data": {
      "text/html": [
       "<div>\n",
       "<style scoped>\n",
       "    .dataframe tbody tr th:only-of-type {\n",
       "        vertical-align: middle;\n",
       "    }\n",
       "\n",
       "    .dataframe tbody tr th {\n",
       "        vertical-align: top;\n",
       "    }\n",
       "\n",
       "    .dataframe thead th {\n",
       "        text-align: right;\n",
       "    }\n",
       "</style>\n",
       "<table border=\"1\" class=\"dataframe\">\n",
       "  <thead>\n",
       "    <tr style=\"text-align: right;\">\n",
       "      <th></th>\n",
       "      <th>phone_url</th>\n",
       "      <th>author</th>\n",
       "      <th>score</th>\n",
       "      <th>score_imp</th>\n",
       "    </tr>\n",
       "  </thead>\n",
       "  <tbody>\n",
       "    <tr>\n",
       "      <th>452424</th>\n",
       "      <td>sony-xperia-z2</td>\n",
       "      <td>StU</td>\n",
       "      <td>6.0</td>\n",
       "      <td>6.0</td>\n",
       "    </tr>\n",
       "    <tr>\n",
       "      <th>965710</th>\n",
       "      <td>nokia-asha-300</td>\n",
       "      <td>yskander flores</td>\n",
       "      <td>10.0</td>\n",
       "      <td>10.0</td>\n",
       "    </tr>\n",
       "    <tr>\n",
       "      <th>213790</th>\n",
       "      <td>wiko-fever</td>\n",
       "      <td>JPK</td>\n",
       "      <td>10.0</td>\n",
       "      <td>10.0</td>\n",
       "    </tr>\n",
       "    <tr>\n",
       "      <th>613556</th>\n",
       "      <td>samsung-galaxy-mega-6-3-i9200</td>\n",
       "      <td>A Manning</td>\n",
       "      <td>6.0</td>\n",
       "      <td>6.0</td>\n",
       "    </tr>\n",
       "    <tr>\n",
       "      <th>623654</th>\n",
       "      <td>lg-freedom-ii</td>\n",
       "      <td>Sandy</td>\n",
       "      <td>4.0</td>\n",
       "      <td>4.0</td>\n",
       "    </tr>\n",
       "  </tbody>\n",
       "</table>\n",
       "</div>"
      ],
      "text/plain": [
       "                            phone_url           author  score  score_imp\n",
       "452424                 sony-xperia-z2              StU    6.0        6.0\n",
       "965710                 nokia-asha-300  yskander flores   10.0       10.0\n",
       "213790                     wiko-fever              JPK   10.0       10.0\n",
       "613556  samsung-galaxy-mega-6-3-i9200        A Manning    6.0        6.0\n",
       "623654                  lg-freedom-ii            Sandy    4.0        4.0"
      ]
     },
     "execution_count": 34,
     "metadata": {},
     "output_type": "execute_result"
    }
   ],
   "source": [
    "# reducing the data size to 10K considering limitation computation resources\n",
    "data_analysis_CF =  data_analysis.sample(random_state=612,n=5000)\n",
    "data_analysis_CF.head()"
   ]
  },
  {
   "cell_type": "markdown",
   "metadata": {
    "id": "4-MenLnSTDe0"
   },
   "source": [
    "###### Train Model with Cross Validation - Without treating outlier (Score)"
   ]
  },
  {
   "cell_type": "code",
   "execution_count": 35,
   "metadata": {
    "id": "qohQ-AsqNLZd"
   },
   "outputs": [
    {
     "name": "stdout",
     "output_type": "stream",
     "text": [
      "Estimating biases using als...\n",
      "Computing the pearson_baseline similarity matrix...\n",
      "Done computing similarity matrix.\n",
      "Estimating biases using als...\n",
      "Computing the pearson_baseline similarity matrix...\n",
      "Done computing similarity matrix.\n",
      "Estimating biases using als...\n",
      "Computing the pearson_baseline similarity matrix...\n",
      "Done computing similarity matrix.\n",
      "Computing the cosine similarity matrix...\n",
      "Done computing similarity matrix.\n",
      "Computing the cosine similarity matrix...\n",
      "Done computing similarity matrix.\n",
      "Computing the cosine similarity matrix...\n",
      "Done computing similarity matrix.\n",
      "Estimating biases using als...\n",
      "Computing the pearson_baseline similarity matrix...\n",
      "Done computing similarity matrix.\n",
      "Estimating biases using als...\n",
      "Computing the pearson_baseline similarity matrix...\n",
      "Done computing similarity matrix.\n",
      "Estimating biases using als...\n",
      "Computing the pearson_baseline similarity matrix...\n",
      "Done computing similarity matrix.\n",
      "Computing the cosine similarity matrix...\n",
      "Done computing similarity matrix.\n",
      "Computing the cosine similarity matrix...\n",
      "Done computing similarity matrix.\n",
      "Computing the cosine similarity matrix...\n",
      "Done computing similarity matrix.\n",
      "Estimating biases using sgd...\n",
      "Computing the pearson_baseline similarity matrix...\n",
      "Done computing similarity matrix.\n",
      "Estimating biases using sgd...\n",
      "Computing the pearson_baseline similarity matrix...\n",
      "Done computing similarity matrix.\n",
      "Estimating biases using sgd...\n",
      "Computing the pearson_baseline similarity matrix...\n",
      "Done computing similarity matrix.\n",
      "Computing the cosine similarity matrix...\n",
      "Done computing similarity matrix.\n",
      "Computing the cosine similarity matrix...\n",
      "Done computing similarity matrix.\n",
      "Computing the cosine similarity matrix...\n",
      "Done computing similarity matrix.\n",
      "Estimating biases using sgd...\n",
      "Computing the pearson_baseline similarity matrix...\n",
      "Done computing similarity matrix.\n",
      "Estimating biases using sgd...\n",
      "Computing the pearson_baseline similarity matrix...\n",
      "Done computing similarity matrix.\n",
      "Estimating biases using sgd...\n",
      "Computing the pearson_baseline similarity matrix...\n",
      "Done computing similarity matrix.\n",
      "Computing the cosine similarity matrix...\n",
      "Done computing similarity matrix.\n",
      "Computing the cosine similarity matrix...\n",
      "Done computing similarity matrix.\n",
      "Computing the cosine similarity matrix...\n",
      "Done computing similarity matrix.\n",
      "Estimating biases using als...\n",
      "Computing the pearson_baseline similarity matrix...\n",
      "Done computing similarity matrix.\n",
      "Estimating biases using als...\n",
      "Computing the pearson_baseline similarity matrix...\n",
      "Done computing similarity matrix.\n",
      "Estimating biases using als...\n",
      "Computing the pearson_baseline similarity matrix...\n",
      "Done computing similarity matrix.\n",
      "Computing the cosine similarity matrix...\n",
      "Done computing similarity matrix.\n",
      "Computing the cosine similarity matrix...\n",
      "Done computing similarity matrix.\n",
      "Computing the cosine similarity matrix...\n",
      "Done computing similarity matrix.\n",
      "Estimating biases using als...\n",
      "Computing the pearson_baseline similarity matrix...\n",
      "Done computing similarity matrix.\n",
      "Estimating biases using als...\n",
      "Computing the pearson_baseline similarity matrix...\n",
      "Done computing similarity matrix.\n",
      "Estimating biases using als...\n",
      "Computing the pearson_baseline similarity matrix...\n",
      "Done computing similarity matrix.\n",
      "Computing the cosine similarity matrix...\n",
      "Done computing similarity matrix.\n",
      "Computing the cosine similarity matrix...\n",
      "Done computing similarity matrix.\n",
      "Computing the cosine similarity matrix...\n",
      "Done computing similarity matrix.\n",
      "Estimating biases using sgd...\n",
      "Computing the pearson_baseline similarity matrix...\n",
      "Done computing similarity matrix.\n",
      "Estimating biases using sgd...\n",
      "Computing the pearson_baseline similarity matrix...\n",
      "Done computing similarity matrix.\n",
      "Estimating biases using sgd...\n",
      "Computing the pearson_baseline similarity matrix...\n",
      "Done computing similarity matrix.\n",
      "Computing the cosine similarity matrix...\n",
      "Done computing similarity matrix.\n",
      "Computing the cosine similarity matrix...\n",
      "Done computing similarity matrix.\n",
      "Computing the cosine similarity matrix...\n",
      "Done computing similarity matrix.\n",
      "Estimating biases using sgd...\n",
      "Computing the pearson_baseline similarity matrix...\n",
      "Done computing similarity matrix.\n",
      "Estimating biases using sgd...\n",
      "Computing the pearson_baseline similarity matrix...\n",
      "Done computing similarity matrix.\n",
      "Estimating biases using sgd...\n",
      "Computing the pearson_baseline similarity matrix...\n",
      "Done computing similarity matrix.\n",
      "Computing the cosine similarity matrix...\n",
      "Done computing similarity matrix.\n",
      "Computing the cosine similarity matrix...\n",
      "Done computing similarity matrix.\n",
      "Computing the cosine similarity matrix...\n",
      "Done computing similarity matrix.\n"
     ]
    }
   ],
   "source": [
    "\n",
    "reader = Reader(rating_scale=(0, 5))\n",
    "user_base_data = Dataset.load_from_df(data_analysis_CF[['author','phone_url','score']],reader)\n",
    "param_grid = {'k': [2,5],\n",
    "              'bsl_options': {'method': ['als', 'sgd'],\n",
    "                              'reg': [1, 2]},\n",
    "              'sim_options': {'name': ['pearson_baseline', 'cosine'],\n",
    "                              'user_based': [True]}              }\n",
    "kmean_gs_user_base = GridSearchCV(KNNWithMeans, param_grid, measures=['rmse'], cv=KFold(n_splits=3,random_state=123),return_train_measures = True) \n",
    "kmean_gs_user_base.fit(user_base_data)\n"
   ]
  },
  {
   "cell_type": "markdown",
   "metadata": {
    "id": "j2YrKZpBTOq1"
   },
   "source": [
    "Model performance"
   ]
  },
  {
   "cell_type": "code",
   "execution_count": 36,
   "metadata": {
    "id": "Q2EvIe2_Nz2m"
   },
   "outputs": [
    {
     "name": "stdout",
     "output_type": "stream",
     "text": [
      "Best Score 3.957256205367107\n",
      "best hyperparameter {'k': 2, 'bsl_options': {'method': 'als', 'reg': 1}, 'sim_options': {'name': 'pearson_baseline', 'user_based': True}}\n"
     ]
    },
    {
     "data": {
      "text/html": [
       "<div>\n",
       "<style scoped>\n",
       "    .dataframe tbody tr th:only-of-type {\n",
       "        vertical-align: middle;\n",
       "    }\n",
       "\n",
       "    .dataframe tbody tr th {\n",
       "        vertical-align: top;\n",
       "    }\n",
       "\n",
       "    .dataframe thead th {\n",
       "        text-align: right;\n",
       "    }\n",
       "</style>\n",
       "<table border=\"1\" class=\"dataframe\">\n",
       "  <thead>\n",
       "    <tr style=\"text-align: right;\">\n",
       "      <th></th>\n",
       "      <th>mean_train_rmse</th>\n",
       "      <th>std_train_rmse</th>\n",
       "      <th>mean_test_rmse</th>\n",
       "      <th>std_test_time</th>\n",
       "    </tr>\n",
       "  </thead>\n",
       "  <tbody>\n",
       "    <tr>\n",
       "      <th>0</th>\n",
       "      <td>3.825466</td>\n",
       "      <td>0.002344</td>\n",
       "      <td>3.957256</td>\n",
       "      <td>4.701457e-04</td>\n",
       "    </tr>\n",
       "    <tr>\n",
       "      <th>2</th>\n",
       "      <td>3.825466</td>\n",
       "      <td>0.002344</td>\n",
       "      <td>3.957256</td>\n",
       "      <td>3.856726e-03</td>\n",
       "    </tr>\n",
       "    <tr>\n",
       "      <th>4</th>\n",
       "      <td>3.825466</td>\n",
       "      <td>0.002344</td>\n",
       "      <td>3.957256</td>\n",
       "      <td>8.076918e-04</td>\n",
       "    </tr>\n",
       "    <tr>\n",
       "      <th>6</th>\n",
       "      <td>3.825466</td>\n",
       "      <td>0.002344</td>\n",
       "      <td>3.957256</td>\n",
       "      <td>3.395730e-03</td>\n",
       "    </tr>\n",
       "    <tr>\n",
       "      <th>8</th>\n",
       "      <td>3.825466</td>\n",
       "      <td>0.002344</td>\n",
       "      <td>3.957256</td>\n",
       "      <td>2.870867e-02</td>\n",
       "    </tr>\n",
       "    <tr>\n",
       "      <th>10</th>\n",
       "      <td>3.825466</td>\n",
       "      <td>0.002344</td>\n",
       "      <td>3.957256</td>\n",
       "      <td>1.690090e-03</td>\n",
       "    </tr>\n",
       "    <tr>\n",
       "      <th>12</th>\n",
       "      <td>3.825466</td>\n",
       "      <td>0.002344</td>\n",
       "      <td>3.957256</td>\n",
       "      <td>3.692579e-03</td>\n",
       "    </tr>\n",
       "    <tr>\n",
       "      <th>14</th>\n",
       "      <td>3.825466</td>\n",
       "      <td>0.002344</td>\n",
       "      <td>3.957256</td>\n",
       "      <td>4.052337e-07</td>\n",
       "    </tr>\n",
       "    <tr>\n",
       "      <th>9</th>\n",
       "      <td>3.831493</td>\n",
       "      <td>0.001943</td>\n",
       "      <td>3.957256</td>\n",
       "      <td>3.093702e-03</td>\n",
       "    </tr>\n",
       "    <tr>\n",
       "      <th>11</th>\n",
       "      <td>3.831493</td>\n",
       "      <td>0.001943</td>\n",
       "      <td>3.957256</td>\n",
       "      <td>1.238874e-03</td>\n",
       "    </tr>\n",
       "    <tr>\n",
       "      <th>13</th>\n",
       "      <td>3.831493</td>\n",
       "      <td>0.001943</td>\n",
       "      <td>3.957256</td>\n",
       "      <td>4.033349e-03</td>\n",
       "    </tr>\n",
       "    <tr>\n",
       "      <th>15</th>\n",
       "      <td>3.831493</td>\n",
       "      <td>0.001943</td>\n",
       "      <td>3.957256</td>\n",
       "      <td>4.708647e-04</td>\n",
       "    </tr>\n",
       "    <tr>\n",
       "      <th>1</th>\n",
       "      <td>3.831942</td>\n",
       "      <td>0.002342</td>\n",
       "      <td>3.957256</td>\n",
       "      <td>1.633459e-03</td>\n",
       "    </tr>\n",
       "    <tr>\n",
       "      <th>3</th>\n",
       "      <td>3.831942</td>\n",
       "      <td>0.002342</td>\n",
       "      <td>3.957256</td>\n",
       "      <td>7.319157e-03</td>\n",
       "    </tr>\n",
       "    <tr>\n",
       "      <th>5</th>\n",
       "      <td>3.831942</td>\n",
       "      <td>0.002342</td>\n",
       "      <td>3.957256</td>\n",
       "      <td>4.723820e-04</td>\n",
       "    </tr>\n",
       "    <tr>\n",
       "      <th>7</th>\n",
       "      <td>3.831942</td>\n",
       "      <td>0.002342</td>\n",
       "      <td>3.957256</td>\n",
       "      <td>5.064039e-03</td>\n",
       "    </tr>\n",
       "  </tbody>\n",
       "</table>\n",
       "</div>"
      ],
      "text/plain": [
       "    mean_train_rmse  std_train_rmse  mean_test_rmse  std_test_time\n",
       "0          3.825466        0.002344        3.957256   4.701457e-04\n",
       "2          3.825466        0.002344        3.957256   3.856726e-03\n",
       "4          3.825466        0.002344        3.957256   8.076918e-04\n",
       "6          3.825466        0.002344        3.957256   3.395730e-03\n",
       "8          3.825466        0.002344        3.957256   2.870867e-02\n",
       "10         3.825466        0.002344        3.957256   1.690090e-03\n",
       "12         3.825466        0.002344        3.957256   3.692579e-03\n",
       "14         3.825466        0.002344        3.957256   4.052337e-07\n",
       "9          3.831493        0.001943        3.957256   3.093702e-03\n",
       "11         3.831493        0.001943        3.957256   1.238874e-03\n",
       "13         3.831493        0.001943        3.957256   4.033349e-03\n",
       "15         3.831493        0.001943        3.957256   4.708647e-04\n",
       "1          3.831942        0.002342        3.957256   1.633459e-03\n",
       "3          3.831942        0.002342        3.957256   7.319157e-03\n",
       "5          3.831942        0.002342        3.957256   4.723820e-04\n",
       "7          3.831942        0.002342        3.957256   5.064039e-03"
      ]
     },
     "execution_count": 36,
     "metadata": {},
     "output_type": "execute_result"
    }
   ],
   "source": [
    "print(\"Best Score\" , kmean_gs_user_base.best_score['rmse'])\n",
    "print(\"best hyperparameter\", kmean_gs_user_base.best_params['rmse'])\n",
    "results_df = pd.DataFrame.from_dict(kmean_gs_user_base.cv_results)\n",
    "results_df[[\"mean_train_rmse\",\"std_train_rmse\",\"mean_test_rmse\",\"std_test_time\"]].sort_values(by=[\"mean_test_rmse\",\"mean_train_rmse\"])\n"
   ]
  },
  {
   "cell_type": "markdown",
   "metadata": {
    "id": "vPrL7ufOXC_1"
   },
   "source": [
    "###### Train Model with Cross Validation - With treating outlier (Score)"
   ]
  },
  {
   "cell_type": "code",
   "execution_count": 37,
   "metadata": {
    "id": "YYHxzPknXMNj"
   },
   "outputs": [
    {
     "name": "stdout",
     "output_type": "stream",
     "text": [
      "Estimating biases using als...\n",
      "Computing the pearson_baseline similarity matrix...\n",
      "Done computing similarity matrix.\n",
      "Estimating biases using als...\n",
      "Computing the pearson_baseline similarity matrix...\n",
      "Done computing similarity matrix.\n",
      "Estimating biases using als...\n",
      "Computing the pearson_baseline similarity matrix...\n",
      "Done computing similarity matrix.\n",
      "Computing the cosine similarity matrix...\n",
      "Done computing similarity matrix.\n",
      "Computing the cosine similarity matrix...\n",
      "Done computing similarity matrix.\n",
      "Computing the cosine similarity matrix...\n",
      "Done computing similarity matrix.\n",
      "Estimating biases using als...\n",
      "Computing the pearson_baseline similarity matrix...\n",
      "Done computing similarity matrix.\n",
      "Estimating biases using als...\n",
      "Computing the pearson_baseline similarity matrix...\n",
      "Done computing similarity matrix.\n",
      "Estimating biases using als...\n",
      "Computing the pearson_baseline similarity matrix...\n",
      "Done computing similarity matrix.\n",
      "Computing the cosine similarity matrix...\n",
      "Done computing similarity matrix.\n",
      "Computing the cosine similarity matrix...\n",
      "Done computing similarity matrix.\n",
      "Computing the cosine similarity matrix...\n",
      "Done computing similarity matrix.\n",
      "Estimating biases using sgd...\n",
      "Computing the pearson_baseline similarity matrix...\n",
      "Done computing similarity matrix.\n",
      "Estimating biases using sgd...\n",
      "Computing the pearson_baseline similarity matrix...\n",
      "Done computing similarity matrix.\n",
      "Estimating biases using sgd...\n",
      "Computing the pearson_baseline similarity matrix...\n",
      "Done computing similarity matrix.\n",
      "Computing the cosine similarity matrix...\n",
      "Done computing similarity matrix.\n",
      "Computing the cosine similarity matrix...\n",
      "Done computing similarity matrix.\n",
      "Computing the cosine similarity matrix...\n",
      "Done computing similarity matrix.\n",
      "Estimating biases using sgd...\n",
      "Computing the pearson_baseline similarity matrix...\n",
      "Done computing similarity matrix.\n",
      "Estimating biases using sgd...\n",
      "Computing the pearson_baseline similarity matrix...\n",
      "Done computing similarity matrix.\n",
      "Estimating biases using sgd...\n",
      "Computing the pearson_baseline similarity matrix...\n",
      "Done computing similarity matrix.\n",
      "Computing the cosine similarity matrix...\n",
      "Done computing similarity matrix.\n",
      "Computing the cosine similarity matrix...\n",
      "Done computing similarity matrix.\n",
      "Computing the cosine similarity matrix...\n",
      "Done computing similarity matrix.\n",
      "Estimating biases using als...\n",
      "Computing the pearson_baseline similarity matrix...\n",
      "Done computing similarity matrix.\n",
      "Estimating biases using als...\n",
      "Computing the pearson_baseline similarity matrix...\n",
      "Done computing similarity matrix.\n",
      "Estimating biases using als...\n",
      "Computing the pearson_baseline similarity matrix...\n",
      "Done computing similarity matrix.\n",
      "Computing the cosine similarity matrix...\n",
      "Done computing similarity matrix.\n",
      "Computing the cosine similarity matrix...\n",
      "Done computing similarity matrix.\n",
      "Computing the cosine similarity matrix...\n",
      "Done computing similarity matrix.\n",
      "Estimating biases using als...\n",
      "Computing the pearson_baseline similarity matrix...\n",
      "Done computing similarity matrix.\n",
      "Estimating biases using als...\n",
      "Computing the pearson_baseline similarity matrix...\n",
      "Done computing similarity matrix.\n",
      "Estimating biases using als...\n",
      "Computing the pearson_baseline similarity matrix...\n",
      "Done computing similarity matrix.\n",
      "Computing the cosine similarity matrix...\n",
      "Done computing similarity matrix.\n",
      "Computing the cosine similarity matrix...\n",
      "Done computing similarity matrix.\n",
      "Computing the cosine similarity matrix...\n",
      "Done computing similarity matrix.\n",
      "Estimating biases using sgd...\n",
      "Computing the pearson_baseline similarity matrix...\n",
      "Done computing similarity matrix.\n",
      "Estimating biases using sgd...\n",
      "Computing the pearson_baseline similarity matrix...\n",
      "Done computing similarity matrix.\n",
      "Estimating biases using sgd...\n",
      "Computing the pearson_baseline similarity matrix...\n",
      "Done computing similarity matrix.\n",
      "Computing the cosine similarity matrix...\n",
      "Done computing similarity matrix.\n",
      "Computing the cosine similarity matrix...\n",
      "Done computing similarity matrix.\n",
      "Computing the cosine similarity matrix...\n",
      "Done computing similarity matrix.\n",
      "Estimating biases using sgd...\n",
      "Computing the pearson_baseline similarity matrix...\n",
      "Done computing similarity matrix.\n",
      "Estimating biases using sgd...\n",
      "Computing the pearson_baseline similarity matrix...\n",
      "Done computing similarity matrix.\n",
      "Estimating biases using sgd...\n",
      "Computing the pearson_baseline similarity matrix...\n",
      "Done computing similarity matrix.\n",
      "Computing the cosine similarity matrix...\n",
      "Done computing similarity matrix.\n",
      "Computing the cosine similarity matrix...\n",
      "Done computing similarity matrix.\n",
      "Computing the cosine similarity matrix...\n",
      "Done computing similarity matrix.\n"
     ]
    }
   ],
   "source": [
    "reader = Reader(rating_scale=(0, 5))\n",
    "user_base_data = Dataset.load_from_df(data_analysis_CF[['author','phone_url','score_imp']],reader)\n",
    "param_grid = {'k': [2,5],\n",
    "              'bsl_options': {'method': ['als', 'sgd'],\n",
    "                              'reg': [1, 2]},\n",
    "              'sim_options': {'name': ['pearson_baseline', 'cosine'],\n",
    "                              'user_based': [True]}              }\n",
    "kmean_gs_user_base_v1 = GridSearchCV(KNNWithMeans, param_grid, measures=['rmse'], cv=KFold(n_splits=3,random_state=123),return_train_measures = True) \n",
    "kmean_gs_user_base_v1.fit(user_base_data)"
   ]
  },
  {
   "cell_type": "code",
   "execution_count": 38,
   "metadata": {
    "id": "_Y1FOT5PXTg4"
   },
   "outputs": [
    {
     "name": "stdout",
     "output_type": "stream",
     "text": [
      "Best Score 3.955107114327431\n",
      "best hyperparameter {'k': 2, 'bsl_options': {'method': 'als', 'reg': 1}, 'sim_options': {'name': 'pearson_baseline', 'user_based': True}}\n"
     ]
    },
    {
     "data": {
      "text/html": [
       "<div>\n",
       "<style scoped>\n",
       "    .dataframe tbody tr th:only-of-type {\n",
       "        vertical-align: middle;\n",
       "    }\n",
       "\n",
       "    .dataframe tbody tr th {\n",
       "        vertical-align: top;\n",
       "    }\n",
       "\n",
       "    .dataframe thead th {\n",
       "        text-align: right;\n",
       "    }\n",
       "</style>\n",
       "<table border=\"1\" class=\"dataframe\">\n",
       "  <thead>\n",
       "    <tr style=\"text-align: right;\">\n",
       "      <th></th>\n",
       "      <th>mean_train_rmse</th>\n",
       "      <th>std_train_rmse</th>\n",
       "      <th>mean_test_rmse</th>\n",
       "      <th>std_test_time</th>\n",
       "    </tr>\n",
       "  </thead>\n",
       "  <tbody>\n",
       "    <tr>\n",
       "      <th>0</th>\n",
       "      <td>3.823845</td>\n",
       "      <td>0.002269</td>\n",
       "      <td>3.955107</td>\n",
       "      <td>0.000826</td>\n",
       "    </tr>\n",
       "    <tr>\n",
       "      <th>2</th>\n",
       "      <td>3.823845</td>\n",
       "      <td>0.002269</td>\n",
       "      <td>3.955107</td>\n",
       "      <td>0.004370</td>\n",
       "    </tr>\n",
       "    <tr>\n",
       "      <th>4</th>\n",
       "      <td>3.823845</td>\n",
       "      <td>0.002269</td>\n",
       "      <td>3.955107</td>\n",
       "      <td>0.001261</td>\n",
       "    </tr>\n",
       "    <tr>\n",
       "      <th>6</th>\n",
       "      <td>3.823845</td>\n",
       "      <td>0.002269</td>\n",
       "      <td>3.955107</td>\n",
       "      <td>0.001240</td>\n",
       "    </tr>\n",
       "    <tr>\n",
       "      <th>8</th>\n",
       "      <td>3.823845</td>\n",
       "      <td>0.002269</td>\n",
       "      <td>3.955107</td>\n",
       "      <td>0.003765</td>\n",
       "    </tr>\n",
       "    <tr>\n",
       "      <th>10</th>\n",
       "      <td>3.823845</td>\n",
       "      <td>0.002269</td>\n",
       "      <td>3.955107</td>\n",
       "      <td>0.002829</td>\n",
       "    </tr>\n",
       "    <tr>\n",
       "      <th>12</th>\n",
       "      <td>3.823845</td>\n",
       "      <td>0.002269</td>\n",
       "      <td>3.955107</td>\n",
       "      <td>0.005183</td>\n",
       "    </tr>\n",
       "    <tr>\n",
       "      <th>14</th>\n",
       "      <td>3.823845</td>\n",
       "      <td>0.002269</td>\n",
       "      <td>3.955107</td>\n",
       "      <td>0.000472</td>\n",
       "    </tr>\n",
       "    <tr>\n",
       "      <th>9</th>\n",
       "      <td>3.829700</td>\n",
       "      <td>0.001925</td>\n",
       "      <td>3.955107</td>\n",
       "      <td>0.001413</td>\n",
       "    </tr>\n",
       "    <tr>\n",
       "      <th>11</th>\n",
       "      <td>3.829700</td>\n",
       "      <td>0.001925</td>\n",
       "      <td>3.955107</td>\n",
       "      <td>0.005079</td>\n",
       "    </tr>\n",
       "    <tr>\n",
       "      <th>13</th>\n",
       "      <td>3.829700</td>\n",
       "      <td>0.001925</td>\n",
       "      <td>3.955107</td>\n",
       "      <td>0.001875</td>\n",
       "    </tr>\n",
       "    <tr>\n",
       "      <th>15</th>\n",
       "      <td>3.829700</td>\n",
       "      <td>0.001925</td>\n",
       "      <td>3.955107</td>\n",
       "      <td>0.006373</td>\n",
       "    </tr>\n",
       "    <tr>\n",
       "      <th>1</th>\n",
       "      <td>3.830143</td>\n",
       "      <td>0.002338</td>\n",
       "      <td>3.955107</td>\n",
       "      <td>0.002159</td>\n",
       "    </tr>\n",
       "    <tr>\n",
       "      <th>3</th>\n",
       "      <td>3.830143</td>\n",
       "      <td>0.002338</td>\n",
       "      <td>3.955107</td>\n",
       "      <td>0.006546</td>\n",
       "    </tr>\n",
       "    <tr>\n",
       "      <th>5</th>\n",
       "      <td>3.830143</td>\n",
       "      <td>0.002338</td>\n",
       "      <td>3.955107</td>\n",
       "      <td>0.000816</td>\n",
       "    </tr>\n",
       "    <tr>\n",
       "      <th>7</th>\n",
       "      <td>3.830143</td>\n",
       "      <td>0.002338</td>\n",
       "      <td>3.955107</td>\n",
       "      <td>0.000816</td>\n",
       "    </tr>\n",
       "  </tbody>\n",
       "</table>\n",
       "</div>"
      ],
      "text/plain": [
       "    mean_train_rmse  std_train_rmse  mean_test_rmse  std_test_time\n",
       "0          3.823845        0.002269        3.955107       0.000826\n",
       "2          3.823845        0.002269        3.955107       0.004370\n",
       "4          3.823845        0.002269        3.955107       0.001261\n",
       "6          3.823845        0.002269        3.955107       0.001240\n",
       "8          3.823845        0.002269        3.955107       0.003765\n",
       "10         3.823845        0.002269        3.955107       0.002829\n",
       "12         3.823845        0.002269        3.955107       0.005183\n",
       "14         3.823845        0.002269        3.955107       0.000472\n",
       "9          3.829700        0.001925        3.955107       0.001413\n",
       "11         3.829700        0.001925        3.955107       0.005079\n",
       "13         3.829700        0.001925        3.955107       0.001875\n",
       "15         3.829700        0.001925        3.955107       0.006373\n",
       "1          3.830143        0.002338        3.955107       0.002159\n",
       "3          3.830143        0.002338        3.955107       0.006546\n",
       "5          3.830143        0.002338        3.955107       0.000816\n",
       "7          3.830143        0.002338        3.955107       0.000816"
      ]
     },
     "execution_count": 38,
     "metadata": {},
     "output_type": "execute_result"
    }
   ],
   "source": [
    "print(\"Best Score\" , kmean_gs_user_base_v1.best_score['rmse'])\n",
    "print(\"best hyperparameter\", kmean_gs_user_base_v1.best_params['rmse'])\n",
    "results_df = pd.DataFrame.from_dict(kmean_gs_user_base_v1.cv_results)\n",
    "results_df[[\"mean_train_rmse\",\"std_train_rmse\",\"mean_test_rmse\",\"std_test_time\"]].sort_values(by=[\"mean_test_rmse\",\"mean_train_rmse\"])"
   ]
  },
  {
   "cell_type": "markdown",
   "metadata": {
    "id": "66336N-Oa_3M"
   },
   "source": [
    "Observation :\n",
    "No Major difference on the model performance when capping the score value"
   ]
  },
  {
   "cell_type": "markdown",
   "metadata": {
    "id": "HKtwSYkVhV_F"
   },
   "source": [
    "###### predicting with best Model & Top 5 recommendation"
   ]
  },
  {
   "cell_type": "code",
   "execution_count": 39,
   "metadata": {
    "id": "brQlwfraXnUy"
   },
   "outputs": [
    {
     "name": "stdout",
     "output_type": "stream",
     "text": [
      "Estimating biases using als...\n",
      "Computing the pearson_baseline similarity matrix...\n",
      "Done computing similarity matrix.\n"
     ]
    }
   ],
   "source": [
    "reader = Reader(rating_scale=(0, 5))\n",
    "user_base_data = Dataset.load_from_df(data_analysis_CF[['author','phone_url','score']],reader)\n",
    "trainset = user_base_data.build_full_trainset()\n",
    "testset = trainset.build_anti_testset()\n",
    "best_userbase = kmean_gs_user_base.best_estimator['rmse']\n",
    "best_userbase.fit(trainset)\n",
    "userbase_prediction = best_userbase.test(testset)"
   ]
  },
  {
   "cell_type": "code",
   "execution_count": 40,
   "metadata": {
    "id": "gEZnzg8E3PkW"
   },
   "outputs": [
    {
     "data": {
      "text/html": [
       "<div>\n",
       "<style scoped>\n",
       "    .dataframe tbody tr th:only-of-type {\n",
       "        vertical-align: middle;\n",
       "    }\n",
       "\n",
       "    .dataframe tbody tr th {\n",
       "        vertical-align: top;\n",
       "    }\n",
       "\n",
       "    .dataframe thead th {\n",
       "        text-align: right;\n",
       "    }\n",
       "</style>\n",
       "<table border=\"1\" class=\"dataframe\">\n",
       "  <thead>\n",
       "    <tr style=\"text-align: right;\">\n",
       "      <th></th>\n",
       "      <th>user_id</th>\n",
       "      <th>movie_id</th>\n",
       "      <th>score</th>\n",
       "      <th>was_impossible</th>\n",
       "    </tr>\n",
       "  </thead>\n",
       "  <tbody>\n",
       "    <tr>\n",
       "      <th>0</th>\n",
       "      <td>StU</td>\n",
       "      <td>nokia-asha-300</td>\n",
       "      <td>5.0</td>\n",
       "      <td>False</td>\n",
       "    </tr>\n",
       "    <tr>\n",
       "      <th>1</th>\n",
       "      <td>StU</td>\n",
       "      <td>wiko-fever</td>\n",
       "      <td>5.0</td>\n",
       "      <td>False</td>\n",
       "    </tr>\n",
       "    <tr>\n",
       "      <th>2</th>\n",
       "      <td>StU</td>\n",
       "      <td>samsung-galaxy-mega-6-3-i9200</td>\n",
       "      <td>5.0</td>\n",
       "      <td>False</td>\n",
       "    </tr>\n",
       "    <tr>\n",
       "      <th>3</th>\n",
       "      <td>StU</td>\n",
       "      <td>lg-freedom-ii</td>\n",
       "      <td>5.0</td>\n",
       "      <td>False</td>\n",
       "    </tr>\n",
       "    <tr>\n",
       "      <th>4</th>\n",
       "      <td>StU</td>\n",
       "      <td>samsung-galaxy-s7-edge</td>\n",
       "      <td>5.0</td>\n",
       "      <td>False</td>\n",
       "    </tr>\n",
       "  </tbody>\n",
       "</table>\n",
       "</div>"
      ],
      "text/plain": [
       "  user_id                       movie_id  score  was_impossible\n",
       "0     StU                 nokia-asha-300    5.0           False\n",
       "1     StU                     wiko-fever    5.0           False\n",
       "2     StU  samsung-galaxy-mega-6-3-i9200    5.0           False\n",
       "3     StU                  lg-freedom-ii    5.0           False\n",
       "4     StU         samsung-galaxy-s7-edge    5.0           False"
      ]
     },
     "execution_count": 40,
     "metadata": {},
     "output_type": "execute_result"
    }
   ],
   "source": [
    "userbase_model_pred = pd.DataFrame([[i.uid, i.iid, i.est,i.details['was_impossible']] for i in userbase_prediction], columns=['user_id', 'movie_id', 'score',\"was_impossible\"])\n",
    "userbase_model_pred.head()"
   ]
  },
  {
   "cell_type": "code",
   "execution_count": 41,
   "metadata": {
    "id": "l2bDfJNy8AN_"
   },
   "outputs": [
    {
     "name": "stdout",
     "output_type": "stream",
     "text": [
      "Amanda ['sony-xperia-z2', 'nokia-lumia-521', 'sony-ericsson-w880i', 'lg-gs290-cookie-fresh', 'lg-a290']\n",
      "RaMonti ['sony-xperia-z2', 'blackberry-pearl-8100', 'lg-gs290-cookie-fresh', 'lg-a290', 'lg-h410']\n",
      "Elisa ['sony-xperia-z2', 'nokia-lumia-521', 'sony-ericsson-w880i', 'lg-gs290-cookie-fresh', 'lg-a290']\n",
      "Martha G. ['sony-xperia-z2', 'nokia-lumia-521', 'sony-ericsson-w880i', 'lg-gs290-cookie-fresh', 'lg-a290']\n",
      "Mary Duncan ['sony-xperia-z2', 'blackberry-pearl-8100', 'lg-gs290-cookie-fresh', 'lg-a290', 'lg-h410']\n",
      "Dante ['sony-xperia-z2', 'nokia-lumia-521', 'sony-ericsson-w880i', 'lg-gs290-cookie-fresh', 'lg-a290']\n",
      "petrolal ['sony-xperia-z2', 'nokia-lumia-521', 'sony-ericsson-w880i', 'lg-gs290-cookie-fresh', 'lg-a290']\n",
      "tantramen ['sony-xperia-z2', 'blackberry-pearl-8100', 'lg-gs290-cookie-fresh', 'lg-a290', 'lg-h410']\n",
      "Mohd Salim ['sony-xperia-z2', 'nokia-lumia-521', 'sony-ericsson-w880i', 'lg-gs290-cookie-fresh', 'lg-a290']\n",
      "Tottetomat ['sony-xperia-z2', 'nokia-lumia-521', 'sony-ericsson-w880i', 'lg-gs290-cookie-fresh', 'lg-a290']\n"
     ]
    }
   ],
   "source": [
    "test_users = userbase_model_pred.sample(n=10,random_state=123)\n",
    "def user_base_recommendation(user_list,n=5):\n",
    "  recommendation = dict();\n",
    "  for user_id in user_list:\n",
    "    movie_list = userbase_model_pred[userbase_model_pred.user_id == user_id].sort_values(by=[\"score\"],ascending=False).head(n=n)[\"movie_id\"]\n",
    "    recommendation[user_id] = list(movie_list)\n",
    "    print(user_id, list(movie_list))\n",
    "  return recommendation\n",
    "\n",
    "recommendation = user_base_recommendation(test_users[\"user_id\"])"
   ]
  },
  {
   "cell_type": "markdown",
   "metadata": {
    "id": "FXKxeV9wAX4l"
   },
   "source": [
    " - In Populatity recommendation the movie list is constant for all the users , where  in the CF model the movie are list based on user preference"
   ]
  },
  {
   "cell_type": "markdown",
   "metadata": {
    "id": "ZxAY_FIaYzHv"
   },
   "source": [
    "#### Item Based Collaboration model"
   ]
  },
  {
   "cell_type": "code",
   "execution_count": 42,
   "metadata": {
    "id": "O6o3rC2sZD7a"
   },
   "outputs": [
    {
     "name": "stdout",
     "output_type": "stream",
     "text": [
      "Estimating biases using als...\n",
      "Computing the pearson_baseline similarity matrix...\n",
      "Done computing similarity matrix.\n",
      "Estimating biases using als...\n",
      "Computing the pearson_baseline similarity matrix...\n",
      "Done computing similarity matrix.\n",
      "Estimating biases using als...\n",
      "Computing the pearson_baseline similarity matrix...\n",
      "Done computing similarity matrix.\n",
      "Computing the cosine similarity matrix...\n",
      "Done computing similarity matrix.\n",
      "Computing the cosine similarity matrix...\n",
      "Done computing similarity matrix.\n",
      "Computing the cosine similarity matrix...\n",
      "Done computing similarity matrix.\n",
      "Estimating biases using als...\n",
      "Computing the pearson_baseline similarity matrix...\n",
      "Done computing similarity matrix.\n",
      "Estimating biases using als...\n",
      "Computing the pearson_baseline similarity matrix...\n",
      "Done computing similarity matrix.\n",
      "Estimating biases using als...\n",
      "Computing the pearson_baseline similarity matrix...\n",
      "Done computing similarity matrix.\n",
      "Computing the cosine similarity matrix...\n",
      "Done computing similarity matrix.\n",
      "Computing the cosine similarity matrix...\n",
      "Done computing similarity matrix.\n",
      "Computing the cosine similarity matrix...\n",
      "Done computing similarity matrix.\n",
      "Estimating biases using sgd...\n",
      "Computing the pearson_baseline similarity matrix...\n",
      "Done computing similarity matrix.\n",
      "Estimating biases using sgd...\n",
      "Computing the pearson_baseline similarity matrix...\n",
      "Done computing similarity matrix.\n",
      "Estimating biases using sgd...\n",
      "Computing the pearson_baseline similarity matrix...\n",
      "Done computing similarity matrix.\n",
      "Computing the cosine similarity matrix...\n",
      "Done computing similarity matrix.\n",
      "Computing the cosine similarity matrix...\n",
      "Done computing similarity matrix.\n",
      "Computing the cosine similarity matrix...\n",
      "Done computing similarity matrix.\n",
      "Estimating biases using sgd...\n",
      "Computing the pearson_baseline similarity matrix...\n",
      "Done computing similarity matrix.\n",
      "Estimating biases using sgd...\n",
      "Computing the pearson_baseline similarity matrix...\n",
      "Done computing similarity matrix.\n",
      "Estimating biases using sgd...\n",
      "Computing the pearson_baseline similarity matrix...\n",
      "Done computing similarity matrix.\n",
      "Computing the cosine similarity matrix...\n",
      "Done computing similarity matrix.\n",
      "Computing the cosine similarity matrix...\n",
      "Done computing similarity matrix.\n",
      "Computing the cosine similarity matrix...\n",
      "Done computing similarity matrix.\n",
      "Estimating biases using als...\n",
      "Computing the pearson_baseline similarity matrix...\n",
      "Done computing similarity matrix.\n",
      "Estimating biases using als...\n",
      "Computing the pearson_baseline similarity matrix...\n",
      "Done computing similarity matrix.\n",
      "Estimating biases using als...\n",
      "Computing the pearson_baseline similarity matrix...\n",
      "Done computing similarity matrix.\n",
      "Computing the cosine similarity matrix...\n",
      "Done computing similarity matrix.\n",
      "Computing the cosine similarity matrix...\n",
      "Done computing similarity matrix.\n",
      "Computing the cosine similarity matrix...\n",
      "Done computing similarity matrix.\n",
      "Estimating biases using als...\n",
      "Computing the pearson_baseline similarity matrix...\n",
      "Done computing similarity matrix.\n",
      "Estimating biases using als...\n",
      "Computing the pearson_baseline similarity matrix...\n",
      "Done computing similarity matrix.\n",
      "Estimating biases using als...\n",
      "Computing the pearson_baseline similarity matrix...\n",
      "Done computing similarity matrix.\n",
      "Computing the cosine similarity matrix...\n",
      "Done computing similarity matrix.\n",
      "Computing the cosine similarity matrix...\n",
      "Done computing similarity matrix.\n",
      "Computing the cosine similarity matrix...\n",
      "Done computing similarity matrix.\n",
      "Estimating biases using sgd...\n",
      "Computing the pearson_baseline similarity matrix...\n",
      "Done computing similarity matrix.\n",
      "Estimating biases using sgd...\n",
      "Computing the pearson_baseline similarity matrix...\n",
      "Done computing similarity matrix.\n",
      "Estimating biases using sgd...\n",
      "Computing the pearson_baseline similarity matrix...\n",
      "Done computing similarity matrix.\n",
      "Computing the cosine similarity matrix...\n",
      "Done computing similarity matrix.\n",
      "Computing the cosine similarity matrix...\n",
      "Done computing similarity matrix.\n",
      "Computing the cosine similarity matrix...\n",
      "Done computing similarity matrix.\n",
      "Estimating biases using sgd...\n",
      "Computing the pearson_baseline similarity matrix...\n",
      "Done computing similarity matrix.\n",
      "Estimating biases using sgd...\n",
      "Computing the pearson_baseline similarity matrix...\n",
      "Done computing similarity matrix.\n",
      "Estimating biases using sgd...\n",
      "Computing the pearson_baseline similarity matrix...\n",
      "Done computing similarity matrix.\n",
      "Computing the cosine similarity matrix...\n",
      "Done computing similarity matrix.\n",
      "Computing the cosine similarity matrix...\n",
      "Done computing similarity matrix.\n",
      "Computing the cosine similarity matrix...\n",
      "Done computing similarity matrix.\n"
     ]
    }
   ],
   "source": [
    "reader = Reader(rating_scale=(0, 5))\n",
    "item_base_data = Dataset.load_from_df(data_analysis_CF[['author','phone_url','score']],reader)\n",
    "param_grid = {'k': [2,5],\n",
    "              'bsl_options': {'method': ['als', 'sgd'],\n",
    "                              'reg': [1, 2]},\n",
    "              'sim_options': {'name': ['pearson_baseline', 'cosine'],\n",
    "                              'user_based': [False]}              }\n",
    "kmean_gs_item_base = GridSearchCV(KNNWithMeans, param_grid, measures=['rmse'], cv=KFold(n_splits=3,random_state=123),return_train_measures = True) \n",
    "kmean_gs_item_base.fit(item_base_data)"
   ]
  },
  {
   "cell_type": "code",
   "execution_count": 43,
   "metadata": {
    "id": "i_i2whLvZP1C"
   },
   "outputs": [
    {
     "name": "stdout",
     "output_type": "stream",
     "text": [
      "Best Score 3.947249929275688\n",
      "best hyperparameter {'k': 2, 'bsl_options': {'method': 'als', 'reg': 1}, 'sim_options': {'name': 'pearson_baseline', 'user_based': False}}\n"
     ]
    },
    {
     "data": {
      "text/html": [
       "<div>\n",
       "<style scoped>\n",
       "    .dataframe tbody tr th:only-of-type {\n",
       "        vertical-align: middle;\n",
       "    }\n",
       "\n",
       "    .dataframe tbody tr th {\n",
       "        vertical-align: top;\n",
       "    }\n",
       "\n",
       "    .dataframe thead th {\n",
       "        text-align: right;\n",
       "    }\n",
       "</style>\n",
       "<table border=\"1\" class=\"dataframe\">\n",
       "  <thead>\n",
       "    <tr style=\"text-align: right;\">\n",
       "      <th></th>\n",
       "      <th>mean_train_rmse</th>\n",
       "      <th>std_train_rmse</th>\n",
       "      <th>mean_test_rmse</th>\n",
       "      <th>std_test_time</th>\n",
       "    </tr>\n",
       "  </thead>\n",
       "  <tbody>\n",
       "    <tr>\n",
       "      <th>0</th>\n",
       "      <td>3.825466</td>\n",
       "      <td>0.002344</td>\n",
       "      <td>3.94725</td>\n",
       "      <td>0.001638</td>\n",
       "    </tr>\n",
       "    <tr>\n",
       "      <th>2</th>\n",
       "      <td>3.825466</td>\n",
       "      <td>0.002344</td>\n",
       "      <td>3.94725</td>\n",
       "      <td>0.005432</td>\n",
       "    </tr>\n",
       "    <tr>\n",
       "      <th>4</th>\n",
       "      <td>3.825466</td>\n",
       "      <td>0.002344</td>\n",
       "      <td>3.94725</td>\n",
       "      <td>0.003289</td>\n",
       "    </tr>\n",
       "    <tr>\n",
       "      <th>8</th>\n",
       "      <td>3.825466</td>\n",
       "      <td>0.002344</td>\n",
       "      <td>3.94725</td>\n",
       "      <td>0.004986</td>\n",
       "    </tr>\n",
       "    <tr>\n",
       "      <th>10</th>\n",
       "      <td>3.825466</td>\n",
       "      <td>0.002344</td>\n",
       "      <td>3.94725</td>\n",
       "      <td>0.000823</td>\n",
       "    </tr>\n",
       "    <tr>\n",
       "      <th>6</th>\n",
       "      <td>3.825466</td>\n",
       "      <td>0.002344</td>\n",
       "      <td>3.94725</td>\n",
       "      <td>0.001413</td>\n",
       "    </tr>\n",
       "    <tr>\n",
       "      <th>12</th>\n",
       "      <td>3.825466</td>\n",
       "      <td>0.002344</td>\n",
       "      <td>3.94725</td>\n",
       "      <td>0.001247</td>\n",
       "    </tr>\n",
       "    <tr>\n",
       "      <th>14</th>\n",
       "      <td>3.825466</td>\n",
       "      <td>0.002344</td>\n",
       "      <td>3.94725</td>\n",
       "      <td>0.001697</td>\n",
       "    </tr>\n",
       "    <tr>\n",
       "      <th>9</th>\n",
       "      <td>3.831018</td>\n",
       "      <td>0.001590</td>\n",
       "      <td>3.94725</td>\n",
       "      <td>0.002156</td>\n",
       "    </tr>\n",
       "    <tr>\n",
       "      <th>11</th>\n",
       "      <td>3.831018</td>\n",
       "      <td>0.001590</td>\n",
       "      <td>3.94725</td>\n",
       "      <td>0.000942</td>\n",
       "    </tr>\n",
       "    <tr>\n",
       "      <th>13</th>\n",
       "      <td>3.831018</td>\n",
       "      <td>0.001590</td>\n",
       "      <td>3.94725</td>\n",
       "      <td>0.000471</td>\n",
       "    </tr>\n",
       "    <tr>\n",
       "      <th>15</th>\n",
       "      <td>3.831018</td>\n",
       "      <td>0.001590</td>\n",
       "      <td>3.94725</td>\n",
       "      <td>0.000008</td>\n",
       "    </tr>\n",
       "    <tr>\n",
       "      <th>1</th>\n",
       "      <td>3.831461</td>\n",
       "      <td>0.002482</td>\n",
       "      <td>3.94725</td>\n",
       "      <td>0.000467</td>\n",
       "    </tr>\n",
       "    <tr>\n",
       "      <th>3</th>\n",
       "      <td>3.831461</td>\n",
       "      <td>0.002482</td>\n",
       "      <td>3.94725</td>\n",
       "      <td>0.001888</td>\n",
       "    </tr>\n",
       "    <tr>\n",
       "      <th>5</th>\n",
       "      <td>3.831461</td>\n",
       "      <td>0.002482</td>\n",
       "      <td>3.94725</td>\n",
       "      <td>0.002568</td>\n",
       "    </tr>\n",
       "    <tr>\n",
       "      <th>7</th>\n",
       "      <td>3.831461</td>\n",
       "      <td>0.002482</td>\n",
       "      <td>3.94725</td>\n",
       "      <td>0.000471</td>\n",
       "    </tr>\n",
       "  </tbody>\n",
       "</table>\n",
       "</div>"
      ],
      "text/plain": [
       "    mean_train_rmse  std_train_rmse  mean_test_rmse  std_test_time\n",
       "0          3.825466        0.002344         3.94725       0.001638\n",
       "2          3.825466        0.002344         3.94725       0.005432\n",
       "4          3.825466        0.002344         3.94725       0.003289\n",
       "8          3.825466        0.002344         3.94725       0.004986\n",
       "10         3.825466        0.002344         3.94725       0.000823\n",
       "6          3.825466        0.002344         3.94725       0.001413\n",
       "12         3.825466        0.002344         3.94725       0.001247\n",
       "14         3.825466        0.002344         3.94725       0.001697\n",
       "9          3.831018        0.001590         3.94725       0.002156\n",
       "11         3.831018        0.001590         3.94725       0.000942\n",
       "13         3.831018        0.001590         3.94725       0.000471\n",
       "15         3.831018        0.001590         3.94725       0.000008\n",
       "1          3.831461        0.002482         3.94725       0.000467\n",
       "3          3.831461        0.002482         3.94725       0.001888\n",
       "5          3.831461        0.002482         3.94725       0.002568\n",
       "7          3.831461        0.002482         3.94725       0.000471"
      ]
     },
     "execution_count": 43,
     "metadata": {},
     "output_type": "execute_result"
    }
   ],
   "source": [
    "print(\"Best Score\" , kmean_gs_item_base.best_score['rmse'])\n",
    "print(\"best hyperparameter\", kmean_gs_item_base.best_params['rmse'])\n",
    "results_df = pd.DataFrame.from_dict(kmean_gs_item_base.cv_results)\n",
    "results_df[[\"mean_train_rmse\",\"std_train_rmse\",\"mean_test_rmse\",\"std_test_time\"]].sort_values(by=[\"mean_test_rmse\",\"mean_train_rmse\"])"
   ]
  },
  {
   "cell_type": "markdown",
   "metadata": {
    "id": "UKxNHjdhEKf4"
   },
   "source": [
    "###### predicting with best Model & Top 5 recommendation"
   ]
  },
  {
   "cell_type": "code",
   "execution_count": 44,
   "metadata": {
    "id": "4ariFLwxBPm_"
   },
   "outputs": [
    {
     "name": "stdout",
     "output_type": "stream",
     "text": [
      "Estimating biases using als...\n",
      "Computing the pearson_baseline similarity matrix...\n",
      "Done computing similarity matrix.\n"
     ]
    }
   ],
   "source": [
    "reader = Reader(rating_scale=(0, 5))\n",
    "item_base_data = Dataset.load_from_df(data_analysis_CF[['author','phone_url','score']],reader)\n",
    "trainset = item_base_data.build_full_trainset()\n",
    "testset = trainset.build_anti_testset()\n",
    "best_itembase = kmean_gs_item_base.best_estimator['rmse']\n",
    "best_itembase.fit(trainset)\n",
    "itembase_prediction = best_itembase.test(testset)"
   ]
  },
  {
   "cell_type": "code",
   "execution_count": 45,
   "metadata": {
    "id": "28reYsGQBYIP"
   },
   "outputs": [
    {
     "data": {
      "text/html": [
       "<div>\n",
       "<style scoped>\n",
       "    .dataframe tbody tr th:only-of-type {\n",
       "        vertical-align: middle;\n",
       "    }\n",
       "\n",
       "    .dataframe tbody tr th {\n",
       "        vertical-align: top;\n",
       "    }\n",
       "\n",
       "    .dataframe thead th {\n",
       "        text-align: right;\n",
       "    }\n",
       "</style>\n",
       "<table border=\"1\" class=\"dataframe\">\n",
       "  <thead>\n",
       "    <tr style=\"text-align: right;\">\n",
       "      <th></th>\n",
       "      <th>user_id</th>\n",
       "      <th>movie_id</th>\n",
       "      <th>score</th>\n",
       "      <th>was_impossible</th>\n",
       "    </tr>\n",
       "  </thead>\n",
       "  <tbody>\n",
       "    <tr>\n",
       "      <th>0</th>\n",
       "      <td>StU</td>\n",
       "      <td>nokia-asha-300</td>\n",
       "      <td>5.0</td>\n",
       "      <td>False</td>\n",
       "    </tr>\n",
       "    <tr>\n",
       "      <th>1</th>\n",
       "      <td>StU</td>\n",
       "      <td>wiko-fever</td>\n",
       "      <td>5.0</td>\n",
       "      <td>False</td>\n",
       "    </tr>\n",
       "    <tr>\n",
       "      <th>2</th>\n",
       "      <td>StU</td>\n",
       "      <td>samsung-galaxy-mega-6-3-i9200</td>\n",
       "      <td>5.0</td>\n",
       "      <td>False</td>\n",
       "    </tr>\n",
       "    <tr>\n",
       "      <th>3</th>\n",
       "      <td>StU</td>\n",
       "      <td>lg-freedom-ii</td>\n",
       "      <td>4.0</td>\n",
       "      <td>False</td>\n",
       "    </tr>\n",
       "    <tr>\n",
       "      <th>4</th>\n",
       "      <td>StU</td>\n",
       "      <td>samsung-galaxy-s7-edge</td>\n",
       "      <td>5.0</td>\n",
       "      <td>False</td>\n",
       "    </tr>\n",
       "  </tbody>\n",
       "</table>\n",
       "</div>"
      ],
      "text/plain": [
       "  user_id                       movie_id  score  was_impossible\n",
       "0     StU                 nokia-asha-300    5.0           False\n",
       "1     StU                     wiko-fever    5.0           False\n",
       "2     StU  samsung-galaxy-mega-6-3-i9200    5.0           False\n",
       "3     StU                  lg-freedom-ii    4.0           False\n",
       "4     StU         samsung-galaxy-s7-edge    5.0           False"
      ]
     },
     "execution_count": 45,
     "metadata": {},
     "output_type": "execute_result"
    }
   ],
   "source": [
    "itembase_model_pred = pd.DataFrame([[i.uid, i.iid, i.est,i.details['was_impossible']] for i in itembase_prediction], columns=['user_id', 'movie_id', 'score',\"was_impossible\"])\n",
    "itembase_model_pred.head()"
   ]
  },
  {
   "cell_type": "code",
   "execution_count": 46,
   "metadata": {
    "id": "oKyY688PBb4K"
   },
   "outputs": [
    {
     "name": "stdout",
     "output_type": "stream",
     "text": [
      "Amanda ['sony-xperia-z2', 'nokia-5110', 'samsung-messager-touch-r630-r631', 'sony-xperia-z3plus', 'lg-shine-ke970']\n",
      "RaMonti ['sony-xperia-z2', 'cubot-s308', 'sony-xperia-z3plus', 'lg-shine-ke970', 'motorola-razr-v3m-357929']\n",
      "Elisa ['sony-xperia-z2', 'lenovo-ideaphone-a859', 'cubot-s308', 'samsung-messager-touch-r630-r631', 'sony-xperia-z3plus']\n",
      "Martha G. ['sony-xperia-z2', 'nokia-5110', 'samsung-messager-touch-r630-r631', 'sony-xperia-z3plus', 'lg-shine-ke970']\n",
      "Mary Duncan ['sony-xperia-z2', 'cubot-s308', 'sony-xperia-z3plus', 'lg-shine-ke970', 'motorola-razr-v3m-357929']\n",
      "Dante ['sony-xperia-z2', 'nokia-5110', 'samsung-messager-touch-r630-r631', 'sony-xperia-z3plus', 'lg-shine-ke970']\n",
      "petrolal ['sony-xperia-z2', 'nokia-5110', 'samsung-messager-touch-r630-r631', 'sony-xperia-z3plus', 'lg-shine-ke970']\n",
      "tantramen ['sony-xperia-z2', 'cubot-s308', 'sony-xperia-z3plus', 'lg-shine-ke970', 'motorola-razr-v3m-357929']\n",
      "Mohd Salim ['sony-xperia-z2', 'nokia-5110', 'samsung-messager-touch-r630-r631', 'sony-xperia-z3plus', 'lg-shine-ke970']\n",
      "Tottetomat ['sony-xperia-z2', 'nokia-5110', 'samsung-messager-touch-r630-r631', 'sony-xperia-z3plus', 'lg-shine-ke970']\n"
     ]
    }
   ],
   "source": [
    "itembase_model_pred = pd.DataFrame([[i.uid, i.iid, i.est,i.details['was_impossible']] for i in itembase_prediction], columns=['user_id', 'movie_id', 'score',\"was_impossible\"])\n",
    "test_users = itembase_model_pred.sample(n=10,random_state=123)\n",
    "\n",
    "def item_base_recommendation(user_list,n=5):\n",
    "  recommendation = dict();\n",
    "  for user_id in user_list:\n",
    "    movie_list = itembase_model_pred[itembase_model_pred.user_id == user_id].sort_values(by=[\"score\"],ascending=False).head(n=n)[\"movie_id\"]\n",
    "    recommendation[user_id] = list(movie_list)\n",
    "    print(user_id, list(movie_list))\n",
    "  return recommendation\n",
    "\n",
    "recommendation = item_base_recommendation(test_users[\"user_id\"])"
   ]
  },
  {
   "cell_type": "markdown",
   "metadata": {
    "id": "_JVA0AYP_dvH"
   },
   "source": [
    "#### Matrix Factorization ( using SVD )"
   ]
  },
  {
   "cell_type": "code",
   "execution_count": 47,
   "metadata": {
    "id": "RfEHHD0xEftA"
   },
   "outputs": [],
   "source": [
    "reader = Reader(rating_scale=(0, 5))\n",
    "svd_data = Dataset.load_from_df(data_analysis_CF[['author','phone_url','score']],reader)\n",
    "param_grid = {'n_epochs': [5, 10], 'lr_all': [0.002, 0.005],\n",
    "              'reg_all': [0.4, 0.6]}\n",
    "kmean_gs_svd = GridSearchCV(SVD, param_grid, measures=['rmse'], cv=KFold(n_splits=3,random_state=123),return_train_measures = True) \n",
    "kmean_gs_svd.fit(item_base_data)"
   ]
  },
  {
   "cell_type": "code",
   "execution_count": 48,
   "metadata": {
    "id": "mpJQ5okbFGK_"
   },
   "outputs": [
    {
     "name": "stdout",
     "output_type": "stream",
     "text": [
      "Best Score 3.9444152745162295\n",
      "best hyperparameter {'n_epochs': 5, 'lr_all': 0.002, 'reg_all': 0.4}\n"
     ]
    },
    {
     "data": {
      "text/html": [
       "<div>\n",
       "<style scoped>\n",
       "    .dataframe tbody tr th:only-of-type {\n",
       "        vertical-align: middle;\n",
       "    }\n",
       "\n",
       "    .dataframe tbody tr th {\n",
       "        vertical-align: top;\n",
       "    }\n",
       "\n",
       "    .dataframe thead th {\n",
       "        text-align: right;\n",
       "    }\n",
       "</style>\n",
       "<table border=\"1\" class=\"dataframe\">\n",
       "  <thead>\n",
       "    <tr style=\"text-align: right;\">\n",
       "      <th></th>\n",
       "      <th>mean_train_rmse</th>\n",
       "      <th>std_train_rmse</th>\n",
       "      <th>mean_test_rmse</th>\n",
       "      <th>std_test_time</th>\n",
       "    </tr>\n",
       "  </thead>\n",
       "  <tbody>\n",
       "    <tr>\n",
       "      <th>0</th>\n",
       "      <td>3.944433</td>\n",
       "      <td>0.006362</td>\n",
       "      <td>3.944415</td>\n",
       "      <td>7.365864e-03</td>\n",
       "    </tr>\n",
       "    <tr>\n",
       "      <th>1</th>\n",
       "      <td>3.944433</td>\n",
       "      <td>0.006362</td>\n",
       "      <td>3.944415</td>\n",
       "      <td>1.039611e-02</td>\n",
       "    </tr>\n",
       "    <tr>\n",
       "      <th>2</th>\n",
       "      <td>3.944433</td>\n",
       "      <td>0.006362</td>\n",
       "      <td>3.944415</td>\n",
       "      <td>7.012514e-03</td>\n",
       "    </tr>\n",
       "    <tr>\n",
       "      <th>3</th>\n",
       "      <td>3.944433</td>\n",
       "      <td>0.006362</td>\n",
       "      <td>3.944415</td>\n",
       "      <td>7.362324e-03</td>\n",
       "    </tr>\n",
       "    <tr>\n",
       "      <th>4</th>\n",
       "      <td>3.944433</td>\n",
       "      <td>0.006362</td>\n",
       "      <td>3.944415</td>\n",
       "      <td>1.266589e-06</td>\n",
       "    </tr>\n",
       "    <tr>\n",
       "      <th>5</th>\n",
       "      <td>3.944433</td>\n",
       "      <td>0.006362</td>\n",
       "      <td>3.944415</td>\n",
       "      <td>1.711555e-03</td>\n",
       "    </tr>\n",
       "    <tr>\n",
       "      <th>6</th>\n",
       "      <td>3.944433</td>\n",
       "      <td>0.006362</td>\n",
       "      <td>3.944415</td>\n",
       "      <td>6.836514e-07</td>\n",
       "    </tr>\n",
       "    <tr>\n",
       "      <th>7</th>\n",
       "      <td>3.944433</td>\n",
       "      <td>0.006362</td>\n",
       "      <td>3.944415</td>\n",
       "      <td>1.486801e-06</td>\n",
       "    </tr>\n",
       "  </tbody>\n",
       "</table>\n",
       "</div>"
      ],
      "text/plain": [
       "   mean_train_rmse  std_train_rmse  mean_test_rmse  std_test_time\n",
       "0         3.944433        0.006362        3.944415   7.365864e-03\n",
       "1         3.944433        0.006362        3.944415   1.039611e-02\n",
       "2         3.944433        0.006362        3.944415   7.012514e-03\n",
       "3         3.944433        0.006362        3.944415   7.362324e-03\n",
       "4         3.944433        0.006362        3.944415   1.266589e-06\n",
       "5         3.944433        0.006362        3.944415   1.711555e-03\n",
       "6         3.944433        0.006362        3.944415   6.836514e-07\n",
       "7         3.944433        0.006362        3.944415   1.486801e-06"
      ]
     },
     "execution_count": 48,
     "metadata": {},
     "output_type": "execute_result"
    }
   ],
   "source": [
    "print(\"Best Score\" , kmean_gs_svd.best_score['rmse'])\n",
    "print(\"best hyperparameter\", kmean_gs_svd.best_params['rmse'])\n",
    "results_df = pd.DataFrame.from_dict(kmean_gs_svd.cv_results)\n",
    "results_df[[\"mean_train_rmse\",\"std_train_rmse\",\"mean_test_rmse\",\"std_test_time\"]].sort_values(by=[\"mean_test_rmse\",\"mean_train_rmse\"])"
   ]
  },
  {
   "cell_type": "code",
   "execution_count": 49,
   "metadata": {
    "id": "KDdfO100FVyH"
   },
   "outputs": [],
   "source": [
    "# reader = Reader(rating_scale=(0, 5))\n",
    "# svd_data = Dataset.load_from_df(data_analysis_CF[['author','phone_url','score_imp']],reader)\n",
    "# param_grid = {'n_epochs': [5, 10], 'lr_all': [0.002, 0.005],\n",
    "#               'reg_all': [0.4, 0.6]}\n",
    "# kmean_gs_svd_v1 = GridSearchCV(SVD, param_grid, measures=['rmse'], cv=KFold(n_splits=3,random_state=123),return_train_measures = True) \n",
    "# kmean_gs_svd_v1.fit(item_base_data)\n",
    "\n",
    "# print(\"Best Score\" , kmean_gs_svd_v1.best_score['rmse'])\n",
    "# print(\"best hyperparameter\", kmean_gs_svd_v1.best_params['rmse'])\n",
    "# results_df = pd.DataFrame.from_dict(kmean_gs_svd_v1.cv_results)\n",
    "# results_df[[\"mean_train_rmse\",\"std_train_rmse\",\"mean_test_rmse\",\"std_test_time\"]].sort_values(by=[\"mean_test_rmse\",\"mean_train_rmse\"])"
   ]
  },
  {
   "cell_type": "markdown",
   "metadata": {
    "id": "h3tnMxyrHz4f"
   },
   "source": [
    "###### predicting with best Model & Top 5 recommendation"
   ]
  },
  {
   "cell_type": "code",
   "execution_count": 50,
   "metadata": {
    "id": "sJlh5w6RFbhC"
   },
   "outputs": [],
   "source": [
    "reader = Reader(rating_scale=(0, 5))\n",
    "svd_data = Dataset.load_from_df(data_analysis_CF[['author','phone_url','score']],reader)\n",
    "trainset = svd_data.build_full_trainset()\n",
    "testset = trainset.build_anti_testset()\n",
    "best_svd = kmean_gs_svd.best_estimator['rmse']\n",
    "best_svd.fit(trainset)\n",
    "svd_prediction = best_svd.test(testset)"
   ]
  },
  {
   "cell_type": "code",
   "execution_count": 51,
   "metadata": {
    "id": "VGeLhVxrGaBH"
   },
   "outputs": [
    {
     "name": "stdout",
     "output_type": "stream",
     "text": [
      "Amanda ['sony-xperia-z2', 'nokia-lumia-521', 'sony-ericsson-w880i', 'lg-gs290-cookie-fresh', 'lg-a290']\n",
      "RaMonti ['sony-xperia-z2', 'blackberry-pearl-8100', 'lg-gs290-cookie-fresh', 'lg-a290', 'lg-h410']\n",
      "Elisa ['sony-xperia-z2', 'nokia-lumia-521', 'sony-ericsson-w880i', 'lg-gs290-cookie-fresh', 'lg-a290']\n",
      "Martha G. ['sony-xperia-z2', 'nokia-lumia-521', 'sony-ericsson-w880i', 'lg-gs290-cookie-fresh', 'lg-a290']\n",
      "Mary Duncan ['sony-xperia-z2', 'blackberry-pearl-8100', 'lg-gs290-cookie-fresh', 'lg-a290', 'lg-h410']\n",
      "Dante ['sony-xperia-z2', 'nokia-lumia-521', 'sony-ericsson-w880i', 'lg-gs290-cookie-fresh', 'lg-a290']\n",
      "petrolal ['sony-xperia-z2', 'nokia-lumia-521', 'sony-ericsson-w880i', 'lg-gs290-cookie-fresh', 'lg-a290']\n",
      "tantramen ['sony-xperia-z2', 'blackberry-pearl-8100', 'lg-gs290-cookie-fresh', 'lg-a290', 'lg-h410']\n",
      "Mohd Salim ['sony-xperia-z2', 'nokia-lumia-521', 'sony-ericsson-w880i', 'lg-gs290-cookie-fresh', 'lg-a290']\n",
      "Tottetomat ['sony-xperia-z2', 'nokia-lumia-521', 'sony-ericsson-w880i', 'lg-gs290-cookie-fresh', 'lg-a290']\n"
     ]
    }
   ],
   "source": [
    "svd_pred = pd.DataFrame([[i.uid, i.iid, i.est,i.details['was_impossible']] for i in svd_prediction], columns=['user_id', 'movie_id', 'score',\"was_impossible\"])\n",
    "test_users = svd_pred.sample(n=10,random_state=123)\n",
    "\n",
    "def sdv_recommendation(user_list,n=5):\n",
    "  recommendation = dict();\n",
    "  for user_id in user_list:\n",
    "    movie_list = svd_pred[svd_pred.user_id == user_id].sort_values(by=[\"score\"],ascending=False).head(n=n)[\"movie_id\"]\n",
    "    recommendation[user_id] = list(movie_list)\n",
    "    print(user_id, list(movie_list))\n",
    "  return recommendation\n",
    "\n",
    "recommendation = sdv_recommendation(test_users[\"user_id\"])"
   ]
  },
  {
   "cell_type": "markdown",
   "metadata": {
    "id": "_XMOfHhnXuL1"
   },
   "source": [
    " #### Question - 11\n",
    " In what business scenario you should use popularity based Recommendation  systems ?\n",
    "\n",
    "  - Main drop back of CF based model has the following disadvantage \n",
    "   -  \"Cold Start\" ( Matrix factorization ) problem where user has not rated any of the product or if the product is new and no user have rated it then we will not be able to calculate of Characteristics matrix and we will not be able to predict the value . \n",
    "   - \"Gray Sheep problem\" - when a user is a new user and have not rated any product or product which he watched is not watched by any of the user then we will not be able to find the neighbors and so we will not get the recommendations.\n",
    "\n",
    "   On the above 2 senerios , popularity based recommendation can be choise - below senerio will be represented through the \"was_impossible = True\" variable "
   ]
  },
  {
   "cell_type": "code",
   "execution_count": 52,
   "metadata": {
    "id": "7sgUmI0aZyXa"
   },
   "outputs": [
    {
     "name": "stdout",
     "output_type": "stream",
     "text": [
      "user: Baala      item: sony-xperia-z2 r_ui = None   est = 5.00   {'was_impossible': True, 'reason': 'User and/or item is unknown.'}\n",
      "user: Baala      item: sony-xperia-z2 r_ui = None   est = 5.00   {'was_impossible': True, 'reason': 'User and/or item is unknown.'}\n",
      "user: Amanda     item: New Phone  r_ui = None   est = 5.00   {'was_impossible': True, 'reason': 'User and/or item is unknown.'}\n",
      "user: Amanda     item: New Phone  r_ui = None   est = 5.00   {'was_impossible': True, 'reason': 'User and/or item is unknown.'}\n"
     ]
    }
   ],
   "source": [
    "uerid = \"Baala\"\n",
    "new_product = \"New Phone\"\n",
    "### prediction for a new user\n",
    "print(best_itembase.predict(uerid,\"sony-xperia-z2\"))\n",
    "print(best_userbase.predict(uerid,\"sony-xperia-z2\"))\n",
    "\n",
    "### prediction for a new product\n",
    "print(best_itembase.predict(\"Amanda\",new_product))\n",
    "print(best_userbase.predict(\"Amanda\",new_product))"
   ]
  },
  {
   "cell_type": "markdown",
   "metadata": {
    "id": "SJRAb5RecYf3"
   },
   "source": [
    " #### Question - 12\n",
    " In what business scenario you should use CF based Recommendation Systems ?\n",
    "  - When the recommendation to be provided based on the user preference then the CF based sytem are suitable \n"
   ]
  },
  {
   "cell_type": "markdown",
   "metadata": {
    "id": "B2D1PF5_crMr"
   },
   "source": [
    "#### Question - 13\n",
    "What other possible methods can you think of which can further improve the recommendation for different users ?\n",
    "\n",
    " - Content based recommendation - where the similarity bwt the products are found using product description. Based on the previus user intraction with product and it's closer products are recommended to the user\n",
    " - Hybrid apprach - where multiple content-collaborative recommender system\n",
    " - Random strategy - recommending random items to new users or new items to random users \n",
    " - Maximum expectation strategy - recommending popular items to new users or new items to most active users\n",
    " - Exploratory strategy -  recommending a set of various items to new users or a new item to a set of various users\n",
    "\n"
   ]
  }
 ],
 "metadata": {
  "colab": {
   "authorship_tag": "ABX9TyOc5kGSV7K7zCq2gR0Kr09S",
   "include_colab_link": true,
   "mount_file_id": "https://github.com/baalasangar/MLAI/blob/master/08_RecommendationSystem/Assignment/recommendation_system.ipynb",
   "name": "recommendation_system.ipynb",
   "private_outputs": true,
   "provenance": [],
   "toc_visible": true
  },
  "kernelspec": {
   "display_name": "Python 3",
   "language": "python",
   "name": "python3"
  },
  "language_info": {
   "codemirror_mode": {
    "name": "ipython",
    "version": 3
   },
   "file_extension": ".py",
   "mimetype": "text/x-python",
   "name": "python",
   "nbconvert_exporter": "python",
   "pygments_lexer": "ipython3",
   "version": "3.8.3"
  },
  "toc": {
   "base_numbering": 1,
   "nav_menu": {},
   "number_sections": false,
   "sideBar": true,
   "skip_h1_title": false,
   "title_cell": "Table of Contents",
   "title_sidebar": "Contents",
   "toc_cell": false,
   "toc_position": {},
   "toc_section_display": true,
   "toc_window_display": false
  }
 },
 "nbformat": 4,
 "nbformat_minor": 1
}
