{
  "nbformat": 4,
  "nbformat_minor": 0,
  "metadata": {
    "colab": {
      "name": "recommendation_system.ipynb",
      "provenance": [],
      "toc_visible": true,
      "mount_file_id": "https://github.com/baalasangar/MLAI/blob/master/08_RecommendationSystem/Assignment/recommendation_system.ipynb",
      "authorship_tag": "ABX9TyPMTa7Ad17Uuo3OnJciVfmW",
      "include_colab_link": true
    },
    "kernelspec": {
      "name": "python3",
      "display_name": "Python 3"
    }
  },
  "cells": [
    {
      "cell_type": "markdown",
      "metadata": {
        "id": "view-in-github",
        "colab_type": "text"
      },
      "source": [
        "<a href=\"https://colab.research.google.com/github/baalasangar/MLAI/blob/master/08_RecommendationSystem/Assignment/recommendation_system.ipynb\" target=\"_parent\"><img src=\"https://colab.research.google.com/assets/colab-badge.svg\" alt=\"Open In Colab\"/></a>"
      ]
    },
    {
      "cell_type": "markdown",
      "metadata": {
        "id": "J4b0H68Uwo1R"
      },
      "source": [
        "\r\n",
        "#### 1) Importing Liberaries & reading all data\r\n",
        "\r\n",
        "\r\n",
        "\r\n"
      ]
    },
    {
      "cell_type": "code",
      "metadata": {
        "id": "z1EiYh-7wtxk"
      },
      "source": [
        "import pandas as pd \r\n",
        "pd.set_option('display.max_columns', None)\r\n",
        "\r\n",
        "import numpy as np\r\n",
        "import seaborn as sns\r\n",
        "import statsmodels.api as sm\r\n",
        "import matplotlib.pyplot as plt\r\n",
        "#%matplotlib inline\r\n",
        "sns.set(style=\"whitegrid\")"
      ],
      "execution_count": 185,
      "outputs": []
    },
    {
      "cell_type": "code",
      "metadata": {
        "id": "YQtPY-mTw5ub"
      },
      "source": [
        "data_rev1 = pd.read_csv(\"/content/drive/MyDrive/Colab Notebooks/Greatelearning/RecommendationSys/phone_user_review_file_1.csv\",encoding='latin1')\r\n",
        "data_rev2 = pd.read_csv(\"/content/drive/MyDrive/Colab Notebooks/Greatelearning/RecommendationSys/phone_user_review_file_2.csv\",encoding='latin1')\r\n",
        "data_rev3 = pd.read_csv(\"/content/drive/MyDrive/Colab Notebooks/Greatelearning/RecommendationSys/phone_user_review_file_3.csv\",encoding='latin1')\r\n",
        "data_rev4 = pd.read_csv(\"/content/drive/MyDrive/Colab Notebooks/Greatelearning/RecommendationSys/phone_user_review_file_4.csv\",encoding='latin1')\r\n",
        "data_rev5 = pd.read_csv(\"/content/drive/MyDrive/Colab Notebooks/Greatelearning/RecommendationSys/phone_user_review_file_5.csv\",encoding='latin1')\r\n",
        "data_rev6 = pd.read_csv(\"/content/drive/MyDrive/Colab Notebooks/Greatelearning/RecommendationSys/phone_user_review_file_6.csv\",encoding='latin1')\r\n",
        "\r\n"
      ],
      "execution_count": 186,
      "outputs": []
    },
    {
      "cell_type": "code",
      "metadata": {
        "id": "FamECQZzx8J4",
        "colab": {
          "base_uri": "https://localhost:8080/"
        },
        "outputId": "73a4b16c-05bc-48b3-e52b-47c3ba851a08"
      },
      "source": [
        "# Check the Details for the data\r\n",
        "data_list = [data_rev1,data_rev2,data_rev3,data_rev4,data_rev5,data_rev6]\r\n",
        "for data_object in data_list:\r\n",
        "  print(data_object.columns)\r\n",
        "  print(data_object.head())"
      ],
      "execution_count": 187,
      "outputs": [
        {
          "output_type": "stream",
          "text": [
            "Index(['phone_url', 'date', 'lang', 'country', 'source', 'domain', 'score',\n",
            "       'score_max', 'extract', 'author', 'product'],\n",
            "      dtype='object')\n",
            "                        phone_url       date lang country            source  \\\n",
            "0  /cellphones/samsung-galaxy-s8/   5/2/2017   en      us  Verizon Wireless   \n",
            "1  /cellphones/samsung-galaxy-s8/  4/28/2017   en      us       Phone Arena   \n",
            "2  /cellphones/samsung-galaxy-s8/   5/4/2017   en      us            Amazon   \n",
            "3  /cellphones/samsung-galaxy-s8/   5/2/2017   en      us           Samsung   \n",
            "4  /cellphones/samsung-galaxy-s8/  5/11/2017   en      us  Verizon Wireless   \n",
            "\n",
            "                domain  score  score_max  \\\n",
            "0  verizonwireless.com   10.0       10.0   \n",
            "1       phonearena.com   10.0       10.0   \n",
            "2           amazon.com    6.0       10.0   \n",
            "3          samsung.com    9.2       10.0   \n",
            "4  verizonwireless.com    4.0       10.0   \n",
            "\n",
            "                                             extract       author  \\\n",
            "0  As a diehard Samsung fan who has had every Sam...   CarolAnn35   \n",
            "1  Love the phone. the phone is sleek and smooth ...    james0923   \n",
            "2  Adequate feel. Nice heft. Processor's still sl...     R. Craig   \n",
            "3  Never disappointed. One of the reasons I've be...  Buster2020    \n",
            "4  I've now found that i'm in a group of people t...   S Ate Mine   \n",
            "\n",
            "                                             product  \n",
            "0                                  Samsung Galaxy S8  \n",
            "1                                  Samsung Galaxy S8  \n",
            "2  Samsung Galaxy S8 (64GB) G950U 5.8\" 4G LTE Unl...  \n",
            "3                      Samsung Galaxy S8 64GB (AT&T)  \n",
            "4                                  Samsung Galaxy S8  \n",
            "Index(['phone_url', 'date', 'lang', 'country', 'source', 'domain', 'score',\n",
            "       'score_max', 'extract', 'author', 'product'],\n",
            "      dtype='object')\n",
            "                    phone_url       date lang country  source        domain  \\\n",
            "0  /cellphones/leagoo-lead-7/  4/15/2015   en      us  Amazon    amazon.com   \n",
            "1  /cellphones/leagoo-lead-7/  5/23/2015   en      gb  Amazon  amazon.co.uk   \n",
            "2  /cellphones/leagoo-lead-7/  4/27/2015   en      gb  Amazon  amazon.co.uk   \n",
            "3  /cellphones/leagoo-lead-7/  4/22/2015   en      gb  Amazon  amazon.co.uk   \n",
            "4  /cellphones/leagoo-lead-7/  4/18/2015   en      gb  Amazon  amazon.co.uk   \n",
            "\n",
            "   score  score_max                                            extract  \\\n",
            "0    2.0       10.0  The telephone headset is of poor quality , not...   \n",
            "1   10.0       10.0  This is my first smartphone so I have nothing ...   \n",
            "2    8.0       10.0  Great phone. Battery life not great but seems ...   \n",
            "3   10.0       10.0      Best 90 quid I've ever spent on a smart phone   \n",
            "4   10.0       10.0  I m happy with this phone.it s very good.thx team   \n",
            "\n",
            "          author                                            product  \n",
            "0           luis  Leagoo Lead7 5.0 Inch HD JDI LTPS Screen 3G Sm...  \n",
            "1     Mark Lavin  Leagoo Lead 7 Lead7 MTK6582 Quad core 1GB RAM ...  \n",
            "2         tracey  Leagoo Lead 7 Lead7 MTK6582 Quad core 1GB RAM ...  \n",
            "3  Reuben Ingram  Leagoo Lead 7 Lead7 MTK6582 Quad core 1GB RAM ...  \n",
            "4         viorel  Leagoo Lead 7 Lead7 MTK6582 Quad core 1GB RAM ...  \n",
            "Index(['phone_url', 'date', 'lang', 'country', 'source', 'domain', 'score',\n",
            "       'score_max', 'extract', 'author', 'product'],\n",
            "      dtype='object')\n",
            "                                         phone_url       date lang country  \\\n",
            "0  /cellphones/samsung-galaxy-s-iii-slim-sm-g3812/  11/7/2015   pt      br   \n",
            "1  /cellphones/samsung-galaxy-s-iii-slim-sm-g3812/  10/2/2015   pt      br   \n",
            "2  /cellphones/samsung-galaxy-s-iii-slim-sm-g3812/   9/2/2015   pt      br   \n",
            "3  /cellphones/samsung-galaxy-s-iii-slim-sm-g3812/   9/2/2015   pt      br   \n",
            "4  /cellphones/samsung-galaxy-s-iii-slim-sm-g3812/   9/1/2015   pt      br   \n",
            "\n",
            "      source            domain  score  score_max  \\\n",
            "0  Submarino  submarino.com.br    6.0       10.0   \n",
            "1  Submarino  submarino.com.br   10.0       10.0   \n",
            "2  Submarino  submarino.com.br   10.0       10.0   \n",
            "3  Submarino  submarino.com.br    8.0       10.0   \n",
            "4    Colombo    colombo.com.br    8.0       10.0   \n",
            "\n",
            "                                             extract  \\\n",
            "0  recomendo, eu comprei um, a um ano, e agora co...   \n",
            "1  Comprei um pouco desconfiada do site e do celu...   \n",
            "2  Muito bom o produto, obvio que tem versÃµes me...   \n",
            "3  Unica ressalva fica para a camera que poderia ...   \n",
            "4  Rapidez e atenÃ§Ã£o na entrega. O aparelho Ã© ...   \n",
            "\n",
            "                           author  \\\n",
            "0                herlington tesch   \n",
            "1             Luisa Silva Marieta   \n",
            "2                           Cyrus   \n",
            "3       Marcela Santa Clara Brito   \n",
            "4  Claudine Maria Kuhn Walendorff   \n",
            "\n",
            "                                             product  \n",
            "0  Samsung Smartphone Samsung Galaxy S3 Slim G381...  \n",
            "1  Samsung Smartphone Samsung Galaxy S3 Slim G381...  \n",
            "2  Samsung Smartphone Samsung Galaxy S3 Slim G381...  \n",
            "3  Samsung Smartphone Samsung Galaxy S3 Slim G381...  \n",
            "4  Smartphone Samsung Galaxy S3 Slim, Dual Chip, ...  \n",
            "Index(['phone_url', 'date', 'lang', 'country', 'source', 'domain', 'score',\n",
            "       'score_max', 'extract', 'author', 'product'],\n",
            "      dtype='object')\n",
            "                                    phone_url        date lang country  \\\n",
            "0  /cellphones/samsung-s7262-duos-galaxy-ace/   3/11/2015   en      us   \n",
            "1  /cellphones/samsung-s7262-duos-galaxy-ace/  17/11/2015   en      in   \n",
            "2  /cellphones/samsung-s7262-duos-galaxy-ace/  29/10/2015   en      in   \n",
            "3  /cellphones/samsung-s7262-duos-galaxy-ace/  29/10/2015   en      in   \n",
            "4  /cellphones/samsung-s7262-duos-galaxy-ace/  29/10/2015   en      in   \n",
            "\n",
            "   source      domain  score  score_max  \\\n",
            "0  Amazon  amazon.com    2.0       10.0   \n",
            "1  Zopper  zopper.com   10.0       10.0   \n",
            "2  Amazon   amazon.in    4.0       10.0   \n",
            "3  Amazon   amazon.in    6.0       10.0   \n",
            "4  Amazon   amazon.in   10.0       10.0   \n",
            "\n",
            "                                             extract            author  \\\n",
            "0  was not conpatable with my phone as stated. I ...  Frances DeSimone   \n",
            "1  Decent Functions and Easy to Operate Pros:- Th...     Expert Review   \n",
            "2  Not Good Phone such price. Hang too much and v...   Amazon Customer   \n",
            "3                               not bad for features   Amazon Customer   \n",
            "4                                  Excellent product               NHK   \n",
            "\n",
            "                                             product  \n",
            "0  Samsung Galaxy Star Pro DUOS S7262 Unlocked Ce...  \n",
            "1                Samsung Galaxy Star Pro S7262 Black  \n",
            "2  Samsung Galaxy Star Pro GT-S7262 (Midnight Black)  \n",
            "3  Samsung Galaxy Star Pro GT-S7262 (Midnight Black)  \n",
            "4  Samsung Galaxy Star Pro GT-S7262 (Midnight Black)  \n",
            "Index(['phone_url', 'date', 'lang', 'country', 'source', 'domain', 'score',\n",
            "       'score_max', 'extract', 'author', 'product'],\n",
            "      dtype='object')\n",
            "                    phone_url       date lang country      source  \\\n",
            "0  /cellphones/karbonn-k1616/  7/13/2016   en      in  91 Mobiles   \n",
            "1  /cellphones/karbonn-k1616/  7/13/2016   en      in  91 Mobiles   \n",
            "2  /cellphones/karbonn-k1616/  7/13/2016   en      in  91 Mobiles   \n",
            "3  /cellphones/karbonn-k1616/  4/25/2014   en      in     Naaptol   \n",
            "4  /cellphones/karbonn-k1616/  4/23/2013   en      in     Naaptol   \n",
            "\n",
            "          domain  score  score_max  \\\n",
            "0  91mobiles.com    2.0       10.0   \n",
            "1  91mobiles.com    6.0       10.0   \n",
            "2  91mobiles.com    4.0       10.0   \n",
            "3    naaptol.com   10.0       10.0   \n",
            "4    naaptol.com   10.0       10.0   \n",
            "\n",
            "                                             extract           author  \\\n",
            "0  I bought 1 month before. currently speaker is ...        venkatesh   \n",
            "1  I just bought one week back, I have Airtel con...           Venkat   \n",
            "2  one problem in this handset opera is not worki...           krrish   \n",
            "3  here Karbonn comes up with an another excellen...  BRIJESH CHAUHAN   \n",
            "4  What a phone, all so on Naaptol my god 23% off...    Suraj CHAUHAN   \n",
            "\n",
            "                 product  \n",
            "0          Karbonn K1616  \n",
            "1          Karbonn K1616  \n",
            "2          Karbonn K1616  \n",
            "3  Karbonn K1616 - Black  \n",
            "4  Karbonn K1616 - Black  \n",
            "Index(['phone_url', 'date', 'lang', 'country', 'source', 'domain', 'score',\n",
            "       'score_max', 'extract', 'author', 'product'],\n",
            "      dtype='object')\n",
            "                                phone_url        date lang country  \\\n",
            "0  /cellphones/samsung-instinct-sph-m800/   9/16/2011   en      us   \n",
            "1  /cellphones/samsung-instinct-sph-m800/   2/13/2014   en      us   \n",
            "2  /cellphones/samsung-instinct-sph-m800/  12/30/2011   en      us   \n",
            "3  /cellphones/samsung-instinct-sph-m800/  10/18/2008   en      us   \n",
            "4  /cellphones/samsung-instinct-sph-m800/    9/6/2008   en      us   \n",
            "\n",
            "          source             domain  score  score_max  \\\n",
            "0    Phone Arena     phonearena.com    8.0       10.0   \n",
            "1         Amazon         amazon.com    6.0       10.0   \n",
            "2    Phone Scoop     phonescoop.com    9.0       10.0   \n",
            "3  HandCellPhone  handcellphone.com    4.0       10.0   \n",
            "4   Reviewed.com       reviewed.com    6.0       10.0   \n",
            "\n",
            "                                             extract      author  \\\n",
            "0  I've had the phone for awhile and it's a prett...  ajabrams95   \n",
            "1  to be clear it is not the sellers fault that t...   Stephanie   \n",
            "2  Well i love this phone. i have had ton of phon...    snickers   \n",
            "3  I have had my Instinct for several months now ...         A4C   \n",
            "4  i have had this instinct phone for about two m...   betaBgood   \n",
            "\n",
            "                     product  \n",
            "0        Samsung Instinct HD  \n",
            "1  Samsung SPH M800 Instinct  \n",
            "2              Instinct M800  \n",
            "3           Samsung Instinct  \n",
            "4           Samsung Instinct  \n"
          ],
          "name": "stdout"
        }
      ]
    },
    {
      "cell_type": "markdown",
      "metadata": {
        "id": "YAR3FUwc0iYJ"
      },
      "source": [
        "##### Merge the provided CSVs into one data-frame.\r\n"
      ]
    },
    {
      "cell_type": "code",
      "metadata": {
        "id": "Ey1nUuSPx7qS",
        "colab": {
          "base_uri": "https://localhost:8080/",
          "height": 416
        },
        "outputId": "bdc194b7-ceef-4b5d-9bd8-93986322cf5b"
      },
      "source": [
        "data = pd.concat(data_list)\r\n",
        "data.reset_index(inplace=True)\r\n",
        "data.drop(columns=[\"index\"],inplace=True)\r\n",
        "data.tail(n=10000)\r\n"
      ],
      "execution_count": 188,
      "outputs": [
        {
          "output_type": "execute_result",
          "data": {
            "text/html": [
              "<div>\n",
              "<style scoped>\n",
              "    .dataframe tbody tr th:only-of-type {\n",
              "        vertical-align: middle;\n",
              "    }\n",
              "\n",
              "    .dataframe tbody tr th {\n",
              "        vertical-align: top;\n",
              "    }\n",
              "\n",
              "    .dataframe thead th {\n",
              "        text-align: right;\n",
              "    }\n",
              "</style>\n",
              "<table border=\"1\" class=\"dataframe\">\n",
              "  <thead>\n",
              "    <tr style=\"text-align: right;\">\n",
              "      <th></th>\n",
              "      <th>phone_url</th>\n",
              "      <th>date</th>\n",
              "      <th>lang</th>\n",
              "      <th>country</th>\n",
              "      <th>source</th>\n",
              "      <th>domain</th>\n",
              "      <th>score</th>\n",
              "      <th>score_max</th>\n",
              "      <th>extract</th>\n",
              "      <th>author</th>\n",
              "      <th>product</th>\n",
              "    </tr>\n",
              "  </thead>\n",
              "  <tbody>\n",
              "    <tr>\n",
              "      <th>1405133</th>\n",
              "      <td>/cellphones/sony-cmd-z5/</td>\n",
              "      <td>12/3/2001</td>\n",
              "      <td>en</td>\n",
              "      <td>gb</td>\n",
              "      <td>Dooyoo</td>\n",
              "      <td>dooyoo.co.uk</td>\n",
              "      <td>6.0</td>\n",
              "      <td>10.0</td>\n",
              "      <td>This a realtivly new phone and has an importan...</td>\n",
              "      <td>anonym</td>\n",
              "      <td>Sony CMD-Z5</td>\n",
              "    </tr>\n",
              "    <tr>\n",
              "      <th>1405134</th>\n",
              "      <td>/cellphones/sony-cmd-z5/</td>\n",
              "      <td>10/22/2001</td>\n",
              "      <td>en</td>\n",
              "      <td>gb</td>\n",
              "      <td>Dooyoo</td>\n",
              "      <td>dooyoo.co.uk</td>\n",
              "      <td>10.0</td>\n",
              "      <td>10.0</td>\n",
              "      <td>THE best phone on the market, classy and featu...</td>\n",
              "      <td>timbos</td>\n",
              "      <td>Sony CMD-Z5</td>\n",
              "    </tr>\n",
              "    <tr>\n",
              "      <th>1405135</th>\n",
              "      <td>/cellphones/sony-cmd-z5/</td>\n",
              "      <td>9/25/2001</td>\n",
              "      <td>en</td>\n",
              "      <td>gb</td>\n",
              "      <td>Dooyoo</td>\n",
              "      <td>dooyoo.co.uk</td>\n",
              "      <td>10.0</td>\n",
              "      <td>10.0</td>\n",
              "      <td>When looking at the Sony CMD-Z5 it can be very...</td>\n",
              "      <td>M_J_Carrier</td>\n",
              "      <td>Sony CMD-Z5</td>\n",
              "    </tr>\n",
              "    <tr>\n",
              "      <th>1405136</th>\n",
              "      <td>/cellphones/sony-cmd-z5/</td>\n",
              "      <td>8/12/2001</td>\n",
              "      <td>en</td>\n",
              "      <td>gb</td>\n",
              "      <td>Dooyoo</td>\n",
              "      <td>dooyoo.co.uk</td>\n",
              "      <td>6.0</td>\n",
              "      <td>10.0</td>\n",
              "      <td>I`ve had the Sony CMD-Z5 for just about a year...</td>\n",
              "      <td>Verbal</td>\n",
              "      <td>Sony CMD-Z5</td>\n",
              "    </tr>\n",
              "    <tr>\n",
              "      <th>1405137</th>\n",
              "      <td>/cellphones/sony-cmd-z5/</td>\n",
              "      <td>7/25/2001</td>\n",
              "      <td>en</td>\n",
              "      <td>gb</td>\n",
              "      <td>Dooyoo</td>\n",
              "      <td>dooyoo.co.uk</td>\n",
              "      <td>8.0</td>\n",
              "      <td>10.0</td>\n",
              "      <td>Now that my current phone's contract is immine...</td>\n",
              "      <td>curly00</td>\n",
              "      <td>Sony CMD-Z5</td>\n",
              "    </tr>\n",
              "    <tr>\n",
              "      <th>...</th>\n",
              "      <td>...</td>\n",
              "      <td>...</td>\n",
              "      <td>...</td>\n",
              "      <td>...</td>\n",
              "      <td>...</td>\n",
              "      <td>...</td>\n",
              "      <td>...</td>\n",
              "      <td>...</td>\n",
              "      <td>...</td>\n",
              "      <td>...</td>\n",
              "      <td>...</td>\n",
              "    </tr>\n",
              "    <tr>\n",
              "      <th>1415128</th>\n",
              "      <td>/cellphones/alcatel-ot-club_1187/</td>\n",
              "      <td>5/12/2000</td>\n",
              "      <td>de</td>\n",
              "      <td>de</td>\n",
              "      <td>Ciao</td>\n",
              "      <td>ciao.de</td>\n",
              "      <td>2.0</td>\n",
              "      <td>10.0</td>\n",
              "      <td>Weil mein Onkel bei ALcatel arbeitet habe ich ...</td>\n",
              "      <td>david.paul</td>\n",
              "      <td>Alcatel Club Plus Handy</td>\n",
              "    </tr>\n",
              "    <tr>\n",
              "      <th>1415129</th>\n",
              "      <td>/cellphones/alcatel-ot-club_1187/</td>\n",
              "      <td>5/11/2000</td>\n",
              "      <td>de</td>\n",
              "      <td>de</td>\n",
              "      <td>Ciao</td>\n",
              "      <td>ciao.de</td>\n",
              "      <td>10.0</td>\n",
              "      <td>10.0</td>\n",
              "      <td>Hy Liebe Leserinnen und Leser!! Ich habe seit ...</td>\n",
              "      <td>Christiane14</td>\n",
              "      <td>Alcatel Club Plus Handy</td>\n",
              "    </tr>\n",
              "    <tr>\n",
              "      <th>1415130</th>\n",
              "      <td>/cellphones/alcatel-ot-club_1187/</td>\n",
              "      <td>5/4/2000</td>\n",
              "      <td>de</td>\n",
              "      <td>de</td>\n",
              "      <td>Ciao</td>\n",
              "      <td>ciao.de</td>\n",
              "      <td>2.0</td>\n",
              "      <td>10.0</td>\n",
              "      <td>Jetzt hat wohl Alcatell gedacht ,sie machen wa...</td>\n",
              "      <td>michaelawr</td>\n",
              "      <td>Alcatel Club Plus Handy</td>\n",
              "    </tr>\n",
              "    <tr>\n",
              "      <th>1415131</th>\n",
              "      <td>/cellphones/alcatel-ot-club_1187/</td>\n",
              "      <td>5/1/2000</td>\n",
              "      <td>de</td>\n",
              "      <td>de</td>\n",
              "      <td>Ciao</td>\n",
              "      <td>ciao.de</td>\n",
              "      <td>8.0</td>\n",
              "      <td>10.0</td>\n",
              "      <td>Ich bin seit 2 Jahren (stolzer) Besitzer eines...</td>\n",
              "      <td>claudia0815</td>\n",
              "      <td>Alcatel Club Plus Handy</td>\n",
              "    </tr>\n",
              "    <tr>\n",
              "      <th>1415132</th>\n",
              "      <td>/cellphones/alcatel-ot-club_1187/</td>\n",
              "      <td>4/25/2000</td>\n",
              "      <td>de</td>\n",
              "      <td>de</td>\n",
              "      <td>Ciao</td>\n",
              "      <td>ciao.de</td>\n",
              "      <td>2.0</td>\n",
              "      <td>10.0</td>\n",
              "      <td>Was sich Alkatel hier wieder ausgedacht hat,sc...</td>\n",
              "      <td>michaelawr</td>\n",
              "      <td>Alcatel Club Plus Handy</td>\n",
              "    </tr>\n",
              "  </tbody>\n",
              "</table>\n",
              "<p>10000 rows × 11 columns</p>\n",
              "</div>"
            ],
            "text/plain": [
              "                                 phone_url        date lang country  source  \\\n",
              "1405133           /cellphones/sony-cmd-z5/   12/3/2001   en      gb  Dooyoo   \n",
              "1405134           /cellphones/sony-cmd-z5/  10/22/2001   en      gb  Dooyoo   \n",
              "1405135           /cellphones/sony-cmd-z5/   9/25/2001   en      gb  Dooyoo   \n",
              "1405136           /cellphones/sony-cmd-z5/   8/12/2001   en      gb  Dooyoo   \n",
              "1405137           /cellphones/sony-cmd-z5/   7/25/2001   en      gb  Dooyoo   \n",
              "...                                    ...         ...  ...     ...     ...   \n",
              "1415128  /cellphones/alcatel-ot-club_1187/   5/12/2000   de      de    Ciao   \n",
              "1415129  /cellphones/alcatel-ot-club_1187/   5/11/2000   de      de    Ciao   \n",
              "1415130  /cellphones/alcatel-ot-club_1187/    5/4/2000   de      de    Ciao   \n",
              "1415131  /cellphones/alcatel-ot-club_1187/    5/1/2000   de      de    Ciao   \n",
              "1415132  /cellphones/alcatel-ot-club_1187/   4/25/2000   de      de    Ciao   \n",
              "\n",
              "               domain  score  score_max  \\\n",
              "1405133  dooyoo.co.uk    6.0       10.0   \n",
              "1405134  dooyoo.co.uk   10.0       10.0   \n",
              "1405135  dooyoo.co.uk   10.0       10.0   \n",
              "1405136  dooyoo.co.uk    6.0       10.0   \n",
              "1405137  dooyoo.co.uk    8.0       10.0   \n",
              "...               ...    ...        ...   \n",
              "1415128       ciao.de    2.0       10.0   \n",
              "1415129       ciao.de   10.0       10.0   \n",
              "1415130       ciao.de    2.0       10.0   \n",
              "1415131       ciao.de    8.0       10.0   \n",
              "1415132       ciao.de    2.0       10.0   \n",
              "\n",
              "                                                   extract        author  \\\n",
              "1405133  This a realtivly new phone and has an importan...        anonym   \n",
              "1405134  THE best phone on the market, classy and featu...        timbos   \n",
              "1405135  When looking at the Sony CMD-Z5 it can be very...   M_J_Carrier   \n",
              "1405136  I`ve had the Sony CMD-Z5 for just about a year...        Verbal   \n",
              "1405137  Now that my current phone's contract is immine...       curly00   \n",
              "...                                                    ...           ...   \n",
              "1415128  Weil mein Onkel bei ALcatel arbeitet habe ich ...    david.paul   \n",
              "1415129  Hy Liebe Leserinnen und Leser!! Ich habe seit ...  Christiane14   \n",
              "1415130  Jetzt hat wohl Alcatell gedacht ,sie machen wa...    michaelawr   \n",
              "1415131  Ich bin seit 2 Jahren (stolzer) Besitzer eines...   claudia0815   \n",
              "1415132  Was sich Alkatel hier wieder ausgedacht hat,sc...    michaelawr   \n",
              "\n",
              "                         product  \n",
              "1405133              Sony CMD-Z5  \n",
              "1405134              Sony CMD-Z5  \n",
              "1405135              Sony CMD-Z5  \n",
              "1405136              Sony CMD-Z5  \n",
              "1405137              Sony CMD-Z5  \n",
              "...                          ...  \n",
              "1415128  Alcatel Club Plus Handy  \n",
              "1415129  Alcatel Club Plus Handy  \n",
              "1415130  Alcatel Club Plus Handy  \n",
              "1415131  Alcatel Club Plus Handy  \n",
              "1415132  Alcatel Club Plus Handy  \n",
              "\n",
              "[10000 rows x 11 columns]"
            ]
          },
          "metadata": {
            "tags": []
          },
          "execution_count": 188
        }
      ]
    },
    {
      "cell_type": "markdown",
      "metadata": {
        "id": "NNGc-wZtBRFT"
      },
      "source": [
        "#### Exploratory Data Analysis"
      ]
    },
    {
      "cell_type": "code",
      "metadata": {
        "id": "K4nQxk9NBW3j"
      },
      "source": [
        "# Create a copy of the data for analysis\r\n",
        "data_analysis = data.copy()"
      ],
      "execution_count": 189,
      "outputs": []
    },
    {
      "cell_type": "markdown",
      "metadata": {
        "id": "KijhMyWK08rA"
      },
      "source": [
        "##### Check a few observations and shape of the data-frame.\r\n"
      ]
    },
    {
      "cell_type": "code",
      "metadata": {
        "id": "1F-uCmoG02GI",
        "colab": {
          "base_uri": "https://localhost:8080/"
        },
        "outputId": "84583c3b-cca3-4b77-f6d4-3b92bd24dcac"
      },
      "source": [
        "print(\"Shape of the data - \",data_analysis.shape)\r\n",
        "print(\"Columns of data - \",data_analysis.columns)"
      ],
      "execution_count": 190,
      "outputs": [
        {
          "output_type": "stream",
          "text": [
            "Shape of the data -  (1415133, 11)\n",
            "Columns of data -  Index(['phone_url', 'date', 'lang', 'country', 'source', 'domain', 'score',\n",
            "       'score_max', 'extract', 'author', 'product'],\n",
            "      dtype='object')\n"
          ],
          "name": "stdout"
        }
      ]
    },
    {
      "cell_type": "code",
      "metadata": {
        "id": "QHI5km4k3Z0g",
        "colab": {
          "base_uri": "https://localhost:8080/",
          "height": 1000
        },
        "outputId": "50e79e2e-dcbe-4f91-91d2-1f408e096f99"
      },
      "source": [
        "# Random check on data for 5o records\r\n",
        "data_analysis.sample(n=25,random_state=612)"
      ],
      "execution_count": 191,
      "outputs": [
        {
          "output_type": "execute_result",
          "data": {
            "text/html": [
              "<div>\n",
              "<style scoped>\n",
              "    .dataframe tbody tr th:only-of-type {\n",
              "        vertical-align: middle;\n",
              "    }\n",
              "\n",
              "    .dataframe tbody tr th {\n",
              "        vertical-align: top;\n",
              "    }\n",
              "\n",
              "    .dataframe thead th {\n",
              "        text-align: right;\n",
              "    }\n",
              "</style>\n",
              "<table border=\"1\" class=\"dataframe\">\n",
              "  <thead>\n",
              "    <tr style=\"text-align: right;\">\n",
              "      <th></th>\n",
              "      <th>phone_url</th>\n",
              "      <th>date</th>\n",
              "      <th>lang</th>\n",
              "      <th>country</th>\n",
              "      <th>source</th>\n",
              "      <th>domain</th>\n",
              "      <th>score</th>\n",
              "      <th>score_max</th>\n",
              "      <th>extract</th>\n",
              "      <th>author</th>\n",
              "      <th>product</th>\n",
              "    </tr>\n",
              "  </thead>\n",
              "  <tbody>\n",
              "    <tr>\n",
              "      <th>1381066</th>\n",
              "      <td>/cellphones/samsung-mm-a700-sph-a700/</td>\n",
              "      <td>9/18/2004</td>\n",
              "      <td>en</td>\n",
              "      <td>us</td>\n",
              "      <td>Phone Scoop</td>\n",
              "      <td>phonescoop.com</td>\n",
              "      <td>3.0</td>\n",
              "      <td>10.0</td>\n",
              "      <td>Sprint missed the boat on the fundamentals wit...</td>\n",
              "      <td>GrandWazoo</td>\n",
              "      <td>MM-A700 / SPH-A700</td>\n",
              "    </tr>\n",
              "    <tr>\n",
              "      <th>159224</th>\n",
              "      <td>/cellphones/lg-g5/</td>\n",
              "      <td>1/2/2017</td>\n",
              "      <td>en</td>\n",
              "      <td>us</td>\n",
              "      <td>Verizon Wireless</td>\n",
              "      <td>verizonwireless.com</td>\n",
              "      <td>10.0</td>\n",
              "      <td>10.0</td>\n",
              "      <td>Just got this a couple of weeks ago, really ni...</td>\n",
              "      <td>Hunts1</td>\n",
              "      <td>LG G5</td>\n",
              "    </tr>\n",
              "    <tr>\n",
              "      <th>166941</th>\n",
              "      <td>/cellphones/microsoft-lumia-640-dual-sim/</td>\n",
              "      <td>3/10/2016</td>\n",
              "      <td>ru</td>\n",
              "      <td>ru</td>\n",
              "      <td>Yandex</td>\n",
              "      <td>market.yandex.ru</td>\n",
              "      <td>6.0</td>\n",
              "      <td>10.0</td>\n",
              "      <td>Ð¡ÑÐµÐ´Ð½Ð¸Ð¹ ÑÐ¼Ð°ÑÑÑÐ¾Ð½. ÐÐ· Ð¿Ð»ÑÑ...</td>\n",
              "      <td>NaN</td>\n",
              "      <td>Microsoft Lumia 640 3G Dual Sim</td>\n",
              "    </tr>\n",
              "    <tr>\n",
              "      <th>340422</th>\n",
              "      <td>/cellphones/samsung-galaxy-s5/</td>\n",
              "      <td>5/24/2016</td>\n",
              "      <td>en</td>\n",
              "      <td>in</td>\n",
              "      <td>Flipkart</td>\n",
              "      <td>flipkart.com</td>\n",
              "      <td>8.0</td>\n",
              "      <td>10.0</td>\n",
              "      <td>Good...reasonable. .original product of Samsun...</td>\n",
              "      <td>Sandeep Kumar...</td>\n",
              "      <td>SAMSUNG Galaxy S5 (Copper Gold, 16 GB)</td>\n",
              "    </tr>\n",
              "    <tr>\n",
              "      <th>290110</th>\n",
              "      <td>/cellphones/samsung-galaxy-note-4/</td>\n",
              "      <td>11/13/2014</td>\n",
              "      <td>en</td>\n",
              "      <td>ca</td>\n",
              "      <td>Amazon</td>\n",
              "      <td>amazon.ca</td>\n",
              "      <td>10.0</td>\n",
              "      <td>10.0</td>\n",
              "      <td>Shipped very fast and came with everything you...</td>\n",
              "      <td>mike hawdon</td>\n",
              "      <td>Tech Armor Galaxy Note 4 Screen Protector, Tec...</td>\n",
              "    </tr>\n",
              "    <tr>\n",
              "      <th>1166492</th>\n",
              "      <td>/cellphones/nokia-e71/</td>\n",
              "      <td>2/20/2009</td>\n",
              "      <td>en</td>\n",
              "      <td>us</td>\n",
              "      <td>Amazon</td>\n",
              "      <td>amazon.com</td>\n",
              "      <td>4.0</td>\n",
              "      <td>10.0</td>\n",
              "      <td>Phone arrived, and the initial looks of it wer...</td>\n",
              "      <td>The mother of all prduct reviews</td>\n",
              "      <td>Nokia E71x Unlocked Phone with QWERTY Keyboard...</td>\n",
              "    </tr>\n",
              "    <tr>\n",
              "      <th>264600</th>\n",
              "      <td>/cellphones/apple-iphone-6/</td>\n",
              "      <td>11/13/2014</td>\n",
              "      <td>en</td>\n",
              "      <td>us</td>\n",
              "      <td>Amazon</td>\n",
              "      <td>amazon.com</td>\n",
              "      <td>8.0</td>\n",
              "      <td>10.0</td>\n",
              "      <td>The phone was to my expectations and I was hap...</td>\n",
              "      <td>Amazon Customer</td>\n",
              "      <td>Apple iPhone 6 16GB Factory Unlocked GSM 4G LT...</td>\n",
              "    </tr>\n",
              "    <tr>\n",
              "      <th>1275859</th>\n",
              "      <td>/cellphones/nokia-6680/</td>\n",
              "      <td>1/21/2007</td>\n",
              "      <td>en</td>\n",
              "      <td>gb</td>\n",
              "      <td>Amazon</td>\n",
              "      <td>amazon.co.uk</td>\n",
              "      <td>8.0</td>\n",
              "      <td>10.0</td>\n",
              "      <td>Its hot chrome packing slick phone albeit it b...</td>\n",
              "      <td>Amazon Customer</td>\n",
              "      <td>Nokia 6680 Smartphone</td>\n",
              "    </tr>\n",
              "    <tr>\n",
              "      <th>416067</th>\n",
              "      <td>/cellphones/sony-xperia-z3-compact/</td>\n",
              "      <td>11/25/2014</td>\n",
              "      <td>en</td>\n",
              "      <td>gb</td>\n",
              "      <td>Amazon</td>\n",
              "      <td>amazon.co.uk</td>\n",
              "      <td>6.0</td>\n",
              "      <td>10.0</td>\n",
              "      <td>I'd like to say this phone is great- and so mu...</td>\n",
              "      <td>Jsphstry</td>\n",
              "      <td>Sony Xperia Z3 Compact UK SIM-Free Smartphone ...</td>\n",
              "    </tr>\n",
              "    <tr>\n",
              "      <th>306382</th>\n",
              "      <td>/cellphones/acer-liquid-z630/</td>\n",
              "      <td>12/21/2015</td>\n",
              "      <td>fr</td>\n",
              "      <td>fr</td>\n",
              "      <td>Amazon</td>\n",
              "      <td>amazon.fr</td>\n",
              "      <td>2.0</td>\n",
              "      <td>10.0</td>\n",
              "      <td>laissant un samsung s5 j'ai pris celui la car ...</td>\n",
              "      <td>Client d'Amazon</td>\n",
              "      <td>Acer Liquid Z630 Smartphone dÃ©bloquÃ© 4G (Ecr...</td>\n",
              "    </tr>\n",
              "    <tr>\n",
              "      <th>1051626</th>\n",
              "      <td>/cellphones/blu-vivo-air/</td>\n",
              "      <td>6/18/2015</td>\n",
              "      <td>en</td>\n",
              "      <td>us</td>\n",
              "      <td>Amazon</td>\n",
              "      <td>amazon.com</td>\n",
              "      <td>6.0</td>\n",
              "      <td>10.0</td>\n",
              "      <td>The good: This phone is super thin. 5mm. Pick ...</td>\n",
              "      <td>No Name</td>\n",
              "      <td>BLU Vivo Air Unlocked Cellphone, 16GB, Black</td>\n",
              "    </tr>\n",
              "    <tr>\n",
              "      <th>988241</th>\n",
              "      <td>/cellphones/apple-iphone-4/</td>\n",
              "      <td>11/29/2010</td>\n",
              "      <td>en</td>\n",
              "      <td>us</td>\n",
              "      <td>Amazon</td>\n",
              "      <td>amazon.com</td>\n",
              "      <td>2.0</td>\n",
              "      <td>10.0</td>\n",
              "      <td>This item sucks the phone can not be activated...</td>\n",
              "      <td>barbra willimas</td>\n",
              "      <td>Apple Iphone 4 - 8gb Sprint (CDMA) White, Smar...</td>\n",
              "    </tr>\n",
              "    <tr>\n",
              "      <th>452919</th>\n",
              "      <td>/cellphones/sony-xperia-z2/</td>\n",
              "      <td>7/17/2014</td>\n",
              "      <td>de</td>\n",
              "      <td>de</td>\n",
              "      <td>Amazon</td>\n",
              "      <td>amazon.de</td>\n",
              "      <td>2.0</td>\n",
              "      <td>10.0</td>\n",
              "      <td>ich bin total begeistert, alles ist mÃ¶glich. ...</td>\n",
              "      <td>Magrit Tamborini</td>\n",
              "      <td>Sony Xperia Z2 Smartphone (5,2 Zoll (13,2 cm) ...</td>\n",
              "    </tr>\n",
              "    <tr>\n",
              "      <th>416939</th>\n",
              "      <td>/cellphones/sony-xperia-z3-compact/</td>\n",
              "      <td>3/29/2016</td>\n",
              "      <td>it</td>\n",
              "      <td>it</td>\n",
              "      <td>Amazon</td>\n",
              "      <td>amazon.it</td>\n",
              "      <td>10.0</td>\n",
              "      <td>10.0</td>\n",
              "      <td>Ho aspettato un mese prima di fare la recensio...</td>\n",
              "      <td>M. Carolina</td>\n",
              "      <td>Sony Xperia Z3 Compact Smartphone, Display 4,6...</td>\n",
              "    </tr>\n",
              "    <tr>\n",
              "      <th>965310</th>\n",
              "      <td>/cellphones/zte-blade/</td>\n",
              "      <td>4/16/2011</td>\n",
              "      <td>en</td>\n",
              "      <td>gb</td>\n",
              "      <td>Amazon</td>\n",
              "      <td>amazon.co.uk</td>\n",
              "      <td>4.0</td>\n",
              "      <td>10.0</td>\n",
              "      <td>my phone was fine fore a wil then one time whe...</td>\n",
              "      <td>fafduck</td>\n",
              "      <td>Orange San Francisco / Android / Mobile Phone ...</td>\n",
              "    </tr>\n",
              "    <tr>\n",
              "      <th>1105330</th>\n",
              "      <td>/cellphones/lg-vn250/</td>\n",
              "      <td>5/21/2010</td>\n",
              "      <td>en</td>\n",
              "      <td>us</td>\n",
              "      <td>Amazon</td>\n",
              "      <td>amazon.com</td>\n",
              "      <td>10.0</td>\n",
              "      <td>10.0</td>\n",
              "      <td>Item was just what we ordered and very nice.</td>\n",
              "      <td>duke</td>\n",
              "      <td>LG Cosmos VN250 Black No Contract No Data Veri...</td>\n",
              "    </tr>\n",
              "    <tr>\n",
              "      <th>346027</th>\n",
              "      <td>/cellphones/samsung-galaxy-s5/</td>\n",
              "      <td>7/6/2014</td>\n",
              "      <td>en</td>\n",
              "      <td>us</td>\n",
              "      <td>Amazon</td>\n",
              "      <td>amazon.com</td>\n",
              "      <td>8.0</td>\n",
              "      <td>10.0</td>\n",
              "      <td>Works well. Had to re-calibrate the touch-scre...</td>\n",
              "      <td>Steven</td>\n",
              "      <td>Samsung Galaxy S5 SM-G900T -16GB Black (T-Mobile)</td>\n",
              "    </tr>\n",
              "    <tr>\n",
              "      <th>877530</th>\n",
              "      <td>/cellphones/samsung-galaxy-ace-plus/</td>\n",
              "      <td>1/11/2012</td>\n",
              "      <td>ru</td>\n",
              "      <td>ru</td>\n",
              "      <td>Yandex</td>\n",
              "      <td>market.yandex.ru</td>\n",
              "      <td>8.0</td>\n",
              "      <td>10.0</td>\n",
              "      <td>?????????? ?????????? ??????????, ???????????...</td>\n",
              "      <td>madday1981</td>\n",
              "      <td>Samsung Galaxy Ace Plus GT-S7500</td>\n",
              "    </tr>\n",
              "    <tr>\n",
              "      <th>553182</th>\n",
              "      <td>/cellphones/nokia-lumia-530/</td>\n",
              "      <td>3/27/2015</td>\n",
              "      <td>pt</td>\n",
              "      <td>br</td>\n",
              "      <td>Cissa Magazine</td>\n",
              "      <td>cissamagazine.com.br</td>\n",
              "      <td>NaN</td>\n",
              "      <td>NaN</td>\n",
              "      <td>celular Otimo produto celular nokia lumia 530 ...</td>\n",
              "      <td>ALEX kraus</td>\n",
              "      <td>Smartphone Nokia Lumia 530 Dual Desbloqueado B...</td>\n",
              "    </tr>\n",
              "    <tr>\n",
              "      <th>1163761</th>\n",
              "      <td>/cellphones/lg-lotus-lx600/</td>\n",
              "      <td>6/11/2009</td>\n",
              "      <td>en</td>\n",
              "      <td>us</td>\n",
              "      <td>HandCellPhone</td>\n",
              "      <td>handcellphone.com</td>\n",
              "      <td>10.0</td>\n",
              "      <td>10.0</td>\n",
              "      <td>I just got a new Rant on Monday and hated it. ...</td>\n",
              "      <td>Firekraker77</td>\n",
              "      <td>LG Lotus</td>\n",
              "    </tr>\n",
              "    <tr>\n",
              "      <th>1209899</th>\n",
              "      <td>/cellphones/nokia-6110-41182/</td>\n",
              "      <td>11/7/2000</td>\n",
              "      <td>en</td>\n",
              "      <td>gb</td>\n",
              "      <td>Ciao</td>\n",
              "      <td>ciao.co.uk</td>\n",
              "      <td>10.0</td>\n",
              "      <td>10.0</td>\n",
              "      <td>This phone has a sleek and sexy look. Typicall...</td>\n",
              "      <td>pehchiong</td>\n",
              "      <td>Nokia 6110</td>\n",
              "    </tr>\n",
              "    <tr>\n",
              "      <th>417809</th>\n",
              "      <td>/cellphones/sony-xperia-z3-compact/</td>\n",
              "      <td>4/29/2015</td>\n",
              "      <td>fr</td>\n",
              "      <td>fr</td>\n",
              "      <td>Amazon</td>\n",
              "      <td>amazon.fr</td>\n",
              "      <td>10.0</td>\n",
              "      <td>10.0</td>\n",
              "      <td>tres bonne surprise ! Je ne risque pas de reto...</td>\n",
              "      <td>Ethan</td>\n",
              "      <td>Sony Mobile Xperia Z3 Compact Smartphone DÃ©bl...</td>\n",
              "    </tr>\n",
              "    <tr>\n",
              "      <th>538331</th>\n",
              "      <td>/cellphones/apple-iphone-5s/</td>\n",
              "      <td>12/13/2013</td>\n",
              "      <td>en</td>\n",
              "      <td>in</td>\n",
              "      <td>Amazon</td>\n",
              "      <td>amazon.in</td>\n",
              "      <td>8.0</td>\n",
              "      <td>10.0</td>\n",
              "      <td>many apps don't work like true caller is not l...</td>\n",
              "      <td>rishi jain</td>\n",
              "      <td>Apple iPhone 5s (Gold, 16GB)</td>\n",
              "    </tr>\n",
              "    <tr>\n",
              "      <th>1081147</th>\n",
              "      <td>/cellphones/lg-gt540/</td>\n",
              "      <td>11/16/2011</td>\n",
              "      <td>es</td>\n",
              "      <td>ar</td>\n",
              "      <td>MercadoLibre</td>\n",
              "      <td>opinion.mercadolibre.com.ar</td>\n",
              "      <td>10.0</td>\n",
              "      <td>10.0</td>\n",
              "      <td>El celular es bueno en toda forma ya que tiene...</td>\n",
              "      <td>CHUCHUGUA08</td>\n",
              "      <td>Lg Gt540</td>\n",
              "    </tr>\n",
              "    <tr>\n",
              "      <th>92039</th>\n",
              "      <td>/cellphones/samsung-galaxy-a5-2017/</td>\n",
              "      <td>2/21/2017</td>\n",
              "      <td>es</td>\n",
              "      <td>es</td>\n",
              "      <td>Amazon</td>\n",
              "      <td>amazon.es</td>\n",
              "      <td>10.0</td>\n",
              "      <td>10.0</td>\n",
              "      <td>Perfecto por ahora, rÃ¡pido, cÃ³modo y prÃ¡cti...</td>\n",
              "      <td>lidia</td>\n",
              "      <td>Samsung Galaxy A5 (2017) Smartphone 32 GB de M...</td>\n",
              "    </tr>\n",
              "  </tbody>\n",
              "</table>\n",
              "</div>"
            ],
            "text/plain": [
              "                                         phone_url        date lang country  \\\n",
              "1381066      /cellphones/samsung-mm-a700-sph-a700/   9/18/2004   en      us   \n",
              "159224                          /cellphones/lg-g5/    1/2/2017   en      us   \n",
              "166941   /cellphones/microsoft-lumia-640-dual-sim/   3/10/2016   ru      ru   \n",
              "340422              /cellphones/samsung-galaxy-s5/   5/24/2016   en      in   \n",
              "290110          /cellphones/samsung-galaxy-note-4/  11/13/2014   en      ca   \n",
              "1166492                     /cellphones/nokia-e71/   2/20/2009   en      us   \n",
              "264600                 /cellphones/apple-iphone-6/  11/13/2014   en      us   \n",
              "1275859                    /cellphones/nokia-6680/   1/21/2007   en      gb   \n",
              "416067         /cellphones/sony-xperia-z3-compact/  11/25/2014   en      gb   \n",
              "306382               /cellphones/acer-liquid-z630/  12/21/2015   fr      fr   \n",
              "1051626                  /cellphones/blu-vivo-air/   6/18/2015   en      us   \n",
              "988241                 /cellphones/apple-iphone-4/  11/29/2010   en      us   \n",
              "452919                 /cellphones/sony-xperia-z2/   7/17/2014   de      de   \n",
              "416939         /cellphones/sony-xperia-z3-compact/   3/29/2016   it      it   \n",
              "965310                      /cellphones/zte-blade/   4/16/2011   en      gb   \n",
              "1105330                      /cellphones/lg-vn250/   5/21/2010   en      us   \n",
              "346027              /cellphones/samsung-galaxy-s5/    7/6/2014   en      us   \n",
              "877530        /cellphones/samsung-galaxy-ace-plus/   1/11/2012   ru      ru   \n",
              "553182                /cellphones/nokia-lumia-530/   3/27/2015   pt      br   \n",
              "1163761                /cellphones/lg-lotus-lx600/   6/11/2009   en      us   \n",
              "1209899              /cellphones/nokia-6110-41182/   11/7/2000   en      gb   \n",
              "417809         /cellphones/sony-xperia-z3-compact/   4/29/2015   fr      fr   \n",
              "538331                /cellphones/apple-iphone-5s/  12/13/2013   en      in   \n",
              "1081147                      /cellphones/lg-gt540/  11/16/2011   es      ar   \n",
              "92039          /cellphones/samsung-galaxy-a5-2017/   2/21/2017   es      es   \n",
              "\n",
              "                   source                       domain  score  score_max  \\\n",
              "1381066       Phone Scoop               phonescoop.com    3.0       10.0   \n",
              "159224   Verizon Wireless          verizonwireless.com   10.0       10.0   \n",
              "166941             Yandex             market.yandex.ru    6.0       10.0   \n",
              "340422           Flipkart                 flipkart.com    8.0       10.0   \n",
              "290110             Amazon                    amazon.ca   10.0       10.0   \n",
              "1166492            Amazon                   amazon.com    4.0       10.0   \n",
              "264600             Amazon                   amazon.com    8.0       10.0   \n",
              "1275859            Amazon                 amazon.co.uk    8.0       10.0   \n",
              "416067             Amazon                 amazon.co.uk    6.0       10.0   \n",
              "306382             Amazon                    amazon.fr    2.0       10.0   \n",
              "1051626            Amazon                   amazon.com    6.0       10.0   \n",
              "988241             Amazon                   amazon.com    2.0       10.0   \n",
              "452919             Amazon                    amazon.de    2.0       10.0   \n",
              "416939             Amazon                    amazon.it   10.0       10.0   \n",
              "965310             Amazon                 amazon.co.uk    4.0       10.0   \n",
              "1105330            Amazon                   amazon.com   10.0       10.0   \n",
              "346027             Amazon                   amazon.com    8.0       10.0   \n",
              "877530             Yandex             market.yandex.ru    8.0       10.0   \n",
              "553182     Cissa Magazine         cissamagazine.com.br    NaN        NaN   \n",
              "1163761     HandCellPhone            handcellphone.com   10.0       10.0   \n",
              "1209899              Ciao                   ciao.co.uk   10.0       10.0   \n",
              "417809             Amazon                    amazon.fr   10.0       10.0   \n",
              "538331             Amazon                    amazon.in    8.0       10.0   \n",
              "1081147      MercadoLibre  opinion.mercadolibre.com.ar   10.0       10.0   \n",
              "92039              Amazon                    amazon.es   10.0       10.0   \n",
              "\n",
              "                                                   extract  \\\n",
              "1381066  Sprint missed the boat on the fundamentals wit...   \n",
              "159224   Just got this a couple of weeks ago, really ni...   \n",
              "166941   Ð¡ÑÐµÐ´Ð½Ð¸Ð¹ ÑÐ¼Ð°ÑÑÑÐ¾Ð½. ÐÐ· Ð¿Ð»ÑÑ...   \n",
              "340422   Good...reasonable. .original product of Samsun...   \n",
              "290110   Shipped very fast and came with everything you...   \n",
              "1166492  Phone arrived, and the initial looks of it wer...   \n",
              "264600   The phone was to my expectations and I was hap...   \n",
              "1275859  Its hot chrome packing slick phone albeit it b...   \n",
              "416067   I'd like to say this phone is great- and so mu...   \n",
              "306382   laissant un samsung s5 j'ai pris celui la car ...   \n",
              "1051626  The good: This phone is super thin. 5mm. Pick ...   \n",
              "988241   This item sucks the phone can not be activated...   \n",
              "452919   ich bin total begeistert, alles ist mÃ¶glich. ...   \n",
              "416939   Ho aspettato un mese prima di fare la recensio...   \n",
              "965310   my phone was fine fore a wil then one time whe...   \n",
              "1105330       Item was just what we ordered and very nice.   \n",
              "346027   Works well. Had to re-calibrate the touch-scre...   \n",
              "877530   ?????????? ?????????? ??????????, ???????????...   \n",
              "553182   celular Otimo produto celular nokia lumia 530 ...   \n",
              "1163761  I just got a new Rant on Monday and hated it. ...   \n",
              "1209899  This phone has a sleek and sexy look. Typicall...   \n",
              "417809   tres bonne surprise ! Je ne risque pas de reto...   \n",
              "538331   many apps don't work like true caller is not l...   \n",
              "1081147  El celular es bueno en toda forma ya que tiene...   \n",
              "92039    Perfecto por ahora, rÃ¡pido, cÃ³modo y prÃ¡cti...   \n",
              "\n",
              "                                   author  \\\n",
              "1381066                        GrandWazoo   \n",
              "159224                             Hunts1   \n",
              "166941                                NaN   \n",
              "340422                   Sandeep Kumar...   \n",
              "290110                        mike hawdon   \n",
              "1166492  The mother of all prduct reviews   \n",
              "264600                    Amazon Customer   \n",
              "1275859                   Amazon Customer   \n",
              "416067                           Jsphstry   \n",
              "306382                    Client d'Amazon   \n",
              "1051626                           No Name   \n",
              "988241                    barbra willimas   \n",
              "452919                   Magrit Tamborini   \n",
              "416939                        M. Carolina   \n",
              "965310                            fafduck   \n",
              "1105330                              duke   \n",
              "346027                             Steven   \n",
              "877530                         madday1981   \n",
              "553182                         ALEX kraus   \n",
              "1163761                      Firekraker77   \n",
              "1209899                         pehchiong   \n",
              "417809                              Ethan   \n",
              "538331                         rishi jain   \n",
              "1081147                       CHUCHUGUA08   \n",
              "92039                               lidia   \n",
              "\n",
              "                                                   product  \n",
              "1381066                                 MM-A700 / SPH-A700  \n",
              "159224                                               LG G5  \n",
              "166941                     Microsoft Lumia 640 3G Dual Sim  \n",
              "340422              SAMSUNG Galaxy S5 (Copper Gold, 16 GB)  \n",
              "290110   Tech Armor Galaxy Note 4 Screen Protector, Tec...  \n",
              "1166492  Nokia E71x Unlocked Phone with QWERTY Keyboard...  \n",
              "264600   Apple iPhone 6 16GB Factory Unlocked GSM 4G LT...  \n",
              "1275859                              Nokia 6680 Smartphone  \n",
              "416067   Sony Xperia Z3 Compact UK SIM-Free Smartphone ...  \n",
              "306382   Acer Liquid Z630 Smartphone dÃ©bloquÃ© 4G (Ecr...  \n",
              "1051626       BLU Vivo Air Unlocked Cellphone, 16GB, Black  \n",
              "988241   Apple Iphone 4 - 8gb Sprint (CDMA) White, Smar...  \n",
              "452919   Sony Xperia Z2 Smartphone (5,2 Zoll (13,2 cm) ...  \n",
              "416939   Sony Xperia Z3 Compact Smartphone, Display 4,6...  \n",
              "965310   Orange San Francisco / Android / Mobile Phone ...  \n",
              "1105330  LG Cosmos VN250 Black No Contract No Data Veri...  \n",
              "346027   Samsung Galaxy S5 SM-G900T -16GB Black (T-Mobile)  \n",
              "877530                    Samsung Galaxy Ace Plus GT-S7500  \n",
              "553182   Smartphone Nokia Lumia 530 Dual Desbloqueado B...  \n",
              "1163761                                           LG Lotus  \n",
              "1209899                                         Nokia 6110  \n",
              "417809   Sony Mobile Xperia Z3 Compact Smartphone DÃ©bl...  \n",
              "538331                        Apple iPhone 5s (Gold, 16GB)  \n",
              "1081147                                           Lg Gt540  \n",
              "92039    Samsung Galaxy A5 (2017) Smartphone 32 GB de M...  "
            ]
          },
          "metadata": {
            "tags": []
          },
          "execution_count": 191
        }
      ]
    },
    {
      "cell_type": "markdown",
      "metadata": {
        "id": "yn2Oyj2OvgT8"
      },
      "source": [
        "##### formating the phone url Columns"
      ]
    },
    {
      "cell_type": "code",
      "metadata": {
        "colab": {
          "base_uri": "https://localhost:8080/"
        },
        "id": "UznFNh4rqlN2",
        "outputId": "fdb68203-385e-4535-881b-7fdf52d58889"
      },
      "source": [
        "# formating the phone url Columns\r\n",
        "\r\n",
        "# Check is all the rows starts with \"cellphones\"\r\n",
        "print(data_analysis['phone_url'].str.startswith('/cellphones/').value_counts() )\r\n",
        "data_analysis['phone_url'] = data_analysis['phone_url'].str.replace('/cellphones/','')\r\n",
        "data_analysis['phone_url'] = data_analysis['phone_url'].str[:-1]\r\n",
        "data_analysis['phone_url'].value_counts()"
      ],
      "execution_count": 192,
      "outputs": [
        {
          "output_type": "stream",
          "text": [
            "True    1415133\n",
            "Name: phone_url, dtype: int64\n"
          ],
          "name": "stdout"
        },
        {
          "output_type": "execute_result",
          "data": {
            "text/plain": [
              "samsung-galaxy-s-iii         17093\n",
              "apple-iphone-5s              16379\n",
              "samsung-galaxy-s6            16145\n",
              "samsung-galaxy-s5            16082\n",
              "samsung-galaxy-s7-edge       15917\n",
              "                             ...  \n",
              "samsung-corby-tv-sch-f339        1\n",
              "samsung-chrono-2                 1\n",
              "siemens-cl55                     1\n",
              "verykool-s400                    1\n",
              "blackberry-6280                  1\n",
              "Name: phone_url, Length: 5556, dtype: int64"
            ]
          },
          "metadata": {
            "tags": []
          },
          "execution_count": 192
        }
      ]
    },
    {
      "cell_type": "markdown",
      "metadata": {
        "id": "GiacvrQYvjuy"
      },
      "source": [
        "##### Analysis the Column \"author\" "
      ]
    },
    {
      "cell_type": "code",
      "metadata": {
        "colab": {
          "base_uri": "https://localhost:8080/"
        },
        "id": "PSz4FQJyvt1s",
        "outputId": "923a81ee-0ac4-4fcf-f7e9-4a20f565acb0"
      },
      "source": [
        "#pd.set_option('display.max_rows', None)\r\n",
        "print(\"Not of observation with empty - \",data_analysis[\"author\"].isna().sum())\r\n",
        "print(\"Not of observation with empty % - \",(data_analysis[\"author\"].isna().sum() / data_analysis.shape[0])*100) "
      ],
      "execution_count": 193,
      "outputs": [
        {
          "output_type": "stream",
          "text": [
            "Not of observation with empty -  63202\n",
            "Not of observation with empty % -  4.466152651376231\n"
          ],
          "name": "stdout"
        }
      ]
    },
    {
      "cell_type": "markdown",
      "metadata": {
        "id": "R05PxjSG-JmW"
      },
      "source": [
        "Since only 1000000 are request for analysis, removing the observation where author names are empty\r\n",
        "\r\n",
        "\r\n",
        "\r\n",
        "\r\n",
        "\r\n",
        " "
      ]
    },
    {
      "cell_type": "code",
      "metadata": {
        "id": "AYv9_HTw-ojf",
        "outputId": "3e446826-84ac-4963-c9fa-2000745546e6",
        "colab": {
          "base_uri": "https://localhost:8080/"
        }
      },
      "source": [
        "\r\n",
        "data_analysis.dropna(subset=[\"author\"],inplace=True)\r\n",
        "data_analysis.isna().sum()"
      ],
      "execution_count": 194,
      "outputs": [
        {
          "output_type": "execute_result",
          "data": {
            "text/plain": [
              "phone_url        0\n",
              "date             0\n",
              "lang             0\n",
              "country          0\n",
              "source           0\n",
              "domain           0\n",
              "score        60893\n",
              "score_max    60893\n",
              "extract      15515\n",
              "author           0\n",
              "product          0\n",
              "dtype: int64"
            ]
          },
          "metadata": {
            "tags": []
          },
          "execution_count": 194
        }
      ]
    },
    {
      "cell_type": "markdown",
      "metadata": {
        "id": "XX-qEPS9CEO7"
      },
      "source": [
        "##### Analysis the Column \"Score and score_max\""
      ]
    },
    {
      "cell_type": "code",
      "metadata": {
        "id": "jNbpqCvp_OsW"
      },
      "source": [
        "##### Analysis the Column \"Score and score_max\""
      ],
      "execution_count": 195,
      "outputs": []
    },
    {
      "cell_type": "code",
      "metadata": {
        "id": "eWi9mu2d_aL-",
        "outputId": "14a28e3e-3f9a-43d3-cbc0-e001d8396d5b",
        "colab": {
          "base_uri": "https://localhost:8080/"
        }
      },
      "source": [
        "print(\"Not of observation with empty - \",data_analysis[\"score\"].isna().sum())\r\n",
        "print(\"Not of observation with empty % - \",(data_analysis[\"score\"].isna().sum() / data_analysis.shape[0])*100) "
      ],
      "execution_count": 196,
      "outputs": [
        {
          "output_type": "stream",
          "text": [
            "Not of observation with empty -  60893\n",
            "Not of observation with empty % -  4.504149989903331\n"
          ],
          "name": "stdout"
        }
      ]
    },
    {
      "cell_type": "markdown",
      "metadata": {
        "id": "7ROewgA5_1Xr"
      },
      "source": [
        "Since only 1000000 are request for analysis, removing the observation where score names are empty"
      ]
    },
    {
      "cell_type": "code",
      "metadata": {
        "id": "V4I-W5AXCOnz",
        "outputId": "caeab92a-a1f0-442d-b4d2-a44a48adaf80",
        "colab": {
          "base_uri": "https://localhost:8080/"
        }
      },
      "source": [
        "data_analysis.dropna(subset=[\"score\"],inplace=True)\r\n",
        "data_analysis.isna().sum()"
      ],
      "execution_count": 197,
      "outputs": [
        {
          "output_type": "execute_result",
          "data": {
            "text/plain": [
              "phone_url        0\n",
              "date             0\n",
              "lang             0\n",
              "country          0\n",
              "source           0\n",
              "domain           0\n",
              "score            0\n",
              "score_max        0\n",
              "extract      15121\n",
              "author           0\n",
              "product          0\n",
              "dtype: int64"
            ]
          },
          "metadata": {
            "tags": []
          },
          "execution_count": 197
        }
      ]
    },
    {
      "cell_type": "code",
      "metadata": {
        "id": "-ReE97_fIrk3",
        "outputId": "8ca00758-aad1-454e-a9b9-fe75bc323c81",
        "colab": {
          "base_uri": "https://localhost:8080/"
        }
      },
      "source": [
        "# is there any observation with score greater than max score ?\r\n",
        "data_analysis.query(\"score > score_max\").count().sum()\r\n"
      ],
      "execution_count": 198,
      "outputs": [
        {
          "output_type": "execute_result",
          "data": {
            "text/plain": [
              "0"
            ]
          },
          "metadata": {
            "tags": []
          },
          "execution_count": 198
        }
      ]
    },
    {
      "cell_type": "markdown",
      "metadata": {
        "id": "kXWXyWDeJG7L"
      },
      "source": [
        " - is there any observation with score greater than max score ? -NO"
      ]
    },
    {
      "cell_type": "markdown",
      "metadata": {
        "id": "hNysS8gCB9pP"
      },
      "source": [
        "###### Round off scores to the nearest integers\r\n",
        "\r\n"
      ]
    },
    {
      "cell_type": "code",
      "metadata": {
        "id": "9zd1ffKWB145",
        "outputId": "714e1b08-e7be-47eb-a09d-6de39ab176c0",
        "colab": {
          "base_uri": "https://localhost:8080/"
        }
      },
      "source": [
        "data_analysis[\"score_round\"] = np.rint(data_analysis[\"score\"])\r\n",
        "data_analysis[\"score_round\"].unique()"
      ],
      "execution_count": 199,
      "outputs": [
        {
          "output_type": "execute_result",
          "data": {
            "text/plain": [
              "array([10.,  6.,  9.,  4.,  8.,  2.,  7.,  5.,  3.,  1.,  0.])"
            ]
          },
          "metadata": {
            "tags": []
          },
          "execution_count": 199
        }
      ]
    },
    {
      "cell_type": "code",
      "metadata": {
        "id": "7Tt_01lQXXHT",
        "outputId": "0d3a4f87-079d-42f0-d5ae-43aa92df7190",
        "colab": {
          "base_uri": "https://localhost:8080/"
        }
      },
      "source": [
        "# is the scoring is done on same scale  ( 1 -10) ?  \r\n",
        "data_analysis[\"score_max\"].value_counts()"
      ],
      "execution_count": 200,
      "outputs": [
        {
          "output_type": "execute_result",
          "data": {
            "text/plain": [
              "10.0    1291038\n",
              "Name: score_max, dtype: int64"
            ]
          },
          "metadata": {
            "tags": []
          },
          "execution_count": 200
        }
      ]
    },
    {
      "cell_type": "markdown",
      "metadata": {
        "id": "5gR1RsR_XpGS"
      },
      "source": [
        "- is the scoring is done on same scale  ( 1 -10) ?  - YES"
      ]
    },
    {
      "cell_type": "markdown",
      "metadata": {
        "id": "ERwdItUzBFgq"
      },
      "source": [
        "##### Dropping irrelevant features & removing duplicate columns"
      ]
    },
    {
      "cell_type": "code",
      "metadata": {
        "id": "IXqAKh-HEm7n",
        "outputId": "cbc599ad-4aa9-4cb5-b32a-61d367fda781",
        "colab": {
          "base_uri": "https://localhost:8080/"
        }
      },
      "source": [
        "# Removing the duplicate rows - when phone_url,author & score are same\r\n",
        "rows_with_duplicate = int(data_analysis.shape[0])\r\n",
        "\r\n",
        "print(\"# of Observations - \",rows_with_duplicate)\r\n",
        "data_analysis.drop_duplicates(subset=['phone_url','author','score'],keep='first',inplace=True)\r\n",
        "\r\n",
        "rows_without_duplicate = int(data_analysis.shape[0])\r\n",
        "print(\"# of Observations after removing duplicate - \",rows_without_duplicate)\r\n",
        "\r\n",
        "print(\"% of rows duplicated rows removed - \" , ((rows_with_duplicate - rows_without_duplicate)/rows_with_duplicate)*100)"
      ],
      "execution_count": 201,
      "outputs": [
        {
          "output_type": "stream",
          "text": [
            "# of Observations -  1291038\n",
            "# of Observations after removing duplicate -  1114575\n",
            "% of rows duplicated rows removed -  13.668304108786883\n"
          ],
          "name": "stdout"
        }
      ]
    },
    {
      "cell_type": "markdown",
      "metadata": {
        "id": "7OhzCtKsZQYA"
      },
      "source": [
        "- 13% duplicated rows have been removed , it's OK since only 10L rows are to be considered for the analysis. "
      ]
    },
    {
      "cell_type": "code",
      "metadata": {
        "id": "QSSmTxDbbEAg",
        "outputId": "1f2e5b25-9ccb-46bb-a141-60f559531fa5",
        "colab": {
          "base_uri": "https://localhost:8080/",
          "height": 202
        }
      },
      "source": [
        "# 'phone_url','author','score' are considered for the analysis on other rows are removed.\r\n",
        "data_analysis = data_analysis[['phone_url','author','score']]\r\n",
        "data_analysis.head()"
      ],
      "execution_count": 202,
      "outputs": [
        {
          "output_type": "execute_result",
          "data": {
            "text/html": [
              "<div>\n",
              "<style scoped>\n",
              "    .dataframe tbody tr th:only-of-type {\n",
              "        vertical-align: middle;\n",
              "    }\n",
              "\n",
              "    .dataframe tbody tr th {\n",
              "        vertical-align: top;\n",
              "    }\n",
              "\n",
              "    .dataframe thead th {\n",
              "        text-align: right;\n",
              "    }\n",
              "</style>\n",
              "<table border=\"1\" class=\"dataframe\">\n",
              "  <thead>\n",
              "    <tr style=\"text-align: right;\">\n",
              "      <th></th>\n",
              "      <th>phone_url</th>\n",
              "      <th>author</th>\n",
              "      <th>score</th>\n",
              "    </tr>\n",
              "  </thead>\n",
              "  <tbody>\n",
              "    <tr>\n",
              "      <th>0</th>\n",
              "      <td>samsung-galaxy-s8</td>\n",
              "      <td>CarolAnn35</td>\n",
              "      <td>10.0</td>\n",
              "    </tr>\n",
              "    <tr>\n",
              "      <th>1</th>\n",
              "      <td>samsung-galaxy-s8</td>\n",
              "      <td>james0923</td>\n",
              "      <td>10.0</td>\n",
              "    </tr>\n",
              "    <tr>\n",
              "      <th>2</th>\n",
              "      <td>samsung-galaxy-s8</td>\n",
              "      <td>R. Craig</td>\n",
              "      <td>6.0</td>\n",
              "    </tr>\n",
              "    <tr>\n",
              "      <th>3</th>\n",
              "      <td>samsung-galaxy-s8</td>\n",
              "      <td>Buster2020</td>\n",
              "      <td>9.2</td>\n",
              "    </tr>\n",
              "    <tr>\n",
              "      <th>4</th>\n",
              "      <td>samsung-galaxy-s8</td>\n",
              "      <td>S Ate Mine</td>\n",
              "      <td>4.0</td>\n",
              "    </tr>\n",
              "  </tbody>\n",
              "</table>\n",
              "</div>"
            ],
            "text/plain": [
              "           phone_url       author  score\n",
              "0  samsung-galaxy-s8   CarolAnn35   10.0\n",
              "1  samsung-galaxy-s8    james0923   10.0\n",
              "2  samsung-galaxy-s8     R. Craig    6.0\n",
              "3  samsung-galaxy-s8  Buster2020     9.2\n",
              "4  samsung-galaxy-s8   S Ate Mine    4.0"
            ]
          },
          "metadata": {
            "tags": []
          },
          "execution_count": 202
        }
      ]
    },
    {
      "cell_type": "markdown",
      "metadata": {
        "id": "W8b7DZgIcASD"
      },
      "source": [
        "##### Sampling 1000000 rows"
      ]
    },
    {
      "cell_type": "code",
      "metadata": {
        "id": "TWu9l3rPcAE1",
        "outputId": "307ef4ed-3836-4662-9040-e0da1f78556c",
        "colab": {
          "base_uri": "https://localhost:8080/"
        }
      },
      "source": [
        "data_analysis = data_analysis.sample(n=1000000,random_state=612)\r\n",
        "print(\"Check the shape \", data_analysis.shape)\r\n",
        "print(\" missing values \", data_analysis.isna().sum().sum())"
      ],
      "execution_count": 203,
      "outputs": [
        {
          "output_type": "stream",
          "text": [
            "Check the shape  (1000000, 3)\n",
            " missing values  0\n"
          ],
          "name": "stdout"
        }
      ]
    },
    {
      "cell_type": "markdown",
      "metadata": {
        "id": "ZBNJ9JT0egc7"
      },
      "source": [
        "### 2) Answer the following questions \r\n",
        "\r\n",
        "1.   Identify the most rated features\r\n",
        "2.   Identify the users with most number of reviews.\r\n",
        "3.   Select the data with products having more than 50 ratings and users who have given more than 50 ratings. Report the shape of the final\r\n",
        "dataset"
      ]
    },
    {
      "cell_type": "markdown",
      "metadata": {
        "id": "7YLtYfD8rblN"
      },
      "source": [
        "##### Selecting products with 50 rating and "
      ]
    },
    {
      "cell_type": "code",
      "metadata": {
        "id": "BvhpngFbksBQ",
        "outputId": "e7c86916-b7e1-4234-e110-c346ae93529b",
        "colab": {
          "base_uri": "https://localhost:8080/",
          "height": 233
        }
      },
      "source": [
        "data_groupby_phone = data_analysis.groupby(by=\"phone_url\").count()\r\n",
        "data_groupby_phone = data_groupby_phone.query(\"author > 50 & score > 50 \").sort_values(by=['author','score'],ascending=False)\r\n",
        "data_groupby_phone.head()"
      ],
      "execution_count": 205,
      "outputs": [
        {
          "output_type": "execute_result",
          "data": {
            "text/html": [
              "<div>\n",
              "<style scoped>\n",
              "    .dataframe tbody tr th:only-of-type {\n",
              "        vertical-align: middle;\n",
              "    }\n",
              "\n",
              "    .dataframe tbody tr th {\n",
              "        vertical-align: top;\n",
              "    }\n",
              "\n",
              "    .dataframe thead th {\n",
              "        text-align: right;\n",
              "    }\n",
              "</style>\n",
              "<table border=\"1\" class=\"dataframe\">\n",
              "  <thead>\n",
              "    <tr style=\"text-align: right;\">\n",
              "      <th></th>\n",
              "      <th>author</th>\n",
              "      <th>score</th>\n",
              "    </tr>\n",
              "    <tr>\n",
              "      <th>phone_url</th>\n",
              "      <th></th>\n",
              "      <th></th>\n",
              "    </tr>\n",
              "  </thead>\n",
              "  <tbody>\n",
              "    <tr>\n",
              "      <th>samsung-galaxy-s5</th>\n",
              "      <td>11758</td>\n",
              "      <td>11758</td>\n",
              "    </tr>\n",
              "    <tr>\n",
              "      <th>samsung-galaxy-s6</th>\n",
              "      <td>11421</td>\n",
              "      <td>11421</td>\n",
              "    </tr>\n",
              "    <tr>\n",
              "      <th>motorola-moto-g</th>\n",
              "      <td>10755</td>\n",
              "      <td>10755</td>\n",
              "    </tr>\n",
              "    <tr>\n",
              "      <th>samsung-galaxy-s7-edge</th>\n",
              "      <td>10714</td>\n",
              "      <td>10714</td>\n",
              "    </tr>\n",
              "    <tr>\n",
              "      <th>apple-iphone-5s</th>\n",
              "      <td>10537</td>\n",
              "      <td>10537</td>\n",
              "    </tr>\n",
              "  </tbody>\n",
              "</table>\n",
              "</div>"
            ],
            "text/plain": [
              "                        author  score\n",
              "phone_url                            \n",
              "samsung-galaxy-s5        11758  11758\n",
              "samsung-galaxy-s6        11421  11421\n",
              "motorola-moto-g          10755  10755\n",
              "samsung-galaxy-s7-edge   10714  10714\n",
              "apple-iphone-5s          10537  10537"
            ]
          },
          "metadata": {
            "tags": []
          },
          "execution_count": 205
        }
      ]
    },
    {
      "cell_type": "code",
      "metadata": {
        "id": "467zuh_uqKuJ",
        "outputId": "4c411237-e7e0-4163-b5d7-09685e0c3f51",
        "colab": {
          "base_uri": "https://localhost:8080/"
        }
      },
      "source": [
        "data_analysis = data_analysis[data_analysis[\"phone_url\"].isin(data_groupby_phone.index)]\r\n",
        "data_analysis.shape"
      ],
      "execution_count": 212,
      "outputs": [
        {
          "output_type": "execute_result",
          "data": {
            "text/plain": [
              "(950014, 3)"
            ]
          },
          "metadata": {
            "tags": []
          },
          "execution_count": 212
        }
      ]
    },
    {
      "cell_type": "markdown",
      "metadata": {
        "id": "18eEqEeMrPTR"
      },
      "source": [
        "- 950014 observation selected further anaysis"
      ]
    },
    {
      "cell_type": "code",
      "metadata": {
        "id": "7A0gxXGDrEOL"
      },
      "source": [
        ""
      ],
      "execution_count": null,
      "outputs": []
    }
  ]
}