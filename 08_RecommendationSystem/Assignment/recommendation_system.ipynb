{
  "nbformat": 4,
  "nbformat_minor": 0,
  "metadata": {
    "colab": {
      "name": "recommendation_system.ipynb",
      "provenance": [],
      "toc_visible": true,
      "mount_file_id": "https://github.com/baalasangar/MLAI/blob/master/08_RecommendationSystem/Assignment/recommendation_system.ipynb",
      "authorship_tag": "ABX9TyMWOxrCas6CllI7RE0ZqvQ4",
      "include_colab_link": true
    },
    "kernelspec": {
      "name": "python3",
      "display_name": "Python 3"
    }
  },
  "cells": [
    {
      "cell_type": "markdown",
      "metadata": {
        "id": "view-in-github",
        "colab_type": "text"
      },
      "source": [
        "<a href=\"https://colab.research.google.com/github/baalasangar/MLAI/blob/master/08_RecommendationSystem/Assignment/recommendation_system.ipynb\" target=\"_parent\"><img src=\"https://colab.research.google.com/assets/colab-badge.svg\" alt=\"Open In Colab\"/></a>"
      ]
    },
    {
      "cell_type": "code",
      "metadata": {
        "id": "lSBZO8m3BP5i",
        "outputId": "2a4c63b4-f359-4677-be25-75e7c7338dae",
        "colab": {
          "base_uri": "https://localhost:8080/"
        }
      },
      "source": [
        "!pip install surprise"
      ],
      "execution_count": 2,
      "outputs": [
        {
          "output_type": "stream",
          "text": [
            "Collecting surprise\n",
            "  Downloading https://files.pythonhosted.org/packages/61/de/e5cba8682201fcf9c3719a6fdda95693468ed061945493dea2dd37c5618b/surprise-0.1-py2.py3-none-any.whl\n",
            "Collecting scikit-surprise\n",
            "\u001b[?25l  Downloading https://files.pythonhosted.org/packages/97/37/5d334adaf5ddd65da99fc65f6507e0e4599d092ba048f4302fe8775619e8/scikit-surprise-1.1.1.tar.gz (11.8MB)\n",
            "\u001b[K     |████████████████████████████████| 11.8MB 11.7MB/s \n",
            "\u001b[?25hRequirement already satisfied: joblib>=0.11 in /usr/local/lib/python3.6/dist-packages (from scikit-surprise->surprise) (1.0.0)\n",
            "Requirement already satisfied: numpy>=1.11.2 in /usr/local/lib/python3.6/dist-packages (from scikit-surprise->surprise) (1.19.5)\n",
            "Requirement already satisfied: scipy>=1.0.0 in /usr/local/lib/python3.6/dist-packages (from scikit-surprise->surprise) (1.4.1)\n",
            "Requirement already satisfied: six>=1.10.0 in /usr/local/lib/python3.6/dist-packages (from scikit-surprise->surprise) (1.15.0)\n",
            "Building wheels for collected packages: scikit-surprise\n",
            "  Building wheel for scikit-surprise (setup.py) ... \u001b[?25l\u001b[?25hdone\n",
            "  Created wheel for scikit-surprise: filename=scikit_surprise-1.1.1-cp36-cp36m-linux_x86_64.whl size=1618277 sha256=86d76329c0d465b547171b51e90e9b8c35460ec596f81298a31ce9728e881830\n",
            "  Stored in directory: /root/.cache/pip/wheels/78/9c/3d/41b419c9d2aff5b6e2b4c0fc8d25c538202834058f9ed110d0\n",
            "Successfully built scikit-surprise\n",
            "Installing collected packages: scikit-surprise, surprise\n",
            "Successfully installed scikit-surprise-1.1.1 surprise-0.1\n"
          ],
          "name": "stdout"
        }
      ]
    },
    {
      "cell_type": "markdown",
      "metadata": {
        "id": "J4b0H68Uwo1R"
      },
      "source": [
        "\r\n",
        "#### 1) Importing Liberaries & reading all data\r\n",
        "\r\n",
        "\r\n",
        "\r\n"
      ]
    },
    {
      "cell_type": "code",
      "metadata": {
        "id": "z1EiYh-7wtxk"
      },
      "source": [
        "import pandas as pd \r\n",
        "pd.set_option('display.max_columns', None)\r\n",
        "\r\n",
        "import numpy as np\r\n",
        "import seaborn as sns\r\n",
        "import statsmodels.api as sm\r\n",
        "import matplotlib.pyplot as plt\r\n",
        "#%matplotlib inline\r\n",
        "sns.set(style=\"whitegrid\")\r\n",
        "\r\n",
        "from surprise import Dataset\r\n",
        "from surprise import SVD\r\n",
        "from surprise.model_selection.search import GridSearchCV \r\n",
        "from surprise.reader import Reader\r\n",
        "from surprise.model_selection import train_test_split\r\n",
        "from surprise.model_selection.split import KFold \r\n",
        "import surprise.accuracy as accuracy\r\n",
        "from surprise.model_selection.validation import cross_validate\r\n",
        "import random\r\n",
        "\r\n",
        "from collections import defaultdict\r\n",
        "\r\n",
        "\r\n"
      ],
      "execution_count": 42,
      "outputs": []
    },
    {
      "cell_type": "code",
      "metadata": {
        "id": "YQtPY-mTw5ub"
      },
      "source": [
        "data_rev1 = pd.read_csv(\"/content/drive/MyDrive/Colab Notebooks/Greatelearning/RecommendationSys/phone_user_review_file_1.csv\",encoding='latin-1')\r\n",
        "data_rev2 = pd.read_csv(\"/content/drive/MyDrive/Colab Notebooks/Greatelearning/RecommendationSys/phone_user_review_file_2.csv\",encoding='latin-1')\r\n",
        "data_rev3 = pd.read_csv(\"/content/drive/MyDrive/Colab Notebooks/Greatelearning/RecommendationSys/phone_user_review_file_3.csv\",encoding='latin-1')\r\n",
        "data_rev4 = pd.read_csv(\"/content/drive/MyDrive/Colab Notebooks/Greatelearning/RecommendationSys/phone_user_review_file_4.csv\",encoding='latin-1')\r\n",
        "data_rev5 = pd.read_csv(\"/content/drive/MyDrive/Colab Notebooks/Greatelearning/RecommendationSys/phone_user_review_file_5.csv\",encoding='latin-1')\r\n",
        "data_rev6 = pd.read_csv(\"/content/drive/MyDrive/Colab Notebooks/Greatelearning/RecommendationSys/phone_user_review_file_6.csv\",encoding='latin-1')\r\n",
        "\r\n"
      ],
      "execution_count": 4,
      "outputs": []
    },
    {
      "cell_type": "code",
      "metadata": {
        "id": "FamECQZzx8J4",
        "colab": {
          "base_uri": "https://localhost:8080/"
        },
        "outputId": "62db8b0e-f7d4-4cd1-c1ee-a57c58fcf958"
      },
      "source": [
        "# Check the Details for the data\r\n",
        "data_list = [data_rev1,data_rev2,data_rev3,data_rev4,data_rev5,data_rev6]\r\n",
        "for data_object in data_list:\r\n",
        "  print(data_object.columns)\r\n",
        "  print(data_object.head())"
      ],
      "execution_count": 5,
      "outputs": [
        {
          "output_type": "stream",
          "text": [
            "Index(['phone_url', 'date', 'lang', 'country', 'source', 'domain', 'score',\n",
            "       'score_max', 'extract', 'author', 'product'],\n",
            "      dtype='object')\n",
            "                        phone_url       date lang country            source  \\\n",
            "0  /cellphones/samsung-galaxy-s8/   5/2/2017   en      us  Verizon Wireless   \n",
            "1  /cellphones/samsung-galaxy-s8/  4/28/2017   en      us       Phone Arena   \n",
            "2  /cellphones/samsung-galaxy-s8/   5/4/2017   en      us            Amazon   \n",
            "3  /cellphones/samsung-galaxy-s8/   5/2/2017   en      us           Samsung   \n",
            "4  /cellphones/samsung-galaxy-s8/  5/11/2017   en      us  Verizon Wireless   \n",
            "\n",
            "                domain  score  score_max  \\\n",
            "0  verizonwireless.com   10.0       10.0   \n",
            "1       phonearena.com   10.0       10.0   \n",
            "2           amazon.com    6.0       10.0   \n",
            "3          samsung.com    9.2       10.0   \n",
            "4  verizonwireless.com    4.0       10.0   \n",
            "\n",
            "                                             extract       author  \\\n",
            "0  As a diehard Samsung fan who has had every Sam...   CarolAnn35   \n",
            "1  Love the phone. the phone is sleek and smooth ...    james0923   \n",
            "2  Adequate feel. Nice heft. Processor's still sl...     R. Craig   \n",
            "3  Never disappointed. One of the reasons I've be...  Buster2020    \n",
            "4  I've now found that i'm in a group of people t...   S Ate Mine   \n",
            "\n",
            "                                             product  \n",
            "0                                  Samsung Galaxy S8  \n",
            "1                                  Samsung Galaxy S8  \n",
            "2  Samsung Galaxy S8 (64GB) G950U 5.8\" 4G LTE Unl...  \n",
            "3                      Samsung Galaxy S8 64GB (AT&T)  \n",
            "4                                  Samsung Galaxy S8  \n",
            "Index(['phone_url', 'date', 'lang', 'country', 'source', 'domain', 'score',\n",
            "       'score_max', 'extract', 'author', 'product'],\n",
            "      dtype='object')\n",
            "                    phone_url       date lang country  source        domain  \\\n",
            "0  /cellphones/leagoo-lead-7/  4/15/2015   en      us  Amazon    amazon.com   \n",
            "1  /cellphones/leagoo-lead-7/  5/23/2015   en      gb  Amazon  amazon.co.uk   \n",
            "2  /cellphones/leagoo-lead-7/  4/27/2015   en      gb  Amazon  amazon.co.uk   \n",
            "3  /cellphones/leagoo-lead-7/  4/22/2015   en      gb  Amazon  amazon.co.uk   \n",
            "4  /cellphones/leagoo-lead-7/  4/18/2015   en      gb  Amazon  amazon.co.uk   \n",
            "\n",
            "   score  score_max                                            extract  \\\n",
            "0    2.0       10.0  The telephone headset is of poor quality , not...   \n",
            "1   10.0       10.0  This is my first smartphone so I have nothing ...   \n",
            "2    8.0       10.0  Great phone. Battery life not great but seems ...   \n",
            "3   10.0       10.0      Best 90 quid I've ever spent on a smart phone   \n",
            "4   10.0       10.0  I m happy with this phone.it s very good.thx team   \n",
            "\n",
            "          author                                            product  \n",
            "0           luis  Leagoo Lead7 5.0 Inch HD JDI LTPS Screen 3G Sm...  \n",
            "1     Mark Lavin  Leagoo Lead 7 Lead7 MTK6582 Quad core 1GB RAM ...  \n",
            "2         tracey  Leagoo Lead 7 Lead7 MTK6582 Quad core 1GB RAM ...  \n",
            "3  Reuben Ingram  Leagoo Lead 7 Lead7 MTK6582 Quad core 1GB RAM ...  \n",
            "4         viorel  Leagoo Lead 7 Lead7 MTK6582 Quad core 1GB RAM ...  \n",
            "Index(['phone_url', 'date', 'lang', 'country', 'source', 'domain', 'score',\n",
            "       'score_max', 'extract', 'author', 'product'],\n",
            "      dtype='object')\n",
            "                                         phone_url       date lang country  \\\n",
            "0  /cellphones/samsung-galaxy-s-iii-slim-sm-g3812/  11/7/2015   pt      br   \n",
            "1  /cellphones/samsung-galaxy-s-iii-slim-sm-g3812/  10/2/2015   pt      br   \n",
            "2  /cellphones/samsung-galaxy-s-iii-slim-sm-g3812/   9/2/2015   pt      br   \n",
            "3  /cellphones/samsung-galaxy-s-iii-slim-sm-g3812/   9/2/2015   pt      br   \n",
            "4  /cellphones/samsung-galaxy-s-iii-slim-sm-g3812/   9/1/2015   pt      br   \n",
            "\n",
            "      source            domain  score  score_max  \\\n",
            "0  Submarino  submarino.com.br    6.0       10.0   \n",
            "1  Submarino  submarino.com.br   10.0       10.0   \n",
            "2  Submarino  submarino.com.br   10.0       10.0   \n",
            "3  Submarino  submarino.com.br    8.0       10.0   \n",
            "4    Colombo    colombo.com.br    8.0       10.0   \n",
            "\n",
            "                                             extract  \\\n",
            "0  recomendo, eu comprei um, a um ano, e agora co...   \n",
            "1  Comprei um pouco desconfiada do site e do celu...   \n",
            "2  Muito bom o produto, obvio que tem versÃµes me...   \n",
            "3  Unica ressalva fica para a camera que poderia ...   \n",
            "4  Rapidez e atenÃ§Ã£o na entrega. O aparelho Ã© ...   \n",
            "\n",
            "                           author  \\\n",
            "0                herlington tesch   \n",
            "1             Luisa Silva Marieta   \n",
            "2                           Cyrus   \n",
            "3       Marcela Santa Clara Brito   \n",
            "4  Claudine Maria Kuhn Walendorff   \n",
            "\n",
            "                                             product  \n",
            "0  Samsung Smartphone Samsung Galaxy S3 Slim G381...  \n",
            "1  Samsung Smartphone Samsung Galaxy S3 Slim G381...  \n",
            "2  Samsung Smartphone Samsung Galaxy S3 Slim G381...  \n",
            "3  Samsung Smartphone Samsung Galaxy S3 Slim G381...  \n",
            "4  Smartphone Samsung Galaxy S3 Slim, Dual Chip, ...  \n",
            "Index(['phone_url', 'date', 'lang', 'country', 'source', 'domain', 'score',\n",
            "       'score_max', 'extract', 'author', 'product'],\n",
            "      dtype='object')\n",
            "                                    phone_url        date lang country  \\\n",
            "0  /cellphones/samsung-s7262-duos-galaxy-ace/   3/11/2015   en      us   \n",
            "1  /cellphones/samsung-s7262-duos-galaxy-ace/  17/11/2015   en      in   \n",
            "2  /cellphones/samsung-s7262-duos-galaxy-ace/  29/10/2015   en      in   \n",
            "3  /cellphones/samsung-s7262-duos-galaxy-ace/  29/10/2015   en      in   \n",
            "4  /cellphones/samsung-s7262-duos-galaxy-ace/  29/10/2015   en      in   \n",
            "\n",
            "   source      domain  score  score_max  \\\n",
            "0  Amazon  amazon.com    2.0       10.0   \n",
            "1  Zopper  zopper.com   10.0       10.0   \n",
            "2  Amazon   amazon.in    4.0       10.0   \n",
            "3  Amazon   amazon.in    6.0       10.0   \n",
            "4  Amazon   amazon.in   10.0       10.0   \n",
            "\n",
            "                                             extract            author  \\\n",
            "0  was not conpatable with my phone as stated. I ...  Frances DeSimone   \n",
            "1  Decent Functions and Easy to Operate Pros:- Th...     Expert Review   \n",
            "2  Not Good Phone such price. Hang too much and v...   Amazon Customer   \n",
            "3                               not bad for features   Amazon Customer   \n",
            "4                                  Excellent product               NHK   \n",
            "\n",
            "                                             product  \n",
            "0  Samsung Galaxy Star Pro DUOS S7262 Unlocked Ce...  \n",
            "1                Samsung Galaxy Star Pro S7262 Black  \n",
            "2  Samsung Galaxy Star Pro GT-S7262 (Midnight Black)  \n",
            "3  Samsung Galaxy Star Pro GT-S7262 (Midnight Black)  \n",
            "4  Samsung Galaxy Star Pro GT-S7262 (Midnight Black)  \n",
            "Index(['phone_url', 'date', 'lang', 'country', 'source', 'domain', 'score',\n",
            "       'score_max', 'extract', 'author', 'product'],\n",
            "      dtype='object')\n",
            "                    phone_url       date lang country      source  \\\n",
            "0  /cellphones/karbonn-k1616/  7/13/2016   en      in  91 Mobiles   \n",
            "1  /cellphones/karbonn-k1616/  7/13/2016   en      in  91 Mobiles   \n",
            "2  /cellphones/karbonn-k1616/  7/13/2016   en      in  91 Mobiles   \n",
            "3  /cellphones/karbonn-k1616/  4/25/2014   en      in     Naaptol   \n",
            "4  /cellphones/karbonn-k1616/  4/23/2013   en      in     Naaptol   \n",
            "\n",
            "          domain  score  score_max  \\\n",
            "0  91mobiles.com    2.0       10.0   \n",
            "1  91mobiles.com    6.0       10.0   \n",
            "2  91mobiles.com    4.0       10.0   \n",
            "3    naaptol.com   10.0       10.0   \n",
            "4    naaptol.com   10.0       10.0   \n",
            "\n",
            "                                             extract           author  \\\n",
            "0  I bought 1 month before. currently speaker is ...        venkatesh   \n",
            "1  I just bought one week back, I have Airtel con...           Venkat   \n",
            "2  one problem in this handset opera is not worki...           krrish   \n",
            "3  here Karbonn comes up with an another excellen...  BRIJESH CHAUHAN   \n",
            "4  What a phone, all so on Naaptol my god 23% off...    Suraj CHAUHAN   \n",
            "\n",
            "                 product  \n",
            "0          Karbonn K1616  \n",
            "1          Karbonn K1616  \n",
            "2          Karbonn K1616  \n",
            "3  Karbonn K1616 - Black  \n",
            "4  Karbonn K1616 - Black  \n",
            "Index(['phone_url', 'date', 'lang', 'country', 'source', 'domain', 'score',\n",
            "       'score_max', 'extract', 'author', 'product'],\n",
            "      dtype='object')\n",
            "                                phone_url        date lang country  \\\n",
            "0  /cellphones/samsung-instinct-sph-m800/   9/16/2011   en      us   \n",
            "1  /cellphones/samsung-instinct-sph-m800/   2/13/2014   en      us   \n",
            "2  /cellphones/samsung-instinct-sph-m800/  12/30/2011   en      us   \n",
            "3  /cellphones/samsung-instinct-sph-m800/  10/18/2008   en      us   \n",
            "4  /cellphones/samsung-instinct-sph-m800/    9/6/2008   en      us   \n",
            "\n",
            "          source             domain  score  score_max  \\\n",
            "0    Phone Arena     phonearena.com    8.0       10.0   \n",
            "1         Amazon         amazon.com    6.0       10.0   \n",
            "2    Phone Scoop     phonescoop.com    9.0       10.0   \n",
            "3  HandCellPhone  handcellphone.com    4.0       10.0   \n",
            "4   Reviewed.com       reviewed.com    6.0       10.0   \n",
            "\n",
            "                                             extract      author  \\\n",
            "0  I've had the phone for awhile and it's a prett...  ajabrams95   \n",
            "1  to be clear it is not the sellers fault that t...   Stephanie   \n",
            "2  Well i love this phone. i have had ton of phon...    snickers   \n",
            "3  I have had my Instinct for several months now ...         A4C   \n",
            "4  i have had this instinct phone for about two m...   betaBgood   \n",
            "\n",
            "                     product  \n",
            "0        Samsung Instinct HD  \n",
            "1  Samsung SPH M800 Instinct  \n",
            "2              Instinct M800  \n",
            "3           Samsung Instinct  \n",
            "4           Samsung Instinct  \n"
          ],
          "name": "stdout"
        }
      ]
    },
    {
      "cell_type": "markdown",
      "metadata": {
        "id": "YAR3FUwc0iYJ"
      },
      "source": [
        "##### Merge the provided CSVs into one data-frame.\r\n"
      ]
    },
    {
      "cell_type": "code",
      "metadata": {
        "id": "Ey1nUuSPx7qS",
        "colab": {
          "base_uri": "https://localhost:8080/",
          "height": 553
        },
        "outputId": "1368d9ae-e741-439d-f1de-fd409963a17a"
      },
      "source": [
        "data = pd.concat(data_list)\r\n",
        "data.reset_index(inplace=True)\r\n",
        "data.drop(columns=[\"index\"],inplace=True)\r\n",
        "data.tail(n=10000)\r\n"
      ],
      "execution_count": 6,
      "outputs": [
        {
          "output_type": "execute_result",
          "data": {
            "text/html": [
              "<div>\n",
              "<style scoped>\n",
              "    .dataframe tbody tr th:only-of-type {\n",
              "        vertical-align: middle;\n",
              "    }\n",
              "\n",
              "    .dataframe tbody tr th {\n",
              "        vertical-align: top;\n",
              "    }\n",
              "\n",
              "    .dataframe thead th {\n",
              "        text-align: right;\n",
              "    }\n",
              "</style>\n",
              "<table border=\"1\" class=\"dataframe\">\n",
              "  <thead>\n",
              "    <tr style=\"text-align: right;\">\n",
              "      <th></th>\n",
              "      <th>phone_url</th>\n",
              "      <th>date</th>\n",
              "      <th>lang</th>\n",
              "      <th>country</th>\n",
              "      <th>source</th>\n",
              "      <th>domain</th>\n",
              "      <th>score</th>\n",
              "      <th>score_max</th>\n",
              "      <th>extract</th>\n",
              "      <th>author</th>\n",
              "      <th>product</th>\n",
              "    </tr>\n",
              "  </thead>\n",
              "  <tbody>\n",
              "    <tr>\n",
              "      <th>1405133</th>\n",
              "      <td>/cellphones/sony-cmd-z5/</td>\n",
              "      <td>12/3/2001</td>\n",
              "      <td>en</td>\n",
              "      <td>gb</td>\n",
              "      <td>Dooyoo</td>\n",
              "      <td>dooyoo.co.uk</td>\n",
              "      <td>6.0</td>\n",
              "      <td>10.0</td>\n",
              "      <td>This a realtivly new phone and has an importan...</td>\n",
              "      <td>anonym</td>\n",
              "      <td>Sony CMD-Z5</td>\n",
              "    </tr>\n",
              "    <tr>\n",
              "      <th>1405134</th>\n",
              "      <td>/cellphones/sony-cmd-z5/</td>\n",
              "      <td>10/22/2001</td>\n",
              "      <td>en</td>\n",
              "      <td>gb</td>\n",
              "      <td>Dooyoo</td>\n",
              "      <td>dooyoo.co.uk</td>\n",
              "      <td>10.0</td>\n",
              "      <td>10.0</td>\n",
              "      <td>THE best phone on the market, classy and featu...</td>\n",
              "      <td>timbos</td>\n",
              "      <td>Sony CMD-Z5</td>\n",
              "    </tr>\n",
              "    <tr>\n",
              "      <th>1405135</th>\n",
              "      <td>/cellphones/sony-cmd-z5/</td>\n",
              "      <td>9/25/2001</td>\n",
              "      <td>en</td>\n",
              "      <td>gb</td>\n",
              "      <td>Dooyoo</td>\n",
              "      <td>dooyoo.co.uk</td>\n",
              "      <td>10.0</td>\n",
              "      <td>10.0</td>\n",
              "      <td>When looking at the Sony CMD-Z5 it can be very...</td>\n",
              "      <td>M_J_Carrier</td>\n",
              "      <td>Sony CMD-Z5</td>\n",
              "    </tr>\n",
              "    <tr>\n",
              "      <th>1405136</th>\n",
              "      <td>/cellphones/sony-cmd-z5/</td>\n",
              "      <td>8/12/2001</td>\n",
              "      <td>en</td>\n",
              "      <td>gb</td>\n",
              "      <td>Dooyoo</td>\n",
              "      <td>dooyoo.co.uk</td>\n",
              "      <td>6.0</td>\n",
              "      <td>10.0</td>\n",
              "      <td>I`ve had the Sony CMD-Z5 for just about a year...</td>\n",
              "      <td>Verbal</td>\n",
              "      <td>Sony CMD-Z5</td>\n",
              "    </tr>\n",
              "    <tr>\n",
              "      <th>1405137</th>\n",
              "      <td>/cellphones/sony-cmd-z5/</td>\n",
              "      <td>7/25/2001</td>\n",
              "      <td>en</td>\n",
              "      <td>gb</td>\n",
              "      <td>Dooyoo</td>\n",
              "      <td>dooyoo.co.uk</td>\n",
              "      <td>8.0</td>\n",
              "      <td>10.0</td>\n",
              "      <td>Now that my current phone's contract is immine...</td>\n",
              "      <td>curly00</td>\n",
              "      <td>Sony CMD-Z5</td>\n",
              "    </tr>\n",
              "    <tr>\n",
              "      <th>...</th>\n",
              "      <td>...</td>\n",
              "      <td>...</td>\n",
              "      <td>...</td>\n",
              "      <td>...</td>\n",
              "      <td>...</td>\n",
              "      <td>...</td>\n",
              "      <td>...</td>\n",
              "      <td>...</td>\n",
              "      <td>...</td>\n",
              "      <td>...</td>\n",
              "      <td>...</td>\n",
              "    </tr>\n",
              "    <tr>\n",
              "      <th>1415128</th>\n",
              "      <td>/cellphones/alcatel-ot-club_1187/</td>\n",
              "      <td>5/12/2000</td>\n",
              "      <td>de</td>\n",
              "      <td>de</td>\n",
              "      <td>Ciao</td>\n",
              "      <td>ciao.de</td>\n",
              "      <td>2.0</td>\n",
              "      <td>10.0</td>\n",
              "      <td>Weil mein Onkel bei ALcatel arbeitet habe ich ...</td>\n",
              "      <td>david.paul</td>\n",
              "      <td>Alcatel Club Plus Handy</td>\n",
              "    </tr>\n",
              "    <tr>\n",
              "      <th>1415129</th>\n",
              "      <td>/cellphones/alcatel-ot-club_1187/</td>\n",
              "      <td>5/11/2000</td>\n",
              "      <td>de</td>\n",
              "      <td>de</td>\n",
              "      <td>Ciao</td>\n",
              "      <td>ciao.de</td>\n",
              "      <td>10.0</td>\n",
              "      <td>10.0</td>\n",
              "      <td>Hy Liebe Leserinnen und Leser!! Ich habe seit ...</td>\n",
              "      <td>Christiane14</td>\n",
              "      <td>Alcatel Club Plus Handy</td>\n",
              "    </tr>\n",
              "    <tr>\n",
              "      <th>1415130</th>\n",
              "      <td>/cellphones/alcatel-ot-club_1187/</td>\n",
              "      <td>5/4/2000</td>\n",
              "      <td>de</td>\n",
              "      <td>de</td>\n",
              "      <td>Ciao</td>\n",
              "      <td>ciao.de</td>\n",
              "      <td>2.0</td>\n",
              "      <td>10.0</td>\n",
              "      <td>Jetzt hat wohl Alcatell gedacht ,sie machen wa...</td>\n",
              "      <td>michaelawr</td>\n",
              "      <td>Alcatel Club Plus Handy</td>\n",
              "    </tr>\n",
              "    <tr>\n",
              "      <th>1415131</th>\n",
              "      <td>/cellphones/alcatel-ot-club_1187/</td>\n",
              "      <td>5/1/2000</td>\n",
              "      <td>de</td>\n",
              "      <td>de</td>\n",
              "      <td>Ciao</td>\n",
              "      <td>ciao.de</td>\n",
              "      <td>8.0</td>\n",
              "      <td>10.0</td>\n",
              "      <td>Ich bin seit 2 Jahren (stolzer) Besitzer eines...</td>\n",
              "      <td>claudia0815</td>\n",
              "      <td>Alcatel Club Plus Handy</td>\n",
              "    </tr>\n",
              "    <tr>\n",
              "      <th>1415132</th>\n",
              "      <td>/cellphones/alcatel-ot-club_1187/</td>\n",
              "      <td>4/25/2000</td>\n",
              "      <td>de</td>\n",
              "      <td>de</td>\n",
              "      <td>Ciao</td>\n",
              "      <td>ciao.de</td>\n",
              "      <td>2.0</td>\n",
              "      <td>10.0</td>\n",
              "      <td>Was sich Alkatel hier wieder ausgedacht hat,sc...</td>\n",
              "      <td>michaelawr</td>\n",
              "      <td>Alcatel Club Plus Handy</td>\n",
              "    </tr>\n",
              "  </tbody>\n",
              "</table>\n",
              "<p>10000 rows × 11 columns</p>\n",
              "</div>"
            ],
            "text/plain": [
              "                                 phone_url        date lang country  source  \\\n",
              "1405133           /cellphones/sony-cmd-z5/   12/3/2001   en      gb  Dooyoo   \n",
              "1405134           /cellphones/sony-cmd-z5/  10/22/2001   en      gb  Dooyoo   \n",
              "1405135           /cellphones/sony-cmd-z5/   9/25/2001   en      gb  Dooyoo   \n",
              "1405136           /cellphones/sony-cmd-z5/   8/12/2001   en      gb  Dooyoo   \n",
              "1405137           /cellphones/sony-cmd-z5/   7/25/2001   en      gb  Dooyoo   \n",
              "...                                    ...         ...  ...     ...     ...   \n",
              "1415128  /cellphones/alcatel-ot-club_1187/   5/12/2000   de      de    Ciao   \n",
              "1415129  /cellphones/alcatel-ot-club_1187/   5/11/2000   de      de    Ciao   \n",
              "1415130  /cellphones/alcatel-ot-club_1187/    5/4/2000   de      de    Ciao   \n",
              "1415131  /cellphones/alcatel-ot-club_1187/    5/1/2000   de      de    Ciao   \n",
              "1415132  /cellphones/alcatel-ot-club_1187/   4/25/2000   de      de    Ciao   \n",
              "\n",
              "               domain  score  score_max  \\\n",
              "1405133  dooyoo.co.uk    6.0       10.0   \n",
              "1405134  dooyoo.co.uk   10.0       10.0   \n",
              "1405135  dooyoo.co.uk   10.0       10.0   \n",
              "1405136  dooyoo.co.uk    6.0       10.0   \n",
              "1405137  dooyoo.co.uk    8.0       10.0   \n",
              "...               ...    ...        ...   \n",
              "1415128       ciao.de    2.0       10.0   \n",
              "1415129       ciao.de   10.0       10.0   \n",
              "1415130       ciao.de    2.0       10.0   \n",
              "1415131       ciao.de    8.0       10.0   \n",
              "1415132       ciao.de    2.0       10.0   \n",
              "\n",
              "                                                   extract        author  \\\n",
              "1405133  This a realtivly new phone and has an importan...        anonym   \n",
              "1405134  THE best phone on the market, classy and featu...        timbos   \n",
              "1405135  When looking at the Sony CMD-Z5 it can be very...   M_J_Carrier   \n",
              "1405136  I`ve had the Sony CMD-Z5 for just about a year...        Verbal   \n",
              "1405137  Now that my current phone's contract is immine...       curly00   \n",
              "...                                                    ...           ...   \n",
              "1415128  Weil mein Onkel bei ALcatel arbeitet habe ich ...    david.paul   \n",
              "1415129  Hy Liebe Leserinnen und Leser!! Ich habe seit ...  Christiane14   \n",
              "1415130  Jetzt hat wohl Alcatell gedacht ,sie machen wa...    michaelawr   \n",
              "1415131  Ich bin seit 2 Jahren (stolzer) Besitzer eines...   claudia0815   \n",
              "1415132  Was sich Alkatel hier wieder ausgedacht hat,sc...    michaelawr   \n",
              "\n",
              "                         product  \n",
              "1405133              Sony CMD-Z5  \n",
              "1405134              Sony CMD-Z5  \n",
              "1405135              Sony CMD-Z5  \n",
              "1405136              Sony CMD-Z5  \n",
              "1405137              Sony CMD-Z5  \n",
              "...                          ...  \n",
              "1415128  Alcatel Club Plus Handy  \n",
              "1415129  Alcatel Club Plus Handy  \n",
              "1415130  Alcatel Club Plus Handy  \n",
              "1415131  Alcatel Club Plus Handy  \n",
              "1415132  Alcatel Club Plus Handy  \n",
              "\n",
              "[10000 rows x 11 columns]"
            ]
          },
          "metadata": {
            "tags": []
          },
          "execution_count": 6
        }
      ]
    },
    {
      "cell_type": "markdown",
      "metadata": {
        "id": "NNGc-wZtBRFT"
      },
      "source": [
        "#### Exploratory Data Analysis"
      ]
    },
    {
      "cell_type": "code",
      "metadata": {
        "id": "K4nQxk9NBW3j"
      },
      "source": [
        "# Create a copy of the data for analysis\r\n",
        "data_analysis = data.copy()"
      ],
      "execution_count": 7,
      "outputs": []
    },
    {
      "cell_type": "markdown",
      "metadata": {
        "id": "KijhMyWK08rA"
      },
      "source": [
        "##### Check a few observations and shape of the data-frame.\r\n"
      ]
    },
    {
      "cell_type": "code",
      "metadata": {
        "id": "1F-uCmoG02GI",
        "colab": {
          "base_uri": "https://localhost:8080/"
        },
        "outputId": "88fcf25f-3fe2-4b38-d801-2d4d90f23cc7"
      },
      "source": [
        "print(\"Shape of the data - \",data_analysis.shape)\r\n",
        "print(\"Columns of data - \",data_analysis.columns)"
      ],
      "execution_count": 8,
      "outputs": [
        {
          "output_type": "stream",
          "text": [
            "Shape of the data -  (1415133, 11)\n",
            "Columns of data -  Index(['phone_url', 'date', 'lang', 'country', 'source', 'domain', 'score',\n",
            "       'score_max', 'extract', 'author', 'product'],\n",
            "      dtype='object')\n"
          ],
          "name": "stdout"
        }
      ]
    },
    {
      "cell_type": "code",
      "metadata": {
        "id": "QHI5km4k3Z0g",
        "colab": {
          "base_uri": "https://localhost:8080/",
          "height": 1000
        },
        "outputId": "caadc917-4754-4b71-940b-70238de25824"
      },
      "source": [
        "# Random check on data for 5o records\r\n",
        "data_analysis.sample(n=25,random_state=612)"
      ],
      "execution_count": 9,
      "outputs": [
        {
          "output_type": "execute_result",
          "data": {
            "text/html": [
              "<div>\n",
              "<style scoped>\n",
              "    .dataframe tbody tr th:only-of-type {\n",
              "        vertical-align: middle;\n",
              "    }\n",
              "\n",
              "    .dataframe tbody tr th {\n",
              "        vertical-align: top;\n",
              "    }\n",
              "\n",
              "    .dataframe thead th {\n",
              "        text-align: right;\n",
              "    }\n",
              "</style>\n",
              "<table border=\"1\" class=\"dataframe\">\n",
              "  <thead>\n",
              "    <tr style=\"text-align: right;\">\n",
              "      <th></th>\n",
              "      <th>phone_url</th>\n",
              "      <th>date</th>\n",
              "      <th>lang</th>\n",
              "      <th>country</th>\n",
              "      <th>source</th>\n",
              "      <th>domain</th>\n",
              "      <th>score</th>\n",
              "      <th>score_max</th>\n",
              "      <th>extract</th>\n",
              "      <th>author</th>\n",
              "      <th>product</th>\n",
              "    </tr>\n",
              "  </thead>\n",
              "  <tbody>\n",
              "    <tr>\n",
              "      <th>1381066</th>\n",
              "      <td>/cellphones/samsung-mm-a700-sph-a700/</td>\n",
              "      <td>9/18/2004</td>\n",
              "      <td>en</td>\n",
              "      <td>us</td>\n",
              "      <td>Phone Scoop</td>\n",
              "      <td>phonescoop.com</td>\n",
              "      <td>3.0</td>\n",
              "      <td>10.0</td>\n",
              "      <td>Sprint missed the boat on the fundamentals wit...</td>\n",
              "      <td>GrandWazoo</td>\n",
              "      <td>MM-A700 / SPH-A700</td>\n",
              "    </tr>\n",
              "    <tr>\n",
              "      <th>159224</th>\n",
              "      <td>/cellphones/lg-g5/</td>\n",
              "      <td>1/2/2017</td>\n",
              "      <td>en</td>\n",
              "      <td>us</td>\n",
              "      <td>Verizon Wireless</td>\n",
              "      <td>verizonwireless.com</td>\n",
              "      <td>10.0</td>\n",
              "      <td>10.0</td>\n",
              "      <td>Just got this a couple of weeks ago, really ni...</td>\n",
              "      <td>Hunts1</td>\n",
              "      <td>LG G5</td>\n",
              "    </tr>\n",
              "    <tr>\n",
              "      <th>166941</th>\n",
              "      <td>/cellphones/microsoft-lumia-640-dual-sim/</td>\n",
              "      <td>3/10/2016</td>\n",
              "      <td>ru</td>\n",
              "      <td>ru</td>\n",
              "      <td>Yandex</td>\n",
              "      <td>market.yandex.ru</td>\n",
              "      <td>6.0</td>\n",
              "      <td>10.0</td>\n",
              "      <td>Ð¡ÑÐµÐ´Ð½Ð¸Ð¹ ÑÐ¼Ð°ÑÑÑÐ¾Ð½. ÐÐ· Ð¿Ð»ÑÑ...</td>\n",
              "      <td>NaN</td>\n",
              "      <td>Microsoft Lumia 640 3G Dual Sim</td>\n",
              "    </tr>\n",
              "    <tr>\n",
              "      <th>340422</th>\n",
              "      <td>/cellphones/samsung-galaxy-s5/</td>\n",
              "      <td>5/24/2016</td>\n",
              "      <td>en</td>\n",
              "      <td>in</td>\n",
              "      <td>Flipkart</td>\n",
              "      <td>flipkart.com</td>\n",
              "      <td>8.0</td>\n",
              "      <td>10.0</td>\n",
              "      <td>Good...reasonable. .original product of Samsun...</td>\n",
              "      <td>Sandeep Kumar...</td>\n",
              "      <td>SAMSUNG Galaxy S5 (Copper Gold, 16 GB)</td>\n",
              "    </tr>\n",
              "    <tr>\n",
              "      <th>290110</th>\n",
              "      <td>/cellphones/samsung-galaxy-note-4/</td>\n",
              "      <td>11/13/2014</td>\n",
              "      <td>en</td>\n",
              "      <td>ca</td>\n",
              "      <td>Amazon</td>\n",
              "      <td>amazon.ca</td>\n",
              "      <td>10.0</td>\n",
              "      <td>10.0</td>\n",
              "      <td>Shipped very fast and came with everything you...</td>\n",
              "      <td>mike hawdon</td>\n",
              "      <td>Tech Armor Galaxy Note 4 Screen Protector, Tec...</td>\n",
              "    </tr>\n",
              "    <tr>\n",
              "      <th>1166492</th>\n",
              "      <td>/cellphones/nokia-e71/</td>\n",
              "      <td>2/20/2009</td>\n",
              "      <td>en</td>\n",
              "      <td>us</td>\n",
              "      <td>Amazon</td>\n",
              "      <td>amazon.com</td>\n",
              "      <td>4.0</td>\n",
              "      <td>10.0</td>\n",
              "      <td>Phone arrived, and the initial looks of it wer...</td>\n",
              "      <td>The mother of all prduct reviews</td>\n",
              "      <td>Nokia E71x Unlocked Phone with QWERTY Keyboard...</td>\n",
              "    </tr>\n",
              "    <tr>\n",
              "      <th>264600</th>\n",
              "      <td>/cellphones/apple-iphone-6/</td>\n",
              "      <td>11/13/2014</td>\n",
              "      <td>en</td>\n",
              "      <td>us</td>\n",
              "      <td>Amazon</td>\n",
              "      <td>amazon.com</td>\n",
              "      <td>8.0</td>\n",
              "      <td>10.0</td>\n",
              "      <td>The phone was to my expectations and I was hap...</td>\n",
              "      <td>Amazon Customer</td>\n",
              "      <td>Apple iPhone 6 16GB Factory Unlocked GSM 4G LT...</td>\n",
              "    </tr>\n",
              "    <tr>\n",
              "      <th>1275859</th>\n",
              "      <td>/cellphones/nokia-6680/</td>\n",
              "      <td>1/21/2007</td>\n",
              "      <td>en</td>\n",
              "      <td>gb</td>\n",
              "      <td>Amazon</td>\n",
              "      <td>amazon.co.uk</td>\n",
              "      <td>8.0</td>\n",
              "      <td>10.0</td>\n",
              "      <td>Its hot chrome packing slick phone albeit it b...</td>\n",
              "      <td>Amazon Customer</td>\n",
              "      <td>Nokia 6680 Smartphone</td>\n",
              "    </tr>\n",
              "    <tr>\n",
              "      <th>416067</th>\n",
              "      <td>/cellphones/sony-xperia-z3-compact/</td>\n",
              "      <td>11/25/2014</td>\n",
              "      <td>en</td>\n",
              "      <td>gb</td>\n",
              "      <td>Amazon</td>\n",
              "      <td>amazon.co.uk</td>\n",
              "      <td>6.0</td>\n",
              "      <td>10.0</td>\n",
              "      <td>I'd like to say this phone is great- and so mu...</td>\n",
              "      <td>Jsphstry</td>\n",
              "      <td>Sony Xperia Z3 Compact UK SIM-Free Smartphone ...</td>\n",
              "    </tr>\n",
              "    <tr>\n",
              "      <th>306382</th>\n",
              "      <td>/cellphones/acer-liquid-z630/</td>\n",
              "      <td>12/21/2015</td>\n",
              "      <td>fr</td>\n",
              "      <td>fr</td>\n",
              "      <td>Amazon</td>\n",
              "      <td>amazon.fr</td>\n",
              "      <td>2.0</td>\n",
              "      <td>10.0</td>\n",
              "      <td>laissant un samsung s5 j'ai pris celui la car ...</td>\n",
              "      <td>Client d'Amazon</td>\n",
              "      <td>Acer Liquid Z630 Smartphone dÃ©bloquÃ© 4G (Ecr...</td>\n",
              "    </tr>\n",
              "    <tr>\n",
              "      <th>1051626</th>\n",
              "      <td>/cellphones/blu-vivo-air/</td>\n",
              "      <td>6/18/2015</td>\n",
              "      <td>en</td>\n",
              "      <td>us</td>\n",
              "      <td>Amazon</td>\n",
              "      <td>amazon.com</td>\n",
              "      <td>6.0</td>\n",
              "      <td>10.0</td>\n",
              "      <td>The good: This phone is super thin. 5mm. Pick ...</td>\n",
              "      <td>No Name</td>\n",
              "      <td>BLU Vivo Air Unlocked Cellphone, 16GB, Black</td>\n",
              "    </tr>\n",
              "    <tr>\n",
              "      <th>988241</th>\n",
              "      <td>/cellphones/apple-iphone-4/</td>\n",
              "      <td>11/29/2010</td>\n",
              "      <td>en</td>\n",
              "      <td>us</td>\n",
              "      <td>Amazon</td>\n",
              "      <td>amazon.com</td>\n",
              "      <td>2.0</td>\n",
              "      <td>10.0</td>\n",
              "      <td>This item sucks the phone can not be activated...</td>\n",
              "      <td>barbra willimas</td>\n",
              "      <td>Apple Iphone 4 - 8gb Sprint (CDMA) White, Smar...</td>\n",
              "    </tr>\n",
              "    <tr>\n",
              "      <th>452919</th>\n",
              "      <td>/cellphones/sony-xperia-z2/</td>\n",
              "      <td>7/17/2014</td>\n",
              "      <td>de</td>\n",
              "      <td>de</td>\n",
              "      <td>Amazon</td>\n",
              "      <td>amazon.de</td>\n",
              "      <td>2.0</td>\n",
              "      <td>10.0</td>\n",
              "      <td>ich bin total begeistert, alles ist mÃ¶glich. ...</td>\n",
              "      <td>Magrit Tamborini</td>\n",
              "      <td>Sony Xperia Z2 Smartphone (5,2 Zoll (13,2 cm) ...</td>\n",
              "    </tr>\n",
              "    <tr>\n",
              "      <th>416939</th>\n",
              "      <td>/cellphones/sony-xperia-z3-compact/</td>\n",
              "      <td>3/29/2016</td>\n",
              "      <td>it</td>\n",
              "      <td>it</td>\n",
              "      <td>Amazon</td>\n",
              "      <td>amazon.it</td>\n",
              "      <td>10.0</td>\n",
              "      <td>10.0</td>\n",
              "      <td>Ho aspettato un mese prima di fare la recensio...</td>\n",
              "      <td>M. Carolina</td>\n",
              "      <td>Sony Xperia Z3 Compact Smartphone, Display 4,6...</td>\n",
              "    </tr>\n",
              "    <tr>\n",
              "      <th>965310</th>\n",
              "      <td>/cellphones/zte-blade/</td>\n",
              "      <td>4/16/2011</td>\n",
              "      <td>en</td>\n",
              "      <td>gb</td>\n",
              "      <td>Amazon</td>\n",
              "      <td>amazon.co.uk</td>\n",
              "      <td>4.0</td>\n",
              "      <td>10.0</td>\n",
              "      <td>my phone was fine fore a wil then one time whe...</td>\n",
              "      <td>fafduck</td>\n",
              "      <td>Orange San Francisco / Android / Mobile Phone ...</td>\n",
              "    </tr>\n",
              "    <tr>\n",
              "      <th>1105330</th>\n",
              "      <td>/cellphones/lg-vn250/</td>\n",
              "      <td>5/21/2010</td>\n",
              "      <td>en</td>\n",
              "      <td>us</td>\n",
              "      <td>Amazon</td>\n",
              "      <td>amazon.com</td>\n",
              "      <td>10.0</td>\n",
              "      <td>10.0</td>\n",
              "      <td>Item was just what we ordered and very nice.</td>\n",
              "      <td>duke</td>\n",
              "      <td>LG Cosmos VN250 Black No Contract No Data Veri...</td>\n",
              "    </tr>\n",
              "    <tr>\n",
              "      <th>346027</th>\n",
              "      <td>/cellphones/samsung-galaxy-s5/</td>\n",
              "      <td>7/6/2014</td>\n",
              "      <td>en</td>\n",
              "      <td>us</td>\n",
              "      <td>Amazon</td>\n",
              "      <td>amazon.com</td>\n",
              "      <td>8.0</td>\n",
              "      <td>10.0</td>\n",
              "      <td>Works well. Had to re-calibrate the touch-scre...</td>\n",
              "      <td>Steven</td>\n",
              "      <td>Samsung Galaxy S5 SM-G900T -16GB Black (T-Mobile)</td>\n",
              "    </tr>\n",
              "    <tr>\n",
              "      <th>877530</th>\n",
              "      <td>/cellphones/samsung-galaxy-ace-plus/</td>\n",
              "      <td>1/11/2012</td>\n",
              "      <td>ru</td>\n",
              "      <td>ru</td>\n",
              "      <td>Yandex</td>\n",
              "      <td>market.yandex.ru</td>\n",
              "      <td>8.0</td>\n",
              "      <td>10.0</td>\n",
              "      <td>?????????? ?????????? ??????????, ???????????...</td>\n",
              "      <td>madday1981</td>\n",
              "      <td>Samsung Galaxy Ace Plus GT-S7500</td>\n",
              "    </tr>\n",
              "    <tr>\n",
              "      <th>553182</th>\n",
              "      <td>/cellphones/nokia-lumia-530/</td>\n",
              "      <td>3/27/2015</td>\n",
              "      <td>pt</td>\n",
              "      <td>br</td>\n",
              "      <td>Cissa Magazine</td>\n",
              "      <td>cissamagazine.com.br</td>\n",
              "      <td>NaN</td>\n",
              "      <td>NaN</td>\n",
              "      <td>celular Otimo produto celular nokia lumia 530 ...</td>\n",
              "      <td>ALEX kraus</td>\n",
              "      <td>Smartphone Nokia Lumia 530 Dual Desbloqueado B...</td>\n",
              "    </tr>\n",
              "    <tr>\n",
              "      <th>1163761</th>\n",
              "      <td>/cellphones/lg-lotus-lx600/</td>\n",
              "      <td>6/11/2009</td>\n",
              "      <td>en</td>\n",
              "      <td>us</td>\n",
              "      <td>HandCellPhone</td>\n",
              "      <td>handcellphone.com</td>\n",
              "      <td>10.0</td>\n",
              "      <td>10.0</td>\n",
              "      <td>I just got a new Rant on Monday and hated it. ...</td>\n",
              "      <td>Firekraker77</td>\n",
              "      <td>LG Lotus</td>\n",
              "    </tr>\n",
              "    <tr>\n",
              "      <th>1209899</th>\n",
              "      <td>/cellphones/nokia-6110-41182/</td>\n",
              "      <td>11/7/2000</td>\n",
              "      <td>en</td>\n",
              "      <td>gb</td>\n",
              "      <td>Ciao</td>\n",
              "      <td>ciao.co.uk</td>\n",
              "      <td>10.0</td>\n",
              "      <td>10.0</td>\n",
              "      <td>This phone has a sleek and sexy look. Typicall...</td>\n",
              "      <td>pehchiong</td>\n",
              "      <td>Nokia 6110</td>\n",
              "    </tr>\n",
              "    <tr>\n",
              "      <th>417809</th>\n",
              "      <td>/cellphones/sony-xperia-z3-compact/</td>\n",
              "      <td>4/29/2015</td>\n",
              "      <td>fr</td>\n",
              "      <td>fr</td>\n",
              "      <td>Amazon</td>\n",
              "      <td>amazon.fr</td>\n",
              "      <td>10.0</td>\n",
              "      <td>10.0</td>\n",
              "      <td>tres bonne surprise ! Je ne risque pas de reto...</td>\n",
              "      <td>Ethan</td>\n",
              "      <td>Sony Mobile Xperia Z3 Compact Smartphone DÃ©bl...</td>\n",
              "    </tr>\n",
              "    <tr>\n",
              "      <th>538331</th>\n",
              "      <td>/cellphones/apple-iphone-5s/</td>\n",
              "      <td>12/13/2013</td>\n",
              "      <td>en</td>\n",
              "      <td>in</td>\n",
              "      <td>Amazon</td>\n",
              "      <td>amazon.in</td>\n",
              "      <td>8.0</td>\n",
              "      <td>10.0</td>\n",
              "      <td>many apps don't work like true caller is not l...</td>\n",
              "      <td>rishi jain</td>\n",
              "      <td>Apple iPhone 5s (Gold, 16GB)</td>\n",
              "    </tr>\n",
              "    <tr>\n",
              "      <th>1081147</th>\n",
              "      <td>/cellphones/lg-gt540/</td>\n",
              "      <td>11/16/2011</td>\n",
              "      <td>es</td>\n",
              "      <td>ar</td>\n",
              "      <td>MercadoLibre</td>\n",
              "      <td>opinion.mercadolibre.com.ar</td>\n",
              "      <td>10.0</td>\n",
              "      <td>10.0</td>\n",
              "      <td>El celular es bueno en toda forma ya que tiene...</td>\n",
              "      <td>CHUCHUGUA08</td>\n",
              "      <td>Lg Gt540</td>\n",
              "    </tr>\n",
              "    <tr>\n",
              "      <th>92039</th>\n",
              "      <td>/cellphones/samsung-galaxy-a5-2017/</td>\n",
              "      <td>2/21/2017</td>\n",
              "      <td>es</td>\n",
              "      <td>es</td>\n",
              "      <td>Amazon</td>\n",
              "      <td>amazon.es</td>\n",
              "      <td>10.0</td>\n",
              "      <td>10.0</td>\n",
              "      <td>Perfecto por ahora, rÃ¡pido, cÃ³modo y prÃ¡cti...</td>\n",
              "      <td>lidia</td>\n",
              "      <td>Samsung Galaxy A5 (2017) Smartphone 32 GB de M...</td>\n",
              "    </tr>\n",
              "  </tbody>\n",
              "</table>\n",
              "</div>"
            ],
            "text/plain": [
              "                                         phone_url        date lang country  \\\n",
              "1381066      /cellphones/samsung-mm-a700-sph-a700/   9/18/2004   en      us   \n",
              "159224                          /cellphones/lg-g5/    1/2/2017   en      us   \n",
              "166941   /cellphones/microsoft-lumia-640-dual-sim/   3/10/2016   ru      ru   \n",
              "340422              /cellphones/samsung-galaxy-s5/   5/24/2016   en      in   \n",
              "290110          /cellphones/samsung-galaxy-note-4/  11/13/2014   en      ca   \n",
              "1166492                     /cellphones/nokia-e71/   2/20/2009   en      us   \n",
              "264600                 /cellphones/apple-iphone-6/  11/13/2014   en      us   \n",
              "1275859                    /cellphones/nokia-6680/   1/21/2007   en      gb   \n",
              "416067         /cellphones/sony-xperia-z3-compact/  11/25/2014   en      gb   \n",
              "306382               /cellphones/acer-liquid-z630/  12/21/2015   fr      fr   \n",
              "1051626                  /cellphones/blu-vivo-air/   6/18/2015   en      us   \n",
              "988241                 /cellphones/apple-iphone-4/  11/29/2010   en      us   \n",
              "452919                 /cellphones/sony-xperia-z2/   7/17/2014   de      de   \n",
              "416939         /cellphones/sony-xperia-z3-compact/   3/29/2016   it      it   \n",
              "965310                      /cellphones/zte-blade/   4/16/2011   en      gb   \n",
              "1105330                      /cellphones/lg-vn250/   5/21/2010   en      us   \n",
              "346027              /cellphones/samsung-galaxy-s5/    7/6/2014   en      us   \n",
              "877530        /cellphones/samsung-galaxy-ace-plus/   1/11/2012   ru      ru   \n",
              "553182                /cellphones/nokia-lumia-530/   3/27/2015   pt      br   \n",
              "1163761                /cellphones/lg-lotus-lx600/   6/11/2009   en      us   \n",
              "1209899              /cellphones/nokia-6110-41182/   11/7/2000   en      gb   \n",
              "417809         /cellphones/sony-xperia-z3-compact/   4/29/2015   fr      fr   \n",
              "538331                /cellphones/apple-iphone-5s/  12/13/2013   en      in   \n",
              "1081147                      /cellphones/lg-gt540/  11/16/2011   es      ar   \n",
              "92039          /cellphones/samsung-galaxy-a5-2017/   2/21/2017   es      es   \n",
              "\n",
              "                   source                       domain  score  score_max  \\\n",
              "1381066       Phone Scoop               phonescoop.com    3.0       10.0   \n",
              "159224   Verizon Wireless          verizonwireless.com   10.0       10.0   \n",
              "166941             Yandex             market.yandex.ru    6.0       10.0   \n",
              "340422           Flipkart                 flipkart.com    8.0       10.0   \n",
              "290110             Amazon                    amazon.ca   10.0       10.0   \n",
              "1166492            Amazon                   amazon.com    4.0       10.0   \n",
              "264600             Amazon                   amazon.com    8.0       10.0   \n",
              "1275859            Amazon                 amazon.co.uk    8.0       10.0   \n",
              "416067             Amazon                 amazon.co.uk    6.0       10.0   \n",
              "306382             Amazon                    amazon.fr    2.0       10.0   \n",
              "1051626            Amazon                   amazon.com    6.0       10.0   \n",
              "988241             Amazon                   amazon.com    2.0       10.0   \n",
              "452919             Amazon                    amazon.de    2.0       10.0   \n",
              "416939             Amazon                    amazon.it   10.0       10.0   \n",
              "965310             Amazon                 amazon.co.uk    4.0       10.0   \n",
              "1105330            Amazon                   amazon.com   10.0       10.0   \n",
              "346027             Amazon                   amazon.com    8.0       10.0   \n",
              "877530             Yandex             market.yandex.ru    8.0       10.0   \n",
              "553182     Cissa Magazine         cissamagazine.com.br    NaN        NaN   \n",
              "1163761     HandCellPhone            handcellphone.com   10.0       10.0   \n",
              "1209899              Ciao                   ciao.co.uk   10.0       10.0   \n",
              "417809             Amazon                    amazon.fr   10.0       10.0   \n",
              "538331             Amazon                    amazon.in    8.0       10.0   \n",
              "1081147      MercadoLibre  opinion.mercadolibre.com.ar   10.0       10.0   \n",
              "92039              Amazon                    amazon.es   10.0       10.0   \n",
              "\n",
              "                                                   extract  \\\n",
              "1381066  Sprint missed the boat on the fundamentals wit...   \n",
              "159224   Just got this a couple of weeks ago, really ni...   \n",
              "166941   Ð¡ÑÐµÐ´Ð½Ð¸Ð¹ ÑÐ¼Ð°ÑÑÑÐ¾Ð½. ÐÐ· Ð¿Ð»ÑÑ...   \n",
              "340422   Good...reasonable. .original product of Samsun...   \n",
              "290110   Shipped very fast and came with everything you...   \n",
              "1166492  Phone arrived, and the initial looks of it wer...   \n",
              "264600   The phone was to my expectations and I was hap...   \n",
              "1275859  Its hot chrome packing slick phone albeit it b...   \n",
              "416067   I'd like to say this phone is great- and so mu...   \n",
              "306382   laissant un samsung s5 j'ai pris celui la car ...   \n",
              "1051626  The good: This phone is super thin. 5mm. Pick ...   \n",
              "988241   This item sucks the phone can not be activated...   \n",
              "452919   ich bin total begeistert, alles ist mÃ¶glich. ...   \n",
              "416939   Ho aspettato un mese prima di fare la recensio...   \n",
              "965310   my phone was fine fore a wil then one time whe...   \n",
              "1105330       Item was just what we ordered and very nice.   \n",
              "346027   Works well. Had to re-calibrate the touch-scre...   \n",
              "877530   ?????????? ?????????? ??????????, ???????????...   \n",
              "553182   celular Otimo produto celular nokia lumia 530 ...   \n",
              "1163761  I just got a new Rant on Monday and hated it. ...   \n",
              "1209899  This phone has a sleek and sexy look. Typicall...   \n",
              "417809   tres bonne surprise ! Je ne risque pas de reto...   \n",
              "538331   many apps don't work like true caller is not l...   \n",
              "1081147  El celular es bueno en toda forma ya que tiene...   \n",
              "92039    Perfecto por ahora, rÃ¡pido, cÃ³modo y prÃ¡cti...   \n",
              "\n",
              "                                   author  \\\n",
              "1381066                        GrandWazoo   \n",
              "159224                             Hunts1   \n",
              "166941                                NaN   \n",
              "340422                   Sandeep Kumar...   \n",
              "290110                        mike hawdon   \n",
              "1166492  The mother of all prduct reviews   \n",
              "264600                    Amazon Customer   \n",
              "1275859                   Amazon Customer   \n",
              "416067                           Jsphstry   \n",
              "306382                    Client d'Amazon   \n",
              "1051626                           No Name   \n",
              "988241                    barbra willimas   \n",
              "452919                   Magrit Tamborini   \n",
              "416939                        M. Carolina   \n",
              "965310                            fafduck   \n",
              "1105330                              duke   \n",
              "346027                             Steven   \n",
              "877530                         madday1981   \n",
              "553182                         ALEX kraus   \n",
              "1163761                      Firekraker77   \n",
              "1209899                         pehchiong   \n",
              "417809                              Ethan   \n",
              "538331                         rishi jain   \n",
              "1081147                       CHUCHUGUA08   \n",
              "92039                               lidia   \n",
              "\n",
              "                                                   product  \n",
              "1381066                                 MM-A700 / SPH-A700  \n",
              "159224                                               LG G5  \n",
              "166941                     Microsoft Lumia 640 3G Dual Sim  \n",
              "340422              SAMSUNG Galaxy S5 (Copper Gold, 16 GB)  \n",
              "290110   Tech Armor Galaxy Note 4 Screen Protector, Tec...  \n",
              "1166492  Nokia E71x Unlocked Phone with QWERTY Keyboard...  \n",
              "264600   Apple iPhone 6 16GB Factory Unlocked GSM 4G LT...  \n",
              "1275859                              Nokia 6680 Smartphone  \n",
              "416067   Sony Xperia Z3 Compact UK SIM-Free Smartphone ...  \n",
              "306382   Acer Liquid Z630 Smartphone dÃ©bloquÃ© 4G (Ecr...  \n",
              "1051626       BLU Vivo Air Unlocked Cellphone, 16GB, Black  \n",
              "988241   Apple Iphone 4 - 8gb Sprint (CDMA) White, Smar...  \n",
              "452919   Sony Xperia Z2 Smartphone (5,2 Zoll (13,2 cm) ...  \n",
              "416939   Sony Xperia Z3 Compact Smartphone, Display 4,6...  \n",
              "965310   Orange San Francisco / Android / Mobile Phone ...  \n",
              "1105330  LG Cosmos VN250 Black No Contract No Data Veri...  \n",
              "346027   Samsung Galaxy S5 SM-G900T -16GB Black (T-Mobile)  \n",
              "877530                    Samsung Galaxy Ace Plus GT-S7500  \n",
              "553182   Smartphone Nokia Lumia 530 Dual Desbloqueado B...  \n",
              "1163761                                           LG Lotus  \n",
              "1209899                                         Nokia 6110  \n",
              "417809   Sony Mobile Xperia Z3 Compact Smartphone DÃ©bl...  \n",
              "538331                        Apple iPhone 5s (Gold, 16GB)  \n",
              "1081147                                           Lg Gt540  \n",
              "92039    Samsung Galaxy A5 (2017) Smartphone 32 GB de M...  "
            ]
          },
          "metadata": {
            "tags": []
          },
          "execution_count": 9
        }
      ]
    },
    {
      "cell_type": "markdown",
      "metadata": {
        "id": "yn2Oyj2OvgT8"
      },
      "source": [
        "##### formating the phone url Columns"
      ]
    },
    {
      "cell_type": "code",
      "metadata": {
        "colab": {
          "base_uri": "https://localhost:8080/"
        },
        "id": "UznFNh4rqlN2",
        "outputId": "89d24578-b0a3-4ecf-9cc4-7a2451fbf94f"
      },
      "source": [
        "# formating the phone url Columns\r\n",
        "\r\n",
        "# Check is all the rows starts with \"cellphones\"\r\n",
        "print(data_analysis['phone_url'].str.startswith('/cellphones/').value_counts() )\r\n",
        "data_analysis['phone_url'] = data_analysis['phone_url'].str.replace('/cellphones/','')\r\n",
        "data_analysis['phone_url'] = data_analysis['phone_url'].str[:-1]\r\n",
        "data_analysis['phone_url'].value_counts()"
      ],
      "execution_count": 10,
      "outputs": [
        {
          "output_type": "stream",
          "text": [
            "True    1415133\n",
            "Name: phone_url, dtype: int64\n"
          ],
          "name": "stdout"
        },
        {
          "output_type": "execute_result",
          "data": {
            "text/plain": [
              "samsung-galaxy-s-iii      17093\n",
              "apple-iphone-5s           16379\n",
              "samsung-galaxy-s6         16145\n",
              "samsung-galaxy-s5         16082\n",
              "samsung-galaxy-s7-edge    15917\n",
              "                          ...  \n",
              "panasonic-eluga-power         1\n",
              "htc-f3188                     1\n",
              "motorola-rizr                 1\n",
              "karbonn-k1212                 1\n",
              "o2-xda-atom                   1\n",
              "Name: phone_url, Length: 5556, dtype: int64"
            ]
          },
          "metadata": {
            "tags": []
          },
          "execution_count": 10
        }
      ]
    },
    {
      "cell_type": "markdown",
      "metadata": {
        "id": "GiacvrQYvjuy"
      },
      "source": [
        "##### Analysis the Column \"author\" "
      ]
    },
    {
      "cell_type": "code",
      "metadata": {
        "colab": {
          "base_uri": "https://localhost:8080/"
        },
        "id": "PSz4FQJyvt1s",
        "outputId": "f7a56422-5ffb-45c0-f7b3-3b3b1b8c935a"
      },
      "source": [
        "#pd.set_option('display.max_rows', None)\r\n",
        "print(\"Not of observation with empty - \",data_analysis[\"author\"].isna().sum())\r\n",
        "print(\"Not of observation with empty % - \",(data_analysis[\"author\"].isna().sum() / data_analysis.shape[0])*100) "
      ],
      "execution_count": 11,
      "outputs": [
        {
          "output_type": "stream",
          "text": [
            "Not of observation with empty -  63202\n",
            "Not of observation with empty % -  4.466152651376231\n"
          ],
          "name": "stdout"
        }
      ]
    },
    {
      "cell_type": "markdown",
      "metadata": {
        "id": "R05PxjSG-JmW"
      },
      "source": [
        "Since only 1000000 are request for analysis, removing the observation where author names are empty\r\n",
        "\r\n",
        "\r\n",
        "\r\n",
        "\r\n",
        "\r\n",
        " "
      ]
    },
    {
      "cell_type": "code",
      "metadata": {
        "colab": {
          "base_uri": "https://localhost:8080/"
        },
        "id": "AYv9_HTw-ojf",
        "outputId": "eddc5766-943e-4d92-b1a8-393301b88276"
      },
      "source": [
        "\r\n",
        "data_analysis.dropna(subset=[\"author\"],inplace=True)\r\n",
        "data_analysis.isna().sum()"
      ],
      "execution_count": 12,
      "outputs": [
        {
          "output_type": "execute_result",
          "data": {
            "text/plain": [
              "phone_url        0\n",
              "date             0\n",
              "lang             0\n",
              "country          0\n",
              "source           0\n",
              "domain           0\n",
              "score        60893\n",
              "score_max    60893\n",
              "extract      15515\n",
              "author           0\n",
              "product          0\n",
              "dtype: int64"
            ]
          },
          "metadata": {
            "tags": []
          },
          "execution_count": 12
        }
      ]
    },
    {
      "cell_type": "markdown",
      "metadata": {
        "id": "XX-qEPS9CEO7"
      },
      "source": [
        "##### Analysis the Column \"Score and score_max\""
      ]
    },
    {
      "cell_type": "code",
      "metadata": {
        "id": "jNbpqCvp_OsW"
      },
      "source": [
        "##### Analysis the Column \"Score and score_max\""
      ],
      "execution_count": 13,
      "outputs": []
    },
    {
      "cell_type": "code",
      "metadata": {
        "colab": {
          "base_uri": "https://localhost:8080/"
        },
        "id": "eWi9mu2d_aL-",
        "outputId": "dad6811a-66b3-4e52-da0e-6036f9175ffb"
      },
      "source": [
        "print(\"Not of observation with empty - \",data_analysis[\"score\"].isna().sum())\r\n",
        "print(\"Not of observation with empty % - \",(data_analysis[\"score\"].isna().sum() / data_analysis.shape[0])*100) "
      ],
      "execution_count": 14,
      "outputs": [
        {
          "output_type": "stream",
          "text": [
            "Not of observation with empty -  60893\n",
            "Not of observation with empty % -  4.504149989903331\n"
          ],
          "name": "stdout"
        }
      ]
    },
    {
      "cell_type": "markdown",
      "metadata": {
        "id": "7ROewgA5_1Xr"
      },
      "source": [
        "Since only 1000000 are request for analysis, removing the observation where score names are empty"
      ]
    },
    {
      "cell_type": "code",
      "metadata": {
        "colab": {
          "base_uri": "https://localhost:8080/"
        },
        "id": "V4I-W5AXCOnz",
        "outputId": "72f4e38b-fea0-4d55-9300-d1562142679b"
      },
      "source": [
        "data_analysis.dropna(subset=[\"score\"],inplace=True)\r\n",
        "data_analysis.isna().sum()"
      ],
      "execution_count": 15,
      "outputs": [
        {
          "output_type": "execute_result",
          "data": {
            "text/plain": [
              "phone_url        0\n",
              "date             0\n",
              "lang             0\n",
              "country          0\n",
              "source           0\n",
              "domain           0\n",
              "score            0\n",
              "score_max        0\n",
              "extract      15121\n",
              "author           0\n",
              "product          0\n",
              "dtype: int64"
            ]
          },
          "metadata": {
            "tags": []
          },
          "execution_count": 15
        }
      ]
    },
    {
      "cell_type": "code",
      "metadata": {
        "colab": {
          "base_uri": "https://localhost:8080/"
        },
        "id": "-ReE97_fIrk3",
        "outputId": "db488b81-2435-4308-8cda-4ba5b136fa24"
      },
      "source": [
        "# is there any observation with score greater than max score ?\r\n",
        "data_analysis.query(\"score > score_max\").count().sum()\r\n"
      ],
      "execution_count": 16,
      "outputs": [
        {
          "output_type": "execute_result",
          "data": {
            "text/plain": [
              "0"
            ]
          },
          "metadata": {
            "tags": []
          },
          "execution_count": 16
        }
      ]
    },
    {
      "cell_type": "markdown",
      "metadata": {
        "id": "kXWXyWDeJG7L"
      },
      "source": [
        " - is there any observation with score greater than max score ? -NO"
      ]
    },
    {
      "cell_type": "markdown",
      "metadata": {
        "id": "hNysS8gCB9pP"
      },
      "source": [
        "###### Round off scores to the nearest integers\r\n",
        "\r\n"
      ]
    },
    {
      "cell_type": "code",
      "metadata": {
        "colab": {
          "base_uri": "https://localhost:8080/"
        },
        "id": "9zd1ffKWB145",
        "outputId": "1fe0157f-468a-447b-eba1-eedebc8c3105"
      },
      "source": [
        "data_analysis[\"score\"] = np.round(data_analysis[\"score\"])\r\n",
        "data_analysis[\"score\"].unique()"
      ],
      "execution_count": 17,
      "outputs": [
        {
          "output_type": "execute_result",
          "data": {
            "text/plain": [
              "array([10.,  6.,  9.,  4.,  8.,  2.,  7.,  5.,  3.,  1.,  0.])"
            ]
          },
          "metadata": {
            "tags": []
          },
          "execution_count": 17
        }
      ]
    },
    {
      "cell_type": "code",
      "metadata": {
        "colab": {
          "base_uri": "https://localhost:8080/"
        },
        "id": "7Tt_01lQXXHT",
        "outputId": "bff2e039-7448-405f-ed81-1e773dbadf06"
      },
      "source": [
        "# is the scoring is done on same scale  ( 1 -10) ?  \r\n",
        "data_analysis[\"score_max\"].value_counts()"
      ],
      "execution_count": 18,
      "outputs": [
        {
          "output_type": "execute_result",
          "data": {
            "text/plain": [
              "10.0    1291038\n",
              "Name: score_max, dtype: int64"
            ]
          },
          "metadata": {
            "tags": []
          },
          "execution_count": 18
        }
      ]
    },
    {
      "cell_type": "markdown",
      "metadata": {
        "id": "5gR1RsR_XpGS"
      },
      "source": [
        "- is the scoring is done on same scale  ( 1 -10) ?  - YES"
      ]
    },
    {
      "cell_type": "markdown",
      "metadata": {
        "id": "ERwdItUzBFgq"
      },
      "source": [
        "##### Dropping irrelevant features & removing duplicate columns"
      ]
    },
    {
      "cell_type": "code",
      "metadata": {
        "colab": {
          "base_uri": "https://localhost:8080/"
        },
        "id": "IXqAKh-HEm7n",
        "outputId": "5ee37918-5ae8-4ea1-b295-3979b310c9c5"
      },
      "source": [
        "# Removing the duplicate rows - when phone_url,author & score are same\r\n",
        "rows_with_duplicate = int(data_analysis.shape[0])\r\n",
        "\r\n",
        "print(\"# of Observations - \",rows_with_duplicate)\r\n",
        "data_analysis.drop_duplicates(subset=['phone_url','author','score'],keep='first',inplace=True)\r\n",
        "\r\n",
        "rows_without_duplicate = int(data_analysis.shape[0])\r\n",
        "print(\"# of Observations after removing duplicate - \",rows_without_duplicate)\r\n",
        "\r\n",
        "print(\"% of rows duplicated rows removed - \" , ((rows_with_duplicate - rows_without_duplicate)/rows_with_duplicate)*100)"
      ],
      "execution_count": 19,
      "outputs": [
        {
          "output_type": "stream",
          "text": [
            "# of Observations -  1291038\n",
            "# of Observations after removing duplicate -  1113596\n",
            "% of rows duplicated rows removed -  13.744134564590663\n"
          ],
          "name": "stdout"
        }
      ]
    },
    {
      "cell_type": "markdown",
      "metadata": {
        "id": "7OhzCtKsZQYA"
      },
      "source": [
        "- 13% duplicated rows have been removed , it's OK since only 10L rows are to be considered for the analysis. "
      ]
    },
    {
      "cell_type": "code",
      "metadata": {
        "colab": {
          "base_uri": "https://localhost:8080/",
          "height": 191
        },
        "id": "QSSmTxDbbEAg",
        "outputId": "b45c893e-7785-400c-83b0-07460fcefce6"
      },
      "source": [
        "# 'phone_url','author','score' are considered for the analysis on other rows are removed.\r\n",
        "data_analysis = data_analysis[['phone_url','author','score']]\r\n",
        "data_analysis.head()"
      ],
      "execution_count": 20,
      "outputs": [
        {
          "output_type": "execute_result",
          "data": {
            "text/html": [
              "<div>\n",
              "<style scoped>\n",
              "    .dataframe tbody tr th:only-of-type {\n",
              "        vertical-align: middle;\n",
              "    }\n",
              "\n",
              "    .dataframe tbody tr th {\n",
              "        vertical-align: top;\n",
              "    }\n",
              "\n",
              "    .dataframe thead th {\n",
              "        text-align: right;\n",
              "    }\n",
              "</style>\n",
              "<table border=\"1\" class=\"dataframe\">\n",
              "  <thead>\n",
              "    <tr style=\"text-align: right;\">\n",
              "      <th></th>\n",
              "      <th>phone_url</th>\n",
              "      <th>author</th>\n",
              "      <th>score</th>\n",
              "    </tr>\n",
              "  </thead>\n",
              "  <tbody>\n",
              "    <tr>\n",
              "      <th>0</th>\n",
              "      <td>samsung-galaxy-s8</td>\n",
              "      <td>CarolAnn35</td>\n",
              "      <td>10.0</td>\n",
              "    </tr>\n",
              "    <tr>\n",
              "      <th>1</th>\n",
              "      <td>samsung-galaxy-s8</td>\n",
              "      <td>james0923</td>\n",
              "      <td>10.0</td>\n",
              "    </tr>\n",
              "    <tr>\n",
              "      <th>2</th>\n",
              "      <td>samsung-galaxy-s8</td>\n",
              "      <td>R. Craig</td>\n",
              "      <td>6.0</td>\n",
              "    </tr>\n",
              "    <tr>\n",
              "      <th>3</th>\n",
              "      <td>samsung-galaxy-s8</td>\n",
              "      <td>Buster2020</td>\n",
              "      <td>9.0</td>\n",
              "    </tr>\n",
              "    <tr>\n",
              "      <th>4</th>\n",
              "      <td>samsung-galaxy-s8</td>\n",
              "      <td>S Ate Mine</td>\n",
              "      <td>4.0</td>\n",
              "    </tr>\n",
              "  </tbody>\n",
              "</table>\n",
              "</div>"
            ],
            "text/plain": [
              "           phone_url       author  score\n",
              "0  samsung-galaxy-s8   CarolAnn35   10.0\n",
              "1  samsung-galaxy-s8    james0923   10.0\n",
              "2  samsung-galaxy-s8     R. Craig    6.0\n",
              "3  samsung-galaxy-s8  Buster2020     9.0\n",
              "4  samsung-galaxy-s8   S Ate Mine    4.0"
            ]
          },
          "metadata": {
            "tags": []
          },
          "execution_count": 20
        }
      ]
    },
    {
      "cell_type": "markdown",
      "metadata": {
        "id": "W8b7DZgIcASD"
      },
      "source": [
        "##### Sampling 1000000 rows"
      ]
    },
    {
      "cell_type": "code",
      "metadata": {
        "colab": {
          "base_uri": "https://localhost:8080/"
        },
        "id": "TWu9l3rPcAE1",
        "outputId": "40b8e1cf-9f29-459c-e0af-3d31e47e8097"
      },
      "source": [
        "data_analysis = data_analysis.sample(n=1000000,random_state=612)\r\n",
        "print(\"Check the shape \", data_analysis.shape)\r\n",
        "print(\" missing values \", data_analysis.isna().sum().sum())"
      ],
      "execution_count": 21,
      "outputs": [
        {
          "output_type": "stream",
          "text": [
            "Check the shape  (1000000, 3)\n",
            " missing values  0\n"
          ],
          "name": "stdout"
        }
      ]
    },
    {
      "cell_type": "markdown",
      "metadata": {
        "id": "ZBNJ9JT0egc7"
      },
      "source": [
        "### 2) Answer the following questions \r\n",
        "\r\n",
        "1.   Identify the most rated features\r\n",
        "2.   Identify the users with most number of reviews.\r\n",
        "3.   Select the data with products having more than 50 ratings and users who have given more than 50 ratings. Report the shape of the final\r\n",
        "dataset"
      ]
    },
    {
      "cell_type": "markdown",
      "metadata": {
        "id": "XeDsVbGhLz3x"
      },
      "source": [
        "##### most rated features"
      ]
    },
    {
      "cell_type": "code",
      "metadata": {
        "colab": {
          "base_uri": "https://localhost:8080/"
        },
        "id": "b-ODq1bhL80-",
        "outputId": "64788e43-a9a9-48a8-e395-717d6b3a1561"
      },
      "source": [
        "data_groupby_phone = data_analysis.groupby(by=\"phone_url\").count()\r\n",
        "data_groupby_phone = data_groupby_phone.sort_values(by=['author'],ascending=False)\r\n",
        "data_groupby_phone[\"author\"].head(10)"
      ],
      "execution_count": 22,
      "outputs": [
        {
          "output_type": "execute_result",
          "data": {
            "text/plain": [
              "phone_url\n",
              "samsung-galaxy-s5                                    11726\n",
              "samsung-galaxy-s6                                    11426\n",
              "motorola-moto-g                                      10782\n",
              "samsung-galaxy-s7-edge                               10695\n",
              "apple-iphone-5s                                      10524\n",
              "samsung-i9500-galaxy-s-iv                             9829\n",
              "samsung-galaxy-s7-789999                              9504\n",
              "huawei-p8-lite                                        6766\n",
              "apple-iphone-4s                                       6511\n",
              "samsung-galaxy-s4-mini-gt-i9190-gt-i9192-dual-sim     6345\n",
              "Name: author, dtype: int64"
            ]
          },
          "metadata": {
            "tags": []
          },
          "execution_count": 22
        }
      ]
    },
    {
      "cell_type": "markdown",
      "metadata": {
        "id": "CTbS7w4FLk8K"
      },
      "source": [
        " ##### users with most number of reviews"
      ]
    },
    {
      "cell_type": "code",
      "metadata": {
        "colab": {
          "base_uri": "https://localhost:8080/"
        },
        "id": "Q4jX6KJsCRp-",
        "outputId": "b6618085-a0ba-48f3-b893-0f17e830dd75"
      },
      "source": [
        "data_groupby_author = data_analysis.groupby(by=\"author\").count()\r\n",
        "data_groupby_author = data_groupby_author.sort_values(by='phone_url',ascending=False)\r\n",
        "data_groupby_author['phone_url'].head(10)"
      ],
      "execution_count": 23,
      "outputs": [
        {
          "output_type": "execute_result",
          "data": {
            "text/plain": [
              "author\n",
              "Amazon Customer    5012\n",
              "Cliente Amazon     1723\n",
              "Anonymous          1401\n",
              "Amazon Kunde       1221\n",
              "Client d'Amazon    1029\n",
              "David               572\n",
              "Alex                531\n",
              "Daniel              501\n",
              "Chris               499\n",
              "Marco               449\n",
              "Name: phone_url, dtype: int64"
            ]
          },
          "metadata": {
            "tags": []
          },
          "execution_count": 23
        }
      ]
    },
    {
      "cell_type": "markdown",
      "metadata": {
        "id": "DQyuASzRMgJL"
      },
      "source": [
        "#### Filter Data - product with 50 rating and User gave 50 rating"
      ]
    },
    {
      "cell_type": "code",
      "metadata": {
        "colab": {
          "base_uri": "https://localhost:8080/",
          "height": 207
        },
        "id": "aLVNRh1FEDCc",
        "outputId": "b1a02afc-ae7b-4f57-cb8e-43991d0e6343"
      },
      "source": [
        "data_groupby_phone = data_groupby_phone.query(\"author > 50\")\r\n",
        "data_groupby_author = data_groupby_author.query(\"phone_url > 50\")\r\n",
        "data_analysis = data_analysis[ data_analysis[\"phone_url\"].isin(data_groupby_phone.index) | data_analysis[\"author\"].isin(data_groupby_author.index)]\r\n",
        "print(data_analysis.shape)\r\n",
        "data_analysis.head()"
      ],
      "execution_count": 24,
      "outputs": [
        {
          "output_type": "stream",
          "text": [
            "(953196, 3)\n"
          ],
          "name": "stdout"
        },
        {
          "output_type": "execute_result",
          "data": {
            "text/html": [
              "<div>\n",
              "<style scoped>\n",
              "    .dataframe tbody tr th:only-of-type {\n",
              "        vertical-align: middle;\n",
              "    }\n",
              "\n",
              "    .dataframe tbody tr th {\n",
              "        vertical-align: top;\n",
              "    }\n",
              "\n",
              "    .dataframe thead th {\n",
              "        text-align: right;\n",
              "    }\n",
              "</style>\n",
              "<table border=\"1\" class=\"dataframe\">\n",
              "  <thead>\n",
              "    <tr style=\"text-align: right;\">\n",
              "      <th></th>\n",
              "      <th>phone_url</th>\n",
              "      <th>author</th>\n",
              "      <th>score</th>\n",
              "    </tr>\n",
              "  </thead>\n",
              "  <tbody>\n",
              "    <tr>\n",
              "      <th>1279750</th>\n",
              "      <td>nokia-n73</td>\n",
              "      <td>dd-xd</td>\n",
              "      <td>10.0</td>\n",
              "    </tr>\n",
              "    <tr>\n",
              "      <th>178322</th>\n",
              "      <td>huawei-p8-lite</td>\n",
              "      <td>Bouwman</td>\n",
              "      <td>9.0</td>\n",
              "    </tr>\n",
              "    <tr>\n",
              "      <th>342503</th>\n",
              "      <td>samsung-galaxy-s5</td>\n",
              "      <td>across2k13</td>\n",
              "      <td>10.0</td>\n",
              "    </tr>\n",
              "    <tr>\n",
              "      <th>1151689</th>\n",
              "      <td>htc-touch-diamond-2</td>\n",
              "      <td>Melissa MÃ¼hleisen</td>\n",
              "      <td>2.0</td>\n",
              "    </tr>\n",
              "    <tr>\n",
              "      <th>1122190</th>\n",
              "      <td>htc-evo-design-4g</td>\n",
              "      <td>stacee8675309</td>\n",
              "      <td>3.0</td>\n",
              "    </tr>\n",
              "  </tbody>\n",
              "</table>\n",
              "</div>"
            ],
            "text/plain": [
              "                   phone_url              author  score\n",
              "1279750            nokia-n73               dd-xd   10.0\n",
              "178322        huawei-p8-lite             Bouwman    9.0\n",
              "342503     samsung-galaxy-s5         across2k13    10.0\n",
              "1151689  htc-touch-diamond-2  Melissa MÃ¼hleisen    2.0\n",
              "1122190    htc-evo-design-4g       stacee8675309    3.0"
            ]
          },
          "metadata": {
            "tags": []
          },
          "execution_count": 24
        }
      ]
    },
    {
      "cell_type": "markdown",
      "metadata": {
        "id": "OMZB2IbcNq7P"
      },
      "source": [
        "- 953463 observation selected further anaysis"
      ]
    },
    {
      "cell_type": "markdown",
      "metadata": {
        "id": "NDZiERtzWGWl"
      },
      "source": [
        "### popularity based model"
      ]
    },
    {
      "cell_type": "markdown",
      "metadata": {
        "id": "T3NJi1KbO4f0"
      },
      "source": [
        "##### recommend top 5 mobile phones"
      ]
    },
    {
      "cell_type": "code",
      "metadata": {
        "id": "7A0gxXGDrEOL",
        "outputId": "ef16ebe5-58fb-4e8a-dfbe-e6520801ee95",
        "colab": {
          "base_uri": "https://localhost:8080/",
          "height": 220
        }
      },
      "source": [
        "rating_mean_count =  pd.DataFrame(data_analysis.groupby(by=\"phone_url\")[\"score\"].mean())\r\n",
        "rating_mean_count[\"rating_count\"] =  pd.DataFrame(data_analysis.groupby(by=\"phone_url\")[\"score\"].count())\r\n",
        "\r\n",
        "#Product to be considered only when it has more rating count than 90% of the product\r\n",
        "cutoff = rating_mean_count[\"rating_count\"].quantile(0.9)\r\n",
        "rating_mean_count = rating_mean_count.loc[rating_mean_count['rating_count'] >=cutoff]\r\n",
        "rating_mean_count.sort_values(by=[\"score\",\"rating_count\"],ascending=False).head(n=5)"
      ],
      "execution_count": 96,
      "outputs": [
        {
          "output_type": "execute_result",
          "data": {
            "text/html": [
              "<div>\n",
              "<style scoped>\n",
              "    .dataframe tbody tr th:only-of-type {\n",
              "        vertical-align: middle;\n",
              "    }\n",
              "\n",
              "    .dataframe tbody tr th {\n",
              "        vertical-align: top;\n",
              "    }\n",
              "\n",
              "    .dataframe thead th {\n",
              "        text-align: right;\n",
              "    }\n",
              "</style>\n",
              "<table border=\"1\" class=\"dataframe\">\n",
              "  <thead>\n",
              "    <tr style=\"text-align: right;\">\n",
              "      <th></th>\n",
              "      <th>score</th>\n",
              "      <th>rating_count</th>\n",
              "    </tr>\n",
              "    <tr>\n",
              "      <th>phone_url</th>\n",
              "      <th></th>\n",
              "      <th></th>\n",
              "    </tr>\n",
              "  </thead>\n",
              "  <tbody>\n",
              "    <tr>\n",
              "      <th>motorola-xt1225</th>\n",
              "      <td>9.290488</td>\n",
              "      <td>778</td>\n",
              "    </tr>\n",
              "    <tr>\n",
              "      <th>samsung-galaxy-s6-edgeplus</th>\n",
              "      <td>9.207409</td>\n",
              "      <td>3833</td>\n",
              "    </tr>\n",
              "    <tr>\n",
              "      <th>blackberry-passport</th>\n",
              "      <td>9.183958</td>\n",
              "      <td>1147</td>\n",
              "    </tr>\n",
              "    <tr>\n",
              "      <th>lg-optimus-g</th>\n",
              "      <td>9.107829</td>\n",
              "      <td>677</td>\n",
              "    </tr>\n",
              "    <tr>\n",
              "      <th>samsung-gt-i8552</th>\n",
              "      <td>9.000811</td>\n",
              "      <td>1233</td>\n",
              "    </tr>\n",
              "  </tbody>\n",
              "</table>\n",
              "</div>"
            ],
            "text/plain": [
              "                               score  rating_count\n",
              "phone_url                                         \n",
              "motorola-xt1225             9.290488           778\n",
              "samsung-galaxy-s6-edgeplus  9.207409          3833\n",
              "blackberry-passport         9.183958          1147\n",
              "lg-optimus-g                9.107829           677\n",
              "samsung-gt-i8552            9.000811          1233"
            ]
          },
          "metadata": {
            "tags": []
          },
          "execution_count": 96
        }
      ]
    },
    {
      "cell_type": "markdown",
      "metadata": {
        "id": "_aniE7bc_ECw"
      },
      "source": [
        "### collaborative filtering"
      ]
    },
    {
      "cell_type": "markdown",
      "metadata": {
        "id": "_JVA0AYP_dvH"
      },
      "source": [
        "##### Matrix Factorization ( using SVD )"
      ]
    },
    {
      "cell_type": "code",
      "metadata": {
        "id": "jV0Zu_EAu-HO"
      },
      "source": [
        "# reader = Reader(rating_scale=(0, 5),line_format='user item rating')\r\n",
        "# matrix_fact_data = Dataset.load_from_df(data_analysis[['author','phone_url','score']],reader)\r\n",
        "# raw_ratings = matrix_fact_data.raw_ratings\r\n",
        "# random.shuffle(raw_ratings)\r\n",
        "\r\n",
        "# # 90% trainset, 10% testset                                                \r\n",
        "# threshold = int(.9 * len(raw_ratings))                                     \r\n",
        "# trainset_raw_ratings = raw_ratings[:threshold]                             \r\n",
        "# test_raw_ratings = raw_ratings[threshold:]\r\n",
        "# matrix_fact_data.raw_ratings = trainset_raw_ratings\r\n",
        "\r\n",
        "\r\n",
        "# param_grid = {'n_factors':[5,10,15,50],'n_epochs':[10,20]}\r\n",
        "# svd_gs = GridSearchCV(SVD, param_grid, measures=['rmse'],cv=KFold(n_splits=5, random_state=123),n_jobs=5)\r\n",
        "# svd_gs.fit(matrix_fact_data)\r\n"
      ],
      "execution_count": 28,
      "outputs": []
    },
    {
      "cell_type": "code",
      "metadata": {
        "id": "5cpWMUzNQYaW"
      },
      "source": [
        "# print(\"Score \" , svd_gs.best_score)\r\n",
        "# print(\"Best Param \" , svd_gs.best_params)"
      ],
      "execution_count": 29,
      "outputs": []
    },
    {
      "cell_type": "code",
      "metadata": {
        "id": "c0_DubRrz1bs"
      },
      "source": [
        "# svd_bestmodel = SVD(n_factors =svd_gs.best_params['rmse']['n_factors'],n_epochs = svd_gs.best_params['rmse']['n_epochs'])\r\n",
        "# trainset = matrix_fact_data.build_full_trainset()                                      \r\n",
        "# svd_bestmodel.fit(trainset)   \r\n",
        "\r\n",
        "\r\n",
        "# # now test on the trainset                                                 \r\n",
        "# testset = matrix_fact_data.construct_testset(trainset_raw_ratings)                     \r\n",
        "# predictions = svd_bestmodel.test(testset)                                           \r\n",
        "# print('Accuracy on the trainset:')                                         \r\n",
        "# accuracy.rmse(predictions)                                                 \r\n",
        "                                                                           \r\n",
        "# # now test on the testset                                                  \r\n",
        "# testset = matrix_fact_data.construct_testset(test_raw_ratings)                         \r\n",
        "# predictions = svd_bestmodel.test(testset)                                           \r\n",
        "# print('Accuracy on the testset:')                                          \r\n",
        "# accuracy.rmse(predictions)  \r\n"
      ],
      "execution_count": 30,
      "outputs": []
    },
    {
      "cell_type": "markdown",
      "metadata": {
        "id": "mjxIhF2v5NfH"
      },
      "source": [
        "###### Train Model with cross validation"
      ]
    },
    {
      "cell_type": "code",
      "metadata": {
        "colab": {
          "base_uri": "https://localhost:8080/"
        },
        "id": "14WEUhvohHpI",
        "outputId": "69ce9810-3df1-4888-e66f-8cc25a295844"
      },
      "source": [
        "reader = Reader(rating_scale=(0, 5),line_format='user item rating')\r\n",
        "matrix_fact_data = Dataset.load_from_df(data_analysis[['author','phone_url','score']],reader)\r\n",
        "raw_ratings = matrix_fact_data.raw_ratings\r\n",
        "threshold = int(.9 * len(raw_ratings))                                     \r\n",
        "trainset_raw_ratings = raw_ratings[:threshold]                             \r\n",
        "test_raw_ratings = raw_ratings[threshold:]\r\n",
        "matrix_fact_data.raw_ratings = trainset_raw_ratings\r\n",
        "svd = SVD()\r\n",
        "results = cross_validate(svd,matrix_fact_data,measures=['rmse'],cv=5,return_train_measures =True,n_jobs =-1)\r\n",
        "results\r\n"
      ],
      "execution_count": 31,
      "outputs": [
        {
          "output_type": "execute_result",
          "data": {
            "text/plain": [
              "{'fit_time': (93.54927277565002,\n",
              "  99.42473244667053,\n",
              "  103.56144714355469,\n",
              "  87.11950325965881,\n",
              "  58.41356587409973),\n",
              " 'test_rmse': array([4.00269335, 4.00248599, 4.00095153, 4.00697847, 4.0063801 ]),\n",
              " 'test_time': (2.190056800842285,\n",
              "  3.9641597270965576,\n",
              "  3.5282111167907715,\n",
              "  2.315078020095825,\n",
              "  1.5575203895568848),\n",
              " 'train_rmse': array([3.89707133, 3.89723748, 3.89749357, 3.89601376, 3.89618172])}"
            ]
          },
          "metadata": {
            "tags": []
          },
          "execution_count": 31
        }
      ]
    },
    {
      "cell_type": "markdown",
      "metadata": {
        "id": "R3AT6my85aTX"
      },
      "source": [
        "###### RMSE - for Train / Validate / Test"
      ]
    },
    {
      "cell_type": "code",
      "metadata": {
        "colab": {
          "base_uri": "https://localhost:8080/"
        },
        "id": "voaVEs7gJlx4",
        "outputId": "68c9d65b-38f3-4c81-9557-3afaf6c863c8"
      },
      "source": [
        "print(\"Average train RMSE -\", results['train_rmse'].mean())\r\n",
        "print(\"Average Validate RMSE -\", results['test_rmse'].mean())"
      ],
      "execution_count": 37,
      "outputs": [
        {
          "output_type": "stream",
          "text": [
            "Average train RMSE - 3.8967995705315075\n",
            "Average Validate RMSE - 4.003897887775677\n"
          ],
          "name": "stdout"
        }
      ]
    },
    {
      "cell_type": "code",
      "metadata": {
        "id": "GJ0PE3GncwiC"
      },
      "source": [
        "trainset = matrix_fact_data.build_full_trainset()\r\n",
        "svd.fit(trainset)\r\n",
        "testset = matrix_fact_data.construct_testset(test_raw_ratings)  \r\n",
        "predict = svd.test(testset)\r\n",
        "predict"
      ],
      "execution_count": null,
      "outputs": []
    },
    {
      "cell_type": "code",
      "metadata": {
        "colab": {
          "base_uri": "https://localhost:8080/"
        },
        "id": "K9zQkJUYA1OJ",
        "outputId": "a08779a4-fbdf-4674-d0d2-8ad8e83e4a4d"
      },
      "source": [
        "print(\"Test RMSE - \",accuracy.rmse(predict))"
      ],
      "execution_count": 56,
      "outputs": [
        {
          "output_type": "stream",
          "text": [
            "RMSE: 4.0079\n",
            "Test RMSE -  4.007865804402947\n"
          ],
          "name": "stdout"
        }
      ]
    },
    {
      "cell_type": "markdown",
      "metadata": {
        "id": "MAVc-6Zz_aCO"
      },
      "source": [
        "###### Top 5 recommendation for test user"
      ]
    },
    {
      "cell_type": "code",
      "metadata": {
        "id": "Z6HuNnB2AHZE"
      },
      "source": [
        "def get_top_n(predictions, n=10):\r\n",
        "    # First map the predictions to each user.\r\n",
        "    top_n = defaultdict(list)\r\n",
        "    for uid, iid, true_r, est, _ in predictions:\r\n",
        "        top_n[uid].append((iid, est))\r\n",
        "\r\n",
        "    # Then sort the predictions for each user and retrieve the k highest ones.\r\n",
        "    for uid, user_ratings in top_n.items():\r\n",
        "        user_ratings.sort(key=lambda x: x[1], reverse=True)\r\n",
        "        top_n[uid] = user_ratings[:n]\r\n",
        "\r\n",
        "    return top_n\r\n",
        "top_n = get_top_n(predict, n=5) \r\n"
      ],
      "execution_count": null,
      "outputs": []
    },
    {
      "cell_type": "code",
      "metadata": {
        "id": "sNSGYfyk9Ilp",
        "outputId": "9a0ea4e9-fa46-4e4a-d545-f484c3b519ae",
        "colab": {
          "base_uri": "https://localhost:8080/"
        }
      },
      "source": [
        "\r\n",
        "test_user = [\"Amazon Customer\",\"Cliente Amazon\",\"Anonymous\",\"Amazon Kunde\",\"Client d'Amazon\",\"David\",\"Alex\",\"Daniel\",\"Chris\",\"Marco\"]\r\n",
        "for test_customer in test_user:\r\n",
        " print(test_customer,\" - \", [iid for (iid, _) in top_n[test_customer]])  \r\n",
        " "
      ],
      "execution_count": 55,
      "outputs": [
        {
          "output_type": "stream",
          "text": [
            "Amazon Customer  -  ['doro-phone-easy-410-gsm', 'lg-stylus-2-k520dy', 'lg-g4-stylus-h635', 'lg-revere', 'blu-studio-mini']\n",
            "Cliente Amazon  -  ['microsoft-lumia-435', 'bq-aquaris-e5', 'doogee-dg800', 'motorola-moto-x-2', 'apple-iphone-6s-plus']\n",
            "Anonymous  -  ['samsung-messager-ii-sch-r560', 'sony-ericsson-txt-pro', 'motorola-q9h-144637', 'htc-one-m7', 'motorola-ve20']\n",
            "Amazon Kunde  -  ['blackberry-q10', 'huawei-ascend-p7', 'acer-liquid-z630', 'lg-viewty-snap-gm360', 'nokia-6070']\n",
            "Client d'Amazon  -  ['wiko-jerry', 'samsung-galaxy-grand-prime', 'lenovo-vibe-k5', 'doogee-valencia-2-y100-pro', 'doogee-x5-max-pro']\n",
            "David  -  ['motorola-moto-g3', 'huawei-gr5', 'nokia-n86', 'huawei-ascend-p7', 'sony-xperia-xa-ultra']\n",
            "Alex  -  ['samsung-i9500-galaxy-s-iv', 'huawei-p8', 'zte-axon-7', 'nokia-n86', 'lg-optimus-one-p500']\n",
            "Daniel  -  ['samsung-galaxy-s-plus', 'motorola-moto-e', 'nokia-3410', 'htc-one-m7', 'samsung-galaxy-note']\n",
            "Chris  -  ['kyocera-dorado-kx13', 'lg-g2-594708', 'samsung-galaxy-xcover', 'samsung-galaxy-j3-duos', 'htc-hd7']\n",
            "Marco  -  ['alcatel-onetouch-pop-c9', 'huawei-p8', 'huawei-ascend-p6', 'nokia-800', 'lg-g2-594708']\n"
          ],
          "name": "stdout"
        }
      ]
    },
    {
      "cell_type": "markdown",
      "metadata": {
        "id": "bvgNwO8kR_ZK"
      },
      "source": [
        "##### Impute outliers"
      ]
    },
    {
      "cell_type": "code",
      "metadata": {
        "id": "WeUh8_QTA36o",
        "outputId": "362750a2-9c86-41d5-cea8-22f5fb2e0d2b",
        "colab": {
          "base_uri": "https://localhost:8080/"
        }
      },
      "source": [
        "# print(data_analysis[\"score\"].value_counts())\r\n",
        "# data_analysis[\"score\"].value_counts(normalize=True)*100"
      ],
      "execution_count": 110,
      "outputs": [
        {
          "output_type": "stream",
          "text": [
            "10.0    474636\n",
            "8.0     217034\n",
            "2.0      87466\n",
            "6.0      84177\n",
            "4.0      52039\n",
            "9.0      25575\n",
            "7.0       5663\n",
            "5.0       3004\n",
            "1.0       1954\n",
            "3.0       1623\n",
            "0.0         25\n",
            "Name: score, dtype: int64\n"
          ],
          "name": "stdout"
        },
        {
          "output_type": "execute_result",
          "data": {
            "text/plain": [
              "10.0    49.794166\n",
              "8.0     22.769084\n",
              "2.0      9.176077\n",
              "6.0      8.831027\n",
              "4.0      5.459423\n",
              "9.0      2.683079\n",
              "7.0      0.594107\n",
              "5.0      0.315150\n",
              "1.0      0.204995\n",
              "3.0      0.170269\n",
              "0.0      0.002623\n",
              "Name: score, dtype: float64"
            ]
          },
          "metadata": {
            "tags": []
          },
          "execution_count": 110
        }
      ]
    },
    {
      "cell_type": "markdown",
      "metadata": {
        "id": "yKpjlX5aSjCK"
      },
      "source": [
        " - Rating count for (0,1,3) are less than 1% which can be assigned with 2 rating.\r\n",
        " - Rating count of ( 5,6) are less than 1% which can be assigned to 6"
      ]
    },
    {
      "cell_type": "code",
      "metadata": {
        "id": "JuFpxle5TrRM",
        "outputId": "c43bc057-23d3-44e7-8166-49769bfc6084",
        "colab": {
          "base_uri": "https://localhost:8080/"
        }
      },
      "source": [
        "# #data_analysis[\"score_imp\"] = np.where(data_analysis[\"score\"].isin([0,1,3]),2, (data_analysis[\"score\"].isin([5,7]),6,data_analysis[\"score\"]))\r\n",
        "# #data_analysis.head()\r\n",
        "\r\n",
        "# data_analysis[\"score_imp\"]  = np.where(data_analysis[\"score\"].isin([0,1,3]),2, data_analysis[\"score\"])\r\n",
        "# data_analysis[\"score_imp\"] = np.where(data_analysis[\"score_imp\"].isin([5,7]),6,data_analysis[\"score_imp\"])\r\n",
        "# data_analysis[\"score_imp\"].value_counts(normalize=True)*100"
      ],
      "execution_count": 132,
      "outputs": [
        {
          "output_type": "execute_result",
          "data": {
            "text/plain": [
              "10.0    49.794166\n",
              "8.0     22.769084\n",
              "6.0      9.740284\n",
              "2.0      9.553964\n",
              "4.0      5.459423\n",
              "9.0      2.683079\n",
              "Name: score_imp, dtype: float64"
            ]
          },
          "metadata": {
            "tags": []
          },
          "execution_count": 132
        }
      ]
    },
    {
      "cell_type": "code",
      "metadata": {
        "id": "ERI-uoy1Z4QG"
      },
      "source": [
        "# reader = Reader(rating_scale=(0, 5),line_format='user item rating')\r\n",
        "# matrix_fact_data = Dataset.load_from_df(data_analysis[['author','phone_url','score_imp']],reader)\r\n",
        "# raw_ratings = matrix_fact_data.raw_ratings\r\n",
        "# threshold = int(.9 * len(raw_ratings))                                     \r\n",
        "# trainset_raw_ratings = raw_ratings[:threshold]                             \r\n",
        "# test_raw_ratings = raw_ratings[threshold:]\r\n",
        "# matrix_fact_data.raw_ratings = trainset_raw_ratings\r\n",
        "# svd = SVD()\r\n",
        "# results = cross_validate(svd,matrix_fact_data,measures=['rmse'],cv=5,return_train_measures =True,n_jobs =-1)\r\n",
        "# print(\"Model results\", results)\r\n",
        "# print(\"Average train RMSE -\", results['train_rmse'].mean())\r\n",
        "# print(\"Average Validate RMSE -\", results['test_rmse'].mean())\r\n",
        "\r\n",
        "# trainset = matrix_fact_data.build_full_trainset()\r\n",
        "# svd.fit(trainset)\r\n",
        "# testset = matrix_fact_data.construct_testset(test_raw_ratings)  \r\n",
        "# predict = svd.test(testset)\r\n",
        "# print(\"Test RMSE - \",accuracy.rmse(predict))\r\n",
        "# predict"
      ],
      "execution_count": null,
      "outputs": []
    },
    {
      "cell_type": "markdown",
      "metadata": {
        "id": "CriETiMASeHr"
      },
      "source": [
        "- "
      ]
    }
  ]
}