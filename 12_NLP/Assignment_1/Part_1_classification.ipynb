{
 "cells": [
  {
   "cell_type": "markdown",
   "metadata": {},
   "source": [
    "### Import Lib"
   ]
  },
  {
   "cell_type": "code",
   "execution_count": 1,
   "metadata": {},
   "outputs": [],
   "source": [
    "#!pip install spacy"
   ]
  },
  {
   "cell_type": "code",
   "execution_count": 2,
   "metadata": {},
   "outputs": [
    {
     "name": "stderr",
     "output_type": "stream",
     "text": [
      "[nltk_data] Downloading package stopwords to\n",
      "[nltk_data]     C:\\Users\\admin\\AppData\\Roaming\\nltk_data...\n",
      "[nltk_data]   Package stopwords is already up-to-date!\n",
      "[nltk_data] Downloading package wordnet to\n",
      "[nltk_data]     C:\\Users\\admin\\AppData\\Roaming\\nltk_data...\n",
      "[nltk_data]   Package wordnet is already up-to-date!\n"
     ]
    }
   ],
   "source": [
    "import pandas as pd \n",
    "import numpy as np\n",
    "\n",
    "from sklearn.preprocessing import LabelEncoder\n",
    "\n",
    "\n",
    "import re\n",
    "import nltk\n",
    "from nltk.tokenize import ToktokTokenizer\n",
    "nltk.download('stopwords')\n",
    "nltk.download('wordnet')\n",
    "\n",
    "import matplotlib.pyplot as plt\n",
    "import seaborn as sns\n",
    "\n",
    "from sklearn.model_selection import train_test_split \n",
    "from sklearn.feature_extraction.text import CountVectorizer,TfidfVectorizer\n",
    "from sklearn.pipeline import Pipeline \n",
    "from sklearn.preprocessing import MultiLabelBinarizer\n",
    "\n",
    "\n",
    "## Metrics\n",
    "from sklearn.metrics import accuracy_score,f1_score,average_precision_score,recall_score\n",
    "from sklearn.multiclass import OneVsRestClassifier\n",
    "from sklearn.linear_model import LogisticRegression\n",
    "from sklearn.naive_bayes import MultinomialNB\n",
    "from sklearn.svm import SVC,LinearSVC\n",
    "\n",
    "\n",
    "import spacy\n",
    "from bs4 import BeautifulSoup\n",
    "import unicodedata\n",
    "import string\n",
    "\n",
    "\n",
    "\n",
    "\n",
    "\n",
    "import warnings\n",
    "warnings.filterwarnings(\"ignore\")"
   ]
  },
  {
   "cell_type": "code",
   "execution_count": 3,
   "metadata": {},
   "outputs": [],
   "source": [
    "RANDOM_SEED = 39"
   ]
  },
  {
   "cell_type": "markdown",
   "metadata": {},
   "source": [
    "### Load Data"
   ]
  },
  {
   "cell_type": "code",
   "execution_count": 4,
   "metadata": {},
   "outputs": [],
   "source": [
    "data = pd.read_csv(\"blogtext.csv\")"
   ]
  },
  {
   "cell_type": "code",
   "execution_count": 5,
   "metadata": {},
   "outputs": [
    {
     "data": {
      "text/plain": [
       "(681284, 7)"
      ]
     },
     "execution_count": 5,
     "metadata": {},
     "output_type": "execute_result"
    }
   ],
   "source": [
    "data.shape"
   ]
  },
  {
   "cell_type": "code",
   "execution_count": 6,
   "metadata": {},
   "outputs": [
    {
     "data": {
      "text/plain": [
       "(3000, 7)"
      ]
     },
     "execution_count": 6,
     "metadata": {},
     "output_type": "execute_result"
    }
   ],
   "source": [
    "#### Loading random 10000 rows for the analysis\n",
    "data_new = data[:3000]\n",
    "data_new.shape"
   ]
  },
  {
   "cell_type": "markdown",
   "metadata": {},
   "source": [
    "### Exploratory Data Analysis"
   ]
  },
  {
   "cell_type": "code",
   "execution_count": 7,
   "metadata": {},
   "outputs": [
    {
     "data": {
      "text/html": [
       "<div>\n",
       "<style scoped>\n",
       "    .dataframe tbody tr th:only-of-type {\n",
       "        vertical-align: middle;\n",
       "    }\n",
       "\n",
       "    .dataframe tbody tr th {\n",
       "        vertical-align: top;\n",
       "    }\n",
       "\n",
       "    .dataframe thead th {\n",
       "        text-align: right;\n",
       "    }\n",
       "</style>\n",
       "<table border=\"1\" class=\"dataframe\">\n",
       "  <thead>\n",
       "    <tr style=\"text-align: right;\">\n",
       "      <th></th>\n",
       "      <th>id</th>\n",
       "      <th>gender</th>\n",
       "      <th>age</th>\n",
       "      <th>topic</th>\n",
       "      <th>sign</th>\n",
       "      <th>date</th>\n",
       "      <th>text</th>\n",
       "    </tr>\n",
       "  </thead>\n",
       "  <tbody>\n",
       "    <tr>\n",
       "      <th>0</th>\n",
       "      <td>2059027</td>\n",
       "      <td>male</td>\n",
       "      <td>15</td>\n",
       "      <td>Student</td>\n",
       "      <td>Leo</td>\n",
       "      <td>14,May,2004</td>\n",
       "      <td>Info has been found (+/- 100 pages,...</td>\n",
       "    </tr>\n",
       "    <tr>\n",
       "      <th>1</th>\n",
       "      <td>2059027</td>\n",
       "      <td>male</td>\n",
       "      <td>15</td>\n",
       "      <td>Student</td>\n",
       "      <td>Leo</td>\n",
       "      <td>13,May,2004</td>\n",
       "      <td>These are the team members:   Drewe...</td>\n",
       "    </tr>\n",
       "    <tr>\n",
       "      <th>2</th>\n",
       "      <td>2059027</td>\n",
       "      <td>male</td>\n",
       "      <td>15</td>\n",
       "      <td>Student</td>\n",
       "      <td>Leo</td>\n",
       "      <td>12,May,2004</td>\n",
       "      <td>In het kader van kernfusie op aarde...</td>\n",
       "    </tr>\n",
       "    <tr>\n",
       "      <th>3</th>\n",
       "      <td>2059027</td>\n",
       "      <td>male</td>\n",
       "      <td>15</td>\n",
       "      <td>Student</td>\n",
       "      <td>Leo</td>\n",
       "      <td>12,May,2004</td>\n",
       "      <td>testing!!!  testing!!!</td>\n",
       "    </tr>\n",
       "    <tr>\n",
       "      <th>4</th>\n",
       "      <td>3581210</td>\n",
       "      <td>male</td>\n",
       "      <td>33</td>\n",
       "      <td>InvestmentBanking</td>\n",
       "      <td>Aquarius</td>\n",
       "      <td>11,June,2004</td>\n",
       "      <td>Thanks to Yahoo!'s Toolbar I can ...</td>\n",
       "    </tr>\n",
       "  </tbody>\n",
       "</table>\n",
       "</div>"
      ],
      "text/plain": [
       "        id gender  age              topic      sign          date  \\\n",
       "0  2059027   male   15            Student       Leo   14,May,2004   \n",
       "1  2059027   male   15            Student       Leo   13,May,2004   \n",
       "2  2059027   male   15            Student       Leo   12,May,2004   \n",
       "3  2059027   male   15            Student       Leo   12,May,2004   \n",
       "4  3581210   male   33  InvestmentBanking  Aquarius  11,June,2004   \n",
       "\n",
       "                                                text  \n",
       "0             Info has been found (+/- 100 pages,...  \n",
       "1             These are the team members:   Drewe...  \n",
       "2             In het kader van kernfusie op aarde...  \n",
       "3                   testing!!!  testing!!!            \n",
       "4               Thanks to Yahoo!'s Toolbar I can ...  "
      ]
     },
     "execution_count": 7,
     "metadata": {},
     "output_type": "execute_result"
    }
   ],
   "source": [
    "data_new.head()"
   ]
  },
  {
   "cell_type": "code",
   "execution_count": 8,
   "metadata": {},
   "outputs": [
    {
     "data": {
      "text/html": [
       "<div>\n",
       "<style scoped>\n",
       "    .dataframe tbody tr th:only-of-type {\n",
       "        vertical-align: middle;\n",
       "    }\n",
       "\n",
       "    .dataframe tbody tr th {\n",
       "        vertical-align: top;\n",
       "    }\n",
       "\n",
       "    .dataframe thead th {\n",
       "        text-align: right;\n",
       "    }\n",
       "</style>\n",
       "<table border=\"1\" class=\"dataframe\">\n",
       "  <thead>\n",
       "    <tr style=\"text-align: right;\">\n",
       "      <th></th>\n",
       "      <th>gender</th>\n",
       "      <th>age</th>\n",
       "      <th>topic</th>\n",
       "      <th>sign</th>\n",
       "      <th>text</th>\n",
       "    </tr>\n",
       "  </thead>\n",
       "  <tbody>\n",
       "    <tr>\n",
       "      <th>0</th>\n",
       "      <td>male</td>\n",
       "      <td>15</td>\n",
       "      <td>Student</td>\n",
       "      <td>Leo</td>\n",
       "      <td>Info has been found (+/- 100 pages,...</td>\n",
       "    </tr>\n",
       "    <tr>\n",
       "      <th>1</th>\n",
       "      <td>male</td>\n",
       "      <td>15</td>\n",
       "      <td>Student</td>\n",
       "      <td>Leo</td>\n",
       "      <td>These are the team members:   Drewe...</td>\n",
       "    </tr>\n",
       "    <tr>\n",
       "      <th>2</th>\n",
       "      <td>male</td>\n",
       "      <td>15</td>\n",
       "      <td>Student</td>\n",
       "      <td>Leo</td>\n",
       "      <td>In het kader van kernfusie op aarde...</td>\n",
       "    </tr>\n",
       "    <tr>\n",
       "      <th>3</th>\n",
       "      <td>male</td>\n",
       "      <td>15</td>\n",
       "      <td>Student</td>\n",
       "      <td>Leo</td>\n",
       "      <td>testing!!!  testing!!!</td>\n",
       "    </tr>\n",
       "    <tr>\n",
       "      <th>4</th>\n",
       "      <td>male</td>\n",
       "      <td>33</td>\n",
       "      <td>InvestmentBanking</td>\n",
       "      <td>Aquarius</td>\n",
       "      <td>Thanks to Yahoo!'s Toolbar I can ...</td>\n",
       "    </tr>\n",
       "  </tbody>\n",
       "</table>\n",
       "</div>"
      ],
      "text/plain": [
       "  gender  age              topic      sign  \\\n",
       "0   male   15            Student       Leo   \n",
       "1   male   15            Student       Leo   \n",
       "2   male   15            Student       Leo   \n",
       "3   male   15            Student       Leo   \n",
       "4   male   33  InvestmentBanking  Aquarius   \n",
       "\n",
       "                                                text  \n",
       "0             Info has been found (+/- 100 pages,...  \n",
       "1             These are the team members:   Drewe...  \n",
       "2             In het kader van kernfusie op aarde...  \n",
       "3                   testing!!!  testing!!!            \n",
       "4               Thanks to Yahoo!'s Toolbar I can ...  "
      ]
     },
     "execution_count": 8,
     "metadata": {},
     "output_type": "execute_result"
    }
   ],
   "source": [
    "### Removing the id and data\n",
    "\n",
    "data_new.drop([\"id\",\"date\"],axis=1,inplace=True)\n",
    "data_new.head()"
   ]
  },
  {
   "cell_type": "code",
   "execution_count": 9,
   "metadata": {},
   "outputs": [
    {
     "name": "stdout",
     "output_type": "stream",
     "text": [
      "Is any missing values 0\n",
      "Shape of the data (3000, 5)\n"
     ]
    }
   ],
   "source": [
    "print(\"Is any missing values\",data_new.isna().sum().sum())\n",
    "\n",
    "print(\"Shape of the data\",data_new.shape)"
   ]
  },
  {
   "cell_type": "code",
   "execution_count": 10,
   "metadata": {},
   "outputs": [
    {
     "data": {
      "text/plain": [
       "<matplotlib.axes._subplots.AxesSubplot at 0x225768820d0>"
      ]
     },
     "execution_count": 10,
     "metadata": {},
     "output_type": "execute_result"
    },
    {
     "data": {
      "image/png": "[encoded data removed]",
      "text/plain": [
       "<Figure size 432x288 with 1 Axes>"
      ]
     },
     "metadata": {
      "needs_background": "light"
     },
     "output_type": "display_data"
    }
   ],
   "source": [
    "##### Distribution of gender\n",
    "sns.countplot(data=data_new,x=\"gender\") ### Distribution is equal"
   ]
  },
  {
   "cell_type": "code",
   "execution_count": 11,
   "metadata": {},
   "outputs": [
    {
     "name": "stdout",
     "output_type": "stream",
     "text": [
      "Unique value\n",
      "35    1607\n",
      "24     334\n",
      "15     299\n",
      "17     147\n",
      "25     110\n",
      "33      94\n",
      "23      93\n",
      "27      86\n",
      "14      74\n",
      "26      43\n",
      "39      32\n",
      "16      25\n",
      "37      19\n",
      "41      14\n",
      "45      14\n",
      "34       6\n",
      "44       3\n",
      "Name: age, dtype: int64\n"
     ]
    }
   ],
   "source": [
    "#### Unique Values for Age\n",
    "print('Unique value')\n",
    "#print(data.gender.unique())\n",
    "#data_new.sort_values(\"age\",inplace=True)\n",
    "print(data_new.age.value_counts())"
   ]
  },
  {
   "cell_type": "code",
   "execution_count": 12,
   "metadata": {},
   "outputs": [
    {
     "data": {
      "text/plain": [
       "Technology              1607\n",
       "indUnk                   452\n",
       "Student                  403\n",
       "Engineering              119\n",
       "Education                118\n",
       "Sports-Recreation         75\n",
       "InvestmentBanking         70\n",
       "Non-Profit                46\n",
       "Science                   33\n",
       "BusinessServices          21\n",
       "Internet                  20\n",
       "Banking                   16\n",
       "Communications-Media      14\n",
       "Accounting                 2\n",
       "Museums-Libraries          2\n",
       "Arts                       2\n",
       "Name: topic, dtype: int64"
      ]
     },
     "execution_count": 12,
     "metadata": {},
     "output_type": "execute_result"
    }
   ],
   "source": [
    "### distribution for topic\n",
    "data_new[\"topic\"].value_counts() ### distribution is implanced "
   ]
  },
  {
   "cell_type": "code",
   "execution_count": 13,
   "metadata": {},
   "outputs": [
    {
     "data": {
      "text/plain": [
       "(array([ 0,  1,  2,  3,  4,  5,  6,  7,  8,  9, 10, 11]),\n",
       " <a list of 12 Text major ticklabel objects>)"
      ]
     },
     "execution_count": 13,
     "metadata": {},
     "output_type": "execute_result"
    },
    {
     "data": {
      "image/png": "[encoded data removed]",
      "text/plain": [
       "<Figure size 360x216 with 1 Axes>"
      ]
     },
     "metadata": {
      "needs_background": "light"
     },
     "output_type": "display_data"
    }
   ],
   "source": [
    "### Distibution of sign \n",
    "plt.subplots(figsize=(5,3))\n",
    "sns.countplot(data=data_new,x=\"sign\") # No major difference in the count for each category\n",
    "plt.xticks(rotation=45)"
   ]
  },
  {
   "cell_type": "code",
   "execution_count": 14,
   "metadata": {},
   "outputs": [
    {
     "data": {
      "text/html": [
       "<div>\n",
       "<style scoped>\n",
       "    .dataframe tbody tr th:only-of-type {\n",
       "        vertical-align: middle;\n",
       "    }\n",
       "\n",
       "    .dataframe tbody tr th {\n",
       "        vertical-align: top;\n",
       "    }\n",
       "\n",
       "    .dataframe thead th {\n",
       "        text-align: right;\n",
       "    }\n",
       "</style>\n",
       "<table border=\"1\" class=\"dataframe\">\n",
       "  <thead>\n",
       "    <tr style=\"text-align: right;\">\n",
       "      <th></th>\n",
       "      <th>text</th>\n",
       "      <th>target</th>\n",
       "    </tr>\n",
       "  </thead>\n",
       "  <tbody>\n",
       "    <tr>\n",
       "      <th>0</th>\n",
       "      <td>Info has been found (+/- 100 pages,...</td>\n",
       "      <td>male,15,Student,Leo</td>\n",
       "    </tr>\n",
       "    <tr>\n",
       "      <th>1</th>\n",
       "      <td>These are the team members:   Drewe...</td>\n",
       "      <td>male,15,Student,Leo</td>\n",
       "    </tr>\n",
       "    <tr>\n",
       "      <th>2</th>\n",
       "      <td>In het kader van kernfusie op aarde...</td>\n",
       "      <td>male,15,Student,Leo</td>\n",
       "    </tr>\n",
       "    <tr>\n",
       "      <th>3</th>\n",
       "      <td>testing!!!  testing!!!</td>\n",
       "      <td>male,15,Student,Leo</td>\n",
       "    </tr>\n",
       "    <tr>\n",
       "      <th>4</th>\n",
       "      <td>Thanks to Yahoo!'s Toolbar I can ...</td>\n",
       "      <td>male,33,InvestmentBanking,Aquarius</td>\n",
       "    </tr>\n",
       "  </tbody>\n",
       "</table>\n",
       "</div>"
      ],
      "text/plain": [
       "                                                text  \\\n",
       "0             Info has been found (+/- 100 pages,...   \n",
       "1             These are the team members:   Drewe...   \n",
       "2             In het kader van kernfusie op aarde...   \n",
       "3                   testing!!!  testing!!!             \n",
       "4               Thanks to Yahoo!'s Toolbar I can ...   \n",
       "\n",
       "                               target  \n",
       "0                 male,15,Student,Leo  \n",
       "1                 male,15,Student,Leo  \n",
       "2                 male,15,Student,Leo  \n",
       "3                 male,15,Student,Leo  \n",
       "4  male,33,InvestmentBanking,Aquarius  "
      ]
     },
     "execution_count": 14,
     "metadata": {},
     "output_type": "execute_result"
    }
   ],
   "source": [
    "### Merge the labels\n",
    "#print(data_new.columns)\n",
    "data_new['age'] = data_new['age'].astype(str)\n",
    "data_new[\"target\"] = data_new[[\"gender\",\"age\",\"topic\",\"sign\"]].apply(lambda x:\",\".join(x),axis= 1)\n",
    "data_new.drop(['gender', 'age', 'topic', 'sign'],inplace = True,axis=1)\n",
    "data_new.head()"
   ]
  },
  {
   "cell_type": "code",
   "execution_count": 15,
   "metadata": {},
   "outputs": [],
   "source": [
    "#### Text Processing\n",
    "\n",
    "tokenizer = ToktokTokenizer()\n",
    "stopword_list = nltk.corpus.stopwords.words('english')\n",
    "stemmer = nltk.porter.PorterStemmer()\n",
    "lem = nltk.stem.wordnet.WordNetLemmatizer()\n",
    "\n",
    "\n",
    "\n",
    "\n",
    "def remove_html_tags(text):\n",
    "    return BeautifulSoup(text, 'html.parser').get_text()\n",
    "\n",
    "def remove_accented_chars(text):\n",
    "    new_text = unicodedata.normalize('NFKD', text).encode('ascii', 'ignore').decode('utf-8', 'ignore')\n",
    "    return new_text\n",
    "\n",
    "def remove_special_characters(text):\n",
    "    # define the pattern to keep\n",
    "    pat = r'[^a-zA-z0-9.,!?/:;\\\"\\'\\s]' \n",
    "    return re.sub(pat, '', text)\n",
    "\n",
    "def remove_numbers(text):\n",
    "    # define the pattern to keep\n",
    "    pattern = r'[^a-zA-z.,!?/:;\\\"\\'\\s]' \n",
    "    return re.sub(pattern, '', text)\n",
    "\n",
    "def remove_punctuation(text):\n",
    "    text = ''.join([c for c in text if c not in string.punctuation])\n",
    "    return text\n",
    "\n",
    "def remove_extra_whitespace_tabs(text):\n",
    "    pattern = r'^\\s*|\\s\\s*'\n",
    "    return re.sub(pattern, ' ', text).strip()\n",
    "\n",
    "def to_lowercase(text):\n",
    "    return text.lower()\n",
    "\n",
    "\n",
    "def remove_stopwords(text):\n",
    "    # convert sentence into token of words\n",
    "    tokens = tokenizer.tokenize(text)\n",
    "    tokens = [token.strip() for token in tokens]\n",
    "    # check in lowercase \n",
    "    t = [token for token in tokens if token.lower() not in stopword_list]\n",
    "    text = ' '.join(t)    \n",
    "    return text\n",
    "\n",
    "def get_stem(text):\n",
    "    stemmer = nltk.porter.PorterStemmer()\n",
    "    text = ' '.join([stemmer.stem(word) for word in text.split()])\n",
    "    return text\n",
    "\n",
    "def get_lem(text):\n",
    "    text = ' '.join([lem.lemmatize(word) for word in text.split()])\n",
    "    return text\n",
    "\n",
    "\n",
    "# re.sub(r'[^a-zA-z.,!?/:;\\\"\\'\\s]', '', str(data_new[\"text\"].head(5)))"
   ]
  },
  {
   "cell_type": "code",
   "execution_count": 16,
   "metadata": {},
   "outputs": [
    {
     "data": {
      "text/html": [
       "<div>\n",
       "<style scoped>\n",
       "    .dataframe tbody tr th:only-of-type {\n",
       "        vertical-align: middle;\n",
       "    }\n",
       "\n",
       "    .dataframe tbody tr th {\n",
       "        vertical-align: top;\n",
       "    }\n",
       "\n",
       "    .dataframe thead th {\n",
       "        text-align: right;\n",
       "    }\n",
       "</style>\n",
       "<table border=\"1\" class=\"dataframe\">\n",
       "  <thead>\n",
       "    <tr style=\"text-align: right;\">\n",
       "      <th></th>\n",
       "      <th>text</th>\n",
       "      <th>target</th>\n",
       "    </tr>\n",
       "  </thead>\n",
       "  <tbody>\n",
       "    <tr>\n",
       "      <th>0</th>\n",
       "      <td>info ha found page mb pdf file wait team leade...</td>\n",
       "      <td>male,15,Student,Leo</td>\n",
       "    </tr>\n",
       "    <tr>\n",
       "      <th>1</th>\n",
       "      <td>team member drew van der laag urllink mail rui...</td>\n",
       "      <td>male,15,Student,Leo</td>\n",
       "    </tr>\n",
       "    <tr>\n",
       "      <th>2</th>\n",
       "      <td>het kader van kernfusi op aard maak je eigen w...</td>\n",
       "      <td>male,15,Student,Leo</td>\n",
       "    </tr>\n",
       "    <tr>\n",
       "      <th>3</th>\n",
       "      <td>test test</td>\n",
       "      <td>male,15,Student,Leo</td>\n",
       "    </tr>\n",
       "    <tr>\n",
       "      <th>4</th>\n",
       "      <td>thank yahoo toolbar captur url popupswhich mea...</td>\n",
       "      <td>male,33,InvestmentBanking,Aquarius</td>\n",
       "    </tr>\n",
       "  </tbody>\n",
       "</table>\n",
       "</div>"
      ],
      "text/plain": [
       "                                                text  \\\n",
       "0  info ha found page mb pdf file wait team leade...   \n",
       "1  team member drew van der laag urllink mail rui...   \n",
       "2  het kader van kernfusi op aard maak je eigen w...   \n",
       "3                                          test test   \n",
       "4  thank yahoo toolbar captur url popupswhich mea...   \n",
       "\n",
       "                               target  \n",
       "0                 male,15,Student,Leo  \n",
       "1                 male,15,Student,Leo  \n",
       "2                 male,15,Student,Leo  \n",
       "3                 male,15,Student,Leo  \n",
       "4  male,33,InvestmentBanking,Aquarius  "
      ]
     },
     "execution_count": 16,
     "metadata": {},
     "output_type": "execute_result"
    }
   ],
   "source": [
    "def text_processing(text):\n",
    "    text = to_lowercase(text)\n",
    "    text = remove_html_tags(text)\n",
    "    text = remove_accented_chars(text)\n",
    "    text = remove_special_characters(text)\n",
    "    text = remove_numbers(text)\n",
    "    text = remove_punctuation(text)\n",
    "    text = remove_extra_whitespace_tabs(text)\n",
    "    text = get_stem(text)\n",
    "    text = get_lem(text)\n",
    "    text = remove_stopwords(text)\n",
    "    return text\n",
    "    \n",
    "data_new[\"text\"] = data_new[\"text\"].apply(text_processing)    \n",
    "data_new.head()        "
   ]
  },
  {
   "cell_type": "code",
   "execution_count": 17,
   "metadata": {},
   "outputs": [
    {
     "name": "stdout",
     "output_type": "stream",
     "text": [
      "text      0\n",
      "target    0\n",
      "dtype: int64\n",
      "text      0\n",
      "target    0\n",
      "dtype: int64\n"
     ]
    }
   ],
   "source": [
    "print(data_new.isna().sum())### Check is there any missing value after processing\n",
    "data_new.dropna(inplace=True)\n",
    "print(data_new.isna().sum())"
   ]
  },
  {
   "cell_type": "code",
   "execution_count": 18,
   "metadata": {},
   "outputs": [
    {
     "data": {
      "text/html": [
       "<div>\n",
       "<style scoped>\n",
       "    .dataframe tbody tr th:only-of-type {\n",
       "        vertical-align: middle;\n",
       "    }\n",
       "\n",
       "    .dataframe tbody tr th {\n",
       "        vertical-align: top;\n",
       "    }\n",
       "\n",
       "    .dataframe thead th {\n",
       "        text-align: right;\n",
       "    }\n",
       "</style>\n",
       "<table border=\"1\" class=\"dataframe\">\n",
       "  <thead>\n",
       "    <tr style=\"text-align: right;\">\n",
       "      <th></th>\n",
       "      <th>text</th>\n",
       "      <th>target</th>\n",
       "    </tr>\n",
       "  </thead>\n",
       "  <tbody>\n",
       "    <tr>\n",
       "      <th>0</th>\n",
       "      <td>info ha found page mb pdf file wait team leade...</td>\n",
       "      <td>male,15,student,leo</td>\n",
       "    </tr>\n",
       "    <tr>\n",
       "      <th>1</th>\n",
       "      <td>team member drew van der laag urllink mail rui...</td>\n",
       "      <td>male,15,student,leo</td>\n",
       "    </tr>\n",
       "    <tr>\n",
       "      <th>2</th>\n",
       "      <td>het kader van kernfusi op aard maak je eigen w...</td>\n",
       "      <td>male,15,student,leo</td>\n",
       "    </tr>\n",
       "    <tr>\n",
       "      <th>3</th>\n",
       "      <td>test test</td>\n",
       "      <td>male,15,student,leo</td>\n",
       "    </tr>\n",
       "    <tr>\n",
       "      <th>4</th>\n",
       "      <td>thank yahoo toolbar captur url popupswhich mea...</td>\n",
       "      <td>male,33,investmentbanking,aquarius</td>\n",
       "    </tr>\n",
       "  </tbody>\n",
       "</table>\n",
       "</div>"
      ],
      "text/plain": [
       "                                                text  \\\n",
       "0  info ha found page mb pdf file wait team leade...   \n",
       "1  team member drew van der laag urllink mail rui...   \n",
       "2  het kader van kernfusi op aard maak je eigen w...   \n",
       "3                                          test test   \n",
       "4  thank yahoo toolbar captur url popupswhich mea...   \n",
       "\n",
       "                               target  \n",
       "0                 male,15,student,leo  \n",
       "1                 male,15,student,leo  \n",
       "2                 male,15,student,leo  \n",
       "3                 male,15,student,leo  \n",
       "4  male,33,investmentbanking,aquarius  "
      ]
     },
     "execution_count": 18,
     "metadata": {},
     "output_type": "execute_result"
    }
   ],
   "source": [
    "### Convert target to lower case\n",
    "data_new[\"target\"] = data_new[\"target\"].apply(to_lowercase)    \n",
    "data_new[\"target\"] = data_new[\"target\"].apply(remove_special_characters) \n",
    "data_new[\"target\"] = data_new[\"target\"].apply(remove_extra_whitespace_tabs) \n",
    "\n",
    "data_new.head()        "
   ]
  },
  {
   "cell_type": "markdown",
   "metadata": {},
   "source": [
    "### Test Train split"
   ]
  },
  {
   "cell_type": "code",
   "execution_count": 19,
   "metadata": {},
   "outputs": [
    {
     "name": "stdout",
     "output_type": "stream",
     "text": [
      "X_train Shape (2400,)\n",
      "y_train Shape (2400,)\n",
      "X_test Shape (600,)\n",
      "y_test Shape (600,)\n"
     ]
    }
   ],
   "source": [
    "X = data_new['text']\n",
    "y = data_new[\"target\"]\n",
    "X_train, X_test, y_train, y_test = train_test_split(X,y, test_size = 0.2, random_state = RANDOM_SEED)\n",
    "\n",
    "print(\"X_train Shape\",X_train.shape)\n",
    "print(\"y_train Shape\",y_train.shape)\n",
    "\n",
    "print(\"X_test Shape\",X_test.shape)\n",
    "print(\"y_test Shape\",y_test.shape)"
   ]
  },
  {
   "cell_type": "markdown",
   "metadata": {},
   "source": [
    "### Encoding target value"
   ]
  },
  {
   "cell_type": "code",
   "execution_count": 20,
   "metadata": {},
   "outputs": [
    {
     "name": "stdout",
     "output_type": "stream",
     "text": [
      "unique labels  ['male', '15', 'student', 'leo', '33', 'investmentbanking', 'aquarius', 'female', '14', 'indunk', 'aries', '25', 'capricorn', '17', 'gemini', '23', 'nonprofit', 'cancer', 'banking', '37', 'sagittarius', '26', '24', 'scorpio', '27', 'education', '45', 'engineering', 'libra', 'science', '34', '41', 'communicationsmedia', 'businessservices', 'sportsrecreation', 'virgo', 'taurus', 'arts', 'pisces', '44', '16', 'internet', 'museumslibraries', 'accounting', '39', '35', 'technology']\n"
     ]
    }
   ],
   "source": [
    "vectorizer_labels = CountVectorizer(min_df = 1,ngram_range = (1,1),stop_words = \"english\")\n",
    "labels_vector = vectorizer_labels.fit_transform(y)\n",
    "label_classes=[]\n",
    "for  key in vectorizer_labels.vocabulary_.keys():\n",
    "  label_classes.append(key)\n",
    "print(\"unique labels \",label_classes)"
   ]
  },
  {
   "cell_type": "code",
   "execution_count": 21,
   "metadata": {},
   "outputs": [
    {
     "data": {
      "text/plain": [
       "MultiLabelBinarizer(classes=['male', '15', 'student', 'leo', '33',\n",
       "                             'investmentbanking', 'aquarius', 'female', '14',\n",
       "                             'indunk', 'aries', '25', 'capricorn', '17',\n",
       "                             'gemini', '23', 'nonprofit', 'cancer', 'banking',\n",
       "                             '37', 'sagittarius', '26', '24', 'scorpio', '27',\n",
       "                             'education', '45', 'engineering', 'libra',\n",
       "                             'science', ...])"
      ]
     },
     "execution_count": 21,
     "metadata": {},
     "output_type": "execute_result"
    }
   ],
   "source": [
    "mlp = MultiLabelBinarizer(classes = label_classes)\n",
    "y  = [s.split(\",\") for s in y]\n",
    "mlp.fit(y)"
   ]
  },
  {
   "cell_type": "code",
   "execution_count": 22,
   "metadata": {},
   "outputs": [],
   "source": [
    "y_train = [s.split(\",\") for s in y_train]\n",
    "y_train = mlp.transform(y_train)\n",
    "\n",
    "y_test = [s.split(\",\") for s in y_test]\n",
    "y_test = mlp.transform(y_test)"
   ]
  },
  {
   "cell_type": "markdown",
   "metadata": {},
   "source": [
    "### Approach 1 - Using BoW"
   ]
  },
  {
   "cell_type": "code",
   "execution_count": 23,
   "metadata": {},
   "outputs": [],
   "source": [
    "def metrics(true,predict):\n",
    "    print('Test Accuracy score: ', accuracy_score(true,predict))\n",
    "    print('F1 score: weighted', f1_score(true,predict, average='weighted'))\n",
    "    print('Average precision score: weighted', average_precision_score(true,predict, average='weighted'))\n",
    "    print('Average recall score: weighted', recall_score(true,predict, average='weighted'))"
   ]
  },
  {
   "cell_type": "code",
   "execution_count": 24,
   "metadata": {},
   "outputs": [],
   "source": [
    "bow_vector = CountVectorizer(min_df = 2,ngram_range = (1,2),stop_words = \"english\")"
   ]
  },
  {
   "cell_type": "code",
   "execution_count": 25,
   "metadata": {},
   "outputs": [
    {
     "name": "stdout",
     "output_type": "stream",
     "text": [
      "Train accuracy -  0.4775\n",
      "-------Score for Linear regression- OneVsRestClassifier with BoW ------\n",
      "Test Accuracy score:  0.31166666666666665\n",
      "F1 score: weighted 0.6101977576802216\n",
      "Average precision score: weighted 0.5746338119575795\n",
      "Average recall score: weighted 0.5441666666666667\n"
     ]
    }
   ],
   "source": [
    "####  LogisticRegression\n",
    "lg = LogisticRegression(solver='sag')\n",
    "\n",
    "## pipeline\n",
    "bow_lg_pipeline = Pipeline([(\"vectorizer\", bow_vector),  \n",
    "                      (\"classifier\", OneVsRestClassifier(lg))])\n",
    "\n",
    "bow_lg_pipeline.fit(X_train,y_train)\n",
    "\n",
    "print(\"Train accuracy - \", bow_lg_pipeline.score(X_train,y_train))\n",
    "y_predict = bow_lg_pipeline.predict(X_test)\n",
    "\n",
    "print(\"-------Score for Linear regression- OneVsRestClassifier with BoW ------\")\n",
    "metrics(y_test,y_predict)"
   ]
  },
  {
   "cell_type": "code",
   "execution_count": 26,
   "metadata": {},
   "outputs": [
    {
     "name": "stdout",
     "output_type": "stream",
     "text": [
      "Train accuracy -  0.7441666666666666\n",
      "-------Score for MultinomialNB - OneVsRestClassifier with BoW ------\n",
      "Test Accuracy score:  0.4033333333333333\n",
      "F1 score: weighted 0.6720436465185925\n",
      "Average precision score: weighted 0.6474300863194618\n",
      "Average recall score: weighted 0.5816666666666667\n"
     ]
    }
   ],
   "source": [
    "#### MultinomialNB\n",
    "mNB = MultinomialNB(fit_prior=True, class_prior=None)\n",
    "\n",
    "## pipeline\n",
    "bow_NB_pipeline = Pipeline([(\"vectorizer\", bow_vector),  \n",
    "                      (\"classifier\", OneVsRestClassifier(mNB))])\n",
    "\n",
    "bow_NB_pipeline.fit(X_train,y_train)\n",
    "\n",
    "print(\"Train accuracy - \", bow_NB_pipeline.score(X_train,y_train))\n",
    "y_predict = bow_NB_pipeline.predict(X_test)\n",
    "print(\"-------Score for MultinomialNB - OneVsRestClassifier with BoW ------\")\n",
    "metrics(y_test,y_predict)"
   ]
  },
  {
   "cell_type": "code",
   "execution_count": 27,
   "metadata": {},
   "outputs": [
    {
     "name": "stdout",
     "output_type": "stream",
     "text": [
      "Train accuracy -  0.99875\n",
      "-------Score for LinearSVC - OneVsRestClassifier with BoW ------\n",
      "Test Accuracy score:  0.5716666666666667\n",
      "F1 score: weighted 0.7330110982080398\n",
      "Average precision score: weighted 0.6355561724766374\n",
      "Average recall score: weighted 0.7316666666666667\n"
     ]
    }
   ],
   "source": [
    "#### LinearSVC\n",
    "svc = LinearSVC()\n",
    "\n",
    "## pipeline\n",
    "bow_svc_pipeline = Pipeline([(\"vectorizer\", bow_vector),  \n",
    "                      (\"classifier\", OneVsRestClassifier(svc))])\n",
    "\n",
    "bow_svc_pipeline.fit(X_train,y_train)\n",
    "\n",
    "print(\"Train accuracy - \", bow_svc_pipeline.score(X_train,y_train))\n",
    "y_predict = bow_svc_pipeline.predict(X_test)\n",
    "print(\"-------Score for LinearSVC - OneVsRestClassifier with BoW ------\")\n",
    "metrics(y_test,y_predict)"
   ]
  },
  {
   "cell_type": "markdown",
   "metadata": {},
   "source": [
    "### Approach 2 -  Tf-Idf"
   ]
  },
  {
   "cell_type": "code",
   "execution_count": 28,
   "metadata": {},
   "outputs": [],
   "source": [
    "tfidf_vector = TfidfVectorizer()"
   ]
  },
  {
   "cell_type": "code",
   "execution_count": 29,
   "metadata": {},
   "outputs": [
    {
     "name": "stdout",
     "output_type": "stream",
     "text": [
      "Train accuracy -  0.54125\n",
      "-------Score for Linear regression- OneVsRestClassifier with TfidfVectorizer ------\n",
      "Test Accuracy score:  0.48333333333333334\n",
      "F1 score: weighted 0.5830748505909418\n",
      "Average precision score: weighted 0.5544726995742807\n",
      "Average recall score: weighted 0.5879166666666666\n"
     ]
    }
   ],
   "source": [
    "####  LogisticRegression\n",
    "lg = LogisticRegression(solver='sag')\n",
    "\n",
    "## pipeline\n",
    "tfidf_lg_pipeline = Pipeline([(\"vectorizer\", tfidf_vector),  \n",
    "                      (\"classifier\", OneVsRestClassifier(lg))])\n",
    "\n",
    "tfidf_lg_pipeline.fit(X_train,y_train)\n",
    "\n",
    "print(\"Train accuracy - \", tfidf_lg_pipeline.score(X_train,y_train))\n",
    "y_predict = tfidf_lg_pipeline.predict(X_test)\n",
    "\n",
    "print(\"-------Score for Linear regression- OneVsRestClassifier with TfidfVectorizer ------\")\n",
    "metrics(y_test,y_predict)\n"
   ]
  },
  {
   "cell_type": "code",
   "execution_count": 30,
   "metadata": {},
   "outputs": [
    {
     "name": "stdout",
     "output_type": "stream",
     "text": [
      "Train accuracy -  0.4195833333333333\n",
      "-------Score for MultinomialNB- OneVsRestClassifier with TfidfVectorizer ------\n",
      "Test Accuracy score:  0.275\n",
      "F1 score: weighted 0.44913484595119285\n",
      "Average precision score: weighted 0.5009724788503029\n",
      "Average recall score: weighted 0.4166666666666667\n"
     ]
    }
   ],
   "source": [
    "#### MultinomialNB\n",
    "mNB = MultinomialNB(fit_prior=True, class_prior=None)\n",
    "\n",
    "## pipeline\n",
    "tfidf_NB_pipeline = Pipeline([(\"vectorizer\", tfidf_vector),  \n",
    "                      (\"classifier\", OneVsRestClassifier(mNB))])\n",
    "\n",
    "tfidf_NB_pipeline.fit(X_train,y_train)\n",
    "\n",
    "print(\"Train accuracy - \", tfidf_NB_pipeline.score(X_train,y_train))\n",
    "y_predict = tfidf_NB_pipeline.predict(X_test)\n",
    "print(\"-------Score for MultinomialNB- OneVsRestClassifier with TfidfVectorizer ------\")\n",
    "metrics(y_test,y_predict)"
   ]
  },
  {
   "cell_type": "code",
   "execution_count": 31,
   "metadata": {},
   "outputs": [
    {
     "name": "stdout",
     "output_type": "stream",
     "text": [
      "Train accuracy -  0.9941666666666666\n",
      "-------Score for LinearSVC - OneVsRestClassifier with TfidfVectorizer ------\n",
      "Test Accuracy score:  0.5983333333333334\n",
      "F1 score: weighted 0.7554008613564006\n",
      "Average precision score: weighted 0.6884179034977158\n",
      "Average recall score: weighted 0.72125\n"
     ]
    }
   ],
   "source": [
    "#### LinearSVC\n",
    "svc = LinearSVC()\n",
    "\n",
    "## pipeline\n",
    "tfidf_svc_pipeline = Pipeline([(\"vectorizer\", tfidf_vector),  \n",
    "                      (\"classifier\", OneVsRestClassifier(svc))])\n",
    "\n",
    "tfidf_svc_pipeline.fit(X_train,y_train)\n",
    "\n",
    "print(\"Train accuracy - \", tfidf_svc_pipeline.score(X_train,y_train))\n",
    "y_predict = tfidf_svc_pipeline.predict(X_test)\n",
    "print(\"-------Score for LinearSVC - OneVsRestClassifier with TfidfVectorizer ------\")\n",
    "metrics(y_test,y_predict)"
   ]
  },
  {
   "cell_type": "markdown",
   "metadata": {},
   "source": [
    " - Linear regression - OneVsRestClassifier with TfidfVectorizer has better score with overfit\n",
    " - Train accuracy - 54 % / Test accuracy - 48 %\n"
   ]
  },
  {
   "cell_type": "code",
   "execution_count": 32,
   "metadata": {},
   "outputs": [],
   "source": [
    "### True vs predicted value for \n",
    "\n",
    "y_predict = tfidf_lg_pipeline.predict(X_test)"
   ]
  },
  {
   "cell_type": "code",
   "execution_count": 33,
   "metadata": {},
   "outputs": [
    {
     "name": "stdout",
     "output_type": "stream",
     "text": [
      "Predicted Value ('male', 'aries', '35', 'technology')\n",
      "Original value  ('male', 'aries', '35', 'technology')\n",
      "----------------\n",
      "Predicted Value ('male', 'aries', '35', 'technology')\n",
      "Original value  ('male', 'aries', '35', 'technology')\n",
      "----------------\n",
      "Predicted Value ('female',)\n",
      "Original value  ('female', 'indunk', 'taurus', '16')\n",
      "----------------\n",
      "Predicted Value ('male', 'aries', '35', 'technology')\n",
      "Original value  ('male', 'aries', '35', 'technology')\n",
      "----------------\n",
      "Predicted Value ('male', 'aries', '35', 'technology')\n",
      "Original value  ('male', 'aries', '35', 'technology')\n",
      "----------------\n"
     ]
    }
   ],
   "source": [
    "for index in [5,10,16,17,18]:    \n",
    "    print(\"Predicted Value\", mlp.inverse_transform(y_predict)[index])\n",
    "    print(\"Original value \", mlp.inverse_transform(y_test)[index])\n",
    "    print(\"----------------\")"
   ]
  }
 ],
 "metadata": {
  "kernelspec": {
   "display_name": "Python 3",
   "language": "python",
   "name": "python3"
  },
  "language_info": {
   "codemirror_mode": {
    "name": "ipython",
    "version": 3
   },
   "file_extension": ".py",
   "mimetype": "text/x-python",
   "name": "python",
   "nbconvert_exporter": "python",
   "pygments_lexer": "ipython3",
   "version": "3.8.3"
  },
  "toc": {
   "base_numbering": 1,
   "nav_menu": {},
   "number_sections": false,
   "sideBar": true,
   "skip_h1_title": false,
   "title_cell": "Table of Contents",
   "title_sidebar": "Contents",
   "toc_cell": false,
   "toc_position": {
    "height": "calc(100% - 180px)",
    "left": "10px",
    "top": "150px",
    "width": "273.188px"
   },
   "toc_section_display": true,
   "toc_window_display": true
  }
 },
 "nbformat": 4,
 "nbformat_minor": 4
}
