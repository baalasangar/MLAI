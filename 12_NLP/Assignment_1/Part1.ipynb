{
 "cells": [
  {
   "cell_type": "markdown",
   "metadata": {},
   "source": [
    "### Import lib"
   ]
  },
  {
   "cell_type": "code",
   "execution_count": 1,
   "metadata": {},
   "outputs": [
    {
     "name": "stderr",
     "output_type": "stream",
     "text": [
      "[nltk_data] Downloading package stopwords to\n",
      "[nltk_data]     C:\\Users\\admin\\AppData\\Roaming\\nltk_data...\n",
      "[nltk_data]   Package stopwords is already up-to-date!\n",
      "[nltk_data] Downloading package wordnet to\n",
      "[nltk_data]     C:\\Users\\admin\\AppData\\Roaming\\nltk_data...\n",
      "[nltk_data]   Package wordnet is already up-to-date!\n",
      "[nltk_data] Downloading package punkt to\n",
      "[nltk_data]     C:\\Users\\admin\\AppData\\Roaming\\nltk_data...\n",
      "[nltk_data]   Unzipping tokenizers\\punkt.zip.\n"
     ]
    }
   ],
   "source": [
    "import pandas as pd \n",
    "import numpy as np\n",
    "\n",
    "from sklearn.preprocessing import LabelEncoder\n",
    "\n",
    "\n",
    "import re\n",
    "import nltk\n",
    "nltk.download('stopwords')\n",
    "nltk.download('wordnet')\n",
    "nltk.download('punkt')\n",
    "\n",
    "import matplotlib.pyplot as plt\n",
    "import seaborn as sns\n",
    "\n",
    "from sklearn.model_selection import train_test_split \n",
    "from sklearn.feature_extraction.text import CountVectorizer,TfidfVectorizer\n",
    "from sklearn.naive_bayes import MultinomialNB\n",
    "from sklearn.pipeline import Pipeline \n",
    "\n",
    "## Metrics\n",
    "import sklearn.metrics as metrics\n",
    "\n",
    "from sklearn.svm import SVC\n",
    "\n",
    "import warnings\n",
    "warnings.filterwarnings(\"ignore\")"
   ]
  },
  {
   "cell_type": "markdown",
   "metadata": {},
   "source": [
    "### load data"
   ]
  },
  {
   "cell_type": "code",
   "execution_count": 2,
   "metadata": {},
   "outputs": [],
   "source": [
    "data = pd.read_csv(\"blogtext.csv\")"
   ]
  },
  {
   "cell_type": "code",
   "execution_count": 3,
   "metadata": {},
   "outputs": [],
   "source": [
    "### Filter out the topic by ( indUnk,Student,Technology ) since running for all the topic takes long time\n",
    "data = data.query(\"topic in ['indUnk','Student','Technology']\")"
   ]
  },
  {
   "cell_type": "code",
   "execution_count": 4,
   "metadata": {},
   "outputs": [
    {
     "data": {
      "text/html": [
       "<div>\n",
       "<style scoped>\n",
       "    .dataframe tbody tr th:only-of-type {\n",
       "        vertical-align: middle;\n",
       "    }\n",
       "\n",
       "    .dataframe tbody tr th {\n",
       "        vertical-align: top;\n",
       "    }\n",
       "\n",
       "    .dataframe thead th {\n",
       "        text-align: right;\n",
       "    }\n",
       "</style>\n",
       "<table border=\"1\" class=\"dataframe\">\n",
       "  <thead>\n",
       "    <tr style=\"text-align: right;\">\n",
       "      <th></th>\n",
       "      <th>id</th>\n",
       "      <th>gender</th>\n",
       "      <th>age</th>\n",
       "      <th>topic</th>\n",
       "      <th>sign</th>\n",
       "      <th>date</th>\n",
       "      <th>text</th>\n",
       "    </tr>\n",
       "  </thead>\n",
       "  <tbody>\n",
       "    <tr>\n",
       "      <th>0</th>\n",
       "      <td>2059027</td>\n",
       "      <td>male</td>\n",
       "      <td>15</td>\n",
       "      <td>Student</td>\n",
       "      <td>Leo</td>\n",
       "      <td>14,May,2004</td>\n",
       "      <td>Info has been found (+/- 100 pages,...</td>\n",
       "    </tr>\n",
       "    <tr>\n",
       "      <th>1</th>\n",
       "      <td>2059027</td>\n",
       "      <td>male</td>\n",
       "      <td>15</td>\n",
       "      <td>Student</td>\n",
       "      <td>Leo</td>\n",
       "      <td>13,May,2004</td>\n",
       "      <td>These are the team members:   Drewe...</td>\n",
       "    </tr>\n",
       "    <tr>\n",
       "      <th>2</th>\n",
       "      <td>2059027</td>\n",
       "      <td>male</td>\n",
       "      <td>15</td>\n",
       "      <td>Student</td>\n",
       "      <td>Leo</td>\n",
       "      <td>12,May,2004</td>\n",
       "      <td>In het kader van kernfusie op aarde...</td>\n",
       "    </tr>\n",
       "    <tr>\n",
       "      <th>3</th>\n",
       "      <td>2059027</td>\n",
       "      <td>male</td>\n",
       "      <td>15</td>\n",
       "      <td>Student</td>\n",
       "      <td>Leo</td>\n",
       "      <td>12,May,2004</td>\n",
       "      <td>testing!!!  testing!!!</td>\n",
       "    </tr>\n",
       "    <tr>\n",
       "      <th>74</th>\n",
       "      <td>3539003</td>\n",
       "      <td>female</td>\n",
       "      <td>14</td>\n",
       "      <td>indUnk</td>\n",
       "      <td>Aries</td>\n",
       "      <td>07,June,2004</td>\n",
       "      <td>O= optimist P= pessimist  My...</td>\n",
       "    </tr>\n",
       "  </tbody>\n",
       "</table>\n",
       "</div>"
      ],
      "text/plain": [
       "         id  gender  age    topic   sign          date  \\\n",
       "0   2059027    male   15  Student    Leo   14,May,2004   \n",
       "1   2059027    male   15  Student    Leo   13,May,2004   \n",
       "2   2059027    male   15  Student    Leo   12,May,2004   \n",
       "3   2059027    male   15  Student    Leo   12,May,2004   \n",
       "74  3539003  female   14   indUnk  Aries  07,June,2004   \n",
       "\n",
       "                                                 text  \n",
       "0              Info has been found (+/- 100 pages,...  \n",
       "1              These are the team members:   Drewe...  \n",
       "2              In het kader van kernfusie op aarde...  \n",
       "3                    testing!!!  testing!!!            \n",
       "74                    O= optimist P= pessimist  My...  "
      ]
     },
     "execution_count": 4,
     "metadata": {},
     "output_type": "execute_result"
    }
   ],
   "source": [
    "data.head()"
   ]
  },
  {
   "cell_type": "code",
   "execution_count": 5,
   "metadata": {},
   "outputs": [
    {
     "data": {
      "text/plain": [
       "Index(['id', 'gender', 'age', 'topic', 'sign', 'date', 'text'], dtype='object')"
      ]
     },
     "execution_count": 5,
     "metadata": {},
     "output_type": "execute_result"
    }
   ],
   "source": [
    "data.columns"
   ]
  },
  {
   "cell_type": "markdown",
   "metadata": {},
   "source": [
    "### Exploratory Data Analysis"
   ]
  },
  {
   "cell_type": "code",
   "execution_count": 6,
   "metadata": {},
   "outputs": [
    {
     "name": "stdout",
     "output_type": "stream",
     "text": [
      "Is any missing values 0\n",
      "Shape of the data (446973, 7)\n"
     ]
    }
   ],
   "source": [
    "print(\"Is any missing values\",data.isna().sum().sum())\n",
    "\n",
    "print(\"Shape of the data\",data.shape)"
   ]
  },
  {
   "cell_type": "markdown",
   "metadata": {},
   "source": [
    "#### Gender"
   ]
  },
  {
   "cell_type": "code",
   "execution_count": 7,
   "metadata": {},
   "outputs": [
    {
     "data": {
      "text/plain": [
       "<matplotlib.axes._subplots.AxesSubplot at 0x2a685a4d790>"
      ]
     },
     "execution_count": 7,
     "metadata": {},
     "output_type": "execute_result"
    },
    {
     "data": {
      "image/png": "[encoded data removed]",
      "text/plain": [
       "<Figure size 432x288 with 1 Axes>"
      ]
     },
     "metadata": {
      "needs_background": "light"
     },
     "output_type": "display_data"
    }
   ],
   "source": [
    "# print('Unique value')\n",
    "# #print(data.gender.unique())\n",
    "# print(data.gender.value_counts())\n",
    "\n",
    "sns.countplot(data=data,x=\"gender\")"
   ]
  },
  {
   "cell_type": "markdown",
   "metadata": {},
   "source": [
    "- distribution of Male and Female data is almost same"
   ]
  },
  {
   "cell_type": "markdown",
   "metadata": {},
   "source": [
    "#### Age"
   ]
  },
  {
   "cell_type": "code",
   "execution_count": 8,
   "metadata": {},
   "outputs": [
    {
     "name": "stdout",
     "output_type": "stream",
     "text": [
      "Unique value\n",
      "13    11055\n",
      "14    22919\n",
      "15    35291\n",
      "16    63862\n",
      "17    65446\n",
      "23    42528\n",
      "24    48422\n",
      "25    35079\n",
      "26    27362\n",
      "27    27248\n",
      "33     7184\n",
      "34    14841\n",
      "35    11857\n",
      "36     6228\n",
      "37     4777\n",
      "38     5374\n",
      "39     2873\n",
      "40     3110\n",
      "41     1776\n",
      "42     1744\n",
      "43     1585\n",
      "44      910\n",
      "45     1810\n",
      "46      718\n",
      "47      707\n",
      "48     2267\n",
      "Name: age, dtype: int64\n"
     ]
    }
   ],
   "source": [
    "print('Unique value')\n",
    "#print(data.gender.unique())\n",
    "#data.sort_values(\"age\",inplace=True)\n",
    "print(data.age.value_counts(sort=False))"
   ]
  },
  {
   "cell_type": "markdown",
   "metadata": {},
   "source": [
    " - data distribution of age 13 - 17 , 23 - 27 ,33 - 48\n",
    " - Age can be converted to categorical value ( 10s , 20s & 30s )  "
   ]
  },
  {
   "cell_type": "code",
   "execution_count": 9,
   "metadata": {},
   "outputs": [],
   "source": [
    "def age_to_categorical(x):\n",
    "    if x >=13 and x <=17:\n",
    "        return \"10s\"\n",
    "    elif x >=23 and x <=27:\n",
    "        return \"20s\"\n",
    "    else:\n",
    "        return \"30s\"\n",
    "\n",
    "data[\"age_impu\"] = data[\"age\"].apply(age_to_categorical)"
   ]
  },
  {
   "cell_type": "code",
   "execution_count": 10,
   "metadata": {},
   "outputs": [
    {
     "data": {
      "text/plain": [
       "<matplotlib.axes._subplots.AxesSubplot at 0x2a6c0a6bb20>"
      ]
     },
     "execution_count": 10,
     "metadata": {},
     "output_type": "execute_result"
    },
    {
     "data": {
      "image/png": "[encoded data removed]",
      "text/plain": [
       "<Figure size 432x288 with 1 Axes>"
      ]
     },
     "metadata": {
      "needs_background": "light"
     },
     "output_type": "display_data"
    }
   ],
   "source": [
    "sns.countplot(data=data,x=\"age_impu\")"
   ]
  },
  {
   "cell_type": "markdown",
   "metadata": {},
   "source": [
    "- data distribution for 10s are high when compare to 20s and 30s"
   ]
  },
  {
   "cell_type": "markdown",
   "metadata": {},
   "source": [
    "#### topic"
   ]
  },
  {
   "cell_type": "code",
   "execution_count": 11,
   "metadata": {},
   "outputs": [
    {
     "data": {
      "text/plain": [
       "indUnk        251015\n",
       "Student       153903\n",
       "Technology     42055\n",
       "Name: topic, dtype: int64"
      ]
     },
     "execution_count": 11,
     "metadata": {},
     "output_type": "execute_result"
    }
   ],
   "source": [
    "data[\"topic\"].value_counts()"
   ]
  },
  {
   "cell_type": "markdown",
   "metadata": {},
   "source": [
    "#### sign"
   ]
  },
  {
   "cell_type": "code",
   "execution_count": 12,
   "metadata": {},
   "outputs": [
    {
     "data": {
      "text/plain": [
       "Aries          45172\n",
       "Cancer         44621\n",
       "Taurus         42507\n",
       "Libra          40787\n",
       "Virgo          39697\n",
       "Leo            36357\n",
       "Scorpio        36138\n",
       "Pisces         34163\n",
       "Capricorn      32373\n",
       "Sagittarius    32062\n",
       "Gemini         31965\n",
       "Aquarius       31131\n",
       "Name: sign, dtype: int64"
      ]
     },
     "execution_count": 12,
     "metadata": {},
     "output_type": "execute_result"
    }
   ],
   "source": [
    "data[\"sign\"].value_counts()"
   ]
  },
  {
   "cell_type": "markdown",
   "metadata": {},
   "source": [
    "#### Delete id and age"
   ]
  },
  {
   "cell_type": "code",
   "execution_count": 13,
   "metadata": {},
   "outputs": [
    {
     "data": {
      "text/plain": [
       "Index(['gender', 'age', 'topic', 'sign', 'text', 'age_impu'], dtype='object')"
      ]
     },
     "execution_count": 13,
     "metadata": {},
     "output_type": "execute_result"
    }
   ],
   "source": [
    "## Delete ID and date\n",
    "data.drop([\"id\",\"date\"],inplace=True,axis=1)\n",
    "data.columns"
   ]
  },
  {
   "cell_type": "markdown",
   "metadata": {},
   "source": [
    "#### Target"
   ]
  },
  {
   "cell_type": "code",
   "execution_count": 14,
   "metadata": {},
   "outputs": [],
   "source": [
    "data[\"Target\"] = data[\"gender\"].map(str) + data[\"age_impu\"].map(str)  + data[\"topic\"].map(str)+data[\"sign\"].map(str)"
   ]
  },
  {
   "cell_type": "code",
   "execution_count": 15,
   "metadata": {},
   "outputs": [],
   "source": [
    "#label Encoding on Target\n",
    "labelEncoding = LabelEncoder()\n",
    "data[\"Target_imp\"] = labelEncoding.fit_transform(data[\"Target\"])"
   ]
  },
  {
   "cell_type": "code",
   "execution_count": 16,
   "metadata": {},
   "outputs": [
    {
     "data": {
      "text/plain": [
       "count    446973.000000\n",
       "mean         91.320565\n",
       "std          59.645731\n",
       "min           0.000000\n",
       "25%          35.000000\n",
       "50%          98.000000\n",
       "75%         140.000000\n",
       "max         204.000000\n",
       "Name: Target_imp, dtype: float64"
      ]
     },
     "execution_count": 16,
     "metadata": {},
     "output_type": "execute_result"
    }
   ],
   "source": [
    "data[\"Target_imp\"].describe()"
   ]
  },
  {
   "cell_type": "code",
   "execution_count": 17,
   "metadata": {},
   "outputs": [
    {
     "data": {
      "text/plain": [
       "55     10371\n",
       "54      9512\n",
       "6       9029\n",
       "170     6767\n",
       "111     6619\n",
       "       ...  \n",
       "16         7\n",
       "71         5\n",
       "175        4\n",
       "15         4\n",
       "75         2\n",
       "Name: Target_imp, Length: 205, dtype: int64"
      ]
     },
     "execution_count": 17,
     "metadata": {},
     "output_type": "execute_result"
    }
   ],
   "source": [
    "data[\"Target_imp\"].value_counts()"
   ]
  },
  {
   "cell_type": "markdown",
   "metadata": {},
   "source": [
    "### Text pre-processing\n",
    " - convert to lowercase and remove punctuations and characters and then strip\n",
    " - Tokenize (convert from string to list)\n",
    " - remove Stopwords\n",
    " - Stemming (remove -ing, -ly, ...)\n",
    " - Lemmatisation (convert the word into root word)"
   ]
  },
  {
   "cell_type": "code",
   "execution_count": 18,
   "metadata": {},
   "outputs": [],
   "source": [
    "def text_processing(text, lst_stopwords,flg_stemm=True, flg_lemm=True):\n",
    "    ## clean (convert to lowercase and remove punctuations and characters and then strip)\n",
    "    text = re.sub(r'[^\\w\\s]', '', str(text).lower().strip())\n",
    "            \n",
    "    ## Tokenize (convert from string to list)\n",
    "    lst_text = text.split()\n",
    "    ## remove Stopwords\n",
    "    if lst_stopwords is not None:\n",
    "        lst_text = [word for word in lst_text if word not in \n",
    "                    lst_stopwords]\n",
    "    #print(lst_text)           \n",
    "    ## Stemming (remove -ing, -ly, ...)\n",
    "    if flg_stemm == True:\n",
    "        ps = nltk.stem.porter.PorterStemmer()\n",
    "        lst_text = [ps.stem(word) for word in lst_text]\n",
    "                \n",
    "    ## Lemmatisation (convert the word into root word)\n",
    "    if flg_lemm == True:\n",
    "        lem = nltk.stem.wordnet.WordNetLemmatizer()\n",
    "        lst_text = [lem.lemmatize(word) for word in lst_text]\n",
    "            \n",
    "    ## back to string from list\n",
    "    text = \" \".join(lst_text)\n",
    "    return text\n",
    "\n",
    "\n",
    "lst_stopwords = nltk.corpus.stopwords.words(\"english\")\n",
    "data[\"text_processed\"] = data[\"text\"].apply(lambda x:text_processing(x,lst_stopwords,True,True))\n"
   ]
  },
  {
   "cell_type": "code",
   "execution_count": 19,
   "metadata": {},
   "outputs": [
    {
     "data": {
      "text/html": [
       "<div>\n",
       "<style scoped>\n",
       "    .dataframe tbody tr th:only-of-type {\n",
       "        vertical-align: middle;\n",
       "    }\n",
       "\n",
       "    .dataframe tbody tr th {\n",
       "        vertical-align: top;\n",
       "    }\n",
       "\n",
       "    .dataframe thead th {\n",
       "        text-align: right;\n",
       "    }\n",
       "</style>\n",
       "<table border=\"1\" class=\"dataframe\">\n",
       "  <thead>\n",
       "    <tr style=\"text-align: right;\">\n",
       "      <th></th>\n",
       "      <th>gender</th>\n",
       "      <th>age</th>\n",
       "      <th>topic</th>\n",
       "      <th>sign</th>\n",
       "      <th>text</th>\n",
       "      <th>age_impu</th>\n",
       "      <th>Target</th>\n",
       "      <th>Target_imp</th>\n",
       "      <th>text_processed</th>\n",
       "    </tr>\n",
       "  </thead>\n",
       "  <tbody>\n",
       "    <tr>\n",
       "      <th>0</th>\n",
       "      <td>male</td>\n",
       "      <td>15</td>\n",
       "      <td>Student</td>\n",
       "      <td>Leo</td>\n",
       "      <td>Info has been found (+/- 100 pages,...</td>\n",
       "      <td>10s</td>\n",
       "      <td>male10sStudentLeo</td>\n",
       "      <td>105</td>\n",
       "      <td>info found 100 page 45 mb pdf file wait until ...</td>\n",
       "    </tr>\n",
       "    <tr>\n",
       "      <th>1</th>\n",
       "      <td>male</td>\n",
       "      <td>15</td>\n",
       "      <td>Student</td>\n",
       "      <td>Leo</td>\n",
       "      <td>These are the team members:   Drewe...</td>\n",
       "      <td>10s</td>\n",
       "      <td>male10sStudentLeo</td>\n",
       "      <td>105</td>\n",
       "      <td>team member drew van der laag urllink mail rui...</td>\n",
       "    </tr>\n",
       "    <tr>\n",
       "      <th>2</th>\n",
       "      <td>male</td>\n",
       "      <td>15</td>\n",
       "      <td>Student</td>\n",
       "      <td>Leo</td>\n",
       "      <td>In het kader van kernfusie op aarde...</td>\n",
       "      <td>10s</td>\n",
       "      <td>male10sStudentLeo</td>\n",
       "      <td>105</td>\n",
       "      <td>het kader van kernfusi op aard maak je eigen w...</td>\n",
       "    </tr>\n",
       "    <tr>\n",
       "      <th>3</th>\n",
       "      <td>male</td>\n",
       "      <td>15</td>\n",
       "      <td>Student</td>\n",
       "      <td>Leo</td>\n",
       "      <td>testing!!!  testing!!!</td>\n",
       "      <td>10s</td>\n",
       "      <td>male10sStudentLeo</td>\n",
       "      <td>105</td>\n",
       "      <td>test test</td>\n",
       "    </tr>\n",
       "    <tr>\n",
       "      <th>74</th>\n",
       "      <td>female</td>\n",
       "      <td>14</td>\n",
       "      <td>indUnk</td>\n",
       "      <td>Aries</td>\n",
       "      <td>O= optimist P= pessimist  My...</td>\n",
       "      <td>10s</td>\n",
       "      <td>female10sindUnkAries</td>\n",
       "      <td>18</td>\n",
       "      <td>optimist p pessimist argument p nooooo stop th...</td>\n",
       "    </tr>\n",
       "  </tbody>\n",
       "</table>\n",
       "</div>"
      ],
      "text/plain": [
       "    gender  age    topic   sign  \\\n",
       "0     male   15  Student    Leo   \n",
       "1     male   15  Student    Leo   \n",
       "2     male   15  Student    Leo   \n",
       "3     male   15  Student    Leo   \n",
       "74  female   14   indUnk  Aries   \n",
       "\n",
       "                                                 text age_impu  \\\n",
       "0              Info has been found (+/- 100 pages,...      10s   \n",
       "1              These are the team members:   Drewe...      10s   \n",
       "2              In het kader van kernfusie op aarde...      10s   \n",
       "3                    testing!!!  testing!!!                10s   \n",
       "74                    O= optimist P= pessimist  My...      10s   \n",
       "\n",
       "                  Target  Target_imp  \\\n",
       "0      male10sStudentLeo         105   \n",
       "1      male10sStudentLeo         105   \n",
       "2      male10sStudentLeo         105   \n",
       "3      male10sStudentLeo         105   \n",
       "74  female10sindUnkAries          18   \n",
       "\n",
       "                                       text_processed  \n",
       "0   info found 100 page 45 mb pdf file wait until ...  \n",
       "1   team member drew van der laag urllink mail rui...  \n",
       "2   het kader van kernfusi op aard maak je eigen w...  \n",
       "3                                           test test  \n",
       "74  optimist p pessimist argument p nooooo stop th...  "
      ]
     },
     "execution_count": 19,
     "metadata": {},
     "output_type": "execute_result"
    }
   ],
   "source": [
    "data.head()"
   ]
  },
  {
   "cell_type": "markdown",
   "metadata": {},
   "source": [
    "### Train - Test Split"
   ]
  },
  {
   "cell_type": "code",
   "execution_count": 41,
   "metadata": {},
   "outputs": [
    {
     "name": "stdout",
     "output_type": "stream",
     "text": [
      "X_train Shape (357578,)\n",
      "y_train Shape (357578,)\n",
      "X_test Shape (89395,)\n",
      "y_test Shape (89395,)\n"
     ]
    }
   ],
   "source": [
    "X = data[\"text_processed\"]\n",
    "y = data[\"Target\"]\n",
    "\n",
    "X_train, X_test, y_train, y_test = train_test_split(X,y,test_size=0.2,random_state=123)\n",
    "\n",
    "print(\"X_train Shape\",X_train.shape)\n",
    "print(\"y_train Shape\",y_train.shape)\n",
    "\n",
    "print(\"X_test Shape\",X_test.shape)\n",
    "print(\"y_test Shape\",y_test.shape)"
   ]
  },
  {
   "cell_type": "markdown",
   "metadata": {},
   "source": [
    "### Approach 1 - Using BoW"
   ]
  },
  {
   "cell_type": "code",
   "execution_count": 42,
   "metadata": {},
   "outputs": [],
   "source": [
    "bow_vector = CountVectorizer(max_features=10000, ngram_range=(1,2))"
   ]
  },
  {
   "cell_type": "code",
   "execution_count": 43,
   "metadata": {},
   "outputs": [
    {
     "data": {
      "text/plain": [
       "Pipeline(steps=[('vectorizer',\n",
       "                 CountVectorizer(max_features=10000, ngram_range=(1, 2))),\n",
       "                ('classifier', MultinomialNB())])"
      ]
     },
     "execution_count": 43,
     "metadata": {},
     "output_type": "execute_result"
    }
   ],
   "source": [
    "## pipeline\n",
    "bow_model = Pipeline([(\"vectorizer\", bow_vector),  \n",
    "                           (\"classifier\", MultinomialNB())])\n",
    "## train classifier\n",
    "bow_model.fit(X_train, y_train)"
   ]
  },
  {
   "cell_type": "code",
   "execution_count": 44,
   "metadata": {},
   "outputs": [],
   "source": [
    "predicted = bow_model.predict(X_test)\n",
    "predicted_prob = bow_model.predict_proba(X_test)"
   ]
  },
  {
   "cell_type": "code",
   "execution_count": 32,
   "metadata": {},
   "outputs": [
    {
     "name": "stdout",
     "output_type": "stream",
     "text": [
      "Accuracy: 0.15\n",
      "                                precision    recall  f1-score   support\n",
      "\n",
      "      female10sStudentAquarius       0.26      0.39      0.31      1010\n",
      "         female10sStudentAries       0.18      0.17      0.17      1157\n",
      "        female10sStudentCancer       0.17      0.11      0.14       739\n",
      "     female10sStudentCapricorn       0.11      0.10      0.10       925\n",
      "        female10sStudentGemini       0.13      0.09      0.11       748\n",
      "           female10sStudentLeo       0.12      0.10      0.11      1061\n",
      "         female10sStudentLibra       0.13      0.32      0.19      1819\n",
      "        female10sStudentPisces       0.16      0.06      0.09       941\n",
      "   female10sStudentSagittarius       0.16      0.19      0.18       781\n",
      "       female10sStudentScorpio       0.13      0.10      0.12       828\n",
      "        female10sStudentTaurus       0.09      0.16      0.12       763\n",
      "         female10sStudentVirgo       0.19      0.16      0.18      1076\n",
      "      female10sTechnologyLibra       0.00      0.00      0.00         6\n",
      "    female10sTechnologyScorpio       0.00      0.00      0.00         2\n",
      "       female10sindUnkAquarius       0.16      0.12      0.14       910\n",
      "          female10sindUnkAries       0.19      0.17      0.18       513\n",
      "         female10sindUnkCancer       0.13      0.12      0.13       735\n",
      "      female10sindUnkCapricorn       0.15      0.14      0.15       556\n",
      "         female10sindUnkGemini       0.15      0.11      0.13       789\n",
      "            female10sindUnkLeo       0.08      0.13      0.09       542\n",
      "          female10sindUnkLibra       0.15      0.06      0.09       832\n",
      "         female10sindUnkPisces       0.17      0.13      0.15       674\n",
      "    female10sindUnkSagittarius       0.34      0.11      0.17       462\n",
      "        female10sindUnkScorpio       0.14      0.13      0.13       857\n",
      "         female10sindUnkTaurus       0.50      0.21      0.30       807\n",
      "          female10sindUnkVirgo       0.12      0.33      0.17       738\n",
      "      female20sStudentAquarius       0.09      0.20      0.13       201\n",
      "         female20sStudentAries       0.09      0.08      0.09       366\n",
      "        female20sStudentCancer       0.14      0.14      0.14       345\n",
      "     female20sStudentCapricorn       0.21      0.16      0.18       354\n",
      "        female20sStudentGemini       0.08      0.08      0.08       273\n",
      "           female20sStudentLeo       0.26      0.18      0.21       388\n",
      "         female20sStudentLibra       0.05      0.06      0.06       175\n",
      "        female20sStudentPisces       0.16      0.16      0.16       192\n",
      "   female20sStudentSagittarius       0.38      0.09      0.14       172\n",
      "       female20sStudentScorpio       0.11      0.10      0.11       411\n",
      "        female20sStudentTaurus       0.15      0.08      0.11       457\n",
      "         female20sStudentVirgo       0.09      0.09      0.09       149\n",
      "   female20sTechnologyAquarius       0.38      0.17      0.23       113\n",
      "      female20sTechnologyAries       0.12      0.39      0.18       109\n",
      "     female20sTechnologyCancer       0.31      0.07      0.11        58\n",
      "  female20sTechnologyCapricorn       0.50      0.05      0.09        21\n",
      "     female20sTechnologyGemini       0.20      0.02      0.03        63\n",
      "        female20sTechnologyLeo       0.30      0.14      0.19        51\n",
      "      female20sTechnologyLibra       0.10      0.19      0.13        77\n",
      "     female20sTechnologyPisces       0.00      0.00      0.00         8\n",
      "female20sTechnologySagittarius       0.09      0.03      0.04        71\n",
      "    female20sTechnologyScorpio       0.00      0.00      0.00        37\n",
      "     female20sTechnologyTaurus       0.06      0.01      0.02        78\n",
      "      female20sTechnologyVirgo       0.13      0.03      0.05       109\n",
      "       female20sindUnkAquarius       0.14      0.14      0.14       654\n",
      "          female20sindUnkAries       0.17      0.11      0.13      1940\n",
      "         female20sindUnkCancer       0.10      0.13      0.11      2070\n",
      "      female20sindUnkCapricorn       0.10      0.18      0.13      1165\n",
      "         female20sindUnkGemini       0.07      0.12      0.09       924\n",
      "            female20sindUnkLeo       0.10      0.10      0.10       958\n",
      "          female20sindUnkLibra       0.16      0.20      0.18      1231\n",
      "         female20sindUnkPisces       0.23      0.14      0.17      1174\n",
      "    female20sindUnkSagittarius       0.19      0.10      0.14       870\n",
      "        female20sindUnkScorpio       0.18      0.11      0.13      1268\n",
      "         female20sindUnkTaurus       0.17      0.07      0.10      1084\n",
      "          female20sindUnkVirgo       0.12      0.13      0.12       770\n",
      "      female30sStudentAquarius       0.00      0.00      0.00         4\n",
      "         female30sStudentAries       0.63      0.32      0.43        37\n",
      "        female30sStudentCancer       0.00      0.00      0.00        19\n",
      "     female30sStudentCapricorn       0.00      0.00      0.00        13\n",
      "        female30sStudentGemini       0.00      0.00      0.00         6\n",
      "           female30sStudentLeo       0.00      0.00      0.00         5\n",
      "         female30sStudentLibra       0.00      0.00      0.00         2\n",
      "        female30sStudentPisces       0.00      0.00      0.00         6\n",
      "   female30sStudentSagittarius       0.00      0.00      0.00         6\n",
      "        female30sStudentTaurus       0.00      0.00      0.00         9\n",
      "   female30sTechnologyAquarius       0.00      0.00      0.00         3\n",
      "      female30sTechnologyAries       0.62      0.17      0.26        30\n",
      "     female30sTechnologyCancer       0.00      0.00      0.00        13\n",
      "  female30sTechnologyCapricorn       0.33      0.17      0.22        24\n",
      "     female30sTechnologyGemini       0.03      0.03      0.03        33\n",
      "        female30sTechnologyLeo       0.00      0.00      0.00         6\n",
      "      female30sTechnologyLibra       0.28      0.24      0.26        78\n",
      "     female30sTechnologyPisces       0.00      0.00      0.00         3\n",
      "female30sTechnologySagittarius       0.00      0.00      0.00         3\n",
      "    female30sTechnologyScorpio       0.24      0.09      0.12        47\n",
      "     female30sTechnologyTaurus       0.23      0.37      0.28        94\n",
      "      female30sTechnologyVirgo       0.19      0.36      0.25       110\n",
      "       female30sindUnkAquarius       0.18      0.11      0.13       247\n",
      "          female30sindUnkAries       0.26      0.17      0.21       440\n",
      "         female30sindUnkCancer       0.23      0.56      0.32      1148\n",
      "      female30sindUnkCapricorn       0.13      0.19      0.15       552\n",
      "         female30sindUnkGemini       0.24      0.16      0.20       292\n",
      "            female30sindUnkLeo       0.19      0.26      0.22       409\n",
      "          female30sindUnkLibra       0.23      0.19      0.21       403\n",
      "         female30sindUnkPisces       0.32      0.37      0.34       660\n",
      "    female30sindUnkSagittarius       0.09      0.19      0.12       493\n",
      "        female30sindUnkScorpio       0.29      0.42      0.35       502\n",
      "         female30sindUnkTaurus       0.13      0.08      0.10       476\n",
      "          female30sindUnkVirgo       0.19      0.15      0.17      1049\n",
      "        male10sStudentAquarius       0.16      0.09      0.11       705\n",
      "           male10sStudentAries       0.19      0.06      0.09       780\n",
      "          male10sStudentCancer       0.13      0.16      0.15       816\n",
      "       male10sStudentCapricorn       0.11      0.05      0.07       859\n",
      "          male10sStudentGemini       0.23      0.06      0.10       716\n",
      "             male10sStudentLeo       0.15      0.17      0.16      1061\n",
      "           male10sStudentLibra       0.16      0.14      0.15      1109\n",
      "          male10sStudentPisces       0.18      0.11      0.13      1107\n",
      "     male10sStudentSagittarius       0.13      0.06      0.08      1051\n",
      "         male10sStudentScorpio       0.08      0.03      0.04      1098\n",
      "          male10sStudentTaurus       0.09      0.03      0.05       986\n",
      "           male10sStudentVirgo       0.11      0.05      0.07      1357\n",
      "     male10sTechnologyAquarius       0.05      0.04      0.04        57\n",
      "        male10sTechnologyAries       0.36      0.14      0.21        56\n",
      "       male10sTechnologyCancer       0.17      0.06      0.09        49\n",
      "    male10sTechnologyCapricorn       0.00      0.00      0.00        12\n",
      "       male10sTechnologyGemini       0.12      0.05      0.07        38\n",
      "          male10sTechnologyLeo       0.00      0.00      0.00        12\n",
      "        male10sTechnologyLibra       0.50      0.22      0.31         9\n",
      "       male10sTechnologyPisces       0.00      0.00      0.00        15\n",
      "  male10sTechnologySagittarius       0.10      0.08      0.09       101\n",
      "      male10sTechnologyScorpio       0.00      0.00      0.00        11\n",
      "       male10sTechnologyTaurus       0.12      0.27      0.17       337\n",
      "        male10sTechnologyVirgo       0.04      0.06      0.04       414\n",
      "         male10sindUnkAquarius       0.15      0.08      0.11       542\n",
      "            male10sindUnkAries       0.17      0.09      0.12       398\n",
      "           male10sindUnkCancer       0.15      0.16      0.15       935\n",
      "        male10sindUnkCapricorn       0.14      0.07      0.09       480\n",
      "           male10sindUnkGemini       0.11      0.08      0.09       578\n",
      "              male10sindUnkLeo       0.16      0.07      0.10       453\n",
      "            male10sindUnkLibra       0.07      0.03      0.04       402\n",
      "           male10sindUnkPisces       0.13      0.11      0.12       466\n",
      "      male10sindUnkSagittarius       0.12      0.10      0.11       682\n",
      "          male10sindUnkScorpio       0.05      0.03      0.04       543\n",
      "           male10sindUnkTaurus       0.34      0.19      0.24       691\n",
      "            male10sindUnkVirgo       0.13      0.08      0.10       485\n",
      "        male20sStudentAquarius       0.28      0.49      0.35       419\n",
      "           male20sStudentAries       0.20      0.18      0.19       341\n",
      "          male20sStudentCancer       0.13      0.14      0.14       418\n",
      "       male20sStudentCapricorn       0.04      0.05      0.04       154\n",
      "          male20sStudentGemini       0.31      0.28      0.29       578\n",
      "             male20sStudentLeo       0.21      0.09      0.13       288\n",
      "           male20sStudentLibra       0.23      0.13      0.16       366\n",
      "          male20sStudentPisces       0.08      0.05      0.07       130\n",
      "     male20sStudentSagittarius       0.04      0.04      0.04       199\n",
      "         male20sStudentScorpio       0.09      0.05      0.06       188\n",
      "          male20sStudentTaurus       0.10      0.05      0.07       457\n",
      "           male20sStudentVirgo       0.18      0.12      0.14       189\n",
      "     male20sTechnologyAquarius       0.13      0.06      0.08       169\n",
      "        male20sTechnologyAries       0.09      0.05      0.07       204\n",
      "       male20sTechnologyCancer       0.11      0.09      0.10       481\n",
      "    male20sTechnologyCapricorn       0.11      0.11      0.11       219\n",
      "       male20sTechnologyGemini       0.08      0.09      0.09       348\n",
      "          male20sTechnologyLeo       0.10      0.11      0.11       521\n",
      "        male20sTechnologyLibra       0.06      0.23      0.09       579\n",
      "       male20sTechnologyPisces       0.17      0.30      0.22       264\n",
      "  male20sTechnologySagittarius       0.20      0.43      0.27       389\n",
      "      male20sTechnologyScorpio       0.10      0.08      0.09       414\n",
      "       male20sTechnologyTaurus       0.24      0.11      0.15       429\n",
      "        male20sTechnologyVirgo       0.30      0.23      0.26       323\n",
      "         male20sindUnkAquarius       0.15      0.19      0.17       978\n",
      "            male20sindUnkAries       0.21      0.19      0.20       929\n",
      "           male20sindUnkCancer       0.31      0.19      0.24       801\n",
      "        male20sindUnkCapricorn       0.13      0.08      0.10       409\n",
      "           male20sindUnkGemini       0.27      0.14      0.19       679\n",
      "              male20sindUnkLeo       0.13      0.10      0.11      1101\n",
      "            male20sindUnkLibra       0.17      0.08      0.11       862\n",
      "           male20sindUnkPisces       0.09      0.04      0.06       615\n",
      "      male20sindUnkSagittarius       0.12      0.10      0.11       882\n",
      "          male20sindUnkScorpio       0.09      0.04      0.05       454\n",
      "           male20sindUnkTaurus       0.13      0.08      0.10      1393\n",
      "            male20sindUnkVirgo       0.22      0.25      0.23       612\n",
      "        male30sStudentAquarius       0.00      0.00      0.00         2\n",
      "           male30sStudentAries       0.50      0.11      0.18         9\n",
      "          male30sStudentCancer       1.00      0.07      0.13        29\n",
      "             male30sStudentLeo       0.00      0.00      0.00         1\n",
      "           male30sStudentLibra       0.00      0.00      0.00         4\n",
      "     male30sStudentSagittarius       0.00      0.00      0.00         3\n",
      "          male30sStudentTaurus       0.00      0.00      0.00         8\n",
      "           male30sStudentVirgo       0.00      0.00      0.00        17\n",
      "     male30sTechnologyAquarius       0.00      0.00      0.00        58\n",
      "        male30sTechnologyAries       0.07      0.14      0.09       553\n",
      "       male30sTechnologyCancer       0.09      0.16      0.11       127\n",
      "    male30sTechnologyCapricorn       0.19      0.06      0.10        78\n",
      "       male30sTechnologyGemini       0.27      0.12      0.16       163\n",
      "          male30sTechnologyLeo       0.17      0.02      0.04        44\n",
      "        male30sTechnologyLibra       0.27      0.34      0.30        77\n",
      "       male30sTechnologyPisces       0.14      0.38      0.20       237\n",
      "  male30sTechnologySagittarius       0.31      0.09      0.13        47\n",
      "      male30sTechnologyScorpio       0.25      0.04      0.07        53\n",
      "       male30sTechnologyTaurus       0.00      0.00      0.00        76\n",
      "        male30sTechnologyVirgo       0.25      0.31      0.28       154\n",
      "         male30sindUnkAquarius       0.11      0.08      0.10       155\n",
      "            male30sindUnkAries       0.16      0.27      0.20      1241\n",
      "           male30sindUnkCancer       0.08      0.17      0.11       180\n",
      "        male30sindUnkCapricorn       0.13      0.26      0.17       450\n",
      "           male30sindUnkGemini       0.15      0.07      0.09       225\n",
      "              male30sindUnkLeo       0.25      0.15      0.19       315\n",
      "            male30sindUnkLibra       0.14      0.19      0.16       222\n",
      "           male30sindUnkPisces       0.09      0.33      0.14       295\n",
      "      male30sindUnkSagittarius       0.15      0.14      0.15       188\n",
      "          male30sindUnkScorpio       0.10      0.34      0.16       452\n",
      "           male30sindUnkTaurus       0.29      0.25      0.27       412\n",
      "            male30sindUnkVirgo       0.05      0.12      0.07       448\n",
      "\n",
      "                      accuracy                           0.15     89395\n",
      "                     macro avg       0.15      0.12      0.12     89395\n",
      "                  weighted avg       0.16      0.15      0.14     89395\n",
      "\n"
     ]
    }
   ],
   "source": [
    "## Accuracy, Precision, Recall\n",
    "accuracy = metrics.accuracy_score(y_test, predicted)\n",
    "print(\"Accuracy:\",  round(accuracy,2))\n",
    "\n",
    "print(metrics.classification_report(y_test, predicted))"
   ]
  },
  {
   "cell_type": "markdown",
   "metadata": {},
   "source": [
    "### Approach 2 -  Tf-Idf"
   ]
  },
  {
   "cell_type": "code",
   "execution_count": 59,
   "metadata": {},
   "outputs": [
    {
     "data": {
      "text/plain": [
       "Pipeline(steps=[('vectorizer',\n",
       "                 TfidfVectorizer(max_features=1000, ngram_range=(1, 2))),\n",
       "                ('classifier', MultinomialNB())])"
      ]
     },
     "execution_count": 59,
     "metadata": {},
     "output_type": "execute_result"
    }
   ],
   "source": [
    "tfidf_vector = TfidfVectorizer(max_features=1000, ngram_range=(1,2))\n",
    "## pipeline\n",
    "tfidf_model = Pipeline([(\"vectorizer\", tfidf_vector),  \n",
    "                           (\"classifier\", MultinomialNB())])\n",
    "## train classifier\n",
    "tfidf_model.fit(X_train, y_train)"
   ]
  },
  {
   "cell_type": "code",
   "execution_count": 57,
   "metadata": {},
   "outputs": [],
   "source": [
    "predicted = tfidf_model.predict(X_test)\n",
    "predicted_prob = tfidf_model.predict_proba(X_test)"
   ]
  },
  {
   "cell_type": "code",
   "execution_count": 58,
   "metadata": {},
   "outputs": [
    {
     "name": "stdout",
     "output_type": "stream",
     "text": [
      "Accuracy: 0.12\n",
      "                                precision    recall  f1-score   support\n",
      "\n",
      "      female10sStudentAquarius       0.45      0.31      0.37      1010\n",
      "         female10sStudentAries       0.18      0.14      0.16      1157\n",
      "        female10sStudentCancer       0.32      0.03      0.06       739\n",
      "     female10sStudentCapricorn       0.22      0.16      0.18       925\n",
      "        female10sStudentGemini       0.30      0.02      0.03       748\n",
      "           female10sStudentLeo       0.24      0.09      0.13      1061\n",
      "         female10sStudentLibra       0.06      0.68      0.11      1819\n",
      "        female10sStudentPisces       0.34      0.06      0.10       941\n",
      "   female10sStudentSagittarius       0.61      0.05      0.10       781\n",
      "       female10sStudentScorpio       0.26      0.03      0.05       828\n",
      "        female10sStudentTaurus       0.12      0.10      0.11       763\n",
      "         female10sStudentVirgo       0.23      0.13      0.17      1076\n",
      "      female10sTechnologyLibra       0.00      0.00      0.00         6\n",
      "    female10sTechnologyScorpio       0.00      0.00      0.00         2\n",
      "       female10sindUnkAquarius       0.44      0.05      0.08       910\n",
      "          female10sindUnkAries       0.19      0.11      0.14       513\n",
      "         female10sindUnkCancer       0.47      0.04      0.07       735\n",
      "      female10sindUnkCapricorn       0.28      0.01      0.02       556\n",
      "         female10sindUnkGemini       0.65      0.04      0.07       789\n",
      "            female10sindUnkLeo       0.60      0.01      0.01       542\n",
      "          female10sindUnkLibra       0.35      0.05      0.09       832\n",
      "         female10sindUnkPisces       0.46      0.04      0.08       674\n",
      "    female10sindUnkSagittarius       0.83      0.04      0.08       462\n",
      "        female10sindUnkScorpio       0.39      0.03      0.05       857\n",
      "         female10sindUnkTaurus       0.75      0.19      0.31       807\n",
      "          female10sindUnkVirgo       0.47      0.10      0.17       738\n",
      "      female20sStudentAquarius       0.00      0.00      0.00       201\n",
      "         female20sStudentAries       0.00      0.00      0.00       366\n",
      "        female20sStudentCancer       0.00      0.00      0.00       345\n",
      "     female20sStudentCapricorn       0.00      0.00      0.00       354\n",
      "        female20sStudentGemini       0.00      0.00      0.00       273\n",
      "           female20sStudentLeo       0.33      0.00      0.01       388\n",
      "         female20sStudentLibra       0.00      0.00      0.00       175\n",
      "        female20sStudentPisces       1.00      0.01      0.02       192\n",
      "   female20sStudentSagittarius       1.00      0.01      0.02       172\n",
      "       female20sStudentScorpio       0.50      0.00      0.00       411\n",
      "        female20sStudentTaurus       0.38      0.02      0.04       457\n",
      "         female20sStudentVirgo       0.00      0.00      0.00       149\n",
      "   female20sTechnologyAquarius       0.00      0.00      0.00       113\n",
      "      female20sTechnologyAries       0.00      0.00      0.00       109\n",
      "     female20sTechnologyCancer       0.00      0.00      0.00        58\n",
      "  female20sTechnologyCapricorn       0.00      0.00      0.00        21\n",
      "     female20sTechnologyGemini       0.00      0.00      0.00        63\n",
      "        female20sTechnologyLeo       0.00      0.00      0.00        51\n",
      "      female20sTechnologyLibra       0.00      0.00      0.00        77\n",
      "     female20sTechnologyPisces       0.00      0.00      0.00         8\n",
      "female20sTechnologySagittarius       0.00      0.00      0.00        71\n",
      "    female20sTechnologyScorpio       0.00      0.00      0.00        37\n",
      "     female20sTechnologyTaurus       0.00      0.00      0.00        78\n",
      "      female20sTechnologyVirgo       0.00      0.00      0.00       109\n",
      "       female20sindUnkAquarius       0.64      0.01      0.02       654\n",
      "          female20sindUnkAries       0.06      0.38      0.11      1940\n",
      "         female20sindUnkCancer       0.05      0.60      0.09      2070\n",
      "      female20sindUnkCapricorn       0.16      0.12      0.14      1165\n",
      "         female20sindUnkGemini       0.25      0.03      0.06       924\n",
      "            female20sindUnkLeo       0.22      0.06      0.10       958\n",
      "          female20sindUnkLibra       0.22      0.16      0.18      1231\n",
      "         female20sindUnkPisces       0.26      0.13      0.17      1174\n",
      "    female20sindUnkSagittarius       0.36      0.02      0.04       870\n",
      "        female20sindUnkScorpio       0.19      0.14      0.16      1268\n",
      "         female20sindUnkTaurus       0.11      0.07      0.08      1084\n",
      "          female20sindUnkVirgo       0.43      0.00      0.01       770\n",
      "      female30sStudentAquarius       0.00      0.00      0.00         4\n",
      "         female30sStudentAries       0.00      0.00      0.00        37\n",
      "        female30sStudentCancer       0.00      0.00      0.00        19\n",
      "     female30sStudentCapricorn       0.00      0.00      0.00        13\n",
      "        female30sStudentGemini       0.00      0.00      0.00         6\n",
      "           female30sStudentLeo       0.00      0.00      0.00         5\n",
      "         female30sStudentLibra       0.00      0.00      0.00         2\n",
      "        female30sStudentPisces       0.00      0.00      0.00         6\n",
      "   female30sStudentSagittarius       0.00      0.00      0.00         6\n",
      "        female30sStudentTaurus       0.00      0.00      0.00         9\n",
      "   female30sTechnologyAquarius       0.00      0.00      0.00         3\n",
      "      female30sTechnologyAries       0.00      0.00      0.00        30\n",
      "     female30sTechnologyCancer       0.00      0.00      0.00        13\n",
      "  female30sTechnologyCapricorn       0.00      0.00      0.00        24\n",
      "     female30sTechnologyGemini       0.00      0.00      0.00        33\n",
      "        female30sTechnologyLeo       0.00      0.00      0.00         6\n",
      "      female30sTechnologyLibra       0.00      0.00      0.00        78\n",
      "     female30sTechnologyPisces       0.00      0.00      0.00         3\n",
      "female30sTechnologySagittarius       0.00      0.00      0.00         3\n",
      "    female30sTechnologyScorpio       0.00      0.00      0.00        47\n",
      "     female30sTechnologyTaurus       0.00      0.00      0.00        94\n",
      "      female30sTechnologyVirgo       0.00      0.00      0.00       110\n",
      "       female30sindUnkAquarius       0.50      0.01      0.02       247\n",
      "          female30sindUnkAries       0.00      0.00      0.00       440\n",
      "         female30sindUnkCancer       0.28      0.54      0.37      1148\n",
      "      female30sindUnkCapricorn       0.57      0.05      0.08       552\n",
      "         female30sindUnkGemini       0.84      0.13      0.22       292\n",
      "            female30sindUnkLeo       0.74      0.24      0.36       409\n",
      "          female30sindUnkLibra       1.00      0.01      0.01       403\n",
      "         female30sindUnkPisces       0.80      0.12      0.21       660\n",
      "    female30sindUnkSagittarius       0.56      0.10      0.17       493\n",
      "        female30sindUnkScorpio       0.86      0.24      0.37       502\n",
      "         female30sindUnkTaurus       0.00      0.00      0.00       476\n",
      "          female30sindUnkVirgo       0.26      0.09      0.14      1049\n",
      "        male10sStudentAquarius       0.50      0.03      0.05       705\n",
      "           male10sStudentAries       0.38      0.02      0.04       780\n",
      "          male10sStudentCancer       0.52      0.13      0.21       816\n",
      "       male10sStudentCapricorn       0.28      0.04      0.07       859\n",
      "          male10sStudentGemini       0.69      0.06      0.11       716\n",
      "             male10sStudentLeo       0.21      0.13      0.16      1061\n",
      "           male10sStudentLibra       0.16      0.20      0.18      1109\n",
      "          male10sStudentPisces       0.27      0.19      0.22      1107\n",
      "     male10sStudentSagittarius       0.16      0.07      0.10      1051\n",
      "         male10sStudentScorpio       0.11      0.17      0.13      1098\n",
      "          male10sStudentTaurus       0.15      0.02      0.03       986\n",
      "           male10sStudentVirgo       0.11      0.12      0.11      1357\n",
      "     male10sTechnologyAquarius       0.00      0.00      0.00        57\n",
      "        male10sTechnologyAries       1.00      0.04      0.07        56\n",
      "       male10sTechnologyCancer       0.00      0.00      0.00        49\n",
      "    male10sTechnologyCapricorn       0.00      0.00      0.00        12\n",
      "       male10sTechnologyGemini       0.00      0.00      0.00        38\n",
      "          male10sTechnologyLeo       0.00      0.00      0.00        12\n",
      "        male10sTechnologyLibra       0.00      0.00      0.00         9\n",
      "       male10sTechnologyPisces       0.00      0.00      0.00        15\n",
      "  male10sTechnologySagittarius       0.00      0.00      0.00       101\n",
      "      male10sTechnologyScorpio       0.00      0.00      0.00        11\n",
      "       male10sTechnologyTaurus       0.00      0.00      0.00       337\n",
      "        male10sTechnologyVirgo       0.00      0.00      0.00       414\n",
      "         male10sindUnkAquarius       0.57      0.01      0.01       542\n",
      "            male10sindUnkAries       0.00      0.00      0.00       398\n",
      "           male10sindUnkCancer       0.27      0.17      0.21       935\n",
      "        male10sindUnkCapricorn       0.32      0.03      0.05       480\n",
      "           male10sindUnkGemini       0.00      0.00      0.00       578\n",
      "              male10sindUnkLeo       0.88      0.05      0.09       453\n",
      "            male10sindUnkLibra       0.80      0.01      0.02       402\n",
      "           male10sindUnkPisces       0.56      0.02      0.04       466\n",
      "      male10sindUnkSagittarius       0.37      0.02      0.04       682\n",
      "          male10sindUnkScorpio       1.00      0.00      0.00       543\n",
      "           male10sindUnkTaurus       0.81      0.11      0.20       691\n",
      "            male10sindUnkVirgo       0.00      0.00      0.00       485\n",
      "        male20sStudentAquarius       0.77      0.23      0.36       419\n",
      "           male20sStudentAries       1.00      0.00      0.01       341\n",
      "          male20sStudentCancer       0.22      0.02      0.03       418\n",
      "       male20sStudentCapricorn       0.00      0.00      0.00       154\n",
      "          male20sStudentGemini       0.84      0.05      0.10       578\n",
      "             male20sStudentLeo       0.00      0.00      0.00       288\n",
      "           male20sStudentLibra       0.00      0.00      0.00       366\n",
      "          male20sStudentPisces       0.00      0.00      0.00       130\n",
      "     male20sStudentSagittarius       0.00      0.00      0.00       199\n",
      "         male20sStudentScorpio       0.00      0.00      0.00       188\n",
      "          male20sStudentTaurus       0.50      0.01      0.02       457\n",
      "           male20sStudentVirgo       0.00      0.00      0.00       189\n",
      "     male20sTechnologyAquarius       0.00      0.00      0.00       169\n",
      "        male20sTechnologyAries       0.00      0.00      0.00       204\n",
      "       male20sTechnologyCancer       0.29      0.01      0.02       481\n",
      "    male20sTechnologyCapricorn       0.00      0.00      0.00       219\n",
      "       male20sTechnologyGemini       0.83      0.01      0.03       348\n",
      "          male20sTechnologyLeo       0.55      0.04      0.08       521\n",
      "        male20sTechnologyLibra       0.15      0.04      0.06       579\n",
      "       male20sTechnologyPisces       0.71      0.11      0.19       264\n",
      "  male20sTechnologySagittarius       0.81      0.05      0.10       389\n",
      "      male20sTechnologyScorpio       0.20      0.00      0.00       414\n",
      "       male20sTechnologyTaurus       1.00      0.01      0.02       429\n",
      "        male20sTechnologyVirgo       0.00      0.00      0.00       323\n",
      "         male20sindUnkAquarius       0.11      0.27      0.15       978\n",
      "            male20sindUnkAries       0.34      0.09      0.14       929\n",
      "           male20sindUnkCancer       0.80      0.11      0.19       801\n",
      "        male20sindUnkCapricorn       1.00      0.01      0.01       409\n",
      "           male20sindUnkGemini       0.66      0.07      0.13       679\n",
      "              male20sindUnkLeo       0.14      0.09      0.11      1101\n",
      "            male20sindUnkLibra       0.33      0.04      0.07       862\n",
      "           male20sindUnkPisces       0.26      0.03      0.05       615\n",
      "      male20sindUnkSagittarius       0.15      0.04      0.07       882\n",
      "          male20sindUnkScorpio       1.00      0.00      0.00       454\n",
      "           male20sindUnkTaurus       0.09      0.22      0.13      1393\n",
      "            male20sindUnkVirgo       0.36      0.19      0.25       612\n",
      "        male30sStudentAquarius       0.00      0.00      0.00         2\n",
      "           male30sStudentAries       0.00      0.00      0.00         9\n",
      "          male30sStudentCancer       0.00      0.00      0.00        29\n",
      "             male30sStudentLeo       0.00      0.00      0.00         1\n",
      "           male30sStudentLibra       0.00      0.00      0.00         4\n",
      "     male30sStudentSagittarius       0.00      0.00      0.00         3\n",
      "          male30sStudentTaurus       0.00      0.00      0.00         8\n",
      "           male30sStudentVirgo       0.00      0.00      0.00        17\n",
      "     male30sTechnologyAquarius       0.00      0.00      0.00        58\n",
      "        male30sTechnologyAries       0.10      0.00      0.00       553\n",
      "       male30sTechnologyCancer       0.00      0.00      0.00       127\n",
      "    male30sTechnologyCapricorn       0.00      0.00      0.00        78\n",
      "       male30sTechnologyGemini       0.00      0.00      0.00       163\n",
      "          male30sTechnologyLeo       0.00      0.00      0.00        44\n",
      "        male30sTechnologyLibra       0.00      0.00      0.00        77\n",
      "       male30sTechnologyPisces       0.34      0.14      0.20       237\n",
      "  male30sTechnologySagittarius       0.00      0.00      0.00        47\n",
      "      male30sTechnologyScorpio       0.00      0.00      0.00        53\n",
      "       male30sTechnologyTaurus       0.00      0.00      0.00        76\n",
      "        male30sTechnologyVirgo       1.00      0.01      0.01       154\n",
      "         male30sindUnkAquarius       1.00      0.03      0.05       155\n",
      "            male30sindUnkAries       0.20      0.43      0.27      1241\n",
      "           male30sindUnkCancer       1.00      0.01      0.01       180\n",
      "        male30sindUnkCapricorn       0.54      0.08      0.15       450\n",
      "           male30sindUnkGemini       0.00      0.00      0.00       225\n",
      "              male30sindUnkLeo       0.00      0.00      0.00       315\n",
      "            male30sindUnkLibra       1.00      0.00      0.01       222\n",
      "           male30sindUnkPisces       0.58      0.02      0.05       295\n",
      "      male30sindUnkSagittarius       1.00      0.01      0.01       188\n",
      "          male30sindUnkScorpio       0.80      0.13      0.23       452\n",
      "           male30sindUnkTaurus       0.00      0.00      0.00       412\n",
      "            male30sindUnkVirgo       0.13      0.02      0.04       448\n",
      "\n",
      "                      accuracy                           0.12     89395\n",
      "                     macro avg       0.26      0.05      0.06     89395\n",
      "                  weighted avg       0.33      0.12      0.10     89395\n",
      "\n"
     ]
    }
   ],
   "source": [
    "## Accuracy, Precision, Recall\n",
    "accuracy = metrics.accuracy_score(y_test, predicted)\n",
    "print(\"Accuracy:\",  round(accuracy,2))\n",
    "\n",
    "print(metrics.classification_report(y_test, predicted))"
   ]
  }
 ],
 "metadata": {
  "kernelspec": {
   "display_name": "Python 3",
   "language": "python",
   "name": "python3"
  },
  "language_info": {
   "codemirror_mode": {
    "name": "ipython",
    "version": 3
   },
   "file_extension": ".py",
   "mimetype": "text/x-python",
   "name": "python",
   "nbconvert_exporter": "python",
   "pygments_lexer": "ipython3",
   "version": "3.8.3"
  },
  "toc": {
   "base_numbering": 1,
   "nav_menu": {},
   "number_sections": false,
   "sideBar": true,
   "skip_h1_title": false,
   "title_cell": "Table of Contents",
   "title_sidebar": "Contents",
   "toc_cell": false,
   "toc_position": {},
   "toc_section_display": true,
   "toc_window_display": true
  }
 },
 "nbformat": 4,
 "nbformat_minor": 4
}
