{
  "cells": [
    {
      "cell_type": "markdown",
      "source": [
        "# NLP Gensim Tutorial"
      ],
      "metadata": {
        "id": "RN9wqdu8ESB0"
      }
    },
    {
      "cell_type": "code",
      "source": [],
      "metadata": {
        "id": "b2bXal1oEYhT"
      },
      "execution_count": null,
      "outputs": []
    }
  ],
  "metadata": {
    "colab": {
      "name": "Welcome To Colaboratory",
      "toc_visible": true,
      "provenance": []
    },
    "kernelspec": {
      "display_name": "Python 3",
      "name": "python3"
    }
  },
  "nbformat": 4,
  "nbformat_minor": 0
}