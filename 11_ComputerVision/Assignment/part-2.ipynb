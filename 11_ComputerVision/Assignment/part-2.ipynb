{
 "cells": [
  {
   "cell_type": "markdown",
   "metadata": {},
   "source": [
    " # Question :\n",
    "  Explain in depth why CNN out performs neural networks which in turn out perform supervised learning models when it comes to image classification. Use the markdown option in Jupiter for your answer"
   ]
  },
  {
   "cell_type": "markdown",
   "metadata": {},
   "source": [
    "# Answer \n",
    "\n",
    "Advantage of NN over other supervised learning models\n",
    "\n",
    "1. Ability to learn the complex and non-linear relationship \n",
    "2. More generalized model - after learning from input , it can predict the unseen data and relationship for better\n",
    "3. Does no impose any restrictions on input data ( like distribution of data, the correlation between the attributes, impact from outliers )\n",
    "4. parallel processing capability\n",
    "\n",
    "Why CNN outperform NN ?\n",
    "\n",
    " - CNN typically has 3 layers - <b>convolutional layer, pooling layer, and fully connected layer</b>\n",
    " - Convolutional layer - \n",
    "     - It's a main building block of CNN\n",
    "     - matrix dot product is performed between Kernal ( learnable parameters ) and restricted portion of the receptive field\n",
    "     - during the forward pass, kernel slides over the height and width of the image-producing the activation maps ( image representation of that receptive region )      - \n",
    "     - activation map captures the feature of the image\n",
    "     - an image can have millions or thousands of pixels, but while processing it using kernel we can detect meaningful information that is of tens or hundreds of pixels. Fewer parameters that not only reduce the memory requirement of the model but also improve the statistical efficiency of the model.\n",
    "     - sliding size is called stride\n",
    "     \n",
    " - Pooling layer\n",
    "     - Pooling layer is responsible for reducing the spatial size of the Convolved Feature. \n",
    "     - decrease the computational power required to process the data through dimensionality reduction and also useful for extracting dominant feature\n",
    "     - Most user pooling are Max and Average pooling\n",
    "     \n",
    " - Multiple  Convolutional layers and Pooling layers are stacked to get the activation map\n",
    " \n",
    " - Fully Connected layer \n",
    "      - Neurons in this layer have full connectivity with all neurons in the preceding and succeeding layer as seen in regular FCNN\n",
    "      - image classification is performed in this layer\n",
    "      \n",
    "  - in CNN the presence of Convolutional and pooling layer helps to extract the feature of the image and reduce the size of the map which enables us to develop the deep network       \n",
    "  \n",
    "  \n",
    "  \n",
    "  "
   ]
  },
  {
   "cell_type": "code",
   "execution_count": null,
   "metadata": {},
   "outputs": [],
   "source": []
  }
 ],
 "metadata": {
  "kernelspec": {
   "display_name": "Python 3",
   "language": "python",
   "name": "python3"
  },
  "language_info": {
   "codemirror_mode": {
    "name": "ipython",
    "version": 3
   },
   "file_extension": ".py",
   "mimetype": "text/x-python",
   "name": "python",
   "nbconvert_exporter": "python",
   "pygments_lexer": "ipython3",
   "version": "3.8.3"
  }
 },
 "nbformat": 4,
 "nbformat_minor": 4
}
