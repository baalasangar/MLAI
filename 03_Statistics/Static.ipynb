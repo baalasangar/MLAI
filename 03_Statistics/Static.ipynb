{
 "cells": [
  {
   "cell_type": "code",
   "execution_count": 24,
   "metadata": {},
   "outputs": [],
   "source": [
    "import numpy as np\n",
    "import seaborn as sns\n",
    "from sympy.solvers import solve\n",
    "from sympy import Symbol\n",
    "import math as math"
   ]
  },
  {
   "cell_type": "code",
   "execution_count": 13,
   "metadata": {},
   "outputs": [],
   "source": [
    "###### Chebyshev's Theorem - Define what is the min percentage of values in the population / sample is bwt the given range.\n",
    "# when the mean and staDev is given\n",
    "# Formula ( 1- (1/k^2)) and k must be greated than 1\n",
    "# Reference link - https://www.youtube.com/watch?v=RZj2stql-L4"
   ]
  },
  {
   "cell_type": "code",
   "execution_count": 15,
   "metadata": {},
   "outputs": [
    {
     "name": "stdout",
     "output_type": "stream",
     "text": [
      "30.153846153846153\n",
      "26.451250236108965\n"
     ]
    }
   ],
   "source": [
    "# How to calculate - what is the % of values bwt 15 and 60\n",
    "data = [1,2,5,6,11,15,17,22,55,60,63,64,71]\n",
    "np_array = np.array(data)\n",
    "mean = np_array.mean()\n",
    "std = np_array.std()\n",
    "print(mean)\n",
    "print(std)"
   ]
  },
  {
   "cell_type": "markdown",
   "metadata": {},
   "source": [
    "# calculating k value \n",
    "#### mean - (k*std) = lower value of range\n",
    "#### mean +  ( k* std) = upper value of the range\n",
    "#### in our example equation -> mean-(k*sdt) = 15 ; mean+(k * std) = 60 \n",
    "#### one of above equation can be used calculate k "
   ]
  },
  {
   "cell_type": "code",
   "execution_count": 33,
   "metadata": {},
   "outputs": [
    {
     "data": {
      "text/plain": [
       "29.846153846153847"
      ]
     },
     "execution_count": 33,
     "metadata": {},
     "output_type": "execute_result"
    }
   ],
   "source": [
    "k = Symbol(\"k\")\n",
    "exp = mean+k*std - 60\n",
    "kvalue = solve(exp)    \n",
    "kvalue\n",
    "(60-mean / std"
   ]
  },
  {
   "cell_type": "code",
   "execution_count": 32,
   "metadata": {},
   "outputs": [
    {
     "data": {
      "text/plain": [
       "5.858976553239392"
      ]
     },
     "execution_count": 32,
     "metadata": {},
     "output_type": "execute_result"
    }
   ],
   "source": [
    "(1 - (1 / math.sqrt(kvalue[0]))) * 100"
   ]
  }
 ],
 "metadata": {
  "kernelspec": {
   "display_name": "Python 3",
   "language": "python",
   "name": "python3"
  },
  "language_info": {
   "codemirror_mode": {
    "name": "ipython",
    "version": 3
   },
   "file_extension": ".py",
   "mimetype": "text/x-python",
   "name": "python",
   "nbconvert_exporter": "python",
   "pygments_lexer": "ipython3",
   "version": "3.8.3"
  }
 },
 "nbformat": 4,
 "nbformat_minor": 4
}
