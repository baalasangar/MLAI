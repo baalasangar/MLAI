{
 "cells": [
  {
   "cell_type": "code",
   "execution_count": 2,
   "metadata": {},
   "outputs": [],
   "source": [
    "import pandas as pd\n",
    "import numpy as np"
   ]
  },
  {
   "cell_type": "code",
   "execution_count": 4,
   "metadata": {},
   "outputs": [
    {
     "data": {
      "text/plain": [
       "array(['southwest', 'southeast', 'northwest', 'northeast'], dtype=object)"
      ]
     },
     "execution_count": 4,
     "metadata": {},
     "output_type": "execute_result"
    }
   ],
   "source": [
    "data = pd.read_csv(\"insurance.csv\")\n",
    "data.head()\n",
    "data[\"region\"].unique()"
   ]
  },
  {
   "cell_type": "markdown",
   "metadata": {},
   "source": [
    "##### ANOVA - One Way test"
   ]
  },
  {
   "cell_type": "code",
   "execution_count": 5,
   "metadata": {},
   "outputs": [],
   "source": [
    "import statsmodels.api as sm\n",
    "from statsmodels.formula.api import ols"
   ]
  },
  {
   "cell_type": "markdown",
   "metadata": {},
   "source": [
    "Ho - Mean bim between the region are same / Ha - mean bim between the regions are different"
   ]
  },
  {
   "cell_type": "code",
   "execution_count": 10,
   "metadata": {},
   "outputs": [
    {
     "name": "stdout",
     "output_type": "stream",
     "text": [
      "                sum_sq      df          F        PR(>F)\n",
      "region     4055.880631     3.0  39.495057  1.881839e-24\n",
      "Residual  45664.319755  1334.0        NaN           NaN\n"
     ]
    }
   ],
   "source": [
    "ols_model = ols(\"bmi ~ region\", data=data).fit()\n",
    "anova_table = sm.stats.anova_lm(ols_model, typ=2)\n",
    "print(anova_table)\n",
    "\n",
    "# Since the PR < 0.05 - reject Ho"
   ]
  },
  {
   "cell_type": "code",
   "execution_count": 12,
   "metadata": {},
   "outputs": [
    {
     "name": "stdout",
     "output_type": "stream",
     "text": [
      "   Multiple Comparison of Means - Tukey HSD, FWER=0.05    \n",
      "==========================================================\n",
      "  group1    group2  meandiff p-adj   lower   upper  reject\n",
      "----------------------------------------------------------\n",
      "northeast northwest   0.0263    0.9 -1.1552  1.2078  False\n",
      "northeast southeast   4.1825  0.001   3.033   5.332   True\n",
      "northeast southwest   1.4231 0.0107  0.2416  2.6046   True\n",
      "northwest southeast   4.1562  0.001  3.0077  5.3047   True\n",
      "northwest southwest   1.3968 0.0127  0.2162  2.5774   True\n",
      "southeast southwest  -2.7594  0.001 -3.9079 -1.6108   True\n",
      "----------------------------------------------------------\n"
     ]
    }
   ],
   "source": [
    "# Above Hypothesis test proved the existence of difference,\n",
    "#Below code will compare the difference groups to find which has difference\n",
    "\n",
    "from statsmodels.stats.multicomp import pairwise_tukeyhsd\n",
    "print(pairwise_tukeyhsd(data['bmi'], data['region']))"
   ]
  },
  {
   "cell_type": "markdown",
   "metadata": {},
   "source": [
    "northeast vs northwest - reject is False - so there is no difference in the mean BMI. "
   ]
  },
  {
   "cell_type": "markdown",
   "metadata": {},
   "source": [
    "##### Two -Way Anova test"
   ]
  },
  {
   "cell_type": "markdown",
   "metadata": {},
   "source": [
    "* Ho - population mean of Gender is same / Ha - population mean of gender is different\n",
    "* Ho - population mean of Smoker is same / Ha - population mean of Smoker is different\n",
    "* Ho - population mean of region is same / Ha - population mean of region is different"
   ]
  },
  {
   "cell_type": "code",
   "execution_count": 27,
   "metadata": {},
   "outputs": [
    {
     "name": "stdout",
     "output_type": "stream",
     "text": [
      "               df        sum_sq      mean_sq          F        PR(>F)  p-value\n",
      "C(sex)        1.0    106.912532   106.912532   3.125397  7.730997e-02     0.08\n",
      "C(smoker)     1.0      0.002369     0.002369   0.000069  9.933614e-01     0.99\n",
      "C(region)     3.0   4048.682928  1349.560976  39.452011  2.002746e-24     0.00\n",
      "Residual   1332.0  45564.602557    34.207660        NaN           NaN      NaN\n"
     ]
    }
   ],
   "source": [
    "ols_model2 = ols(\"bmi ~ C(sex)+C(smoker)+C(region)\",data = data).fit()\n",
    "anava_2Way_table = sm.stats.anova_lm(ols_model2,type=2)\n",
    "anava_2Way_table[\"p-value\"] = round(anava_2Way_table[\"PR(>F)\"],2)\n",
    "print(anava_2Way_table)\n",
    "\n",
    "# Both gender and smoker  - failed to reject Ho\n",
    "# For region - reject Ho\n"
   ]
  },
  {
   "cell_type": "markdown",
   "metadata": {},
   "source": [
    "* Ho - population mean of Gender is same / Ha - population mean of gender is different - 0.08 > 0.05 - failed to reject H0\n",
    "* Ho - population mean of Smoker is same / Ha - population mean of Smoker is different - 0.99 > 0.05 - failed to reject Ho\n",
    "* Ho - population mean of region is same / Ha - population mean of region is different - 0.0 < 0.05 - reject Ho"
   ]
  }
 ],
 "metadata": {
  "kernelspec": {
   "display_name": "Python 3",
   "language": "python",
   "name": "python3"
  },
  "language_info": {
   "codemirror_mode": {
    "name": "ipython",
    "version": 3
   },
   "file_extension": ".py",
   "mimetype": "text/x-python",
   "name": "python",
   "nbconvert_exporter": "python",
   "pygments_lexer": "ipython3",
   "version": "3.8.3"
  },
  "toc": {
   "base_numbering": 1,
   "nav_menu": {},
   "number_sections": false,
   "sideBar": true,
   "skip_h1_title": false,
   "title_cell": "Table of Contents",
   "title_sidebar": "Contents",
   "toc_cell": false,
   "toc_position": {},
   "toc_section_display": true,
   "toc_window_display": true
  }
 },
 "nbformat": 4,
 "nbformat_minor": 4
}
