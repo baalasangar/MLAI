{
 "cells": [
  {
   "cell_type": "markdown",
   "metadata": {},
   "source": [
    "#### Import statements"
   ]
  },
  {
   "cell_type": "code",
   "execution_count": 108,
   "metadata": {},
   "outputs": [],
   "source": [
    "import numpy as np\n",
    "import pandas as pd\n",
    "from scipy.stats import ttest_1samp, wilcoxon\n",
    "from statsmodels.stats.power import ttest_power\n",
    "import scipy.stats as scipy_stat\n",
    "from statsmodels.stats.weightstats import ztest"
   ]
  },
  {
   "cell_type": "code",
   "execution_count": 109,
   "metadata": {},
   "outputs": [],
   "source": [
    "# daily intake of energy in kJ for 11 women\n",
    "daily_intake = np.array([5260,5470,5640,6180,6390,6515,\n",
    "                         6805,7515,7515,8230,8770])"
   ]
  },
  {
   "cell_type": "code",
   "execution_count": 110,
   "metadata": {},
   "outputs": [
    {
     "name": "stdout",
     "output_type": "stream",
     "text": [
      "-2.8207540608310198 0.018137235176105812\n"
     ]
    }
   ],
   "source": [
    "# one sample t-test\n",
    "# null hypothesis: expected value = 7725\n",
    "t_statistic, p_value = ttest_1samp(daily_intake, 7725)\n",
    "print(t_statistic,p_value)"
   ]
  },
  {
   "cell_type": "code",
   "execution_count": 111,
   "metadata": {},
   "outputs": [
    {
     "name": "stdout",
     "output_type": "stream",
     "text": [
      "one-sample t-test p-value= 0.018137235176105812\n"
     ]
    }
   ],
   "source": [
    "# p_value < 0.05 => alternative hypothesis:\n",
    "# data deviate significantly from the hypothesis that the mean\n",
    "# is 7725 at the 5% level of significance\n",
    "print (\"one-sample t-test p-value=\", p_value)"
   ]
  },
  {
   "cell_type": "code",
   "execution_count": 112,
   "metadata": {},
   "outputs": [
    {
     "name": "stdout",
     "output_type": "stream",
     "text": [
      "one-sample wilcoxon-test p-value 0.0244140625\n"
     ]
    }
   ],
   "source": [
    "# one sample wilcoxon-test\n",
    "z_statistic, p_value = wilcoxon(daily_intake - 7725)\n",
    "print (\"one-sample wilcoxon-test p-value\", p_value)"
   ]
  },
  {
   "cell_type": "code",
   "execution_count": 113,
   "metadata": {},
   "outputs": [
    {
     "data": {
      "text/plain": [
       "-0.8920007551395173"
      ]
     },
     "execution_count": 113,
     "metadata": {},
     "output_type": "execute_result"
    }
   ],
   "source": [
    "# Calculating Power of Test\n",
    "# Compute the difference in Means between Population and Sample and divide it by Standard Deviation\n",
    "# Set the number of Observations\n",
    "# Set the alpha value and alternative values 'two-sided' , 'larger' , 'smaller'\n",
    "\n",
    "(np.mean(daily_intake) - 7725) / np.std(daily_intake)"
   ]
  },
  {
   "cell_type": "code",
   "execution_count": 114,
   "metadata": {},
   "outputs": [
    {
     "name": "stdout",
     "output_type": "stream",
     "text": [
      "0.7600146595982609\n"
     ]
    }
   ],
   "source": [
    "print(ttest_power(-0.892, nobs=11, alpha=0.05, alternative='two-sided'))"
   ]
  },
  {
   "cell_type": "markdown",
   "metadata": {},
   "source": [
    "#### Workout"
   ]
  },
  {
   "cell_type": "code",
   "execution_count": 115,
   "metadata": {},
   "outputs": [],
   "source": [
    "data = pd.read_csv(\"insurance.csv\")"
   ]
  },
  {
   "cell_type": "code",
   "execution_count": 116,
   "metadata": {},
   "outputs": [
    {
     "name": "stdout",
     "output_type": "stream",
     "text": [
      "<class 'pandas.core.frame.DataFrame'>\n",
      "RangeIndex: 1338 entries, 0 to 1337\n",
      "Data columns (total 7 columns):\n",
      " #   Column    Non-Null Count  Dtype  \n",
      "---  ------    --------------  -----  \n",
      " 0   age       1338 non-null   int64  \n",
      " 1   sex       1338 non-null   object \n",
      " 2   bmi       1338 non-null   float64\n",
      " 3   children  1338 non-null   int64  \n",
      " 4   smoker    1338 non-null   object \n",
      " 5   region    1338 non-null   object \n",
      " 6   charges   1338 non-null   float64\n",
      "dtypes: float64(2), int64(2), object(3)\n",
      "memory usage: 73.3+ KB\n"
     ]
    },
    {
     "data": {
      "text/plain": [
       "39.20702541106129"
      ]
     },
     "execution_count": 116,
     "metadata": {},
     "output_type": "execute_result"
    }
   ],
   "source": [
    "data.info()\n",
    "data[\"age\"].mean()"
   ]
  },
  {
   "cell_type": "markdown",
   "metadata": {},
   "source": [
    "##### Two tailed test\n",
    "H0 - Average age is 40  /  Ha - Average age is not equal to 40"
   ]
  },
  {
   "cell_type": "code",
   "execution_count": 117,
   "metadata": {},
   "outputs": [
    {
     "name": "stdout",
     "output_type": "stream",
     "text": [
      "-2.064487357318845 0.03916402791493093\n"
     ]
    }
   ],
   "source": [
    "# Using scipy package\n",
    "std1, pvalue1 = ttest_1samp(data[\"age\"],40)\n",
    "print(std1,pvalue1)\n",
    "\n",
    "# p-value less than 5% - Ho rejected."
   ]
  },
  {
   "cell_type": "code",
   "execution_count": 118,
   "metadata": {},
   "outputs": [
    {
     "name": "stdout",
     "output_type": "stream",
     "text": [
      "-2.064487357318845 0.03897153137969687\n"
     ]
    }
   ],
   "source": [
    "# Using statsmodels package\n",
    "std2, pvalue2 = ztest(data[\"age\"],value=40)\n",
    "print(std2,pvalue2)"
   ]
  },
  {
   "cell_type": "markdown",
   "metadata": {},
   "source": [
    "##### One tailed test - lower tail\n",
    "Ho - Average age is greater than equal to 40 /  Ha - Average age is less than 40"
   ]
  },
  {
   "cell_type": "code",
   "execution_count": 119,
   "metadata": {},
   "outputs": [],
   "source": [
    "def one_sample_one_tailed(sample_data, popmean, alpha=0.05, alternative='greater'):\n",
    "    t, p = ttest_1samp(sample_data, popmean)\n",
    "    print ('t:',t)\n",
    "    print ('p:',p)\n",
    "    if alternative == 'larger' and (p/2 < alpha) and t > 0:\n",
    "        print ('Reject Null Hypothesis for greater-than test')\n",
    "    elif alternative == 'smaller' and (p/2 < alpha) and t < 0:\n",
    "        print ('Reject Null Hypothesis for less-thane test')\n",
    "    else:\n",
    "        print ('Failed to reject Null Hypothesis')"
   ]
  },
  {
   "cell_type": "code",
   "execution_count": 120,
   "metadata": {},
   "outputs": [
    {
     "name": "stdout",
     "output_type": "stream",
     "text": [
      "t: -2.064487357318845\n",
      "p: 0.03916402791493093\n",
      "Reject Null Hypothesis for less-thane test\n"
     ]
    }
   ],
   "source": [
    "# Using scipy package\n",
    "# std1, pvalue1 = ttest_1samp(data[\"age\"],40)\n",
    "# pvalue1 = pvalue1 /2\n",
    "# print(std1,pvalue1)\n",
    "# print(ttest_1samp(data[\"age\"],40))\n",
    "\n",
    "one_sample_one_tailed(data[\"age\"],40,alternative='smaller')\n",
    "\n",
    "\n",
    "# ttest_1samp - question to be raised\n",
    "# if alternative == 'less' and (p/2 < alpha) and t < 0:\n"
   ]
  },
  {
   "cell_type": "code",
   "execution_count": 121,
   "metadata": {
    "scrolled": true
   },
   "outputs": [
    {
     "name": "stdout",
     "output_type": "stream",
     "text": [
      "-2.064487357318845 0.019485765689848434\n"
     ]
    }
   ],
   "source": [
    "std2, pvalue2 = ztest(data[\"age\"],value=40,alternative=\"smaller\")\n",
    "print(std2,pvalue2)\n",
    "# p-value less than 5% - Ho rejected.  "
   ]
  },
  {
   "cell_type": "markdown",
   "metadata": {},
   "source": [
    "##### One tailed test - upper tail\n",
    "Ho - Average age is less than equal to 40 /  Ha - Average age is greater than 40"
   ]
  },
  {
   "cell_type": "code",
   "execution_count": 122,
   "metadata": {},
   "outputs": [
    {
     "name": "stdout",
     "output_type": "stream",
     "text": [
      "t: -2.064487357318845\n",
      "p: 0.03916402791493093\n",
      "Failed to reject Null Hypothesis\n"
     ]
    }
   ],
   "source": [
    "one_sample_one_tailed(data[\"age\"],40,alternative='larger')"
   ]
  },
  {
   "cell_type": "code",
   "execution_count": 123,
   "metadata": {},
   "outputs": [
    {
     "name": "stdout",
     "output_type": "stream",
     "text": [
      "-2.064487357318845 0.9805142343101516\n"
     ]
    }
   ],
   "source": [
    "std2, pvalue2 = ztest(data[\"age\"],value=40,alternative=\"larger\")\n",
    "print(std2,pvalue2)\n",
    "# p-value greater than 5% - Failed to reject Ho  "
   ]
  }
 ],
 "metadata": {
  "kernelspec": {
   "display_name": "Python 3",
   "language": "python",
   "name": "python3"
  },
  "language_info": {
   "codemirror_mode": {
    "name": "ipython",
    "version": 3
   },
   "file_extension": ".py",
   "mimetype": "text/x-python",
   "name": "python",
   "nbconvert_exporter": "python",
   "pygments_lexer": "ipython3",
   "version": "3.8.3"
  },
  "toc": {
   "base_numbering": 1,
   "nav_menu": {},
   "number_sections": false,
   "sideBar": true,
   "skip_h1_title": false,
   "title_cell": "Table of Contents",
   "title_sidebar": "Contents",
   "toc_cell": false,
   "toc_position": {},
   "toc_section_display": true,
   "toc_window_display": true
  }
 },
 "nbformat": 4,
 "nbformat_minor": 2
}
